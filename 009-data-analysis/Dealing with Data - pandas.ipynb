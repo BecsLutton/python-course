{
 "cells": [
  {
   "cell_type": "markdown",
   "metadata": {
    "slideshow": {
     "slide_type": "slide"
    }
   },
   "source": [
    "# The Bear Necessities\n",
    "## Getting to grips with pandas"
   ]
  },
  {
   "cell_type": "markdown",
   "metadata": {
    "slideshow": {
     "slide_type": "notes"
    }
   },
   "source": [
    "After the previous session, with its introductory plotting and numerical data handling, by far the most common request for this session was data analysis tools. The second request was that we deal with some Excel importing. In Python, the primary analysis tool we can use for general datasets is called **pandas**. To quote the docs (emphasis mine):"
   ]
  },
  {
   "cell_type": "markdown",
   "metadata": {
    "slideshow": {
     "slide_type": "slide"
    }
   },
   "source": [
    "[http://pandas.pydata.org/](http://pandas.pydata.org/)\n",
    "\n",
    ">  Python has long been great for **data munging and preparation**,\n",
    ">  but less so for **data analysis and modeling**.\n",
    "\n",
    ">  **pandas** helps **fill this gap**, enabling you to carry out your **entire data analysis workflow in Python** without having to switch to a more domain specific language like R."
   ]
  },
  {
   "cell_type": "markdown",
   "metadata": {
    "collapsed": true,
    "slideshow": {
     "slide_type": "notes"
    }
   },
   "source": [
    "My summary is, pandas is to Excel as numpy/scipy/etc. are to MATLAB. You don't have the nice GUI interface, but you do have easily scriptable automation and all the power of Python to do pretty much anything with your data. In this session, we will begin by importing an XLS file and doing some basic manipulation. I'll show you a slightly quicker way, and then we will get on with some analysis. Time permitting, we will do some plotting, and more advanced pandas techniques, before finishing off by dynamically incorporating online database data into our XLS analysis."
   ]
  },
  {
   "cell_type": "markdown",
   "metadata": {
    "slideshow": {
     "slide_type": "notes"
    }
   },
   "source": [
    "If you are thinking of experimenting with some data, I would highly recommend you check out OpenDataNI:"
   ]
  },
  {
   "cell_type": "markdown",
   "metadata": {
    "slideshow": {
     "slide_type": "slide"
    }
   },
   "source": [
    "![OpenDataNI Screenshot](images/screenshot-opendatani.png)"
   ]
  },
  {
   "cell_type": "markdown",
   "metadata": {
    "slideshow": {
     "slide_type": "notes"
    }
   },
   "source": [
    "Unfortunately for this session, they force public sector bodies to upload data in standardized, universally-supported formats, so not Microsoft Excel. Instead, we will grab some data from a longer-running project, from when it was common to accept a broader range of formats: [data.gov.uk](https://data.gov.uk/data/search?res_format=XLS)"
   ]
  },
  {
   "cell_type": "markdown",
   "metadata": {
    "slideshow": {
     "slide_type": "slide"
    }
   },
   "source": [
    "# data.gov.uk\n",
    "## Social Trends 2011\n",
    "\n",
    "![data.gov.uk Excel data](images/screenshot-datagovuk.png)"
   ]
  },
  {
   "cell_type": "markdown",
   "metadata": {
    "slideshow": {
     "slide_type": "notes"
    }
   },
   "source": [
    "Conveniently, as this is under the Open Government License, I've been able to put a copy of the relevant Excel file in the *data* folder below this notebook."
   ]
  },
  {
   "cell_type": "markdown",
   "metadata": {
    "slideshow": {
     "slide_type": "notes"
    }
   },
   "source": [
    "In the last session, we spent a lot of time using Jupyter as a workflow, stepping from one box to the next. That's fine for experimenting with data, or keeping a journal of what you're doing, but not so useful if you want a repeatable script. This afternoon, we are going to use a standalone IDE to do some scripting. However, for the moment, keeping our notes and our code in one place is handy, so we will work through a series of short scripts in Jupyter."
   ]
  },
  {
   "cell_type": "markdown",
   "metadata": {
    "slideshow": {
     "slide_type": "notes"
    }
   },
   "source": [
    "Firstly though, we will need to check that the libraries pandas and xlrd are installed."
   ]
  },
  {
   "cell_type": "markdown",
   "metadata": {
    "slideshow": {
     "slide_type": "notes"
    }
   },
   "source": [
    "Second, we should take a look at the Excel file and see what we are actually dealing with..."
   ]
  },
  {
   "cell_type": "markdown",
   "metadata": {
    "slideshow": {
     "slide_type": "notes"
    }
   },
   "source": [
    "Thirdly, we run the script below. Don't worry about the detail just this second, we will work through it step by step, as there are a few subtleties."
   ]
  },
  {
   "cell_type": "code",
   "execution_count": 109,
   "metadata": {
    "collapsed": false,
    "slideshow": {
     "slide_type": "notes"
    }
   },
   "outputs": [],
   "source": [
    "import pandas as pd\n",
    "\n",
    "# [A]\n",
    "excel_file = pd.ExcelFile('data/expenditure.xls')\n",
    "\n",
    "# [B] Pick out an interesting table - 2011 value of household expenditure by purpose\n",
    "df = excel_file.parse('Table 1')\n",
    "\n",
    "# [C] Cut down to the relevant table\n",
    "df = df.ix[4:26]\n",
    "\n",
    "# [D] Challenge here!\n",
    "#df = df.******(how='***')"
   ]
  },
  {
   "cell_type": "markdown",
   "metadata": {},
   "source": [
    "First off, lets have a look at that Excel file we loaded. There are a few Excel-file-specific properties methods of interest, but we will start with:"
   ]
  },
  {
   "cell_type": "code",
   "execution_count": 14,
   "metadata": {
    "collapsed": false,
    "slideshow": {
     "slide_type": "slide"
    }
   },
   "outputs": [
    {
     "data": {
      "text/plain": [
       "['Expenditure',\n",
       " 'Figure 1',\n",
       " 'Table 1',\n",
       " 'Figure 2',\n",
       " 'Figure 3',\n",
       " 'Figure 4',\n",
       " 'Figure 5',\n",
       " 'Figure 6',\n",
       " 'Figure 7',\n",
       " 'Figure 8',\n",
       " 'Figure 9',\n",
       " 'Figure 10',\n",
       " 'Figure 11',\n",
       " 'Figure 12']"
      ]
     },
     "execution_count": 14,
     "metadata": {},
     "output_type": "execute_result"
    }
   ],
   "source": [
    "excel_file.sheet_names"
   ]
  },
  {
   "cell_type": "markdown",
   "metadata": {
    "slideshow": {
     "slide_type": "notes"
    }
   },
   "source": [
    "The basic unit of pandas operations is the DataFrame, kind of like numpy is centred on numpy arrays. In fact, originally the pandas DataFrame subclassed numpy arrays, (but nowadays it's a completely separate implementation). A DataFrame is a bit like a spreadsheet or database table. In my head they look a bit like this:"
   ]
  },
  {
   "cell_type": "markdown",
   "metadata": {
    "slideshow": {
     "slide_type": "slide"
    }
   },
   "source": [
    "![What I think a data-frame looks like](images/dataframe.png)"
   ]
  },
  {
   "cell_type": "markdown",
   "metadata": {
    "slideshow": {
     "slide_type": "notes"
    }
   },
   "source": [
    "Notice that multi-level indexes are fine - we can sub-divide rows even further than that if we really want. So, this really corresponds to a single-table spreadsheet. So we pick our sheet out of the Excel document at line `[B]`"
   ]
  },
  {
   "cell_type": "code",
   "execution_count": 19,
   "metadata": {
    "collapsed": true,
    "slideshow": {
     "slide_type": "notes"
    }
   },
   "outputs": [],
   "source": [
    "df = excel_file.parse('Table 1')"
   ]
  },
  {
   "cell_type": "markdown",
   "metadata": {
    "slideshow": {
     "slide_type": "notes"
    }
   },
   "source": [
    "What's this data look like? Well, remember, in Excel it looked like:"
   ]
  },
  {
   "cell_type": "markdown",
   "metadata": {
    "slideshow": {
     "slide_type": "slide"
    }
   },
   "source": [
    "![Screenshot of Excel data](images/screenshot-excel.png)"
   ]
  },
  {
   "cell_type": "markdown",
   "metadata": {
    "slideshow": {
     "slide_type": "notes"
    }
   },
   "source": [
    "In pandas it looks like:"
   ]
  },
  {
   "cell_type": "code",
   "execution_count": 25,
   "metadata": {
    "collapsed": false,
    "scrolled": true,
    "slideshow": {
     "slide_type": "slide"
    }
   },
   "outputs": [
    {
     "data": {
      "text/html": [
       "<div style=\"max-height:1000px;max-width:1500px;overflow:auto;\">\n",
       "<table border=\"1\" class=\"dataframe\">\n",
       "  <thead>\n",
       "    <tr style=\"text-align: right;\">\n",
       "      <th></th>\n",
       "      <th>Table 1</th>\n",
       "      <th>Unnamed: 1</th>\n",
       "      <th>Unnamed: 2</th>\n",
       "      <th>Unnamed: 3</th>\n",
       "      <th>Unnamed: 4</th>\n",
       "      <th>Unnamed: 5</th>\n",
       "      <th>Unnamed: 6</th>\n",
       "      <th>Unnamed: 7</th>\n",
       "    </tr>\n",
       "  </thead>\n",
       "  <tbody>\n",
       "    <tr>\n",
       "      <th>0 </th>\n",
       "      <td>     Volume of household expenditure:1 by purpose </td>\n",
       "      <td>  NaN</td>\n",
       "      <td>         NaN</td>\n",
       "      <td>         NaN</td>\n",
       "      <td>         NaN</td>\n",
       "      <td>         NaN</td>\n",
       "      <td>NaN</td>\n",
       "      <td>                      NaN</td>\n",
       "    </tr>\n",
       "    <tr>\n",
       "      <th>1 </th>\n",
       "      <td>                                   United Kingdom </td>\n",
       "      <td>  NaN</td>\n",
       "      <td>         NaN</td>\n",
       "      <td>         NaN</td>\n",
       "      <td>         NaN</td>\n",
       "      <td>         NaN</td>\n",
       "      <td>NaN</td>\n",
       "      <td> Index numbers (1971=100)</td>\n",
       "    </tr>\n",
       "    <tr>\n",
       "      <th>2 </th>\n",
       "      <td>                                               NaN</td>\n",
       "      <td>  NaN</td>\n",
       "      <td>         NaN</td>\n",
       "      <td>         NaN</td>\n",
       "      <td>         NaN</td>\n",
       "      <td>         NaN</td>\n",
       "      <td>NaN</td>\n",
       "      <td>               £ billions</td>\n",
       "    </tr>\n",
       "    <tr>\n",
       "      <th>3 </th>\n",
       "      <td>                                               NaN</td>\n",
       "      <td>  NaN</td>\n",
       "      <td>         NaN</td>\n",
       "      <td>         NaN</td>\n",
       "      <td>         NaN</td>\n",
       "      <td>         NaN</td>\n",
       "      <td>NaN</td>\n",
       "      <td>         (current prices)</td>\n",
       "    </tr>\n",
       "    <tr>\n",
       "      <th>4 </th>\n",
       "      <td>                                               NaN</td>\n",
       "      <td> 1971</td>\n",
       "      <td> 1981.000000</td>\n",
       "      <td> 1991.000000</td>\n",
       "      <td> 2001.000000</td>\n",
       "      <td> 2009.000000</td>\n",
       "      <td>NaN</td>\n",
       "      <td>                     2009</td>\n",
       "    </tr>\n",
       "    <tr>\n",
       "      <th>5 </th>\n",
       "      <td>                  Food and non-alcoholic beverages</td>\n",
       "      <td>  100</td>\n",
       "      <td>  104.640913</td>\n",
       "      <td>  117.230576</td>\n",
       "      <td>  136.729755</td>\n",
       "      <td>  151.008988</td>\n",
       "      <td>NaN</td>\n",
       "      <td>                   83.813</td>\n",
       "    </tr>\n",
       "    <tr>\n",
       "      <th>6 </th>\n",
       "      <td>                   Alcoholic beverages and tobacco</td>\n",
       "      <td>  100</td>\n",
       "      <td>   99.237497</td>\n",
       "      <td>   92.064204</td>\n",
       "      <td>   88.024221</td>\n",
       "      <td>   89.613302</td>\n",
       "      <td>NaN</td>\n",
       "      <td>                   31.128</td>\n",
       "    </tr>\n",
       "    <tr>\n",
       "      <th>7 </th>\n",
       "      <td>                             Clothing and footwear</td>\n",
       "      <td>  100</td>\n",
       "      <td>  119.877158</td>\n",
       "      <td>  186.847400</td>\n",
       "      <td>  344.276183</td>\n",
       "      <td>  552.546860</td>\n",
       "      <td>NaN</td>\n",
       "      <td>                   47.599</td>\n",
       "    </tr>\n",
       "    <tr>\n",
       "      <th>8 </th>\n",
       "      <td>                         Housing, water and fuels2</td>\n",
       "      <td>  100</td>\n",
       "      <td>  116.734336</td>\n",
       "      <td>  138.879523</td>\n",
       "      <td>  152.250032</td>\n",
       "      <td>  160.082001</td>\n",
       "      <td>NaN</td>\n",
       "      <td>                  193.447</td>\n",
       "    </tr>\n",
       "    <tr>\n",
       "      <th>9 </th>\n",
       "      <td>  Furnishings, household equipment and maintenance</td>\n",
       "      <td>  100</td>\n",
       "      <td>  116.808722</td>\n",
       "      <td>  159.656426</td>\n",
       "      <td>  261.638586</td>\n",
       "      <td>  262.682524</td>\n",
       "      <td>NaN</td>\n",
       "      <td>                   43.867</td>\n",
       "    </tr>\n",
       "    <tr>\n",
       "      <th>10</th>\n",
       "      <td>                  Miscellaneous goods and services</td>\n",
       "      <td>  100</td>\n",
       "      <td>  120.876377</td>\n",
       "      <td>  240.394746</td>\n",
       "      <td>  336.047068</td>\n",
       "      <td>  377.225149</td>\n",
       "      <td>NaN</td>\n",
       "      <td>                  104.765</td>\n",
       "    </tr>\n",
       "    <tr>\n",
       "      <th>11</th>\n",
       "      <td>                                               NaN</td>\n",
       "      <td>  NaN</td>\n",
       "      <td>         NaN</td>\n",
       "      <td>         NaN</td>\n",
       "      <td>         NaN</td>\n",
       "      <td>         NaN</td>\n",
       "      <td>NaN</td>\n",
       "      <td>                      NaN</td>\n",
       "    </tr>\n",
       "    <tr>\n",
       "      <th>12</th>\n",
       "      <td>                           Restaurants and hotels3</td>\n",
       "      <td>  100</td>\n",
       "      <td>  125.594386</td>\n",
       "      <td>  167.157564</td>\n",
       "      <td>  193.105120</td>\n",
       "      <td>  185.494668</td>\n",
       "      <td>NaN</td>\n",
       "      <td>                   88.763</td>\n",
       "    </tr>\n",
       "    <tr>\n",
       "      <th>13</th>\n",
       "      <td>                            Recreation and culture</td>\n",
       "      <td>  100</td>\n",
       "      <td>  158.242026</td>\n",
       "      <td>  279.165652</td>\n",
       "      <td>  544.963883</td>\n",
       "      <td>  868.809350</td>\n",
       "      <td>NaN</td>\n",
       "      <td>                    99.26</td>\n",
       "    </tr>\n",
       "    <tr>\n",
       "      <th>14</th>\n",
       "      <td>                                         Transport</td>\n",
       "      <td>  100</td>\n",
       "      <td>  127.948926</td>\n",
       "      <td>  180.949507</td>\n",
       "      <td>  246.488683</td>\n",
       "      <td>  272.763784</td>\n",
       "      <td>NaN</td>\n",
       "      <td>                  124.616</td>\n",
       "    </tr>\n",
       "    <tr>\n",
       "      <th>15</th>\n",
       "      <td>                                     Communication</td>\n",
       "      <td>  100</td>\n",
       "      <td>  190.027855</td>\n",
       "      <td>  306.406685</td>\n",
       "      <td>  789.582173</td>\n",
       "      <td> 1126.128134</td>\n",
       "      <td>NaN</td>\n",
       "      <td>                   18.747</td>\n",
       "    </tr>\n",
       "    <tr>\n",
       "      <th>16</th>\n",
       "      <td>                                            Health</td>\n",
       "      <td>  100</td>\n",
       "      <td>  124.598291</td>\n",
       "      <td>  182.273504</td>\n",
       "      <td>  187.760684</td>\n",
       "      <td>  229.264957</td>\n",
       "      <td>NaN</td>\n",
       "      <td>                   14.283</td>\n",
       "    </tr>\n",
       "    <tr>\n",
       "      <th>17</th>\n",
       "      <td>                                         Education</td>\n",
       "      <td>  100</td>\n",
       "      <td>  160.173877</td>\n",
       "      <td>  199.316912</td>\n",
       "      <td>  254.936866</td>\n",
       "      <td>  221.879528</td>\n",
       "      <td>NaN</td>\n",
       "      <td>                   13.024</td>\n",
       "    </tr>\n",
       "    <tr>\n",
       "      <th>18</th>\n",
       "      <td>                                                  </td>\n",
       "      <td>  NaN</td>\n",
       "      <td>         NaN</td>\n",
       "      <td>         NaN</td>\n",
       "      <td>         NaN</td>\n",
       "      <td>         NaN</td>\n",
       "      <td>NaN</td>\n",
       "      <td>                      NaN</td>\n",
       "    </tr>\n",
       "    <tr>\n",
       "      <th>19</th>\n",
       "      <td>              Total domestic household expenditure</td>\n",
       "      <td>  100</td>\n",
       "      <td>  120.735811</td>\n",
       "      <td>  166.460085</td>\n",
       "      <td>  225.223993</td>\n",
       "      <td>  259.495168</td>\n",
       "      <td>NaN</td>\n",
       "      <td>                  863.312</td>\n",
       "    </tr>\n",
       "    <tr>\n",
       "      <th>20</th>\n",
       "      <td>                                       Total goods</td>\n",
       "      <td>  100</td>\n",
       "      <td>  116.882766</td>\n",
       "      <td>  155.755787</td>\n",
       "      <td>  226.782179</td>\n",
       "      <td>  285.454027</td>\n",
       "      <td>NaN</td>\n",
       "      <td>                  411.727</td>\n",
       "    </tr>\n",
       "    <tr>\n",
       "      <th>21</th>\n",
       "      <td>                                    Total services</td>\n",
       "      <td>  100</td>\n",
       "      <td>  127.667167</td>\n",
       "      <td>  183.960495</td>\n",
       "      <td>  230.874717</td>\n",
       "      <td>  244.720566</td>\n",
       "      <td>NaN</td>\n",
       "      <td>                  451.585</td>\n",
       "    </tr>\n",
       "    <tr>\n",
       "      <th>22</th>\n",
       "      <td>                                               NaN</td>\n",
       "      <td>  NaN</td>\n",
       "      <td>         NaN</td>\n",
       "      <td>         NaN</td>\n",
       "      <td>         NaN</td>\n",
       "      <td>         NaN</td>\n",
       "      <td>NaN</td>\n",
       "      <td>                      NaN</td>\n",
       "    </tr>\n",
       "    <tr>\n",
       "      <th>23</th>\n",
       "      <td>                     UK tourist expenditure abroad</td>\n",
       "      <td>  100</td>\n",
       "      <td>  193.380615</td>\n",
       "      <td>  298.082480</td>\n",
       "      <td>  699.054374</td>\n",
       "      <td>  576.333071</td>\n",
       "      <td>NaN</td>\n",
       "      <td>                   28.994</td>\n",
       "    </tr>\n",
       "    <tr>\n",
       "      <th>24</th>\n",
       "      <td>                  less foreign tourist expenditure</td>\n",
       "      <td>  100</td>\n",
       "      <td>  151.616612</td>\n",
       "      <td>  187.182066</td>\n",
       "      <td>  222.215836</td>\n",
       "      <td>  257.810030</td>\n",
       "      <td>NaN</td>\n",
       "      <td>                   19.554</td>\n",
       "    </tr>\n",
       "    <tr>\n",
       "      <th>25</th>\n",
       "      <td>                                               NaN</td>\n",
       "      <td>  NaN</td>\n",
       "      <td>         NaN</td>\n",
       "      <td>         NaN</td>\n",
       "      <td>         NaN</td>\n",
       "      <td>         NaN</td>\n",
       "      <td>NaN</td>\n",
       "      <td>                      NaN</td>\n",
       "    </tr>\n",
       "    <tr>\n",
       "      <th>26</th>\n",
       "      <td>          Household final consumption expenditure4</td>\n",
       "      <td>  100</td>\n",
       "      <td>  121.341138</td>\n",
       "      <td>  168.287800</td>\n",
       "      <td>  232.291680</td>\n",
       "      <td>  264.930072</td>\n",
       "      <td>NaN</td>\n",
       "      <td>                  872.752</td>\n",
       "    </tr>\n",
       "    <tr>\n",
       "      <th>27</th>\n",
       "      <td>                                1 Constant prices.</td>\n",
       "      <td>  NaN</td>\n",
       "      <td>         NaN</td>\n",
       "      <td>         NaN</td>\n",
       "      <td>         NaN</td>\n",
       "      <td>         NaN</td>\n",
       "      <td>NaN</td>\n",
       "      <td>                      NaN</td>\n",
       "    </tr>\n",
       "    <tr>\n",
       "      <th>28</th>\n",
       "      <td> 2 Excludes mortgage interest payments, water c...</td>\n",
       "      <td>  NaN</td>\n",
       "      <td>         NaN</td>\n",
       "      <td>         NaN</td>\n",
       "      <td>         NaN</td>\n",
       "      <td>         NaN</td>\n",
       "      <td>NaN</td>\n",
       "      <td>                      NaN</td>\n",
       "    </tr>\n",
       "    <tr>\n",
       "      <th>29</th>\n",
       "      <td> 3 Includes purchases of alcoholic drink in res...</td>\n",
       "      <td>  NaN</td>\n",
       "      <td>         NaN</td>\n",
       "      <td>         NaN</td>\n",
       "      <td>         NaN</td>\n",
       "      <td>         NaN</td>\n",
       "      <td>NaN</td>\n",
       "      <td>                      NaN</td>\n",
       "    </tr>\n",
       "    <tr>\n",
       "      <th>30</th>\n",
       "      <td> 4 Includes expenditure by UK households in the...</td>\n",
       "      <td>  NaN</td>\n",
       "      <td>         NaN</td>\n",
       "      <td>         NaN</td>\n",
       "      <td>         NaN</td>\n",
       "      <td>         NaN</td>\n",
       "      <td>NaN</td>\n",
       "      <td>                      NaN</td>\n",
       "    </tr>\n",
       "    <tr>\n",
       "      <th>31</th>\n",
       "      <td>            Source: Office for National Statistics</td>\n",
       "      <td>  NaN</td>\n",
       "      <td>         NaN</td>\n",
       "      <td>         NaN</td>\n",
       "      <td>         NaN</td>\n",
       "      <td>         NaN</td>\n",
       "      <td>NaN</td>\n",
       "      <td>                      NaN</td>\n",
       "    </tr>\n",
       "    <tr>\n",
       "      <th>32</th>\n",
       "      <td>                                               NaN</td>\n",
       "      <td>  NaN</td>\n",
       "      <td>         NaN</td>\n",
       "      <td>         NaN</td>\n",
       "      <td>         NaN</td>\n",
       "      <td>         NaN</td>\n",
       "      <td>NaN</td>\n",
       "      <td>                      NaN</td>\n",
       "    </tr>\n",
       "    <tr>\n",
       "      <th>33</th>\n",
       "      <td>                               Main Table Contents</td>\n",
       "      <td>  NaN</td>\n",
       "      <td>         NaN</td>\n",
       "      <td>         NaN</td>\n",
       "      <td>         NaN</td>\n",
       "      <td>         NaN</td>\n",
       "      <td>NaN</td>\n",
       "      <td>                      NaN</td>\n",
       "    </tr>\n",
       "  </tbody>\n",
       "</table>\n",
       "<p>34 rows × 8 columns</p>\n",
       "</div>"
      ],
      "text/plain": [
       "                                              Table 1  Unnamed: 1  \\\n",
       "0       Volume of household expenditure:1 by purpose          NaN   \n",
       "1                                     United Kingdom          NaN   \n",
       "2                                                 NaN         NaN   \n",
       "3                                                 NaN         NaN   \n",
       "4                                                 NaN        1971   \n",
       "5                    Food and non-alcoholic beverages         100   \n",
       "6                     Alcoholic beverages and tobacco         100   \n",
       "7                               Clothing and footwear         100   \n",
       "8                           Housing, water and fuels2         100   \n",
       "9    Furnishings, household equipment and maintenance         100   \n",
       "10                   Miscellaneous goods and services         100   \n",
       "11                                                NaN         NaN   \n",
       "12                            Restaurants and hotels3         100   \n",
       "13                             Recreation and culture         100   \n",
       "14                                          Transport         100   \n",
       "15                                      Communication         100   \n",
       "16                                             Health         100   \n",
       "17                                          Education         100   \n",
       "18                                                            NaN   \n",
       "19               Total domestic household expenditure         100   \n",
       "20                                        Total goods         100   \n",
       "21                                     Total services         100   \n",
       "22                                                NaN         NaN   \n",
       "23                      UK tourist expenditure abroad         100   \n",
       "24                   less foreign tourist expenditure         100   \n",
       "25                                                NaN         NaN   \n",
       "26           Household final consumption expenditure4         100   \n",
       "27                                 1 Constant prices.         NaN   \n",
       "28  2 Excludes mortgage interest payments, water c...         NaN   \n",
       "29  3 Includes purchases of alcoholic drink in res...         NaN   \n",
       "30  4 Includes expenditure by UK households in the...         NaN   \n",
       "31             Source: Office for National Statistics         NaN   \n",
       "32                                                NaN         NaN   \n",
       "33                                Main Table Contents         NaN   \n",
       "\n",
       "     Unnamed: 2   Unnamed: 3   Unnamed: 4   Unnamed: 5  Unnamed: 6  \\\n",
       "0           NaN          NaN          NaN          NaN         NaN   \n",
       "1           NaN          NaN          NaN          NaN         NaN   \n",
       "2           NaN          NaN          NaN          NaN         NaN   \n",
       "3           NaN          NaN          NaN          NaN         NaN   \n",
       "4   1981.000000  1991.000000  2001.000000  2009.000000         NaN   \n",
       "5    104.640913   117.230576   136.729755   151.008988         NaN   \n",
       "6     99.237497    92.064204    88.024221    89.613302         NaN   \n",
       "7    119.877158   186.847400   344.276183   552.546860         NaN   \n",
       "8    116.734336   138.879523   152.250032   160.082001         NaN   \n",
       "9    116.808722   159.656426   261.638586   262.682524         NaN   \n",
       "10   120.876377   240.394746   336.047068   377.225149         NaN   \n",
       "11          NaN          NaN          NaN          NaN         NaN   \n",
       "12   125.594386   167.157564   193.105120   185.494668         NaN   \n",
       "13   158.242026   279.165652   544.963883   868.809350         NaN   \n",
       "14   127.948926   180.949507   246.488683   272.763784         NaN   \n",
       "15   190.027855   306.406685   789.582173  1126.128134         NaN   \n",
       "16   124.598291   182.273504   187.760684   229.264957         NaN   \n",
       "17   160.173877   199.316912   254.936866   221.879528         NaN   \n",
       "18          NaN          NaN          NaN          NaN         NaN   \n",
       "19   120.735811   166.460085   225.223993   259.495168         NaN   \n",
       "20   116.882766   155.755787   226.782179   285.454027         NaN   \n",
       "21   127.667167   183.960495   230.874717   244.720566         NaN   \n",
       "22          NaN          NaN          NaN          NaN         NaN   \n",
       "23   193.380615   298.082480   699.054374   576.333071         NaN   \n",
       "24   151.616612   187.182066   222.215836   257.810030         NaN   \n",
       "25          NaN          NaN          NaN          NaN         NaN   \n",
       "26   121.341138   168.287800   232.291680   264.930072         NaN   \n",
       "27          NaN          NaN          NaN          NaN         NaN   \n",
       "28          NaN          NaN          NaN          NaN         NaN   \n",
       "29          NaN          NaN          NaN          NaN         NaN   \n",
       "30          NaN          NaN          NaN          NaN         NaN   \n",
       "31          NaN          NaN          NaN          NaN         NaN   \n",
       "32          NaN          NaN          NaN          NaN         NaN   \n",
       "33          NaN          NaN          NaN          NaN         NaN   \n",
       "\n",
       "                  Unnamed: 7  \n",
       "0                        NaN  \n",
       "1   Index numbers (1971=100)  \n",
       "2                 £ billions  \n",
       "3           (current prices)  \n",
       "4                       2009  \n",
       "5                     83.813  \n",
       "6                     31.128  \n",
       "7                     47.599  \n",
       "8                    193.447  \n",
       "9                     43.867  \n",
       "10                   104.765  \n",
       "11                       NaN  \n",
       "12                    88.763  \n",
       "13                     99.26  \n",
       "14                   124.616  \n",
       "15                    18.747  \n",
       "16                    14.283  \n",
       "17                    13.024  \n",
       "18                       NaN  \n",
       "19                   863.312  \n",
       "20                   411.727  \n",
       "21                   451.585  \n",
       "22                       NaN  \n",
       "23                    28.994  \n",
       "24                    19.554  \n",
       "25                       NaN  \n",
       "26                   872.752  \n",
       "27                       NaN  \n",
       "28                       NaN  \n",
       "29                       NaN  \n",
       "30                       NaN  \n",
       "31                       NaN  \n",
       "32                       NaN  \n",
       "33                       NaN  \n",
       "\n",
       "[34 rows x 8 columns]"
      ]
     },
     "execution_count": 25,
     "metadata": {},
     "output_type": "execute_result"
    }
   ],
   "source": [
    "df"
   ]
  },
  {
   "cell_type": "markdown",
   "metadata": {
    "slideshow": {
     "slide_type": "notes"
    }
   },
   "source": [
    "You should try this without the `.head()`. Well... all the data is there, but a whole load of `NaN` entries corresponding to the empty cells. The table we actually want is in the (Excel) range [A6:H28]."
   ]
  },
  {
   "cell_type": "markdown",
   "metadata": {
    "slideshow": {
     "slide_type": "slide"
    }
   },
   "source": [
    "We can grab a row using the syntax `df.ix[ROW]`, where `ROW` is the row we want."
   ]
  },
  {
   "cell_type": "markdown",
   "metadata": {
    "slideshow": {
     "slide_type": "notes"
    }
   },
   "source": [
    "Now, if we grab row 6, what happens?"
   ]
  },
  {
   "cell_type": "code",
   "execution_count": 36,
   "metadata": {
    "collapsed": false,
    "slideshow": {
     "slide_type": "-"
    }
   },
   "outputs": [
    {
     "data": {
      "text/plain": [
       "Table 1       Alcoholic beverages and tobacco\n",
       "Unnamed: 1                                100\n",
       "Unnamed: 2                            99.2375\n",
       "Unnamed: 3                            92.0642\n",
       "Unnamed: 4                           88.02422\n",
       "Unnamed: 5                            89.6133\n",
       "Unnamed: 6                                NaN\n",
       "Unnamed: 7                             31.128\n",
       "Name: 6, dtype: object"
      ]
     },
     "execution_count": 36,
     "metadata": {},
     "output_type": "execute_result"
    }
   ],
   "source": [
    "df.ix[6]"
   ]
  },
  {
   "cell_type": "markdown",
   "metadata": {
    "slideshow": {
     "slide_type": "fragment"
    }
   },
   "source": [
    "This actually accepts the list slicing syntax we learned last time, e.g. `df.ix[6:7]`"
   ]
  },
  {
   "cell_type": "code",
   "execution_count": 39,
   "metadata": {
    "collapsed": false,
    "scrolled": true,
    "slideshow": {
     "slide_type": "notes"
    }
   },
   "outputs": [
    {
     "data": {
      "text/html": [
       "<div style=\"max-height:1000px;max-width:1500px;overflow:auto;\">\n",
       "<table border=\"1\" class=\"dataframe\">\n",
       "  <thead>\n",
       "    <tr style=\"text-align: right;\">\n",
       "      <th></th>\n",
       "      <th>Table 1</th>\n",
       "      <th>Unnamed: 1</th>\n",
       "      <th>Unnamed: 2</th>\n",
       "      <th>Unnamed: 3</th>\n",
       "      <th>Unnamed: 4</th>\n",
       "      <th>Unnamed: 5</th>\n",
       "      <th>Unnamed: 6</th>\n",
       "      <th>Unnamed: 7</th>\n",
       "    </tr>\n",
       "  </thead>\n",
       "  <tbody>\n",
       "    <tr>\n",
       "      <th>6</th>\n",
       "      <td> Alcoholic beverages and tobacco</td>\n",
       "      <td> 100</td>\n",
       "      <td>  99.237497</td>\n",
       "      <td>  92.064204</td>\n",
       "      <td>  88.024221</td>\n",
       "      <td>  89.613302</td>\n",
       "      <td>NaN</td>\n",
       "      <td> 31.128</td>\n",
       "    </tr>\n",
       "    <tr>\n",
       "      <th>7</th>\n",
       "      <td>           Clothing and footwear</td>\n",
       "      <td> 100</td>\n",
       "      <td> 119.877158</td>\n",
       "      <td> 186.847400</td>\n",
       "      <td> 344.276183</td>\n",
       "      <td> 552.546860</td>\n",
       "      <td>NaN</td>\n",
       "      <td> 47.599</td>\n",
       "    </tr>\n",
       "  </tbody>\n",
       "</table>\n",
       "<p>2 rows × 8 columns</p>\n",
       "</div>"
      ],
      "text/plain": [
       "                           Table 1  Unnamed: 1  Unnamed: 2  Unnamed: 3  \\\n",
       "6  Alcoholic beverages and tobacco         100   99.237497   92.064204   \n",
       "7            Clothing and footwear         100  119.877158  186.847400   \n",
       "\n",
       "   Unnamed: 4  Unnamed: 5  Unnamed: 6 Unnamed: 7  \n",
       "6   88.024221   89.613302         NaN     31.128  \n",
       "7  344.276183  552.546860         NaN     47.599  \n",
       "\n",
       "[2 rows x 8 columns]"
      ]
     },
     "execution_count": 39,
     "metadata": {},
     "output_type": "execute_result"
    }
   ],
   "source": [
    "df.ix[6:7]"
   ]
  },
  {
   "cell_type": "markdown",
   "metadata": {
    "slideshow": {
     "slide_type": "notes"
    }
   },
   "source": [
    "Notice that when we picked out a single row we got something that looks a bit different - an ASCII table instead of one of those nice formatted HTML-y things. That's because pandas has a concept called Series, like a 1D array, with rows. When we pick a single row or column, that's what we get back. Don't worry too much about why they are different, just think of them as a single-dimensional list of spreadsheet cells, but bear in mind, 1D data isn't actually a DataFrame."
   ]
  },
  {
   "cell_type": "markdown",
   "metadata": {
    "slideshow": {
     "slide_type": "notes"
    }
   },
   "source": [
    "If you're really astute, you will have noticed that `df.ix[6]` is not the same as Excel's [A6:H6]. Quiz question - why?\n",
    "<span style='color: white; background: white'>(a) Python is zero-indexed and (b) it treats the first row in Excel as the header, so in total Python is different by two</span> <-- (the answer is hidden here if you're desperate, highlight the text with your mouse)"
   ]
  },
  {
   "cell_type": "markdown",
   "metadata": {
    "slideshow": {
     "slide_type": "slide"
    }
   },
   "source": [
    "So actually, the header row in Excel, [A6:H6], corresponds to `df.ix[4]`:"
   ]
  },
  {
   "cell_type": "code",
   "execution_count": 41,
   "metadata": {
    "collapsed": false,
    "slideshow": {
     "slide_type": "fragment"
    }
   },
   "outputs": [
    {
     "data": {
      "text/plain": [
       "Table 1        NaN\n",
       "Unnamed: 1    1971\n",
       "Unnamed: 2    1981\n",
       "Unnamed: 3    1991\n",
       "Unnamed: 4    2001\n",
       "Unnamed: 5    2009\n",
       "Unnamed: 6     NaN\n",
       "Unnamed: 7    2009\n",
       "Name: 4, dtype: object"
      ]
     },
     "execution_count": 41,
     "metadata": {},
     "output_type": "execute_result"
    }
   ],
   "source": [
    "df.ix[4]"
   ]
  },
  {
   "cell_type": "markdown",
   "metadata": {
    "slideshow": {
     "slide_type": "notes"
    }
   },
   "source": [
    "At step `[C]` we trim down a bit and extract only table we are interested in. Notice that we don't worry about the columns - pandas has spotted no more data comes after column H and stops adding them in at that point."
   ]
  },
  {
   "cell_type": "code",
   "execution_count": 42,
   "metadata": {
    "collapsed": true,
    "slideshow": {
     "slide_type": "slide"
    }
   },
   "outputs": [],
   "source": [
    "df = df.ix[4:26]"
   ]
  },
  {
   "cell_type": "markdown",
   "metadata": {
    "slideshow": {
     "slide_type": "fragment"
    }
   },
   "source": [
    "<img alt=\"Cut down screenshot showing the DataFrame's new coverage\" src=\"images/screenshot-excel-cutdown.png\" style='max-height: 400px' />"
   ]
  },
  {
   "cell_type": "code",
   "execution_count": 167,
   "metadata": {
    "collapsed": false
   },
   "outputs": [
    {
     "data": {
      "text/html": [
       "<div style=\"max-height:1000px;max-width:1500px;overflow:auto;\">\n",
       "<table border=\"1\" class=\"dataframe\">\n",
       "  <thead>\n",
       "    <tr style=\"text-align: right;\">\n",
       "      <th>Years</th>\n",
       "      <th>1981</th>\n",
       "    </tr>\n",
       "    <tr>\n",
       "      <th>Category</th>\n",
       "      <th></th>\n",
       "    </tr>\n",
       "  </thead>\n",
       "  <tbody>\n",
       "    <tr>\n",
       "      <th>Furnishings, household equipment and maintenance</th>\n",
       "      <td> 116.808722</td>\n",
       "    </tr>\n",
       "    <tr>\n",
       "      <th>Miscellaneous goods and services</th>\n",
       "      <td> 120.876377</td>\n",
       "    </tr>\n",
       "  </tbody>\n",
       "</table>\n",
       "<p>2 rows × 1 columns</p>\n",
       "</div>"
      ],
      "text/plain": [
       "Years                                                   1981\n",
       "Category                                                    \n",
       "Furnishings, household equipment and maintenance  116.808722\n",
       "Miscellaneous goods and services                  120.876377\n",
       "\n",
       "[2 rows x 1 columns]"
      ]
     },
     "execution_count": 167,
     "metadata": {},
     "output_type": "execute_result"
    }
   ],
   "source": [
    "df.ix[4:6, 1:2]"
   ]
  },
  {
   "cell_type": "markdown",
   "metadata": {
    "slideshow": {
     "slide_type": "notes"
    }
   },
   "source": [
    "As a side-point, you can slice in two directions, as with numpy arrays. For instance:"
   ]
  },
  {
   "cell_type": "markdown",
   "metadata": {
    "slideshow": {
     "slide_type": "slide"
    }
   },
   "source": [
    "# Challenge\n",
    "## Fix the stars in `[D]`\n",
    "\n",
    "But first, put your own stars up. Remember to swap for arrows when finished!!\n",
    "\n",
    "You'll need the pandas docs [http://pandas.pydata.org/pandas-docs/stable/api.html](http://pandas.pydata.org/pandas-docs/stable/api.html)"
   ]
  },
  {
   "cell_type": "markdown",
   "metadata": {
    "slideshow": {
     "slide_type": "notes"
    }
   },
   "source": [
    "So, now we just need to deal with all those `NaN`s. Thankfully, this is something pandas is especially good at. Generally speaking, you can just work with the data and it will ignore those `NaN` entries when you sum, or average, or whatever. However, this table only has `NaN`s in full rows and columns, so we can excise them very neatly. However, this is a challenge for you - fill in the 9 mising characters in `[D]`, marked as asterisks, to complete the script above! You should get printed output showing many rows and columns, all with string or numeric entries. There will a few `NaN`s left though..."
   ]
  },
  {
   "cell_type": "markdown",
   "metadata": {
    "slideshow": {
     "slide_type": "notes"
    }
   },
   "source": [
    "The final few `NaN`s are actually to do with some cells having spaces or so forth in them. Because we used the `all` argument, all cells in the row or column must be `NaN` for it to be removed. But this is really a loading-time problem - how do we tell pandas to recognise a space character as a NaN value (also known as NA values)? Start here... [http://pandas.pydata.org/pandas-docs/stable/generated/pandas.ExcelFile.parse.html#pandas.ExcelFile.parse](http://pandas.pydata.org/pandas-docs/stable/generated/pandas.ExcelFile.parse.html#pandas.ExcelFile.parse)"
   ]
  },
  {
   "cell_type": "markdown",
   "metadata": {
    "slideshow": {
     "slide_type": "slide"
    }
   },
   "source": [
    "# Challenge\n",
    "\n",
    "Can you modify the ExcelFile class's `parse(...)` arguments to treat cells with only a space in them as `NaN`s?"
   ]
  },
  {
   "cell_type": "markdown",
   "metadata": {
    "slideshow": {
     "slide_type": "notes"
    }
   },
   "source": [
    "Don't read through the following code snippets until you work it out!"
   ]
  },
  {
   "cell_type": "markdown",
   "metadata": {
    "slideshow": {
     "slide_type": "slide"
    }
   },
   "source": [
    "# Doing something with the data\n",
    "## Making it all worthwhile"
   ]
  },
  {
   "cell_type": "code",
   "execution_count": 155,
   "metadata": {
    "collapsed": false,
    "slideshow": {
     "slide_type": "notes"
    }
   },
   "outputs": [],
   "source": [
    "## SECOND VERSION OF SCRIPT\n",
    "\n",
    "import pandas as pd\n",
    "\n",
    "# [A]\n",
    "excel_file = pd.ExcelFile('data/expenditure.xls')\n",
    "\n",
    "# [B] Pick out an interesting table - 2011 value of household expenditure by purpose\n",
    "df = excel_file.parse('Table 1', na_values=' ')\n",
    "\n",
    "# [C] Cut down to the relevant table\n",
    "df = df.ix[4:26]\n",
    "\n",
    "# [D] Strip out empty rows and columns\n",
    "df = df.dropna(how='all', axis=(0, 1))\n",
    "\n",
    "# [E] Reindex/column to desired table\n",
    "# Note that ix lets you mix position (e.g. 0th column) and name (row '4') when not ambiguous\n",
    "df.ix[4, 0] = 0                       # E1\n",
    "df.columns = df.ix[4, :].astype(int)  # E2\n",
    "df = df[1:]                           # E3\n",
    "df.index = df[0]                      # E4\n",
    "df.index.name = \"Category\"            # E5\n",
    "df = df.ix[:, 1:]                     # E6\n",
    "df.columns.name = \"Years\"             # E7"
   ]
  },
  {
   "cell_type": "markdown",
   "metadata": {
    "slideshow": {
     "slide_type": "slide"
    }
   },
   "source": [
    "# Challenge\n",
    "\n",
    "With the rest of the people in your row, have a chat and work out why line `#En` is in the script above, where `n` is the number of your row - 1 nearest the screen, counting towards the back of the room.\n",
    "\n",
    "In Etherpad, where there is a space left for notes on this challenge put as full and descriptive notes as possible."
   ]
  },
  {
   "cell_type": "code",
   "execution_count": 163,
   "metadata": {
    "collapsed": false,
    "slideshow": {
     "slide_type": "slide"
    }
   },
   "outputs": [
    {
     "data": {
      "text/html": [
       "<div style=\"max-height:1000px;max-width:1500px;overflow:auto;\">\n",
       "<table border=\"1\" class=\"dataframe\">\n",
       "  <thead>\n",
       "    <tr style=\"text-align: right;\">\n",
       "      <th>Years</th>\n",
       "      <th>1971</th>\n",
       "      <th>1981</th>\n",
       "      <th>1991</th>\n",
       "      <th>2001</th>\n",
       "      <th>2009</th>\n",
       "      <th>2009.1</th>\n",
       "    </tr>\n",
       "    <tr>\n",
       "      <th>Category</th>\n",
       "      <th></th>\n",
       "      <th></th>\n",
       "      <th></th>\n",
       "      <th></th>\n",
       "      <th></th>\n",
       "      <th></th>\n",
       "    </tr>\n",
       "  </thead>\n",
       "  <tbody>\n",
       "    <tr>\n",
       "      <th>Food and non-alcoholic beverages</th>\n",
       "      <td> 100</td>\n",
       "      <td> 104.640913</td>\n",
       "      <td> 117.230576</td>\n",
       "      <td> 136.729755</td>\n",
       "      <td>  151.008988</td>\n",
       "      <td>  83.813</td>\n",
       "    </tr>\n",
       "    <tr>\n",
       "      <th>Alcoholic beverages and tobacco</th>\n",
       "      <td> 100</td>\n",
       "      <td>  99.237497</td>\n",
       "      <td>  92.064204</td>\n",
       "      <td>  88.024221</td>\n",
       "      <td>   89.613302</td>\n",
       "      <td>  31.128</td>\n",
       "    </tr>\n",
       "    <tr>\n",
       "      <th>Clothing and footwear</th>\n",
       "      <td> 100</td>\n",
       "      <td> 119.877158</td>\n",
       "      <td> 186.847400</td>\n",
       "      <td> 344.276183</td>\n",
       "      <td>  552.546860</td>\n",
       "      <td>  47.599</td>\n",
       "    </tr>\n",
       "    <tr>\n",
       "      <th>Housing, water and fuels2</th>\n",
       "      <td> 100</td>\n",
       "      <td> 116.734336</td>\n",
       "      <td> 138.879523</td>\n",
       "      <td> 152.250032</td>\n",
       "      <td>  160.082001</td>\n",
       "      <td> 193.447</td>\n",
       "    </tr>\n",
       "    <tr>\n",
       "      <th>Furnishings, household equipment and maintenance</th>\n",
       "      <td> 100</td>\n",
       "      <td> 116.808722</td>\n",
       "      <td> 159.656426</td>\n",
       "      <td> 261.638586</td>\n",
       "      <td>  262.682524</td>\n",
       "      <td>  43.867</td>\n",
       "    </tr>\n",
       "    <tr>\n",
       "      <th>Miscellaneous goods and services</th>\n",
       "      <td> 100</td>\n",
       "      <td> 120.876377</td>\n",
       "      <td> 240.394746</td>\n",
       "      <td> 336.047068</td>\n",
       "      <td>  377.225149</td>\n",
       "      <td> 104.765</td>\n",
       "    </tr>\n",
       "    <tr>\n",
       "      <th>Restaurants and hotels3</th>\n",
       "      <td> 100</td>\n",
       "      <td> 125.594386</td>\n",
       "      <td> 167.157564</td>\n",
       "      <td> 193.105120</td>\n",
       "      <td>  185.494668</td>\n",
       "      <td>  88.763</td>\n",
       "    </tr>\n",
       "    <tr>\n",
       "      <th>Recreation and culture</th>\n",
       "      <td> 100</td>\n",
       "      <td> 158.242026</td>\n",
       "      <td> 279.165652</td>\n",
       "      <td> 544.963883</td>\n",
       "      <td>  868.809350</td>\n",
       "      <td>  99.260</td>\n",
       "    </tr>\n",
       "    <tr>\n",
       "      <th>Transport</th>\n",
       "      <td> 100</td>\n",
       "      <td> 127.948926</td>\n",
       "      <td> 180.949507</td>\n",
       "      <td> 246.488683</td>\n",
       "      <td>  272.763784</td>\n",
       "      <td> 124.616</td>\n",
       "    </tr>\n",
       "    <tr>\n",
       "      <th>Communication</th>\n",
       "      <td> 100</td>\n",
       "      <td> 190.027855</td>\n",
       "      <td> 306.406685</td>\n",
       "      <td> 789.582173</td>\n",
       "      <td> 1126.128134</td>\n",
       "      <td>  18.747</td>\n",
       "    </tr>\n",
       "    <tr>\n",
       "      <th>Health</th>\n",
       "      <td> 100</td>\n",
       "      <td> 124.598291</td>\n",
       "      <td> 182.273504</td>\n",
       "      <td> 187.760684</td>\n",
       "      <td>  229.264957</td>\n",
       "      <td>  14.283</td>\n",
       "    </tr>\n",
       "    <tr>\n",
       "      <th>Education</th>\n",
       "      <td> 100</td>\n",
       "      <td> 160.173877</td>\n",
       "      <td> 199.316912</td>\n",
       "      <td> 254.936866</td>\n",
       "      <td>  221.879528</td>\n",
       "      <td>  13.024</td>\n",
       "    </tr>\n",
       "    <tr>\n",
       "      <th>Total domestic household expenditure</th>\n",
       "      <td> 100</td>\n",
       "      <td> 120.735811</td>\n",
       "      <td> 166.460085</td>\n",
       "      <td> 225.223993</td>\n",
       "      <td>  259.495168</td>\n",
       "      <td> 863.312</td>\n",
       "    </tr>\n",
       "    <tr>\n",
       "      <th>  Total goods</th>\n",
       "      <td> 100</td>\n",
       "      <td> 116.882766</td>\n",
       "      <td> 155.755787</td>\n",
       "      <td> 226.782179</td>\n",
       "      <td>  285.454027</td>\n",
       "      <td> 411.727</td>\n",
       "    </tr>\n",
       "    <tr>\n",
       "      <th>  Total services</th>\n",
       "      <td> 100</td>\n",
       "      <td> 127.667167</td>\n",
       "      <td> 183.960495</td>\n",
       "      <td> 230.874717</td>\n",
       "      <td>  244.720566</td>\n",
       "      <td> 451.585</td>\n",
       "    </tr>\n",
       "    <tr>\n",
       "      <th>UK tourist expenditure abroad</th>\n",
       "      <td> 100</td>\n",
       "      <td> 193.380615</td>\n",
       "      <td> 298.082480</td>\n",
       "      <td> 699.054374</td>\n",
       "      <td>  576.333071</td>\n",
       "      <td>  28.994</td>\n",
       "    </tr>\n",
       "    <tr>\n",
       "      <th> less foreign tourist expenditure</th>\n",
       "      <td> 100</td>\n",
       "      <td> 151.616612</td>\n",
       "      <td> 187.182066</td>\n",
       "      <td> 222.215836</td>\n",
       "      <td>  257.810030</td>\n",
       "      <td>  19.554</td>\n",
       "    </tr>\n",
       "    <tr>\n",
       "      <th>Household final consumption expenditure4</th>\n",
       "      <td> 100</td>\n",
       "      <td> 121.341138</td>\n",
       "      <td> 168.287800</td>\n",
       "      <td> 232.291680</td>\n",
       "      <td>  264.930072</td>\n",
       "      <td> 872.752</td>\n",
       "    </tr>\n",
       "  </tbody>\n",
       "</table>\n",
       "<p>18 rows × 6 columns</p>\n",
       "</div>"
      ],
      "text/plain": [
       "Years                                             1971        1981  \\\n",
       "Category                                                             \n",
       "Food and non-alcoholic beverages                   100  104.640913   \n",
       "Alcoholic beverages and tobacco                    100   99.237497   \n",
       "Clothing and footwear                              100  119.877158   \n",
       "Housing, water and fuels2                          100  116.734336   \n",
       "Furnishings, household equipment and maintenance   100  116.808722   \n",
       "Miscellaneous goods and services                   100  120.876377   \n",
       "Restaurants and hotels3                            100  125.594386   \n",
       "Recreation and culture                             100  158.242026   \n",
       "Transport                                          100  127.948926   \n",
       "Communication                                      100  190.027855   \n",
       "Health                                             100  124.598291   \n",
       "Education                                          100  160.173877   \n",
       "Total domestic household expenditure               100  120.735811   \n",
       "  Total goods                                      100  116.882766   \n",
       "  Total services                                   100  127.667167   \n",
       "UK tourist expenditure abroad                      100  193.380615   \n",
       " less foreign tourist expenditure                  100  151.616612   \n",
       "Household final consumption expenditure4           100  121.341138   \n",
       "\n",
       "Years                                                   1991        2001  \\\n",
       "Category                                                                   \n",
       "Food and non-alcoholic beverages                  117.230576  136.729755   \n",
       "Alcoholic beverages and tobacco                    92.064204   88.024221   \n",
       "Clothing and footwear                             186.847400  344.276183   \n",
       "Housing, water and fuels2                         138.879523  152.250032   \n",
       "Furnishings, household equipment and maintenance  159.656426  261.638586   \n",
       "Miscellaneous goods and services                  240.394746  336.047068   \n",
       "Restaurants and hotels3                           167.157564  193.105120   \n",
       "Recreation and culture                            279.165652  544.963883   \n",
       "Transport                                         180.949507  246.488683   \n",
       "Communication                                     306.406685  789.582173   \n",
       "Health                                            182.273504  187.760684   \n",
       "Education                                         199.316912  254.936866   \n",
       "Total domestic household expenditure              166.460085  225.223993   \n",
       "  Total goods                                     155.755787  226.782179   \n",
       "  Total services                                  183.960495  230.874717   \n",
       "UK tourist expenditure abroad                     298.082480  699.054374   \n",
       " less foreign tourist expenditure                 187.182066  222.215836   \n",
       "Household final consumption expenditure4          168.287800  232.291680   \n",
       "\n",
       "Years                                                    2009   2009.1  \n",
       "Category                                                                \n",
       "Food and non-alcoholic beverages                   151.008988   83.813  \n",
       "Alcoholic beverages and tobacco                     89.613302   31.128  \n",
       "Clothing and footwear                              552.546860   47.599  \n",
       "Housing, water and fuels2                          160.082001  193.447  \n",
       "Furnishings, household equipment and maintenance   262.682524   43.867  \n",
       "Miscellaneous goods and services                   377.225149  104.765  \n",
       "Restaurants and hotels3                            185.494668   88.763  \n",
       "Recreation and culture                             868.809350   99.260  \n",
       "Transport                                          272.763784  124.616  \n",
       "Communication                                     1126.128134   18.747  \n",
       "Health                                             229.264957   14.283  \n",
       "Education                                          221.879528   13.024  \n",
       "Total domestic household expenditure               259.495168  863.312  \n",
       "  Total goods                                      285.454027  411.727  \n",
       "  Total services                                   244.720566  451.585  \n",
       "UK tourist expenditure abroad                      576.333071   28.994  \n",
       " less foreign tourist expenditure                  257.810030   19.554  \n",
       "Household final consumption expenditure4           264.930072  872.752  \n",
       "\n",
       "[18 rows x 6 columns]"
      ]
     },
     "execution_count": 163,
     "metadata": {},
     "output_type": "execute_result"
    }
   ],
   "source": [
    "## THIRD VERSION OF SCRIPT\n",
    "\n",
    "import pandas as pd\n",
    "\n",
    "# Pick out an interesting table - 2011 value of household expenditure by purpose\n",
    "df = pd.read_excel(\n",
    "    'data/expenditure.xls',\n",
    "    sheetname='Table 1',\n",
    "    na_values=' ',\n",
    "    header=5,\n",
    "    index_col=0,\n",
    "    parse_cols=(0, 1, 2, 3, 4, 5, 7)\n",
    ").dropna()\n",
    "\n",
    "df.index.name = \"Category\"\n",
    "df.columns.name = \"Years\"\n",
    "df"
   ]
  },
  {
   "cell_type": "markdown",
   "metadata": {
    "slideshow": {
     "slide_type": "notes"
    }
   },
   "source": [
    "Now, there are a couple of take-away points here. First, I'm really irritating. Second, in Python, parsing functions also contain bonus arguments to do standard transformations, whether it's from CSV, Excel, SQL or whatever - always have a quick check through the documentation to see if you are re-inventing the wheel.\n",
    "\n",
    "However, when you need more control - say, you have to play around with messier data than this, or some of those arguments (like desired columns) must be calculated *after* the data is loaded - then the first examples show how you can tweak pandas data to do exactly what you want.\n",
    "\n",
    "A formatting point: while Python determines code blocks entirely by indenting, between parens (and many other places), whitespace does not matter, and so I can spread the parse call over several lines. As `read_excel` returns DataFrame, we can call `dropna()` on the returned value directly and get back the tidied DataFrame."
   ]
  },
  {
   "cell_type": "markdown",
   "metadata": {},
   "source": [
    "If we look back at the Excel file, we see that the 2009.1 column is actually a different unit. The first five columns are percentages comparative based on 1971 - so, from 1971 to 2009, the amount spent on food and drink has risen by about 50% (to 151%). In case you're thinking, \"but bread cost a tenth of today's price in 1970!\", bear in mind that this is already adjusted for inflation.\n",
    "\n",
    "The last column is an absolute value in billions sterling (don't ask me why \"current prices\" are marked 2009 in a spreadsheet ONS marked 2011). So maybe a subindex with \"as % of 1971\" and \"in today's currency\" as a breakdown would be handy, rather than mixing up the types in a single row."
   ]
  },
  {
   "cell_type": "code",
   "execution_count": 129,
   "metadata": {
    "collapsed": false,
    "slideshow": {
     "slide_type": "notes"
    }
   },
   "outputs": [
    {
     "data": {
      "text/plain": [
       "<matplotlib.axes.AxesSubplot at 0x7f81e3cd9780>"
      ]
     },
     "execution_count": 129,
     "metadata": {},
     "output_type": "execute_result"
    },
    {
     "data": {
      "image/png": "[encoded data removed]",
      "text/plain": [
       "<matplotlib.figure.Figure at 0x7f81e3c87630>"
      ]
     },
     "metadata": {},
     "output_type": "display_data"
    }
   ],
   "source": [
    "## FOURTH VERSION OF SCRIPT\n",
    "\n",
    "import pandas as pd\n",
    "\n",
    "# Pick out an interesting table - 2011 value of household expenditure by purpose\n",
    "df = pd.read_excel(\n",
    "    'data/expenditure.xls',\n",
    "    sheetname='Table 1',\n",
    "    na_values=' ',\n",
    "    header=5,\n",
    "    index_col=0,\n",
    "    parse_cols=(0, 1, 2, 3, 4, 5, 7)\n",
    ").dropna()\n",
    "\n",
    "df.index.name = \"Category\"\n",
    "df.columns.name = \"Years\"\n",
    "\n",
    "# [F]\n",
    "perc1971 = df.loc[:, 1971: 2009]\n",
    "todaysCurrency = pd.DataFrame({2009: df['2009.1']})\n",
    "\n",
    "# [G]\n",
    "joined_df = pd.concat((perc1971, todaysCurrency), axis=1, keys=(\"%1971\", \"today's money\"))\n",
    "\n",
    "# [H]\n",
    "stacked_df = joined_df.stack(level=0)\n",
    "\n",
    "# [I]\n",
    "def calculate_prices_in_todays_money_for_row(x):\n",
    "    if x.name[1] != \"today's money\":\n",
    "        return x\n",
    "    \n",
    "    percent_row = (x.name[0], \"%1971\")\n",
    "    ratio = stacked_df.loc[percent_row, :]\n",
    "    ratio2009 = stacked_df.loc[percent_row, 2009]\n",
    "    \n",
    "    return ratio * x[2009] / ratio2009\n",
    "\n",
    "filled_df = stacked_df.*****(calculate_prices_in_todays_money_for_row, ****=*)\n",
    "\n",
    "# [J]\n",
    "# You only need this line in Jupyter\n",
    "%matplotlib inline\n",
    "\n",
    "transposed_df = filled_df.transpose()\n",
    "transposed_df[\"Communication\"].plot(kind='bar')"
   ]
  },
  {
   "cell_type": "markdown",
   "metadata": {
    "slideshow": {
     "slide_type": "slide"
    }
   },
   "source": [
    "Now, this is a bit more intricate. What we do use pandas understanding of multiple levels of columns. I say 'understanding' because pandas actually knows what to do with sub-columns, what they are, how they are layered and how to manipulate them, as opposed to a basic Excel spreadsheet that just displays what you put in the cells.\n",
    "\n",
    "So, we want to stop mixing up our several ratio columns and our actual currency column..."
   ]
  },
  {
   "cell_type": "code",
   "execution_count": 110,
   "metadata": {
    "collapsed": false,
    "slideshow": {
     "slide_type": "slide"
    }
   },
   "outputs": [],
   "source": [
    "# Pick out all rows and cols 1971 to 2009\n",
    "# (loc lets us identify them by actual row/column names)\n",
    "perc1971 = df.loc[:, 1971: 2009] # [F]\n",
    "# Pick out the 2009 column, and make it a DataFrame of its own\n",
    "# We do this with a 1-element dictionary (remember those?)\n",
    "todaysCurrency = pd.DataFrame({2009: df['2009.1']})"
   ]
  },
  {
   "cell_type": "code",
   "execution_count": 108,
   "metadata": {
    "collapsed": false,
    "slideshow": {
     "slide_type": "slide"
    }
   },
   "outputs": [
    {
     "data": {
      "text/html": [
       "<div style=\"max-height:1000px;max-width:1500px;overflow:auto;\">\n",
       "<table border=\"1\" class=\"dataframe\">\n",
       "  <thead>\n",
       "    <tr style=\"text-align: right;\">\n",
       "      <th>Years</th>\n",
       "      <th>1971</th>\n",
       "      <th>1981</th>\n",
       "      <th>1991</th>\n",
       "      <th>2001</th>\n",
       "      <th>2009</th>\n",
       "    </tr>\n",
       "    <tr>\n",
       "      <th>Category</th>\n",
       "      <th></th>\n",
       "      <th></th>\n",
       "      <th></th>\n",
       "      <th></th>\n",
       "      <th></th>\n",
       "    </tr>\n",
       "  </thead>\n",
       "  <tbody>\n",
       "    <tr>\n",
       "      <th>Food and non-alcoholic beverages</th>\n",
       "      <td> 100</td>\n",
       "      <td> 104.640913</td>\n",
       "      <td> 117.230576</td>\n",
       "      <td> 136.729755</td>\n",
       "      <td> 151.008988</td>\n",
       "    </tr>\n",
       "    <tr>\n",
       "      <th>Alcoholic beverages and tobacco</th>\n",
       "      <td> 100</td>\n",
       "      <td>  99.237497</td>\n",
       "      <td>  92.064204</td>\n",
       "      <td>  88.024221</td>\n",
       "      <td>  89.613302</td>\n",
       "    </tr>\n",
       "    <tr>\n",
       "      <th>Clothing and footwear</th>\n",
       "      <td> 100</td>\n",
       "      <td> 119.877158</td>\n",
       "      <td> 186.847400</td>\n",
       "      <td> 344.276183</td>\n",
       "      <td> 552.546860</td>\n",
       "    </tr>\n",
       "    <tr>\n",
       "      <th>Housing, water and fuels2</th>\n",
       "      <td> 100</td>\n",
       "      <td> 116.734336</td>\n",
       "      <td> 138.879523</td>\n",
       "      <td> 152.250032</td>\n",
       "      <td> 160.082001</td>\n",
       "    </tr>\n",
       "    <tr>\n",
       "      <th>Furnishings, household equipment and maintenance</th>\n",
       "      <td> 100</td>\n",
       "      <td> 116.808722</td>\n",
       "      <td> 159.656426</td>\n",
       "      <td> 261.638586</td>\n",
       "      <td> 262.682524</td>\n",
       "    </tr>\n",
       "  </tbody>\n",
       "</table>\n",
       "<p>5 rows × 5 columns</p>\n",
       "</div>"
      ],
      "text/plain": [
       "Years                                             1971        1981  \\\n",
       "Category                                                             \n",
       "Food and non-alcoholic beverages                   100  104.640913   \n",
       "Alcoholic beverages and tobacco                    100   99.237497   \n",
       "Clothing and footwear                              100  119.877158   \n",
       "Housing, water and fuels2                          100  116.734336   \n",
       "Furnishings, household equipment and maintenance   100  116.808722   \n",
       "\n",
       "Years                                                   1991        2001  \\\n",
       "Category                                                                   \n",
       "Food and non-alcoholic beverages                  117.230576  136.729755   \n",
       "Alcoholic beverages and tobacco                    92.064204   88.024221   \n",
       "Clothing and footwear                             186.847400  344.276183   \n",
       "Housing, water and fuels2                         138.879523  152.250032   \n",
       "Furnishings, household equipment and maintenance  159.656426  261.638586   \n",
       "\n",
       "Years                                                   2009  \n",
       "Category                                                      \n",
       "Food and non-alcoholic beverages                  151.008988  \n",
       "Alcoholic beverages and tobacco                    89.613302  \n",
       "Clothing and footwear                             552.546860  \n",
       "Housing, water and fuels2                         160.082001  \n",
       "Furnishings, household equipment and maintenance  262.682524  \n",
       "\n",
       "[5 rows x 5 columns]"
      ]
     },
     "execution_count": 108,
     "metadata": {},
     "output_type": "execute_result"
    }
   ],
   "source": [
    "perc1971.head()"
   ]
  },
  {
   "cell_type": "code",
   "execution_count": 111,
   "metadata": {
    "collapsed": false,
    "slideshow": {
     "slide_type": "fragment"
    }
   },
   "outputs": [
    {
     "data": {
      "text/html": [
       "<div style=\"max-height:1000px;max-width:1500px;overflow:auto;\">\n",
       "<table border=\"1\" class=\"dataframe\">\n",
       "  <thead>\n",
       "    <tr style=\"text-align: right;\">\n",
       "      <th></th>\n",
       "      <th>2009</th>\n",
       "    </tr>\n",
       "    <tr>\n",
       "      <th>Category</th>\n",
       "      <th></th>\n",
       "    </tr>\n",
       "  </thead>\n",
       "  <tbody>\n",
       "    <tr>\n",
       "      <th>Food and non-alcoholic beverages</th>\n",
       "      <td>  83.813</td>\n",
       "    </tr>\n",
       "    <tr>\n",
       "      <th>Alcoholic beverages and tobacco</th>\n",
       "      <td>  31.128</td>\n",
       "    </tr>\n",
       "    <tr>\n",
       "      <th>Clothing and footwear</th>\n",
       "      <td>  47.599</td>\n",
       "    </tr>\n",
       "    <tr>\n",
       "      <th>Housing, water and fuels2</th>\n",
       "      <td> 193.447</td>\n",
       "    </tr>\n",
       "    <tr>\n",
       "      <th>Furnishings, household equipment and maintenance</th>\n",
       "      <td>  43.867</td>\n",
       "    </tr>\n",
       "  </tbody>\n",
       "</table>\n",
       "<p>5 rows × 1 columns</p>\n",
       "</div>"
      ],
      "text/plain": [
       "                                                     2009\n",
       "Category                                                 \n",
       "Food and non-alcoholic beverages                   83.813\n",
       "Alcoholic beverages and tobacco                    31.128\n",
       "Clothing and footwear                              47.599\n",
       "Housing, water and fuels2                         193.447\n",
       "Furnishings, household equipment and maintenance   43.867\n",
       "\n",
       "[5 rows x 1 columns]"
      ]
     },
     "execution_count": 111,
     "metadata": {},
     "output_type": "execute_result"
    }
   ],
   "source": [
    "todaysCurrency.head()"
   ]
  },
  {
   "cell_type": "markdown",
   "metadata": {
    "slideshow": {
     "slide_type": "notes"
    }
   },
   "source": [
    "That's not a whole lot of use, unless we can put them back together..."
   ]
  },
  {
   "cell_type": "code",
   "execution_count": 121,
   "metadata": {
    "collapsed": false,
    "slideshow": {
     "slide_type": "slide"
    }
   },
   "outputs": [
    {
     "data": {
      "text/html": [
       "<div style=\"max-height:1000px;max-width:1500px;overflow:auto;\">\n",
       "<table border=\"1\" class=\"dataframe\">\n",
       "  <thead>\n",
       "    <tr>\n",
       "      <th></th>\n",
       "      <th colspan=\"5\" halign=\"left\">%1971</th>\n",
       "      <th>today's money</th>\n",
       "    </tr>\n",
       "    <tr>\n",
       "      <th>Years</th>\n",
       "      <th>1971</th>\n",
       "      <th>1981</th>\n",
       "      <th>1991</th>\n",
       "      <th>2001</th>\n",
       "      <th>2009</th>\n",
       "      <th>2009</th>\n",
       "    </tr>\n",
       "    <tr>\n",
       "      <th>Category</th>\n",
       "      <th></th>\n",
       "      <th></th>\n",
       "      <th></th>\n",
       "      <th></th>\n",
       "      <th></th>\n",
       "      <th></th>\n",
       "    </tr>\n",
       "  </thead>\n",
       "  <tbody>\n",
       "    <tr>\n",
       "      <th>Food and non-alcoholic beverages</th>\n",
       "      <td> 100</td>\n",
       "      <td> 104.640913</td>\n",
       "      <td> 117.230576</td>\n",
       "      <td> 136.729755</td>\n",
       "      <td>  151.008988</td>\n",
       "      <td>  83.813</td>\n",
       "    </tr>\n",
       "    <tr>\n",
       "      <th>Alcoholic beverages and tobacco</th>\n",
       "      <td> 100</td>\n",
       "      <td>  99.237497</td>\n",
       "      <td>  92.064204</td>\n",
       "      <td>  88.024221</td>\n",
       "      <td>   89.613302</td>\n",
       "      <td>  31.128</td>\n",
       "    </tr>\n",
       "    <tr>\n",
       "      <th>Clothing and footwear</th>\n",
       "      <td> 100</td>\n",
       "      <td> 119.877158</td>\n",
       "      <td> 186.847400</td>\n",
       "      <td> 344.276183</td>\n",
       "      <td>  552.546860</td>\n",
       "      <td>  47.599</td>\n",
       "    </tr>\n",
       "    <tr>\n",
       "      <th>Housing, water and fuels2</th>\n",
       "      <td> 100</td>\n",
       "      <td> 116.734336</td>\n",
       "      <td> 138.879523</td>\n",
       "      <td> 152.250032</td>\n",
       "      <td>  160.082001</td>\n",
       "      <td> 193.447</td>\n",
       "    </tr>\n",
       "    <tr>\n",
       "      <th>Furnishings, household equipment and maintenance</th>\n",
       "      <td> 100</td>\n",
       "      <td> 116.808722</td>\n",
       "      <td> 159.656426</td>\n",
       "      <td> 261.638586</td>\n",
       "      <td>  262.682524</td>\n",
       "      <td>  43.867</td>\n",
       "    </tr>\n",
       "    <tr>\n",
       "      <th>Miscellaneous goods and services</th>\n",
       "      <td> 100</td>\n",
       "      <td> 120.876377</td>\n",
       "      <td> 240.394746</td>\n",
       "      <td> 336.047068</td>\n",
       "      <td>  377.225149</td>\n",
       "      <td> 104.765</td>\n",
       "    </tr>\n",
       "    <tr>\n",
       "      <th>Restaurants and hotels3</th>\n",
       "      <td> 100</td>\n",
       "      <td> 125.594386</td>\n",
       "      <td> 167.157564</td>\n",
       "      <td> 193.105120</td>\n",
       "      <td>  185.494668</td>\n",
       "      <td>  88.763</td>\n",
       "    </tr>\n",
       "    <tr>\n",
       "      <th>Recreation and culture</th>\n",
       "      <td> 100</td>\n",
       "      <td> 158.242026</td>\n",
       "      <td> 279.165652</td>\n",
       "      <td> 544.963883</td>\n",
       "      <td>  868.809350</td>\n",
       "      <td>  99.260</td>\n",
       "    </tr>\n",
       "    <tr>\n",
       "      <th>Transport</th>\n",
       "      <td> 100</td>\n",
       "      <td> 127.948926</td>\n",
       "      <td> 180.949507</td>\n",
       "      <td> 246.488683</td>\n",
       "      <td>  272.763784</td>\n",
       "      <td> 124.616</td>\n",
       "    </tr>\n",
       "    <tr>\n",
       "      <th>Communication</th>\n",
       "      <td> 100</td>\n",
       "      <td> 190.027855</td>\n",
       "      <td> 306.406685</td>\n",
       "      <td> 789.582173</td>\n",
       "      <td> 1126.128134</td>\n",
       "      <td>  18.747</td>\n",
       "    </tr>\n",
       "    <tr>\n",
       "      <th>Health</th>\n",
       "      <td> 100</td>\n",
       "      <td> 124.598291</td>\n",
       "      <td> 182.273504</td>\n",
       "      <td> 187.760684</td>\n",
       "      <td>  229.264957</td>\n",
       "      <td>  14.283</td>\n",
       "    </tr>\n",
       "    <tr>\n",
       "      <th>Education</th>\n",
       "      <td> 100</td>\n",
       "      <td> 160.173877</td>\n",
       "      <td> 199.316912</td>\n",
       "      <td> 254.936866</td>\n",
       "      <td>  221.879528</td>\n",
       "      <td>  13.024</td>\n",
       "    </tr>\n",
       "    <tr>\n",
       "      <th>Total domestic household expenditure</th>\n",
       "      <td> 100</td>\n",
       "      <td> 120.735811</td>\n",
       "      <td> 166.460085</td>\n",
       "      <td> 225.223993</td>\n",
       "      <td>  259.495168</td>\n",
       "      <td> 863.312</td>\n",
       "    </tr>\n",
       "    <tr>\n",
       "      <th>  Total goods</th>\n",
       "      <td> 100</td>\n",
       "      <td> 116.882766</td>\n",
       "      <td> 155.755787</td>\n",
       "      <td> 226.782179</td>\n",
       "      <td>  285.454027</td>\n",
       "      <td> 411.727</td>\n",
       "    </tr>\n",
       "    <tr>\n",
       "      <th>  Total services</th>\n",
       "      <td> 100</td>\n",
       "      <td> 127.667167</td>\n",
       "      <td> 183.960495</td>\n",
       "      <td> 230.874717</td>\n",
       "      <td>  244.720566</td>\n",
       "      <td> 451.585</td>\n",
       "    </tr>\n",
       "    <tr>\n",
       "      <th>UK tourist expenditure abroad</th>\n",
       "      <td> 100</td>\n",
       "      <td> 193.380615</td>\n",
       "      <td> 298.082480</td>\n",
       "      <td> 699.054374</td>\n",
       "      <td>  576.333071</td>\n",
       "      <td>  28.994</td>\n",
       "    </tr>\n",
       "    <tr>\n",
       "      <th> less foreign tourist expenditure</th>\n",
       "      <td> 100</td>\n",
       "      <td> 151.616612</td>\n",
       "      <td> 187.182066</td>\n",
       "      <td> 222.215836</td>\n",
       "      <td>  257.810030</td>\n",
       "      <td>  19.554</td>\n",
       "    </tr>\n",
       "    <tr>\n",
       "      <th>Household final consumption expenditure4</th>\n",
       "      <td> 100</td>\n",
       "      <td> 121.341138</td>\n",
       "      <td> 168.287800</td>\n",
       "      <td> 232.291680</td>\n",
       "      <td>  264.930072</td>\n",
       "      <td> 872.752</td>\n",
       "    </tr>\n",
       "  </tbody>\n",
       "</table>\n",
       "<p>18 rows × 6 columns</p>\n",
       "</div>"
      ],
      "text/plain": [
       "                                                  %1971              \\\n",
       "Years                                              1971        1981   \n",
       "Category                                                              \n",
       "Food and non-alcoholic beverages                    100  104.640913   \n",
       "Alcoholic beverages and tobacco                     100   99.237497   \n",
       "Clothing and footwear                               100  119.877158   \n",
       "Housing, water and fuels2                           100  116.734336   \n",
       "Furnishings, household equipment and maintenance    100  116.808722   \n",
       "Miscellaneous goods and services                    100  120.876377   \n",
       "Restaurants and hotels3                             100  125.594386   \n",
       "Recreation and culture                              100  158.242026   \n",
       "Transport                                           100  127.948926   \n",
       "Communication                                       100  190.027855   \n",
       "Health                                              100  124.598291   \n",
       "Education                                           100  160.173877   \n",
       "Total domestic household expenditure                100  120.735811   \n",
       "  Total goods                                       100  116.882766   \n",
       "  Total services                                    100  127.667167   \n",
       "UK tourist expenditure abroad                       100  193.380615   \n",
       " less foreign tourist expenditure                   100  151.616612   \n",
       "Household final consumption expenditure4            100  121.341138   \n",
       "\n",
       "                                                                          \\\n",
       "Years                                                   1991        2001   \n",
       "Category                                                                   \n",
       "Food and non-alcoholic beverages                  117.230576  136.729755   \n",
       "Alcoholic beverages and tobacco                    92.064204   88.024221   \n",
       "Clothing and footwear                             186.847400  344.276183   \n",
       "Housing, water and fuels2                         138.879523  152.250032   \n",
       "Furnishings, household equipment and maintenance  159.656426  261.638586   \n",
       "Miscellaneous goods and services                  240.394746  336.047068   \n",
       "Restaurants and hotels3                           167.157564  193.105120   \n",
       "Recreation and culture                            279.165652  544.963883   \n",
       "Transport                                         180.949507  246.488683   \n",
       "Communication                                     306.406685  789.582173   \n",
       "Health                                            182.273504  187.760684   \n",
       "Education                                         199.316912  254.936866   \n",
       "Total domestic household expenditure              166.460085  225.223993   \n",
       "  Total goods                                     155.755787  226.782179   \n",
       "  Total services                                  183.960495  230.874717   \n",
       "UK tourist expenditure abroad                     298.082480  699.054374   \n",
       " less foreign tourist expenditure                 187.182066  222.215836   \n",
       "Household final consumption expenditure4          168.287800  232.291680   \n",
       "\n",
       "                                                               today's money  \n",
       "Years                                                    2009           2009  \n",
       "Category                                                                      \n",
       "Food and non-alcoholic beverages                   151.008988         83.813  \n",
       "Alcoholic beverages and tobacco                     89.613302         31.128  \n",
       "Clothing and footwear                              552.546860         47.599  \n",
       "Housing, water and fuels2                          160.082001        193.447  \n",
       "Furnishings, household equipment and maintenance   262.682524         43.867  \n",
       "Miscellaneous goods and services                   377.225149        104.765  \n",
       "Restaurants and hotels3                            185.494668         88.763  \n",
       "Recreation and culture                             868.809350         99.260  \n",
       "Transport                                          272.763784        124.616  \n",
       "Communication                                     1126.128134         18.747  \n",
       "Health                                             229.264957         14.283  \n",
       "Education                                          221.879528         13.024  \n",
       "Total domestic household expenditure               259.495168        863.312  \n",
       "  Total goods                                      285.454027        411.727  \n",
       "  Total services                                   244.720566        451.585  \n",
       "UK tourist expenditure abroad                      576.333071         28.994  \n",
       " less foreign tourist expenditure                  257.810030         19.554  \n",
       "Household final consumption expenditure4           264.930072        872.752  \n",
       "\n",
       "[18 rows x 6 columns]"
      ]
     },
     "execution_count": 121,
     "metadata": {},
     "output_type": "execute_result"
    }
   ],
   "source": [
    "joined_df = pd.concat((perc1971, todaysCurrency), axis=1, keys=(\"%1971\", \"today's money\")) # [G]\n",
    "joined_df"
   ]
  },
  {
   "cell_type": "markdown",
   "metadata": {
    "slideshow": {
     "slide_type": "notes"
    }
   },
   "source": [
    "Essentially what we did was give pandas a tuple with the DataFrames we wanted to tied together, and matching keys to group them under (lists instead of tuples would have been fine). We could also have just appended the columns, but we want to distinguish between these two sets of columns, so two-level indexing makes sense. We also passed `axis=1` to indicate we wanted this done to the columns."
   ]
  },
  {
   "cell_type": "markdown",
   "metadata": {
    "slideshow": {
     "slide_type": "notes"
    }
   },
   "source": [
    "Now that's starting to look nicer than ONS published it. There's a bit more touching up of categories we could do (\"totals\" for a start seem to be in the wrong place, and footnote numbers have crept in), but that's an exercise for the overly keen reader.\n",
    "\n",
    "Still... it feels like there's something missing... we have inflation-adjusted ratios of spending vs 1970 (the %1970 columns), but only an actual currency value for 2009. Surely we can expand this to match? Presumably, if £83bn is 151% of 1971 spending (look at 2009 Food column) then people in 1971 spent the equivalent of around £50bn in today's money. That's kind of interesting, if you're into that sort of thing.\n",
    "\n",
    "Now, given that you're all doing PhDs and you're planning to apply these techniques to your data, you'll probably end up in a scenario where you are sitting with a load of empty datacells going, \"hey, I know an interesting way to fill these!\" and it will be approximately as interesting to anybody else as \"I wonder what the inflation adjusted household expenditure on furnishings was in 1971?\" sounds to you right now. So it's a perfect example."
   ]
  },
  {
   "cell_type": "markdown",
   "metadata": {
    "slideshow": {
     "slide_type": "notes"
    }
   },
   "source": [
    "First off - we want to use a tool called \"stacking\". This pivots, turning a level of columns into sub-rows. If that doesn't make much sense to you right now, I'll show you:"
   ]
  },
  {
   "cell_type": "code",
   "execution_count": 115,
   "metadata": {
    "collapsed": false,
    "slideshow": {
     "slide_type": "slide"
    }
   },
   "outputs": [
    {
     "data": {
      "text/html": [
       "<div style=\"max-height:1000px;max-width:1500px;overflow:auto;\">\n",
       "<table border=\"1\" class=\"dataframe\">\n",
       "  <thead>\n",
       "    <tr style=\"text-align: right;\">\n",
       "      <th></th>\n",
       "      <th></th>\n",
       "      <th>%1971</th>\n",
       "      <th>today's money</th>\n",
       "    </tr>\n",
       "    <tr>\n",
       "      <th>Category</th>\n",
       "      <th>Years</th>\n",
       "      <th></th>\n",
       "      <th></th>\n",
       "    </tr>\n",
       "  </thead>\n",
       "  <tbody>\n",
       "    <tr>\n",
       "      <th rowspan=\"5\" valign=\"top\">Food and non-alcoholic beverages</th>\n",
       "      <th>1971</th>\n",
       "      <td>  100.000000</td>\n",
       "      <td>     NaN</td>\n",
       "    </tr>\n",
       "    <tr>\n",
       "      <th>1981</th>\n",
       "      <td>  104.640913</td>\n",
       "      <td>     NaN</td>\n",
       "    </tr>\n",
       "    <tr>\n",
       "      <th>1991</th>\n",
       "      <td>  117.230576</td>\n",
       "      <td>     NaN</td>\n",
       "    </tr>\n",
       "    <tr>\n",
       "      <th>2001</th>\n",
       "      <td>  136.729755</td>\n",
       "      <td>     NaN</td>\n",
       "    </tr>\n",
       "    <tr>\n",
       "      <th>2009</th>\n",
       "      <td>  151.008988</td>\n",
       "      <td>  83.813</td>\n",
       "    </tr>\n",
       "    <tr>\n",
       "      <th rowspan=\"5\" valign=\"top\">Alcoholic beverages and tobacco</th>\n",
       "      <th>1971</th>\n",
       "      <td>  100.000000</td>\n",
       "      <td>     NaN</td>\n",
       "    </tr>\n",
       "    <tr>\n",
       "      <th>1981</th>\n",
       "      <td>   99.237497</td>\n",
       "      <td>     NaN</td>\n",
       "    </tr>\n",
       "    <tr>\n",
       "      <th>1991</th>\n",
       "      <td>   92.064204</td>\n",
       "      <td>     NaN</td>\n",
       "    </tr>\n",
       "    <tr>\n",
       "      <th>2001</th>\n",
       "      <td>   88.024221</td>\n",
       "      <td>     NaN</td>\n",
       "    </tr>\n",
       "    <tr>\n",
       "      <th>2009</th>\n",
       "      <td>   89.613302</td>\n",
       "      <td>  31.128</td>\n",
       "    </tr>\n",
       "    <tr>\n",
       "      <th rowspan=\"5\" valign=\"top\">Clothing and footwear</th>\n",
       "      <th>1971</th>\n",
       "      <td>  100.000000</td>\n",
       "      <td>     NaN</td>\n",
       "    </tr>\n",
       "    <tr>\n",
       "      <th>1981</th>\n",
       "      <td>  119.877158</td>\n",
       "      <td>     NaN</td>\n",
       "    </tr>\n",
       "    <tr>\n",
       "      <th>1991</th>\n",
       "      <td>  186.847400</td>\n",
       "      <td>     NaN</td>\n",
       "    </tr>\n",
       "    <tr>\n",
       "      <th>2001</th>\n",
       "      <td>  344.276183</td>\n",
       "      <td>     NaN</td>\n",
       "    </tr>\n",
       "    <tr>\n",
       "      <th>2009</th>\n",
       "      <td>  552.546860</td>\n",
       "      <td>  47.599</td>\n",
       "    </tr>\n",
       "    <tr>\n",
       "      <th rowspan=\"5\" valign=\"top\">Housing, water and fuels2</th>\n",
       "      <th>1971</th>\n",
       "      <td>  100.000000</td>\n",
       "      <td>     NaN</td>\n",
       "    </tr>\n",
       "    <tr>\n",
       "      <th>1981</th>\n",
       "      <td>  116.734336</td>\n",
       "      <td>     NaN</td>\n",
       "    </tr>\n",
       "    <tr>\n",
       "      <th>1991</th>\n",
       "      <td>  138.879523</td>\n",
       "      <td>     NaN</td>\n",
       "    </tr>\n",
       "    <tr>\n",
       "      <th>2001</th>\n",
       "      <td>  152.250032</td>\n",
       "      <td>     NaN</td>\n",
       "    </tr>\n",
       "    <tr>\n",
       "      <th>2009</th>\n",
       "      <td>  160.082001</td>\n",
       "      <td> 193.447</td>\n",
       "    </tr>\n",
       "    <tr>\n",
       "      <th rowspan=\"5\" valign=\"top\">Furnishings, household equipment and maintenance</th>\n",
       "      <th>1971</th>\n",
       "      <td>  100.000000</td>\n",
       "      <td>     NaN</td>\n",
       "    </tr>\n",
       "    <tr>\n",
       "      <th>1981</th>\n",
       "      <td>  116.808722</td>\n",
       "      <td>     NaN</td>\n",
       "    </tr>\n",
       "    <tr>\n",
       "      <th>1991</th>\n",
       "      <td>  159.656426</td>\n",
       "      <td>     NaN</td>\n",
       "    </tr>\n",
       "    <tr>\n",
       "      <th>2001</th>\n",
       "      <td>  261.638586</td>\n",
       "      <td>     NaN</td>\n",
       "    </tr>\n",
       "    <tr>\n",
       "      <th>2009</th>\n",
       "      <td>  262.682524</td>\n",
       "      <td>  43.867</td>\n",
       "    </tr>\n",
       "    <tr>\n",
       "      <th rowspan=\"5\" valign=\"top\">Miscellaneous goods and services</th>\n",
       "      <th>1971</th>\n",
       "      <td>  100.000000</td>\n",
       "      <td>     NaN</td>\n",
       "    </tr>\n",
       "    <tr>\n",
       "      <th>1981</th>\n",
       "      <td>  120.876377</td>\n",
       "      <td>     NaN</td>\n",
       "    </tr>\n",
       "    <tr>\n",
       "      <th>1991</th>\n",
       "      <td>  240.394746</td>\n",
       "      <td>     NaN</td>\n",
       "    </tr>\n",
       "    <tr>\n",
       "      <th>2001</th>\n",
       "      <td>  336.047068</td>\n",
       "      <td>     NaN</td>\n",
       "    </tr>\n",
       "    <tr>\n",
       "      <th>2009</th>\n",
       "      <td>  377.225149</td>\n",
       "      <td> 104.765</td>\n",
       "    </tr>\n",
       "    <tr>\n",
       "      <th rowspan=\"5\" valign=\"top\">Restaurants and hotels3</th>\n",
       "      <th>1971</th>\n",
       "      <td>  100.000000</td>\n",
       "      <td>     NaN</td>\n",
       "    </tr>\n",
       "    <tr>\n",
       "      <th>1981</th>\n",
       "      <td>  125.594386</td>\n",
       "      <td>     NaN</td>\n",
       "    </tr>\n",
       "    <tr>\n",
       "      <th>1991</th>\n",
       "      <td>  167.157564</td>\n",
       "      <td>     NaN</td>\n",
       "    </tr>\n",
       "    <tr>\n",
       "      <th>2001</th>\n",
       "      <td>  193.105120</td>\n",
       "      <td>     NaN</td>\n",
       "    </tr>\n",
       "    <tr>\n",
       "      <th>2009</th>\n",
       "      <td>  185.494668</td>\n",
       "      <td>  88.763</td>\n",
       "    </tr>\n",
       "    <tr>\n",
       "      <th rowspan=\"5\" valign=\"top\">Recreation and culture</th>\n",
       "      <th>1971</th>\n",
       "      <td>  100.000000</td>\n",
       "      <td>     NaN</td>\n",
       "    </tr>\n",
       "    <tr>\n",
       "      <th>1981</th>\n",
       "      <td>  158.242026</td>\n",
       "      <td>     NaN</td>\n",
       "    </tr>\n",
       "    <tr>\n",
       "      <th>1991</th>\n",
       "      <td>  279.165652</td>\n",
       "      <td>     NaN</td>\n",
       "    </tr>\n",
       "    <tr>\n",
       "      <th>2001</th>\n",
       "      <td>  544.963883</td>\n",
       "      <td>     NaN</td>\n",
       "    </tr>\n",
       "    <tr>\n",
       "      <th>2009</th>\n",
       "      <td>  868.809350</td>\n",
       "      <td>  99.260</td>\n",
       "    </tr>\n",
       "    <tr>\n",
       "      <th rowspan=\"5\" valign=\"top\">Transport</th>\n",
       "      <th>1971</th>\n",
       "      <td>  100.000000</td>\n",
       "      <td>     NaN</td>\n",
       "    </tr>\n",
       "    <tr>\n",
       "      <th>1981</th>\n",
       "      <td>  127.948926</td>\n",
       "      <td>     NaN</td>\n",
       "    </tr>\n",
       "    <tr>\n",
       "      <th>1991</th>\n",
       "      <td>  180.949507</td>\n",
       "      <td>     NaN</td>\n",
       "    </tr>\n",
       "    <tr>\n",
       "      <th>2001</th>\n",
       "      <td>  246.488683</td>\n",
       "      <td>     NaN</td>\n",
       "    </tr>\n",
       "    <tr>\n",
       "      <th>2009</th>\n",
       "      <td>  272.763784</td>\n",
       "      <td> 124.616</td>\n",
       "    </tr>\n",
       "    <tr>\n",
       "      <th rowspan=\"5\" valign=\"top\">Communication</th>\n",
       "      <th>1971</th>\n",
       "      <td>  100.000000</td>\n",
       "      <td>     NaN</td>\n",
       "    </tr>\n",
       "    <tr>\n",
       "      <th>1981</th>\n",
       "      <td>  190.027855</td>\n",
       "      <td>     NaN</td>\n",
       "    </tr>\n",
       "    <tr>\n",
       "      <th>1991</th>\n",
       "      <td>  306.406685</td>\n",
       "      <td>     NaN</td>\n",
       "    </tr>\n",
       "    <tr>\n",
       "      <th>2001</th>\n",
       "      <td>  789.582173</td>\n",
       "      <td>     NaN</td>\n",
       "    </tr>\n",
       "    <tr>\n",
       "      <th>2009</th>\n",
       "      <td> 1126.128134</td>\n",
       "      <td>  18.747</td>\n",
       "    </tr>\n",
       "    <tr>\n",
       "      <th rowspan=\"5\" valign=\"top\">Health</th>\n",
       "      <th>1971</th>\n",
       "      <td>  100.000000</td>\n",
       "      <td>     NaN</td>\n",
       "    </tr>\n",
       "    <tr>\n",
       "      <th>1981</th>\n",
       "      <td>  124.598291</td>\n",
       "      <td>     NaN</td>\n",
       "    </tr>\n",
       "    <tr>\n",
       "      <th>1991</th>\n",
       "      <td>  182.273504</td>\n",
       "      <td>     NaN</td>\n",
       "    </tr>\n",
       "    <tr>\n",
       "      <th>2001</th>\n",
       "      <td>  187.760684</td>\n",
       "      <td>     NaN</td>\n",
       "    </tr>\n",
       "    <tr>\n",
       "      <th>2009</th>\n",
       "      <td>  229.264957</td>\n",
       "      <td>  14.283</td>\n",
       "    </tr>\n",
       "    <tr>\n",
       "      <th rowspan=\"5\" valign=\"top\">Education</th>\n",
       "      <th>1971</th>\n",
       "      <td>  100.000000</td>\n",
       "      <td>     NaN</td>\n",
       "    </tr>\n",
       "    <tr>\n",
       "      <th>1981</th>\n",
       "      <td>  160.173877</td>\n",
       "      <td>     NaN</td>\n",
       "    </tr>\n",
       "    <tr>\n",
       "      <th>1991</th>\n",
       "      <td>  199.316912</td>\n",
       "      <td>     NaN</td>\n",
       "    </tr>\n",
       "    <tr>\n",
       "      <th>2001</th>\n",
       "      <td>  254.936866</td>\n",
       "      <td>     NaN</td>\n",
       "    </tr>\n",
       "    <tr>\n",
       "      <th>2009</th>\n",
       "      <td>  221.879528</td>\n",
       "      <td>  13.024</td>\n",
       "    </tr>\n",
       "    <tr>\n",
       "      <td></td>\n",
       "      <td></td>\n",
       "      <td>...</td>\n",
       "      <td>...</td>\n",
       "    </tr>\n",
       "  </tbody>\n",
       "</table>\n",
       "<p>90 rows × 2 columns</p>\n",
       "</div>"
      ],
      "text/plain": [
       "                                                              %1971  \\\n",
       "Category                                         Years                \n",
       "Food and non-alcoholic beverages                 1971    100.000000   \n",
       "                                                 1981    104.640913   \n",
       "                                                 1991    117.230576   \n",
       "                                                 2001    136.729755   \n",
       "                                                 2009    151.008988   \n",
       "Alcoholic beverages and tobacco                  1971    100.000000   \n",
       "                                                 1981     99.237497   \n",
       "                                                 1991     92.064204   \n",
       "                                                 2001     88.024221   \n",
       "                                                 2009     89.613302   \n",
       "Clothing and footwear                            1971    100.000000   \n",
       "                                                 1981    119.877158   \n",
       "                                                 1991    186.847400   \n",
       "                                                 2001    344.276183   \n",
       "                                                 2009    552.546860   \n",
       "Housing, water and fuels2                        1971    100.000000   \n",
       "                                                 1981    116.734336   \n",
       "                                                 1991    138.879523   \n",
       "                                                 2001    152.250032   \n",
       "                                                 2009    160.082001   \n",
       "Furnishings, household equipment and maintenance 1971    100.000000   \n",
       "                                                 1981    116.808722   \n",
       "                                                 1991    159.656426   \n",
       "                                                 2001    261.638586   \n",
       "                                                 2009    262.682524   \n",
       "Miscellaneous goods and services                 1971    100.000000   \n",
       "                                                 1981    120.876377   \n",
       "                                                 1991    240.394746   \n",
       "                                                 2001    336.047068   \n",
       "                                                 2009    377.225149   \n",
       "Restaurants and hotels3                          1971    100.000000   \n",
       "                                                 1981    125.594386   \n",
       "                                                 1991    167.157564   \n",
       "                                                 2001    193.105120   \n",
       "                                                 2009    185.494668   \n",
       "Recreation and culture                           1971    100.000000   \n",
       "                                                 1981    158.242026   \n",
       "                                                 1991    279.165652   \n",
       "                                                 2001    544.963883   \n",
       "                                                 2009    868.809350   \n",
       "Transport                                        1971    100.000000   \n",
       "                                                 1981    127.948926   \n",
       "                                                 1991    180.949507   \n",
       "                                                 2001    246.488683   \n",
       "                                                 2009    272.763784   \n",
       "Communication                                    1971    100.000000   \n",
       "                                                 1981    190.027855   \n",
       "                                                 1991    306.406685   \n",
       "                                                 2001    789.582173   \n",
       "                                                 2009   1126.128134   \n",
       "Health                                           1971    100.000000   \n",
       "                                                 1981    124.598291   \n",
       "                                                 1991    182.273504   \n",
       "                                                 2001    187.760684   \n",
       "                                                 2009    229.264957   \n",
       "Education                                        1971    100.000000   \n",
       "                                                 1981    160.173877   \n",
       "                                                 1991    199.316912   \n",
       "                                                 2001    254.936866   \n",
       "                                                 2009    221.879528   \n",
       "                                                                ...   \n",
       "\n",
       "                                                        today's money  \n",
       "Category                                         Years                 \n",
       "Food and non-alcoholic beverages                 1971             NaN  \n",
       "                                                 1981             NaN  \n",
       "                                                 1991             NaN  \n",
       "                                                 2001             NaN  \n",
       "                                                 2009          83.813  \n",
       "Alcoholic beverages and tobacco                  1971             NaN  \n",
       "                                                 1981             NaN  \n",
       "                                                 1991             NaN  \n",
       "                                                 2001             NaN  \n",
       "                                                 2009          31.128  \n",
       "Clothing and footwear                            1971             NaN  \n",
       "                                                 1981             NaN  \n",
       "                                                 1991             NaN  \n",
       "                                                 2001             NaN  \n",
       "                                                 2009          47.599  \n",
       "Housing, water and fuels2                        1971             NaN  \n",
       "                                                 1981             NaN  \n",
       "                                                 1991             NaN  \n",
       "                                                 2001             NaN  \n",
       "                                                 2009         193.447  \n",
       "Furnishings, household equipment and maintenance 1971             NaN  \n",
       "                                                 1981             NaN  \n",
       "                                                 1991             NaN  \n",
       "                                                 2001             NaN  \n",
       "                                                 2009          43.867  \n",
       "Miscellaneous goods and services                 1971             NaN  \n",
       "                                                 1981             NaN  \n",
       "                                                 1991             NaN  \n",
       "                                                 2001             NaN  \n",
       "                                                 2009         104.765  \n",
       "Restaurants and hotels3                          1971             NaN  \n",
       "                                                 1981             NaN  \n",
       "                                                 1991             NaN  \n",
       "                                                 2001             NaN  \n",
       "                                                 2009          88.763  \n",
       "Recreation and culture                           1971             NaN  \n",
       "                                                 1981             NaN  \n",
       "                                                 1991             NaN  \n",
       "                                                 2001             NaN  \n",
       "                                                 2009          99.260  \n",
       "Transport                                        1971             NaN  \n",
       "                                                 1981             NaN  \n",
       "                                                 1991             NaN  \n",
       "                                                 2001             NaN  \n",
       "                                                 2009         124.616  \n",
       "Communication                                    1971             NaN  \n",
       "                                                 1981             NaN  \n",
       "                                                 1991             NaN  \n",
       "                                                 2001             NaN  \n",
       "                                                 2009          18.747  \n",
       "Health                                           1971             NaN  \n",
       "                                                 1981             NaN  \n",
       "                                                 1991             NaN  \n",
       "                                                 2001             NaN  \n",
       "                                                 2009          14.283  \n",
       "Education                                        1971             NaN  \n",
       "                                                 1981             NaN  \n",
       "                                                 1991             NaN  \n",
       "                                                 2001             NaN  \n",
       "                                                 2009          13.024  \n",
       "                                                                  ...  \n",
       "\n",
       "[90 rows x 2 columns]"
      ]
     },
     "execution_count": 115,
     "metadata": {},
     "output_type": "execute_result"
    }
   ],
   "source": [
    "joined_df.stack()"
   ]
  },
  {
   "cell_type": "markdown",
   "metadata": {
    "slideshow": {
     "slide_type": "notes"
    }
   },
   "source": [
    "So, structurally, we now have what we want - the level argument told pandas which level (the entry-type or year) to swap into the rows. However, we still want the years as columns, we just want to be able to see \"%1970\" or \"today's money\" for each expenditure category..."
   ]
  },
  {
   "cell_type": "code",
   "execution_count": 122,
   "metadata": {
    "collapsed": false,
    "slideshow": {
     "slide_type": "slide"
    }
   },
   "outputs": [
    {
     "data": {
      "text/html": [
       "<div style=\"max-height:1000px;max-width:1500px;overflow:auto;\">\n",
       "<table border=\"1\" class=\"dataframe\">\n",
       "  <thead>\n",
       "    <tr style=\"text-align: right;\">\n",
       "      <th></th>\n",
       "      <th>Years</th>\n",
       "      <th>1971</th>\n",
       "      <th>1981</th>\n",
       "      <th>1991</th>\n",
       "      <th>2001</th>\n",
       "      <th>2009</th>\n",
       "    </tr>\n",
       "    <tr>\n",
       "      <th>Category</th>\n",
       "      <th></th>\n",
       "      <th></th>\n",
       "      <th></th>\n",
       "      <th></th>\n",
       "      <th></th>\n",
       "      <th></th>\n",
       "    </tr>\n",
       "  </thead>\n",
       "  <tbody>\n",
       "    <tr>\n",
       "      <th rowspan=\"2\" valign=\"top\">Food and non-alcoholic beverages</th>\n",
       "      <th>%1971</th>\n",
       "      <td> 100</td>\n",
       "      <td> 104.640913</td>\n",
       "      <td> 117.230576</td>\n",
       "      <td> 136.729755</td>\n",
       "      <td>  151.008988</td>\n",
       "    </tr>\n",
       "    <tr>\n",
       "      <th>today's money</th>\n",
       "      <td> NaN</td>\n",
       "      <td>        NaN</td>\n",
       "      <td>        NaN</td>\n",
       "      <td>        NaN</td>\n",
       "      <td>   83.813000</td>\n",
       "    </tr>\n",
       "    <tr>\n",
       "      <th rowspan=\"2\" valign=\"top\">Alcoholic beverages and tobacco</th>\n",
       "      <th>%1971</th>\n",
       "      <td> 100</td>\n",
       "      <td>  99.237497</td>\n",
       "      <td>  92.064204</td>\n",
       "      <td>  88.024221</td>\n",
       "      <td>   89.613302</td>\n",
       "    </tr>\n",
       "    <tr>\n",
       "      <th>today's money</th>\n",
       "      <td> NaN</td>\n",
       "      <td>        NaN</td>\n",
       "      <td>        NaN</td>\n",
       "      <td>        NaN</td>\n",
       "      <td>   31.128000</td>\n",
       "    </tr>\n",
       "    <tr>\n",
       "      <th rowspan=\"2\" valign=\"top\">Clothing and footwear</th>\n",
       "      <th>%1971</th>\n",
       "      <td> 100</td>\n",
       "      <td> 119.877158</td>\n",
       "      <td> 186.847400</td>\n",
       "      <td> 344.276183</td>\n",
       "      <td>  552.546860</td>\n",
       "    </tr>\n",
       "    <tr>\n",
       "      <th>today's money</th>\n",
       "      <td> NaN</td>\n",
       "      <td>        NaN</td>\n",
       "      <td>        NaN</td>\n",
       "      <td>        NaN</td>\n",
       "      <td>   47.599000</td>\n",
       "    </tr>\n",
       "    <tr>\n",
       "      <th rowspan=\"2\" valign=\"top\">Housing, water and fuels2</th>\n",
       "      <th>%1971</th>\n",
       "      <td> 100</td>\n",
       "      <td> 116.734336</td>\n",
       "      <td> 138.879523</td>\n",
       "      <td> 152.250032</td>\n",
       "      <td>  160.082001</td>\n",
       "    </tr>\n",
       "    <tr>\n",
       "      <th>today's money</th>\n",
       "      <td> NaN</td>\n",
       "      <td>        NaN</td>\n",
       "      <td>        NaN</td>\n",
       "      <td>        NaN</td>\n",
       "      <td>  193.447000</td>\n",
       "    </tr>\n",
       "    <tr>\n",
       "      <th rowspan=\"2\" valign=\"top\">Furnishings, household equipment and maintenance</th>\n",
       "      <th>%1971</th>\n",
       "      <td> 100</td>\n",
       "      <td> 116.808722</td>\n",
       "      <td> 159.656426</td>\n",
       "      <td> 261.638586</td>\n",
       "      <td>  262.682524</td>\n",
       "    </tr>\n",
       "    <tr>\n",
       "      <th>today's money</th>\n",
       "      <td> NaN</td>\n",
       "      <td>        NaN</td>\n",
       "      <td>        NaN</td>\n",
       "      <td>        NaN</td>\n",
       "      <td>   43.867000</td>\n",
       "    </tr>\n",
       "    <tr>\n",
       "      <th rowspan=\"2\" valign=\"top\">Miscellaneous goods and services</th>\n",
       "      <th>%1971</th>\n",
       "      <td> 100</td>\n",
       "      <td> 120.876377</td>\n",
       "      <td> 240.394746</td>\n",
       "      <td> 336.047068</td>\n",
       "      <td>  377.225149</td>\n",
       "    </tr>\n",
       "    <tr>\n",
       "      <th>today's money</th>\n",
       "      <td> NaN</td>\n",
       "      <td>        NaN</td>\n",
       "      <td>        NaN</td>\n",
       "      <td>        NaN</td>\n",
       "      <td>  104.765000</td>\n",
       "    </tr>\n",
       "    <tr>\n",
       "      <th rowspan=\"2\" valign=\"top\">Restaurants and hotels3</th>\n",
       "      <th>%1971</th>\n",
       "      <td> 100</td>\n",
       "      <td> 125.594386</td>\n",
       "      <td> 167.157564</td>\n",
       "      <td> 193.105120</td>\n",
       "      <td>  185.494668</td>\n",
       "    </tr>\n",
       "    <tr>\n",
       "      <th>today's money</th>\n",
       "      <td> NaN</td>\n",
       "      <td>        NaN</td>\n",
       "      <td>        NaN</td>\n",
       "      <td>        NaN</td>\n",
       "      <td>   88.763000</td>\n",
       "    </tr>\n",
       "    <tr>\n",
       "      <th rowspan=\"2\" valign=\"top\">Recreation and culture</th>\n",
       "      <th>%1971</th>\n",
       "      <td> 100</td>\n",
       "      <td> 158.242026</td>\n",
       "      <td> 279.165652</td>\n",
       "      <td> 544.963883</td>\n",
       "      <td>  868.809350</td>\n",
       "    </tr>\n",
       "    <tr>\n",
       "      <th>today's money</th>\n",
       "      <td> NaN</td>\n",
       "      <td>        NaN</td>\n",
       "      <td>        NaN</td>\n",
       "      <td>        NaN</td>\n",
       "      <td>   99.260000</td>\n",
       "    </tr>\n",
       "    <tr>\n",
       "      <th rowspan=\"2\" valign=\"top\">Transport</th>\n",
       "      <th>%1971</th>\n",
       "      <td> 100</td>\n",
       "      <td> 127.948926</td>\n",
       "      <td> 180.949507</td>\n",
       "      <td> 246.488683</td>\n",
       "      <td>  272.763784</td>\n",
       "    </tr>\n",
       "    <tr>\n",
       "      <th>today's money</th>\n",
       "      <td> NaN</td>\n",
       "      <td>        NaN</td>\n",
       "      <td>        NaN</td>\n",
       "      <td>        NaN</td>\n",
       "      <td>  124.616000</td>\n",
       "    </tr>\n",
       "    <tr>\n",
       "      <th rowspan=\"2\" valign=\"top\">Communication</th>\n",
       "      <th>%1971</th>\n",
       "      <td> 100</td>\n",
       "      <td> 190.027855</td>\n",
       "      <td> 306.406685</td>\n",
       "      <td> 789.582173</td>\n",
       "      <td> 1126.128134</td>\n",
       "    </tr>\n",
       "    <tr>\n",
       "      <th>today's money</th>\n",
       "      <td> NaN</td>\n",
       "      <td>        NaN</td>\n",
       "      <td>        NaN</td>\n",
       "      <td>        NaN</td>\n",
       "      <td>   18.747000</td>\n",
       "    </tr>\n",
       "    <tr>\n",
       "      <th rowspan=\"2\" valign=\"top\">Health</th>\n",
       "      <th>%1971</th>\n",
       "      <td> 100</td>\n",
       "      <td> 124.598291</td>\n",
       "      <td> 182.273504</td>\n",
       "      <td> 187.760684</td>\n",
       "      <td>  229.264957</td>\n",
       "    </tr>\n",
       "    <tr>\n",
       "      <th>today's money</th>\n",
       "      <td> NaN</td>\n",
       "      <td>        NaN</td>\n",
       "      <td>        NaN</td>\n",
       "      <td>        NaN</td>\n",
       "      <td>   14.283000</td>\n",
       "    </tr>\n",
       "    <tr>\n",
       "      <th rowspan=\"2\" valign=\"top\">Education</th>\n",
       "      <th>%1971</th>\n",
       "      <td> 100</td>\n",
       "      <td> 160.173877</td>\n",
       "      <td> 199.316912</td>\n",
       "      <td> 254.936866</td>\n",
       "      <td>  221.879528</td>\n",
       "    </tr>\n",
       "    <tr>\n",
       "      <th>today's money</th>\n",
       "      <td> NaN</td>\n",
       "      <td>        NaN</td>\n",
       "      <td>        NaN</td>\n",
       "      <td>        NaN</td>\n",
       "      <td>   13.024000</td>\n",
       "    </tr>\n",
       "    <tr>\n",
       "      <th rowspan=\"2\" valign=\"top\">Total domestic household expenditure</th>\n",
       "      <th>%1971</th>\n",
       "      <td> 100</td>\n",
       "      <td> 120.735811</td>\n",
       "      <td> 166.460085</td>\n",
       "      <td> 225.223993</td>\n",
       "      <td>  259.495168</td>\n",
       "    </tr>\n",
       "    <tr>\n",
       "      <th>today's money</th>\n",
       "      <td> NaN</td>\n",
       "      <td>        NaN</td>\n",
       "      <td>        NaN</td>\n",
       "      <td>        NaN</td>\n",
       "      <td>  863.312000</td>\n",
       "    </tr>\n",
       "    <tr>\n",
       "      <th rowspan=\"2\" valign=\"top\">  Total goods</th>\n",
       "      <th>%1971</th>\n",
       "      <td> 100</td>\n",
       "      <td> 116.882766</td>\n",
       "      <td> 155.755787</td>\n",
       "      <td> 226.782179</td>\n",
       "      <td>  285.454027</td>\n",
       "    </tr>\n",
       "    <tr>\n",
       "      <th>today's money</th>\n",
       "      <td> NaN</td>\n",
       "      <td>        NaN</td>\n",
       "      <td>        NaN</td>\n",
       "      <td>        NaN</td>\n",
       "      <td>  411.727000</td>\n",
       "    </tr>\n",
       "    <tr>\n",
       "      <th rowspan=\"2\" valign=\"top\">  Total services</th>\n",
       "      <th>%1971</th>\n",
       "      <td> 100</td>\n",
       "      <td> 127.667167</td>\n",
       "      <td> 183.960495</td>\n",
       "      <td> 230.874717</td>\n",
       "      <td>  244.720566</td>\n",
       "    </tr>\n",
       "    <tr>\n",
       "      <th>today's money</th>\n",
       "      <td> NaN</td>\n",
       "      <td>        NaN</td>\n",
       "      <td>        NaN</td>\n",
       "      <td>        NaN</td>\n",
       "      <td>  451.585000</td>\n",
       "    </tr>\n",
       "    <tr>\n",
       "      <th rowspan=\"2\" valign=\"top\">UK tourist expenditure abroad</th>\n",
       "      <th>%1971</th>\n",
       "      <td> 100</td>\n",
       "      <td> 193.380615</td>\n",
       "      <td> 298.082480</td>\n",
       "      <td> 699.054374</td>\n",
       "      <td>  576.333071</td>\n",
       "    </tr>\n",
       "    <tr>\n",
       "      <th>today's money</th>\n",
       "      <td> NaN</td>\n",
       "      <td>        NaN</td>\n",
       "      <td>        NaN</td>\n",
       "      <td>        NaN</td>\n",
       "      <td>   28.994000</td>\n",
       "    </tr>\n",
       "    <tr>\n",
       "      <th rowspan=\"2\" valign=\"top\"> less foreign tourist expenditure</th>\n",
       "      <th>%1971</th>\n",
       "      <td> 100</td>\n",
       "      <td> 151.616612</td>\n",
       "      <td> 187.182066</td>\n",
       "      <td> 222.215836</td>\n",
       "      <td>  257.810030</td>\n",
       "    </tr>\n",
       "    <tr>\n",
       "      <th>today's money</th>\n",
       "      <td> NaN</td>\n",
       "      <td>        NaN</td>\n",
       "      <td>        NaN</td>\n",
       "      <td>        NaN</td>\n",
       "      <td>   19.554000</td>\n",
       "    </tr>\n",
       "    <tr>\n",
       "      <th rowspan=\"2\" valign=\"top\">Household final consumption expenditure4</th>\n",
       "      <th>%1971</th>\n",
       "      <td> 100</td>\n",
       "      <td> 121.341138</td>\n",
       "      <td> 168.287800</td>\n",
       "      <td> 232.291680</td>\n",
       "      <td>  264.930072</td>\n",
       "    </tr>\n",
       "    <tr>\n",
       "      <th>today's money</th>\n",
       "      <td> NaN</td>\n",
       "      <td>        NaN</td>\n",
       "      <td>        NaN</td>\n",
       "      <td>        NaN</td>\n",
       "      <td>  872.752000</td>\n",
       "    </tr>\n",
       "  </tbody>\n",
       "</table>\n",
       "<p>36 rows × 5 columns</p>\n",
       "</div>"
      ],
      "text/plain": [
       "Years                                                           1971  \\\n",
       "Category                                                               \n",
       "Food and non-alcoholic beverages                 %1971           100   \n",
       "                                                 today's money   NaN   \n",
       "Alcoholic beverages and tobacco                  %1971           100   \n",
       "                                                 today's money   NaN   \n",
       "Clothing and footwear                            %1971           100   \n",
       "                                                 today's money   NaN   \n",
       "Housing, water and fuels2                        %1971           100   \n",
       "                                                 today's money   NaN   \n",
       "Furnishings, household equipment and maintenance %1971           100   \n",
       "                                                 today's money   NaN   \n",
       "Miscellaneous goods and services                 %1971           100   \n",
       "                                                 today's money   NaN   \n",
       "Restaurants and hotels3                          %1971           100   \n",
       "                                                 today's money   NaN   \n",
       "Recreation and culture                           %1971           100   \n",
       "                                                 today's money   NaN   \n",
       "Transport                                        %1971           100   \n",
       "                                                 today's money   NaN   \n",
       "Communication                                    %1971           100   \n",
       "                                                 today's money   NaN   \n",
       "Health                                           %1971           100   \n",
       "                                                 today's money   NaN   \n",
       "Education                                        %1971           100   \n",
       "                                                 today's money   NaN   \n",
       "Total domestic household expenditure             %1971           100   \n",
       "                                                 today's money   NaN   \n",
       "  Total goods                                    %1971           100   \n",
       "                                                 today's money   NaN   \n",
       "  Total services                                 %1971           100   \n",
       "                                                 today's money   NaN   \n",
       "UK tourist expenditure abroad                    %1971           100   \n",
       "                                                 today's money   NaN   \n",
       " less foreign tourist expenditure                %1971           100   \n",
       "                                                 today's money   NaN   \n",
       "Household final consumption expenditure4         %1971           100   \n",
       "                                                 today's money   NaN   \n",
       "\n",
       "Years                                                                 1981  \\\n",
       "Category                                                                     \n",
       "Food and non-alcoholic beverages                 %1971          104.640913   \n",
       "                                                 today's money         NaN   \n",
       "Alcoholic beverages and tobacco                  %1971           99.237497   \n",
       "                                                 today's money         NaN   \n",
       "Clothing and footwear                            %1971          119.877158   \n",
       "                                                 today's money         NaN   \n",
       "Housing, water and fuels2                        %1971          116.734336   \n",
       "                                                 today's money         NaN   \n",
       "Furnishings, household equipment and maintenance %1971          116.808722   \n",
       "                                                 today's money         NaN   \n",
       "Miscellaneous goods and services                 %1971          120.876377   \n",
       "                                                 today's money         NaN   \n",
       "Restaurants and hotels3                          %1971          125.594386   \n",
       "                                                 today's money         NaN   \n",
       "Recreation and culture                           %1971          158.242026   \n",
       "                                                 today's money         NaN   \n",
       "Transport                                        %1971          127.948926   \n",
       "                                                 today's money         NaN   \n",
       "Communication                                    %1971          190.027855   \n",
       "                                                 today's money         NaN   \n",
       "Health                                           %1971          124.598291   \n",
       "                                                 today's money         NaN   \n",
       "Education                                        %1971          160.173877   \n",
       "                                                 today's money         NaN   \n",
       "Total domestic household expenditure             %1971          120.735811   \n",
       "                                                 today's money         NaN   \n",
       "  Total goods                                    %1971          116.882766   \n",
       "                                                 today's money         NaN   \n",
       "  Total services                                 %1971          127.667167   \n",
       "                                                 today's money         NaN   \n",
       "UK tourist expenditure abroad                    %1971          193.380615   \n",
       "                                                 today's money         NaN   \n",
       " less foreign tourist expenditure                %1971          151.616612   \n",
       "                                                 today's money         NaN   \n",
       "Household final consumption expenditure4         %1971          121.341138   \n",
       "                                                 today's money         NaN   \n",
       "\n",
       "Years                                                                 1991  \\\n",
       "Category                                                                     \n",
       "Food and non-alcoholic beverages                 %1971          117.230576   \n",
       "                                                 today's money         NaN   \n",
       "Alcoholic beverages and tobacco                  %1971           92.064204   \n",
       "                                                 today's money         NaN   \n",
       "Clothing and footwear                            %1971          186.847400   \n",
       "                                                 today's money         NaN   \n",
       "Housing, water and fuels2                        %1971          138.879523   \n",
       "                                                 today's money         NaN   \n",
       "Furnishings, household equipment and maintenance %1971          159.656426   \n",
       "                                                 today's money         NaN   \n",
       "Miscellaneous goods and services                 %1971          240.394746   \n",
       "                                                 today's money         NaN   \n",
       "Restaurants and hotels3                          %1971          167.157564   \n",
       "                                                 today's money         NaN   \n",
       "Recreation and culture                           %1971          279.165652   \n",
       "                                                 today's money         NaN   \n",
       "Transport                                        %1971          180.949507   \n",
       "                                                 today's money         NaN   \n",
       "Communication                                    %1971          306.406685   \n",
       "                                                 today's money         NaN   \n",
       "Health                                           %1971          182.273504   \n",
       "                                                 today's money         NaN   \n",
       "Education                                        %1971          199.316912   \n",
       "                                                 today's money         NaN   \n",
       "Total domestic household expenditure             %1971          166.460085   \n",
       "                                                 today's money         NaN   \n",
       "  Total goods                                    %1971          155.755787   \n",
       "                                                 today's money         NaN   \n",
       "  Total services                                 %1971          183.960495   \n",
       "                                                 today's money         NaN   \n",
       "UK tourist expenditure abroad                    %1971          298.082480   \n",
       "                                                 today's money         NaN   \n",
       " less foreign tourist expenditure                %1971          187.182066   \n",
       "                                                 today's money         NaN   \n",
       "Household final consumption expenditure4         %1971          168.287800   \n",
       "                                                 today's money         NaN   \n",
       "\n",
       "Years                                                                 2001  \\\n",
       "Category                                                                     \n",
       "Food and non-alcoholic beverages                 %1971          136.729755   \n",
       "                                                 today's money         NaN   \n",
       "Alcoholic beverages and tobacco                  %1971           88.024221   \n",
       "                                                 today's money         NaN   \n",
       "Clothing and footwear                            %1971          344.276183   \n",
       "                                                 today's money         NaN   \n",
       "Housing, water and fuels2                        %1971          152.250032   \n",
       "                                                 today's money         NaN   \n",
       "Furnishings, household equipment and maintenance %1971          261.638586   \n",
       "                                                 today's money         NaN   \n",
       "Miscellaneous goods and services                 %1971          336.047068   \n",
       "                                                 today's money         NaN   \n",
       "Restaurants and hotels3                          %1971          193.105120   \n",
       "                                                 today's money         NaN   \n",
       "Recreation and culture                           %1971          544.963883   \n",
       "                                                 today's money         NaN   \n",
       "Transport                                        %1971          246.488683   \n",
       "                                                 today's money         NaN   \n",
       "Communication                                    %1971          789.582173   \n",
       "                                                 today's money         NaN   \n",
       "Health                                           %1971          187.760684   \n",
       "                                                 today's money         NaN   \n",
       "Education                                        %1971          254.936866   \n",
       "                                                 today's money         NaN   \n",
       "Total domestic household expenditure             %1971          225.223993   \n",
       "                                                 today's money         NaN   \n",
       "  Total goods                                    %1971          226.782179   \n",
       "                                                 today's money         NaN   \n",
       "  Total services                                 %1971          230.874717   \n",
       "                                                 today's money         NaN   \n",
       "UK tourist expenditure abroad                    %1971          699.054374   \n",
       "                                                 today's money         NaN   \n",
       " less foreign tourist expenditure                %1971          222.215836   \n",
       "                                                 today's money         NaN   \n",
       "Household final consumption expenditure4         %1971          232.291680   \n",
       "                                                 today's money         NaN   \n",
       "\n",
       "Years                                                                  2009  \n",
       "Category                                                                     \n",
       "Food and non-alcoholic beverages                 %1971           151.008988  \n",
       "                                                 today's money    83.813000  \n",
       "Alcoholic beverages and tobacco                  %1971            89.613302  \n",
       "                                                 today's money    31.128000  \n",
       "Clothing and footwear                            %1971           552.546860  \n",
       "                                                 today's money    47.599000  \n",
       "Housing, water and fuels2                        %1971           160.082001  \n",
       "                                                 today's money   193.447000  \n",
       "Furnishings, household equipment and maintenance %1971           262.682524  \n",
       "                                                 today's money    43.867000  \n",
       "Miscellaneous goods and services                 %1971           377.225149  \n",
       "                                                 today's money   104.765000  \n",
       "Restaurants and hotels3                          %1971           185.494668  \n",
       "                                                 today's money    88.763000  \n",
       "Recreation and culture                           %1971           868.809350  \n",
       "                                                 today's money    99.260000  \n",
       "Transport                                        %1971           272.763784  \n",
       "                                                 today's money   124.616000  \n",
       "Communication                                    %1971          1126.128134  \n",
       "                                                 today's money    18.747000  \n",
       "Health                                           %1971           229.264957  \n",
       "                                                 today's money    14.283000  \n",
       "Education                                        %1971           221.879528  \n",
       "                                                 today's money    13.024000  \n",
       "Total domestic household expenditure             %1971           259.495168  \n",
       "                                                 today's money   863.312000  \n",
       "  Total goods                                    %1971           285.454027  \n",
       "                                                 today's money   411.727000  \n",
       "  Total services                                 %1971           244.720566  \n",
       "                                                 today's money   451.585000  \n",
       "UK tourist expenditure abroad                    %1971           576.333071  \n",
       "                                                 today's money    28.994000  \n",
       " less foreign tourist expenditure                %1971           257.810030  \n",
       "                                                 today's money    19.554000  \n",
       "Household final consumption expenditure4         %1971           264.930072  \n",
       "                                                 today's money   872.752000  \n",
       "\n",
       "[36 rows x 5 columns]"
      ]
     },
     "execution_count": 122,
     "metadata": {},
     "output_type": "execute_result"
    }
   ],
   "source": [
    "stacked_df = joined_df.stack(level=0) # [H]\n",
    "stacked_df"
   ]
  },
  {
   "cell_type": "markdown",
   "metadata": {
    "slideshow": {
     "slide_type": "notes"
    }
   },
   "source": [
    "That's better. That's structurally what we want. Now we have the task of filling in the values."
   ]
  },
  {
   "cell_type": "markdown",
   "metadata": {
    "slideshow": {
     "slide_type": "notes"
    }
   },
   "source": [
    "Well, we will need a function like this:"
   ]
  },
  {
   "cell_type": "code",
   "execution_count": null,
   "metadata": {
    "collapsed": true,
    "slideshow": {
     "slide_type": "slide"
    }
   },
   "outputs": [],
   "source": [
    "# [I]\n",
    "def calculate_prices_in_todays_money_for_row(x):\n",
    "    if x.name[1] != \"today's money\":\n",
    "        return x\n",
    "    # ... some stuff here ...\n",
    "    return row_with_the_NaNs_filled_in"
   ]
  },
  {
   "cell_type": "markdown",
   "metadata": {
    "slideshow": {
     "slide_type": "notes"
    }
   },
   "source": [
    "We can then apply this to every row `x`. Note that, when we have a multi-level index, the `x.name` value will be a tuple, with the top-level index as first entry and sub-index as second. That means that this function will simply send back the unmodified row, *unless* it is one of the \"today's money\" ones. So what do we do to fill in the missing values in the row."
   ]
  },
  {
   "cell_type": "markdown",
   "metadata": {
    "slideshow": {
     "slide_type": "slide"
    }
   },
   "source": [
    "For each year $y$:\n",
    "\n",
    "$$ \\frac{\\unicode{163}_y}{\\%_y} = \\frac{\\unicode{163}_{2009}}{\\%_{2009}}$$\n",
    "\n",
    "or, equivalently,\n",
    "\n",
    "$$ \\unicode{163}_y = \\unicode{163}_{2009} \\times \\frac{\\%_y}{\\%_{2009}}$$"
   ]
  },
  {
   "cell_type": "markdown",
   "metadata": {
    "slideshow": {
     "slide_type": "notes"
    }
   },
   "source": [
    "Why? Well think about the first example with 1971:\n",
    "\n",
    "$$ \\unicode{163}_{1971} = \\unicode{163}83\\mathrm{bn} \\times \\frac{100\\%}{151\\%} = \\unicode{163}55\\mathrm{bn}$$"
   ]
  },
  {
   "cell_type": "markdown",
   "metadata": {
    "slideshow": {
     "slide_type": "notes"
    }
   },
   "source": [
    "Pandas is nice, in that we can forget about looping over each year in the row, and just do the sum with the entire row - pandas knows how to add, subtract and multiply them element-wise. If you're still with me so far, great - if not, the take-away is that this could be any complex formula or data-filling trick or otherwise that you need to apply to a subset of your data."
   ]
  },
  {
   "cell_type": "code",
   "execution_count": 120,
   "metadata": {
    "collapsed": true,
    "slideshow": {
     "slide_type": "slide"
    }
   },
   "outputs": [],
   "source": [
    "# [I]\n",
    "def calculate_prices_in_todays_money_for_row(x):\n",
    "    if x.name[1] != \"today's money\":\n",
    "        return x\n",
    "    \n",
    "    # Get the name of the row with all the percentages\n",
    "    # for this category\n",
    "    percent_row = (x.name[0], \"%1971\")\n",
    "    # Get the values for the percentage ratios\n",
    "    ratio = stacked_df.loc[percent_row, :]\n",
    "    # Get the 2009 one (e.g. for Food this is 151%)\n",
    "    ratio2009 = stacked_df.loc[percent_row, 2009]\n",
    "    \n",
    "    # Do the sum on the last slide\n",
    "    return ratio * x[2009] / ratio2009"
   ]
  },
  {
   "cell_type": "markdown",
   "metadata": {},
   "source": [
    "Here we use the `loc` method, instead of the `iloc` method - this specifically tells pandas we are slicing by **label**, not by **position**. That is, we want the column *called* 2009, not the 2009th column. Like I said, the formula in the return statement is operating on Series (which are like lists or arrays), not scalars, but as long as they are same length Series (`ratio` and `x[2009]`) or are scalars (`ratio2009` is a float), pandas knows to do everything element-wise."
   ]
  },
  {
   "cell_type": "markdown",
   "metadata": {
    "slideshow": {
     "slide_type": "notes"
    }
   },
   "source": [
    "OK, grand. So, what I'm going to do now is let you work out how to actually apply this to the DataFrame. If you're struggling with what is going on, feel free to skip ahead to grab the answer and work back or ask questions about what's just happened - if you feel fairly happy, then this your next exercise. Either way..."
   ]
  },
  {
   "cell_type": "markdown",
   "metadata": {
    "slideshow": {
     "slide_type": "slide"
    }
   },
   "source": [
    "# Put up your stars\n",
    "## Once you are content, put up arrows\n",
    "Or I will be sitting here a very long time.\n",
    "\n",
    "Either\n",
    "\n",
    "1. revise the last few steps (F, G, H, I) or\n",
    "2. try and fill the blanks in the line between `[I]` and `[J]` to apply the filling function to the data.\n",
    "\n",
    "If you find it, put the relevant link to the docs in Etherpad for others!"
   ]
  },
  {
   "cell_type": "markdown",
   "metadata": {
    "slideshow": {
     "slide_type": "notes"
    }
   },
   "source": [
    "So if you got that to run, then you should see a nice plot. If not, copy the relevant line from the script below to the one above and run it."
   ]
  },
  {
   "cell_type": "markdown",
   "metadata": {
    "slideshow": {
     "slide_type": "notes"
    }
   },
   "source": [
    "Now, the following should have no missing values..."
   ]
  },
  {
   "cell_type": "code",
   "execution_count": 124,
   "metadata": {
    "collapsed": false,
    "slideshow": {
     "slide_type": "slide"
    }
   },
   "outputs": [
    {
     "data": {
      "text/html": [
       "<div style=\"max-height:1000px;max-width:1500px;overflow:auto;\">\n",
       "<table border=\"1\" class=\"dataframe\">\n",
       "  <thead>\n",
       "    <tr style=\"text-align: right;\">\n",
       "      <th></th>\n",
       "      <th>Years</th>\n",
       "      <th>1971</th>\n",
       "      <th>1981</th>\n",
       "      <th>1991</th>\n",
       "      <th>2001</th>\n",
       "      <th>2009</th>\n",
       "    </tr>\n",
       "    <tr>\n",
       "      <th>Category</th>\n",
       "      <th></th>\n",
       "      <th></th>\n",
       "      <th></th>\n",
       "      <th></th>\n",
       "      <th></th>\n",
       "      <th></th>\n",
       "    </tr>\n",
       "  </thead>\n",
       "  <tbody>\n",
       "    <tr>\n",
       "      <th rowspan=\"2\" valign=\"top\">Food and non-alcoholic beverages</th>\n",
       "      <th>%1971</th>\n",
       "      <td> 100.000000</td>\n",
       "      <td> 104.640913</td>\n",
       "      <td> 117.230576</td>\n",
       "      <td> 136.729755</td>\n",
       "      <td>  151.008988</td>\n",
       "    </tr>\n",
       "    <tr>\n",
       "      <th>today's money</th>\n",
       "      <td>  55.501994</td>\n",
       "      <td>  58.077793</td>\n",
       "      <td>  65.065308</td>\n",
       "      <td>  75.887741</td>\n",
       "      <td>   83.813000</td>\n",
       "    </tr>\n",
       "    <tr>\n",
       "      <th rowspan=\"2\" valign=\"top\">Alcoholic beverages and tobacco</th>\n",
       "      <th>%1971</th>\n",
       "      <td> 100.000000</td>\n",
       "      <td>  99.237497</td>\n",
       "      <td>  92.064204</td>\n",
       "      <td>  88.024221</td>\n",
       "      <td>   89.613302</td>\n",
       "    </tr>\n",
       "    <tr>\n",
       "      <th>today's money</th>\n",
       "      <td>  34.735914</td>\n",
       "      <td>  34.471052</td>\n",
       "      <td>  31.979343</td>\n",
       "      <td>  30.576018</td>\n",
       "      <td>   31.128000</td>\n",
       "    </tr>\n",
       "    <tr>\n",
       "      <th rowspan=\"2\" valign=\"top\">Clothing and footwear</th>\n",
       "      <th>%1971</th>\n",
       "      <td> 100.000000</td>\n",
       "      <td> 119.877158</td>\n",
       "      <td> 186.847400</td>\n",
       "      <td> 344.276183</td>\n",
       "      <td>  552.546860</td>\n",
       "    </tr>\n",
       "    <tr>\n",
       "      <th>today's money</th>\n",
       "      <td>   8.614473</td>\n",
       "      <td>  10.326785</td>\n",
       "      <td>  16.095919</td>\n",
       "      <td>  29.657579</td>\n",
       "      <td>   47.599000</td>\n",
       "    </tr>\n",
       "    <tr>\n",
       "      <th rowspan=\"2\" valign=\"top\">Housing, water and fuels2</th>\n",
       "      <th>%1971</th>\n",
       "      <td> 100.000000</td>\n",
       "      <td> 116.734336</td>\n",
       "      <td> 138.879523</td>\n",
       "      <td> 152.250032</td>\n",
       "      <td>  160.082001</td>\n",
       "    </tr>\n",
       "    <tr>\n",
       "      <th>today's money</th>\n",
       "      <td> 120.842443</td>\n",
       "      <td> 141.064623</td>\n",
       "      <td> 167.825408</td>\n",
       "      <td> 183.982658</td>\n",
       "      <td>  193.447000</td>\n",
       "    </tr>\n",
       "    <tr>\n",
       "      <th rowspan=\"2\" valign=\"top\">Furnishings, household equipment and maintenance</th>\n",
       "      <th>%1971</th>\n",
       "      <td> 100.000000</td>\n",
       "      <td> 116.808722</td>\n",
       "      <td> 159.656426</td>\n",
       "      <td> 261.638586</td>\n",
       "      <td>  262.682524</td>\n",
       "    </tr>\n",
       "    <tr>\n",
       "      <th>today's money</th>\n",
       "      <td>  16.699626</td>\n",
       "      <td>  19.506620</td>\n",
       "      <td>  26.662027</td>\n",
       "      <td>  43.692666</td>\n",
       "      <td>   43.867000</td>\n",
       "    </tr>\n",
       "    <tr>\n",
       "      <th rowspan=\"2\" valign=\"top\">Miscellaneous goods and services</th>\n",
       "      <th>%1971</th>\n",
       "      <td> 100.000000</td>\n",
       "      <td> 120.876377</td>\n",
       "      <td> 240.394746</td>\n",
       "      <td> 336.047068</td>\n",
       "      <td>  377.225149</td>\n",
       "    </tr>\n",
       "    <tr>\n",
       "      <th>today's money</th>\n",
       "      <td>  27.772539</td>\n",
       "      <td>  33.570438</td>\n",
       "      <td>  66.763724</td>\n",
       "      <td>  93.328802</td>\n",
       "      <td>  104.765000</td>\n",
       "    </tr>\n",
       "    <tr>\n",
       "      <th rowspan=\"2\" valign=\"top\">Restaurants and hotels3</th>\n",
       "      <th>%1971</th>\n",
       "      <td> 100.000000</td>\n",
       "      <td> 125.594386</td>\n",
       "      <td> 167.157564</td>\n",
       "      <td> 193.105120</td>\n",
       "      <td>  185.494668</td>\n",
       "    </tr>\n",
       "    <tr>\n",
       "      <th>today's money</th>\n",
       "      <td>  47.852049</td>\n",
       "      <td>  60.099488</td>\n",
       "      <td>  79.988320</td>\n",
       "      <td>  92.404757</td>\n",
       "      <td>   88.763000</td>\n",
       "    </tr>\n",
       "    <tr>\n",
       "      <th rowspan=\"2\" valign=\"top\">Recreation and culture</th>\n",
       "      <th>%1971</th>\n",
       "      <td> 100.000000</td>\n",
       "      <td> 158.242026</td>\n",
       "      <td> 279.165652</td>\n",
       "      <td> 544.963883</td>\n",
       "      <td>  868.809350</td>\n",
       "    </tr>\n",
       "    <tr>\n",
       "      <th>today's money</th>\n",
       "      <td>  11.424831</td>\n",
       "      <td>  18.078884</td>\n",
       "      <td>  31.894204</td>\n",
       "      <td>  62.261203</td>\n",
       "      <td>   99.260000</td>\n",
       "    </tr>\n",
       "    <tr>\n",
       "      <th rowspan=\"2\" valign=\"top\">Transport</th>\n",
       "      <th>%1971</th>\n",
       "      <td> 100.000000</td>\n",
       "      <td> 127.948926</td>\n",
       "      <td> 180.949507</td>\n",
       "      <td> 246.488683</td>\n",
       "      <td>  272.763784</td>\n",
       "    </tr>\n",
       "    <tr>\n",
       "      <th>today's money</th>\n",
       "      <td>  45.686417</td>\n",
       "      <td>  58.455280</td>\n",
       "      <td>  82.669346</td>\n",
       "      <td> 112.611848</td>\n",
       "      <td>  124.616000</td>\n",
       "    </tr>\n",
       "    <tr>\n",
       "      <th rowspan=\"2\" valign=\"top\">Communication</th>\n",
       "      <th>%1971</th>\n",
       "      <td> 100.000000</td>\n",
       "      <td> 190.027855</td>\n",
       "      <td> 306.406685</td>\n",
       "      <td> 789.582173</td>\n",
       "      <td> 1126.128134</td>\n",
       "    </tr>\n",
       "    <tr>\n",
       "      <th>today's money</th>\n",
       "      <td>   1.664731</td>\n",
       "      <td>   3.163452</td>\n",
       "      <td>   5.100846</td>\n",
       "      <td>  13.144416</td>\n",
       "      <td>   18.747000</td>\n",
       "    </tr>\n",
       "    <tr>\n",
       "      <th rowspan=\"2\" valign=\"top\">Health</th>\n",
       "      <th>%1971</th>\n",
       "      <td> 100.000000</td>\n",
       "      <td> 124.598291</td>\n",
       "      <td> 182.273504</td>\n",
       "      <td> 187.760684</td>\n",
       "      <td>  229.264957</td>\n",
       "    </tr>\n",
       "    <tr>\n",
       "      <th>today's money</th>\n",
       "      <td>   6.229910</td>\n",
       "      <td>   7.762361</td>\n",
       "      <td>  11.355475</td>\n",
       "      <td>  11.697321</td>\n",
       "      <td>   14.283000</td>\n",
       "    </tr>\n",
       "    <tr>\n",
       "      <th rowspan=\"2\" valign=\"top\">Education</th>\n",
       "      <th>%1971</th>\n",
       "      <td> 100.000000</td>\n",
       "      <td> 160.173877</td>\n",
       "      <td> 199.316912</td>\n",
       "      <td> 254.936866</td>\n",
       "      <td>  221.879528</td>\n",
       "    </tr>\n",
       "    <tr>\n",
       "      <th>today's money</th>\n",
       "      <td>   5.869852</td>\n",
       "      <td>   9.401970</td>\n",
       "      <td>  11.699608</td>\n",
       "      <td>  14.964417</td>\n",
       "      <td>   13.024000</td>\n",
       "    </tr>\n",
       "    <tr>\n",
       "      <th rowspan=\"2\" valign=\"top\">Total domestic household expenditure</th>\n",
       "      <th>%1971</th>\n",
       "      <td> 100.000000</td>\n",
       "      <td> 120.735811</td>\n",
       "      <td> 166.460085</td>\n",
       "      <td> 225.223993</td>\n",
       "      <td>  259.495168</td>\n",
       "    </tr>\n",
       "    <tr>\n",
       "      <th>today's money</th>\n",
       "      <td> 332.689047</td>\n",
       "      <td> 401.674818</td>\n",
       "      <td> 553.794471</td>\n",
       "      <td> 749.295554</td>\n",
       "      <td>  863.312000</td>\n",
       "    </tr>\n",
       "    <tr>\n",
       "      <th rowspan=\"2\" valign=\"top\">  Total goods</th>\n",
       "      <th>%1971</th>\n",
       "      <td> 100.000000</td>\n",
       "      <td> 116.882766</td>\n",
       "      <td> 155.755787</td>\n",
       "      <td> 226.782179</td>\n",
       "      <td>  285.454027</td>\n",
       "    </tr>\n",
       "    <tr>\n",
       "      <th>today's money</th>\n",
       "      <td> 144.235835</td>\n",
       "      <td> 168.586833</td>\n",
       "      <td> 224.655660</td>\n",
       "      <td> 327.101170</td>\n",
       "      <td>  411.727000</td>\n",
       "    </tr>\n",
       "    <tr>\n",
       "      <th rowspan=\"2\" valign=\"top\">  Total services</th>\n",
       "      <th>%1971</th>\n",
       "      <td> 100.000000</td>\n",
       "      <td> 127.667167</td>\n",
       "      <td> 183.960495</td>\n",
       "      <td> 230.874717</td>\n",
       "      <td>  244.720566</td>\n",
       "    </tr>\n",
       "    <tr>\n",
       "      <th>today's money</th>\n",
       "      <td> 184.530874</td>\n",
       "      <td> 235.585340</td>\n",
       "      <td> 339.463911</td>\n",
       "      <td> 426.035135</td>\n",
       "      <td>  451.585000</td>\n",
       "    </tr>\n",
       "    <tr>\n",
       "      <th rowspan=\"2\" valign=\"top\">UK tourist expenditure abroad</th>\n",
       "      <th>%1971</th>\n",
       "      <td> 100.000000</td>\n",
       "      <td> 193.380615</td>\n",
       "      <td> 298.082480</td>\n",
       "      <td> 699.054374</td>\n",
       "      <td>  576.333071</td>\n",
       "    </tr>\n",
       "    <tr>\n",
       "      <th>today's money</th>\n",
       "      <td>   5.030772</td>\n",
       "      <td>   9.728537</td>\n",
       "      <td>  14.995849</td>\n",
       "      <td>  35.167828</td>\n",
       "      <td>   28.994000</td>\n",
       "    </tr>\n",
       "    <tr>\n",
       "      <th rowspan=\"2\" valign=\"top\"> less foreign tourist expenditure</th>\n",
       "      <th>%1971</th>\n",
       "      <td> 100.000000</td>\n",
       "      <td> 151.616612</td>\n",
       "      <td> 187.182066</td>\n",
       "      <td> 222.215836</td>\n",
       "      <td>  257.810030</td>\n",
       "    </tr>\n",
       "    <tr>\n",
       "      <th>today's money</th>\n",
       "      <td>   7.584654</td>\n",
       "      <td>  11.499596</td>\n",
       "      <td>  14.197113</td>\n",
       "      <td>  16.854303</td>\n",
       "      <td>   19.554000</td>\n",
       "    </tr>\n",
       "    <tr>\n",
       "      <th rowspan=\"2\" valign=\"top\">Household final consumption expenditure4</th>\n",
       "      <th>%1971</th>\n",
       "      <td> 100.000000</td>\n",
       "      <td> 121.341138</td>\n",
       "      <td> 168.287800</td>\n",
       "      <td> 232.291680</td>\n",
       "      <td>  264.930072</td>\n",
       "    </tr>\n",
       "    <tr>\n",
       "      <th>today's money</th>\n",
       "      <td> 329.427307</td>\n",
       "      <td> 399.730842</td>\n",
       "      <td> 554.385966</td>\n",
       "      <td> 765.232226</td>\n",
       "      <td>  872.752000</td>\n",
       "    </tr>\n",
       "  </tbody>\n",
       "</table>\n",
       "<p>36 rows × 5 columns</p>\n",
       "</div>"
      ],
      "text/plain": [
       "Years                                                                 1971  \\\n",
       "Category                                                                     \n",
       "Food and non-alcoholic beverages                 %1971          100.000000   \n",
       "                                                 today's money   55.501994   \n",
       "Alcoholic beverages and tobacco                  %1971          100.000000   \n",
       "                                                 today's money   34.735914   \n",
       "Clothing and footwear                            %1971          100.000000   \n",
       "                                                 today's money    8.614473   \n",
       "Housing, water and fuels2                        %1971          100.000000   \n",
       "                                                 today's money  120.842443   \n",
       "Furnishings, household equipment and maintenance %1971          100.000000   \n",
       "                                                 today's money   16.699626   \n",
       "Miscellaneous goods and services                 %1971          100.000000   \n",
       "                                                 today's money   27.772539   \n",
       "Restaurants and hotels3                          %1971          100.000000   \n",
       "                                                 today's money   47.852049   \n",
       "Recreation and culture                           %1971          100.000000   \n",
       "                                                 today's money   11.424831   \n",
       "Transport                                        %1971          100.000000   \n",
       "                                                 today's money   45.686417   \n",
       "Communication                                    %1971          100.000000   \n",
       "                                                 today's money    1.664731   \n",
       "Health                                           %1971          100.000000   \n",
       "                                                 today's money    6.229910   \n",
       "Education                                        %1971          100.000000   \n",
       "                                                 today's money    5.869852   \n",
       "Total domestic household expenditure             %1971          100.000000   \n",
       "                                                 today's money  332.689047   \n",
       "  Total goods                                    %1971          100.000000   \n",
       "                                                 today's money  144.235835   \n",
       "  Total services                                 %1971          100.000000   \n",
       "                                                 today's money  184.530874   \n",
       "UK tourist expenditure abroad                    %1971          100.000000   \n",
       "                                                 today's money    5.030772   \n",
       " less foreign tourist expenditure                %1971          100.000000   \n",
       "                                                 today's money    7.584654   \n",
       "Household final consumption expenditure4         %1971          100.000000   \n",
       "                                                 today's money  329.427307   \n",
       "\n",
       "Years                                                                 1981  \\\n",
       "Category                                                                     \n",
       "Food and non-alcoholic beverages                 %1971          104.640913   \n",
       "                                                 today's money   58.077793   \n",
       "Alcoholic beverages and tobacco                  %1971           99.237497   \n",
       "                                                 today's money   34.471052   \n",
       "Clothing and footwear                            %1971          119.877158   \n",
       "                                                 today's money   10.326785   \n",
       "Housing, water and fuels2                        %1971          116.734336   \n",
       "                                                 today's money  141.064623   \n",
       "Furnishings, household equipment and maintenance %1971          116.808722   \n",
       "                                                 today's money   19.506620   \n",
       "Miscellaneous goods and services                 %1971          120.876377   \n",
       "                                                 today's money   33.570438   \n",
       "Restaurants and hotels3                          %1971          125.594386   \n",
       "                                                 today's money   60.099488   \n",
       "Recreation and culture                           %1971          158.242026   \n",
       "                                                 today's money   18.078884   \n",
       "Transport                                        %1971          127.948926   \n",
       "                                                 today's money   58.455280   \n",
       "Communication                                    %1971          190.027855   \n",
       "                                                 today's money    3.163452   \n",
       "Health                                           %1971          124.598291   \n",
       "                                                 today's money    7.762361   \n",
       "Education                                        %1971          160.173877   \n",
       "                                                 today's money    9.401970   \n",
       "Total domestic household expenditure             %1971          120.735811   \n",
       "                                                 today's money  401.674818   \n",
       "  Total goods                                    %1971          116.882766   \n",
       "                                                 today's money  168.586833   \n",
       "  Total services                                 %1971          127.667167   \n",
       "                                                 today's money  235.585340   \n",
       "UK tourist expenditure abroad                    %1971          193.380615   \n",
       "                                                 today's money    9.728537   \n",
       " less foreign tourist expenditure                %1971          151.616612   \n",
       "                                                 today's money   11.499596   \n",
       "Household final consumption expenditure4         %1971          121.341138   \n",
       "                                                 today's money  399.730842   \n",
       "\n",
       "Years                                                                 1991  \\\n",
       "Category                                                                     \n",
       "Food and non-alcoholic beverages                 %1971          117.230576   \n",
       "                                                 today's money   65.065308   \n",
       "Alcoholic beverages and tobacco                  %1971           92.064204   \n",
       "                                                 today's money   31.979343   \n",
       "Clothing and footwear                            %1971          186.847400   \n",
       "                                                 today's money   16.095919   \n",
       "Housing, water and fuels2                        %1971          138.879523   \n",
       "                                                 today's money  167.825408   \n",
       "Furnishings, household equipment and maintenance %1971          159.656426   \n",
       "                                                 today's money   26.662027   \n",
       "Miscellaneous goods and services                 %1971          240.394746   \n",
       "                                                 today's money   66.763724   \n",
       "Restaurants and hotels3                          %1971          167.157564   \n",
       "                                                 today's money   79.988320   \n",
       "Recreation and culture                           %1971          279.165652   \n",
       "                                                 today's money   31.894204   \n",
       "Transport                                        %1971          180.949507   \n",
       "                                                 today's money   82.669346   \n",
       "Communication                                    %1971          306.406685   \n",
       "                                                 today's money    5.100846   \n",
       "Health                                           %1971          182.273504   \n",
       "                                                 today's money   11.355475   \n",
       "Education                                        %1971          199.316912   \n",
       "                                                 today's money   11.699608   \n",
       "Total domestic household expenditure             %1971          166.460085   \n",
       "                                                 today's money  553.794471   \n",
       "  Total goods                                    %1971          155.755787   \n",
       "                                                 today's money  224.655660   \n",
       "  Total services                                 %1971          183.960495   \n",
       "                                                 today's money  339.463911   \n",
       "UK tourist expenditure abroad                    %1971          298.082480   \n",
       "                                                 today's money   14.995849   \n",
       " less foreign tourist expenditure                %1971          187.182066   \n",
       "                                                 today's money   14.197113   \n",
       "Household final consumption expenditure4         %1971          168.287800   \n",
       "                                                 today's money  554.385966   \n",
       "\n",
       "Years                                                                 2001  \\\n",
       "Category                                                                     \n",
       "Food and non-alcoholic beverages                 %1971          136.729755   \n",
       "                                                 today's money   75.887741   \n",
       "Alcoholic beverages and tobacco                  %1971           88.024221   \n",
       "                                                 today's money   30.576018   \n",
       "Clothing and footwear                            %1971          344.276183   \n",
       "                                                 today's money   29.657579   \n",
       "Housing, water and fuels2                        %1971          152.250032   \n",
       "                                                 today's money  183.982658   \n",
       "Furnishings, household equipment and maintenance %1971          261.638586   \n",
       "                                                 today's money   43.692666   \n",
       "Miscellaneous goods and services                 %1971          336.047068   \n",
       "                                                 today's money   93.328802   \n",
       "Restaurants and hotels3                          %1971          193.105120   \n",
       "                                                 today's money   92.404757   \n",
       "Recreation and culture                           %1971          544.963883   \n",
       "                                                 today's money   62.261203   \n",
       "Transport                                        %1971          246.488683   \n",
       "                                                 today's money  112.611848   \n",
       "Communication                                    %1971          789.582173   \n",
       "                                                 today's money   13.144416   \n",
       "Health                                           %1971          187.760684   \n",
       "                                                 today's money   11.697321   \n",
       "Education                                        %1971          254.936866   \n",
       "                                                 today's money   14.964417   \n",
       "Total domestic household expenditure             %1971          225.223993   \n",
       "                                                 today's money  749.295554   \n",
       "  Total goods                                    %1971          226.782179   \n",
       "                                                 today's money  327.101170   \n",
       "  Total services                                 %1971          230.874717   \n",
       "                                                 today's money  426.035135   \n",
       "UK tourist expenditure abroad                    %1971          699.054374   \n",
       "                                                 today's money   35.167828   \n",
       " less foreign tourist expenditure                %1971          222.215836   \n",
       "                                                 today's money   16.854303   \n",
       "Household final consumption expenditure4         %1971          232.291680   \n",
       "                                                 today's money  765.232226   \n",
       "\n",
       "Years                                                                  2009  \n",
       "Category                                                                     \n",
       "Food and non-alcoholic beverages                 %1971           151.008988  \n",
       "                                                 today's money    83.813000  \n",
       "Alcoholic beverages and tobacco                  %1971            89.613302  \n",
       "                                                 today's money    31.128000  \n",
       "Clothing and footwear                            %1971           552.546860  \n",
       "                                                 today's money    47.599000  \n",
       "Housing, water and fuels2                        %1971           160.082001  \n",
       "                                                 today's money   193.447000  \n",
       "Furnishings, household equipment and maintenance %1971           262.682524  \n",
       "                                                 today's money    43.867000  \n",
       "Miscellaneous goods and services                 %1971           377.225149  \n",
       "                                                 today's money   104.765000  \n",
       "Restaurants and hotels3                          %1971           185.494668  \n",
       "                                                 today's money    88.763000  \n",
       "Recreation and culture                           %1971           868.809350  \n",
       "                                                 today's money    99.260000  \n",
       "Transport                                        %1971           272.763784  \n",
       "                                                 today's money   124.616000  \n",
       "Communication                                    %1971          1126.128134  \n",
       "                                                 today's money    18.747000  \n",
       "Health                                           %1971           229.264957  \n",
       "                                                 today's money    14.283000  \n",
       "Education                                        %1971           221.879528  \n",
       "                                                 today's money    13.024000  \n",
       "Total domestic household expenditure             %1971           259.495168  \n",
       "                                                 today's money   863.312000  \n",
       "  Total goods                                    %1971           285.454027  \n",
       "                                                 today's money   411.727000  \n",
       "  Total services                                 %1971           244.720566  \n",
       "                                                 today's money   451.585000  \n",
       "UK tourist expenditure abroad                    %1971           576.333071  \n",
       "                                                 today's money    28.994000  \n",
       " less foreign tourist expenditure                %1971           257.810030  \n",
       "                                                 today's money    19.554000  \n",
       "Household final consumption expenditure4         %1971           264.930072  \n",
       "                                                 today's money   872.752000  \n",
       "\n",
       "[36 rows x 5 columns]"
      ]
     },
     "execution_count": 124,
     "metadata": {},
     "output_type": "execute_result"
    }
   ],
   "source": [
    "filled_df"
   ]
  },
  {
   "cell_type": "markdown",
   "metadata": {
    "slideshow": {
     "slide_type": "notes"
    }
   },
   "source": [
    "Last comment on that script - pandas makes basic plotting very simple - we can just call `plot(...)` on our dataset, and using the `kind` argument can get the value shown in several ways. We do a transpose at `[J]` to get the categories along the plot's `x` axis, and note that pandas understands the concept of sub-indexes, grouping the bars automatically. But this really isn't very useful - currency and ratio are completely different scales!"
   ]
  },
  {
   "cell_type": "markdown",
   "metadata": {
    "slideshow": {
     "slide_type": "slide"
    }
   },
   "source": [
    "# The Plot Thickens\n",
    "## Since my Brutus the Younger pun failed so miserably last time"
   ]
  },
  {
   "cell_type": "code",
   "execution_count": 133,
   "metadata": {
    "collapsed": false,
    "scrolled": true,
    "slideshow": {
     "slide_type": "notes"
    }
   },
   "outputs": [
    {
     "data": {
      "image/png": "[encoded data removed]",
      "text/plain": [
       "<matplotlib.figure.Figure at 0x7f81e3a6aa20>"
      ]
     },
     "metadata": {},
     "output_type": "display_data"
    }
   ],
   "source": [
    "## FIFTH VERSION OF SCRIPT\n",
    "\n",
    "import pandas as pd\n",
    "import matplotlib.pyplot as plt\n",
    "\n",
    "# Pick out an interesting table - 2011 value of household expenditure by purpose\n",
    "df = pd.read_excel(\n",
    "    'data/expenditure.xls',\n",
    "    sheetname='Table 1',\n",
    "    na_values=' ',\n",
    "    header=5,\n",
    "    index_col=0,\n",
    "    parse_cols=(0, 1, 2, 3, 4, 5, 7)\n",
    ").dropna()\n",
    "\n",
    "# Uncommented for presenting only!! Commented version at end of presentation\n",
    "df.index.name = \"Category\"\n",
    "df.columns.name = \"Years\"\n",
    "perc1971 = df.loc[:, 1971: 2009]\n",
    "todaysCurrency = pd.DataFrame({2009: df['2009.1']})\n",
    "df = pd.concat((perc1971, todaysCurrency), axis=1, keys=(\"%1971\", \"today's money\"))\n",
    "df = df.stack(level=0)\n",
    "\n",
    "def calculate_prices_in_todays_money_for_row(x):\n",
    "    if x.name[1] != 'today':\n",
    "        return x\n",
    "    \n",
    "    percent_row = (x.name[0], '%1971')\n",
    "    ratio = df.loc[percent_row, :]\n",
    "    ratio2009 = df.loc[percent_row, 2009]\n",
    "    \n",
    "    return ratio * x[2009] / ratio2009\n",
    "\n",
    "df = df.apply(calculate_prices_in_todays_money_for_row, axis=1)\n",
    "\n",
    "# You only need this line in Jupyter\n",
    "%matplotlib inline\n",
    "\n",
    "# [K]\n",
    "fig = plt.figure()\n",
    "\n",
    "# Create a set of axes\n",
    "ax_left = fig.add_subplot(111)\n",
    "# And another sharing an x-axis\n",
    "ax_right = ax_left.twinx()\n",
    "\n",
    "# Grab a specific category, just to be clearer\n",
    "category = df.transpose()[\"Communication\"]\n",
    "\n",
    "# Show bars for both the 1971% ratio (left y-axis) and today's money (right y-axis)\n",
    "category[\"%1971\"].plot(kind='bar', ax=ax_left)\n",
    "category[\"today's money\"].plot(kind='bar', ax=ax_right, color='red')\n",
    "plt.show()"
   ]
  },
  {
   "cell_type": "markdown",
   "metadata": {},
   "source": [
    "Now this script is getting a bit longer - don't worry, there is a tidier version at the end (not massively tidied, just the kind of quick tidy that it is totally reasonable to expect you to do when you're doing PhD coding!) Anyhow, skip down to the plotting part `[K]`"
   ]
  },
  {
   "cell_type": "code",
   "execution_count": 132,
   "metadata": {
    "collapsed": true,
    "slideshow": {
     "slide_type": "slide"
    }
   },
   "outputs": [],
   "source": [
    "# Create a set of axes\n",
    "ax_left = fig.add_subplot(111)\n",
    "# And another sharing an x-axis\n",
    "ax_right = ax_left.twinx()"
   ]
  },
  {
   "cell_type": "markdown",
   "metadata": {
    "slideshow": {
     "slide_type": "notes"
    }
   },
   "source": [
    "This trick here allows you to add two scales to a graph - one on the right, one on the left. Now pandas can show both bars (overlapping) and scaled correctly! Try running the script..."
   ]
  },
  {
   "cell_type": "markdown",
   "metadata": {
    "slideshow": {
     "slide_type": "notes"
    }
   },
   "source": [
    "Something strange is going on here - we only see one set of bars. In fact, this is correct, because the currency is simply a scaling of the %1971 column - that's how we calculated it - then when we scale the bars we made to the same overall size on the plot, shock and horror, they match. This isn't a maths lesson, so if this confuses you or is unexpected, that isn't core to what's happening on a programming level, rather the kind of thing you might come across in your data analysis, dealing with interpolated or filled data."
   ]
  },
  {
   "cell_type": "markdown",
   "metadata": {
    "slideshow": {
     "slide_type": "notes"
    }
   },
   "source": [
    "In any case, plotting two sets of identical bars on different scales is clearly pretty useless. What would be more interesting would be, rather than looking at inflation-adjusted ratio and inflation-adjusted pound sterling price, how about inflation-adjusted ratio and actual price payed over the counter in 1971?\n",
    "\n",
    "While I wait for the clamour to die down and you all to take your seats again (make sure you get the party poppers off the lights first), we'll start thinking of a way to do that..."
   ]
  },
  {
   "cell_type": "markdown",
   "metadata": {
    "slideshow": {
     "slide_type": "slide"
    }
   },
   "source": [
    "# To infinity and beyond\n",
    "## Integrate with other sources\n",
    "\n",
    "For the next bit, we will need to install **Quandl** via pip3.\n",
    "\n",
    "Have a quick look here [https://www.quandl.com/collections/uk/uk-inflation](https://www.quandl.com/collections/uk/uk-inflation)"
   ]
  },
  {
   "cell_type": "markdown",
   "metadata": {
    "slideshow": {
     "slide_type": "notes"
    }
   },
   "source": [
    "Quandl is an online service that provides Python bindings to grab its online data (using JSON, as is standard nowadays). Note that, you can make only 50 calls a day, so an extra line or two to save a dump when you first use it (and only call again if the dump is missing) will give you extra mileage. However, we are going to cheat and just call it once manually..."
   ]
  },
  {
   "cell_type": "code",
   "execution_count": 134,
   "metadata": {
    "collapsed": false
   },
   "outputs": [
    {
     "data": {
      "text/html": [
       "<div style=\"max-height:1000px;max-width:1500px;overflow:auto;\">\n",
       "<table border=\"1\" class=\"dataframe\">\n",
       "  <thead>\n",
       "    <tr style=\"text-align: right;\">\n",
       "      <th></th>\n",
       "      <th>HARMONIZED CPI (INDEX NUMBER)</th>\n",
       "      <th>CPI: ALL ITEMS (INDEX NUMBER)</th>\n",
       "      <th>CPI % CHANGE (PERCENT PER ANNU)</th>\n",
       "    </tr>\n",
       "    <tr>\n",
       "      <th>Date</th>\n",
       "      <th></th>\n",
       "      <th></th>\n",
       "      <th></th>\n",
       "    </tr>\n",
       "  </thead>\n",
       "  <tbody>\n",
       "    <tr>\n",
       "      <th>1948-12-31</th>\n",
       "      <td>      NaN</td>\n",
       "      <td>   4.42594</td>\n",
       "      <td>       NaN</td>\n",
       "    </tr>\n",
       "    <tr>\n",
       "      <th>1949-12-31</th>\n",
       "      <td>      NaN</td>\n",
       "      <td>   4.56534</td>\n",
       "      <td>  3.149610</td>\n",
       "    </tr>\n",
       "    <tr>\n",
       "      <th>1950-12-31</th>\n",
       "      <td>      NaN</td>\n",
       "      <td>   4.66989</td>\n",
       "      <td>  2.290080</td>\n",
       "    </tr>\n",
       "    <tr>\n",
       "      <th>1951-12-31</th>\n",
       "      <td>      NaN</td>\n",
       "      <td>   5.12294</td>\n",
       "      <td>  9.701490</td>\n",
       "    </tr>\n",
       "    <tr>\n",
       "      <th>1952-12-31</th>\n",
       "      <td>      NaN</td>\n",
       "      <td>   5.43659</td>\n",
       "      <td>  6.122450</td>\n",
       "    </tr>\n",
       "    <tr>\n",
       "      <th>1953-12-31</th>\n",
       "      <td>      NaN</td>\n",
       "      <td>   5.54114</td>\n",
       "      <td>  1.923080</td>\n",
       "    </tr>\n",
       "    <tr>\n",
       "      <th>1954-12-31</th>\n",
       "      <td>      NaN</td>\n",
       "      <td>   5.64569</td>\n",
       "      <td>  1.886790</td>\n",
       "    </tr>\n",
       "    <tr>\n",
       "      <th>1955-12-31</th>\n",
       "      <td>      NaN</td>\n",
       "      <td>   5.81994</td>\n",
       "      <td>  3.086420</td>\n",
       "    </tr>\n",
       "    <tr>\n",
       "      <th>1956-12-31</th>\n",
       "      <td>      NaN</td>\n",
       "      <td>   6.06388</td>\n",
       "      <td>  4.191620</td>\n",
       "    </tr>\n",
       "    <tr>\n",
       "      <th>1957-12-31</th>\n",
       "      <td>      NaN</td>\n",
       "      <td>   6.20619</td>\n",
       "      <td>  2.346740</td>\n",
       "    </tr>\n",
       "    <tr>\n",
       "      <th>1958-12-31</th>\n",
       "      <td>      NaN</td>\n",
       "      <td>   6.38334</td>\n",
       "      <td>  2.854470</td>\n",
       "    </tr>\n",
       "    <tr>\n",
       "      <th>1959-12-31</th>\n",
       "      <td>      NaN</td>\n",
       "      <td>   6.42690</td>\n",
       "      <td>  0.682439</td>\n",
       "    </tr>\n",
       "    <tr>\n",
       "      <th>1960-12-31</th>\n",
       "      <td>      NaN</td>\n",
       "      <td>   6.49080</td>\n",
       "      <td>  0.994126</td>\n",
       "    </tr>\n",
       "    <tr>\n",
       "      <th>1961-12-31</th>\n",
       "      <td>      NaN</td>\n",
       "      <td>   6.72313</td>\n",
       "      <td>  3.579420</td>\n",
       "    </tr>\n",
       "    <tr>\n",
       "      <th>1962-12-31</th>\n",
       "      <td>      NaN</td>\n",
       "      <td>   6.99902</td>\n",
       "      <td>  4.103670</td>\n",
       "    </tr>\n",
       "    <tr>\n",
       "      <th>1963-12-31</th>\n",
       "      <td>      NaN</td>\n",
       "      <td>   7.14423</td>\n",
       "      <td>  2.074690</td>\n",
       "    </tr>\n",
       "    <tr>\n",
       "      <th>1964-12-31</th>\n",
       "      <td>      NaN</td>\n",
       "      <td>   7.37366</td>\n",
       "      <td>  3.211380</td>\n",
       "    </tr>\n",
       "    <tr>\n",
       "      <th>1965-12-31</th>\n",
       "      <td>      NaN</td>\n",
       "      <td>   7.72797</td>\n",
       "      <td>  4.805040</td>\n",
       "    </tr>\n",
       "    <tr>\n",
       "      <th>1966-12-31</th>\n",
       "      <td>      NaN</td>\n",
       "      <td>   8.03000</td>\n",
       "      <td>  3.908310</td>\n",
       "    </tr>\n",
       "    <tr>\n",
       "      <th>1967-12-31</th>\n",
       "      <td>      NaN</td>\n",
       "      <td>   8.22458</td>\n",
       "      <td>  2.423150</td>\n",
       "    </tr>\n",
       "    <tr>\n",
       "      <th>1968-12-31</th>\n",
       "      <td>      NaN</td>\n",
       "      <td>   8.61374</td>\n",
       "      <td>  4.731640</td>\n",
       "    </tr>\n",
       "    <tr>\n",
       "      <th>1969-12-31</th>\n",
       "      <td>      NaN</td>\n",
       "      <td>   9.08421</td>\n",
       "      <td>  5.461900</td>\n",
       "    </tr>\n",
       "    <tr>\n",
       "      <th>1970-12-31</th>\n",
       "      <td>      NaN</td>\n",
       "      <td>   9.66214</td>\n",
       "      <td>  6.361890</td>\n",
       "    </tr>\n",
       "    <tr>\n",
       "      <th>1971-12-31</th>\n",
       "      <td>      NaN</td>\n",
       "      <td>  10.57110</td>\n",
       "      <td>  9.407870</td>\n",
       "    </tr>\n",
       "    <tr>\n",
       "      <th>1972-12-31</th>\n",
       "      <td>      NaN</td>\n",
       "      <td>  11.32040</td>\n",
       "      <td>  7.087910</td>\n",
       "    </tr>\n",
       "    <tr>\n",
       "      <th>1973-12-31</th>\n",
       "      <td>      NaN</td>\n",
       "      <td>  12.36300</td>\n",
       "      <td>  9.209850</td>\n",
       "    </tr>\n",
       "    <tr>\n",
       "      <th>1974-12-31</th>\n",
       "      <td>      NaN</td>\n",
       "      <td>  14.32910</td>\n",
       "      <td> 15.903200</td>\n",
       "    </tr>\n",
       "    <tr>\n",
       "      <th>1975-12-31</th>\n",
       "      <td>      NaN</td>\n",
       "      <td>  17.80180</td>\n",
       "      <td> 24.235100</td>\n",
       "    </tr>\n",
       "    <tr>\n",
       "      <th>1976-12-31</th>\n",
       "      <td>      NaN</td>\n",
       "      <td>  20.74490</td>\n",
       "      <td> 16.532600</td>\n",
       "    </tr>\n",
       "    <tr>\n",
       "      <th>1977-12-31</th>\n",
       "      <td>      NaN</td>\n",
       "      <td>  24.03960</td>\n",
       "      <td> 15.882000</td>\n",
       "    </tr>\n",
       "    <tr>\n",
       "      <th>1978-12-31</th>\n",
       "      <td>      NaN</td>\n",
       "      <td>  26.01470</td>\n",
       "      <td>  8.215960</td>\n",
       "    </tr>\n",
       "    <tr>\n",
       "      <th>1979-12-31</th>\n",
       "      <td>      NaN</td>\n",
       "      <td>  29.51770</td>\n",
       "      <td> 13.465700</td>\n",
       "    </tr>\n",
       "    <tr>\n",
       "      <th>1980-12-31</th>\n",
       "      <td>      NaN</td>\n",
       "      <td>  34.82220</td>\n",
       "      <td> 17.970600</td>\n",
       "    </tr>\n",
       "    <tr>\n",
       "      <th>1981-12-31</th>\n",
       "      <td>      NaN</td>\n",
       "      <td>  38.95910</td>\n",
       "      <td> 11.879800</td>\n",
       "    </tr>\n",
       "    <tr>\n",
       "      <th>1982-12-31</th>\n",
       "      <td>      NaN</td>\n",
       "      <td>  42.30590</td>\n",
       "      <td>  8.590530</td>\n",
       "    </tr>\n",
       "    <tr>\n",
       "      <th>1983-12-31</th>\n",
       "      <td>      NaN</td>\n",
       "      <td>  44.25490</td>\n",
       "      <td>  4.607020</td>\n",
       "    </tr>\n",
       "    <tr>\n",
       "      <th>1984-12-31</th>\n",
       "      <td>      NaN</td>\n",
       "      <td>  46.44700</td>\n",
       "      <td>  4.953410</td>\n",
       "    </tr>\n",
       "    <tr>\n",
       "      <th>1985-12-31</th>\n",
       "      <td>      NaN</td>\n",
       "      <td>  49.26420</td>\n",
       "      <td>  6.065420</td>\n",
       "    </tr>\n",
       "    <tr>\n",
       "      <th>1986-12-31</th>\n",
       "      <td>      NaN</td>\n",
       "      <td>  50.95280</td>\n",
       "      <td>  3.427610</td>\n",
       "    </tr>\n",
       "    <tr>\n",
       "      <th>1987-12-31</th>\n",
       "      <td>      NaN</td>\n",
       "      <td>  53.06680</td>\n",
       "      <td>  4.148920</td>\n",
       "    </tr>\n",
       "    <tr>\n",
       "      <th>1988-12-31</th>\n",
       "      <td>  63.4911</td>\n",
       "      <td>  55.67130</td>\n",
       "      <td>  4.907980</td>\n",
       "    </tr>\n",
       "    <tr>\n",
       "      <th>1989-12-31</th>\n",
       "      <td>  66.7953</td>\n",
       "      <td>  60.01220</td>\n",
       "      <td>  7.797270</td>\n",
       "    </tr>\n",
       "    <tr>\n",
       "      <th>1990-12-31</th>\n",
       "      <td>  71.4872</td>\n",
       "      <td>  65.69870</td>\n",
       "      <td>  9.475590</td>\n",
       "    </tr>\n",
       "    <tr>\n",
       "      <th>1991-12-31</th>\n",
       "      <td>  76.8693</td>\n",
       "      <td>  69.54460</td>\n",
       "      <td>  5.853980</td>\n",
       "    </tr>\n",
       "    <tr>\n",
       "      <th>1992-12-31</th>\n",
       "      <td>  80.1220</td>\n",
       "      <td>  72.14050</td>\n",
       "      <td>  3.732600</td>\n",
       "    </tr>\n",
       "    <tr>\n",
       "      <th>1993-12-31</th>\n",
       "      <td>  82.1486</td>\n",
       "      <td>  73.26910</td>\n",
       "      <td>  1.564470</td>\n",
       "    </tr>\n",
       "    <tr>\n",
       "      <th>1994-12-31</th>\n",
       "      <td>  83.7713</td>\n",
       "      <td>  75.08360</td>\n",
       "      <td>  2.476450</td>\n",
       "    </tr>\n",
       "    <tr>\n",
       "      <th>1995-12-31</th>\n",
       "      <td>  85.9887</td>\n",
       "      <td>  77.64470</td>\n",
       "      <td>  3.411000</td>\n",
       "    </tr>\n",
       "    <tr>\n",
       "      <th>1996-12-31</th>\n",
       "      <td>  88.1107</td>\n",
       "      <td>  79.54590</td>\n",
       "      <td>  2.448710</td>\n",
       "    </tr>\n",
       "    <tr>\n",
       "      <th>1997-12-31</th>\n",
       "      <td>  89.7041</td>\n",
       "      <td>  82.03760</td>\n",
       "      <td>  3.132330</td>\n",
       "    </tr>\n",
       "    <tr>\n",
       "      <th>1998-12-31</th>\n",
       "      <td>  91.1065</td>\n",
       "      <td>  84.84180</td>\n",
       "      <td>  3.418170</td>\n",
       "    </tr>\n",
       "    <tr>\n",
       "      <th>1999-12-31</th>\n",
       "      <td>  92.3327</td>\n",
       "      <td>  86.16140</td>\n",
       "      <td>  1.555390</td>\n",
       "    </tr>\n",
       "    <tr>\n",
       "      <th>2000-12-31</th>\n",
       "      <td>  93.0578</td>\n",
       "      <td>  88.68340</td>\n",
       "      <td>  2.927100</td>\n",
       "    </tr>\n",
       "    <tr>\n",
       "      <th>2001-12-31</th>\n",
       "      <td>  94.2079</td>\n",
       "      <td>  90.29820</td>\n",
       "      <td>  1.820850</td>\n",
       "    </tr>\n",
       "    <tr>\n",
       "      <th>2002-12-31</th>\n",
       "      <td>  95.3913</td>\n",
       "      <td>  91.77410</td>\n",
       "      <td>  1.634460</td>\n",
       "    </tr>\n",
       "    <tr>\n",
       "      <th>2003-12-31</th>\n",
       "      <td>  96.6914</td>\n",
       "      <td>  94.44810</td>\n",
       "      <td>  2.913630</td>\n",
       "    </tr>\n",
       "    <tr>\n",
       "      <th>2004-12-31</th>\n",
       "      <td>  97.9915</td>\n",
       "      <td>  97.24790</td>\n",
       "      <td>  2.964430</td>\n",
       "    </tr>\n",
       "    <tr>\n",
       "      <th>2005-12-31</th>\n",
       "      <td> 100.0000</td>\n",
       "      <td> 100.00000</td>\n",
       "      <td>  2.829980</td>\n",
       "    </tr>\n",
       "    <tr>\n",
       "      <th>2006-12-31</th>\n",
       "      <td> 102.3340</td>\n",
       "      <td> 103.19500</td>\n",
       "      <td>  3.194860</td>\n",
       "    </tr>\n",
       "    <tr>\n",
       "      <th>2007-12-31</th>\n",
       "      <td> 104.7090</td>\n",
       "      <td> 107.60500</td>\n",
       "      <td>  4.273760</td>\n",
       "    </tr>\n",
       "    <tr>\n",
       "      <th></th>\n",
       "      <td>...</td>\n",
       "      <td>...</td>\n",
       "      <td>...</td>\n",
       "    </tr>\n",
       "  </tbody>\n",
       "</table>\n",
       "<p>62 rows × 3 columns</p>\n",
       "</div>"
      ],
      "text/plain": [
       "            HARMONIZED CPI (INDEX NUMBER)  CPI: ALL ITEMS (INDEX NUMBER)  \\\n",
       "Date                                                                       \n",
       "1948-12-31                            NaN                        4.42594   \n",
       "1949-12-31                            NaN                        4.56534   \n",
       "1950-12-31                            NaN                        4.66989   \n",
       "1951-12-31                            NaN                        5.12294   \n",
       "1952-12-31                            NaN                        5.43659   \n",
       "1953-12-31                            NaN                        5.54114   \n",
       "1954-12-31                            NaN                        5.64569   \n",
       "1955-12-31                            NaN                        5.81994   \n",
       "1956-12-31                            NaN                        6.06388   \n",
       "1957-12-31                            NaN                        6.20619   \n",
       "1958-12-31                            NaN                        6.38334   \n",
       "1959-12-31                            NaN                        6.42690   \n",
       "1960-12-31                            NaN                        6.49080   \n",
       "1961-12-31                            NaN                        6.72313   \n",
       "1962-12-31                            NaN                        6.99902   \n",
       "1963-12-31                            NaN                        7.14423   \n",
       "1964-12-31                            NaN                        7.37366   \n",
       "1965-12-31                            NaN                        7.72797   \n",
       "1966-12-31                            NaN                        8.03000   \n",
       "1967-12-31                            NaN                        8.22458   \n",
       "1968-12-31                            NaN                        8.61374   \n",
       "1969-12-31                            NaN                        9.08421   \n",
       "1970-12-31                            NaN                        9.66214   \n",
       "1971-12-31                            NaN                       10.57110   \n",
       "1972-12-31                            NaN                       11.32040   \n",
       "1973-12-31                            NaN                       12.36300   \n",
       "1974-12-31                            NaN                       14.32910   \n",
       "1975-12-31                            NaN                       17.80180   \n",
       "1976-12-31                            NaN                       20.74490   \n",
       "1977-12-31                            NaN                       24.03960   \n",
       "1978-12-31                            NaN                       26.01470   \n",
       "1979-12-31                            NaN                       29.51770   \n",
       "1980-12-31                            NaN                       34.82220   \n",
       "1981-12-31                            NaN                       38.95910   \n",
       "1982-12-31                            NaN                       42.30590   \n",
       "1983-12-31                            NaN                       44.25490   \n",
       "1984-12-31                            NaN                       46.44700   \n",
       "1985-12-31                            NaN                       49.26420   \n",
       "1986-12-31                            NaN                       50.95280   \n",
       "1987-12-31                            NaN                       53.06680   \n",
       "1988-12-31                        63.4911                       55.67130   \n",
       "1989-12-31                        66.7953                       60.01220   \n",
       "1990-12-31                        71.4872                       65.69870   \n",
       "1991-12-31                        76.8693                       69.54460   \n",
       "1992-12-31                        80.1220                       72.14050   \n",
       "1993-12-31                        82.1486                       73.26910   \n",
       "1994-12-31                        83.7713                       75.08360   \n",
       "1995-12-31                        85.9887                       77.64470   \n",
       "1996-12-31                        88.1107                       79.54590   \n",
       "1997-12-31                        89.7041                       82.03760   \n",
       "1998-12-31                        91.1065                       84.84180   \n",
       "1999-12-31                        92.3327                       86.16140   \n",
       "2000-12-31                        93.0578                       88.68340   \n",
       "2001-12-31                        94.2079                       90.29820   \n",
       "2002-12-31                        95.3913                       91.77410   \n",
       "2003-12-31                        96.6914                       94.44810   \n",
       "2004-12-31                        97.9915                       97.24790   \n",
       "2005-12-31                       100.0000                      100.00000   \n",
       "2006-12-31                       102.3340                      103.19500   \n",
       "2007-12-31                       104.7090                      107.60500   \n",
       "                                      ...                            ...   \n",
       "\n",
       "            CPI % CHANGE (PERCENT PER ANNU)  \n",
       "Date                                         \n",
       "1948-12-31                              NaN  \n",
       "1949-12-31                         3.149610  \n",
       "1950-12-31                         2.290080  \n",
       "1951-12-31                         9.701490  \n",
       "1952-12-31                         6.122450  \n",
       "1953-12-31                         1.923080  \n",
       "1954-12-31                         1.886790  \n",
       "1955-12-31                         3.086420  \n",
       "1956-12-31                         4.191620  \n",
       "1957-12-31                         2.346740  \n",
       "1958-12-31                         2.854470  \n",
       "1959-12-31                         0.682439  \n",
       "1960-12-31                         0.994126  \n",
       "1961-12-31                         3.579420  \n",
       "1962-12-31                         4.103670  \n",
       "1963-12-31                         2.074690  \n",
       "1964-12-31                         3.211380  \n",
       "1965-12-31                         4.805040  \n",
       "1966-12-31                         3.908310  \n",
       "1967-12-31                         2.423150  \n",
       "1968-12-31                         4.731640  \n",
       "1969-12-31                         5.461900  \n",
       "1970-12-31                         6.361890  \n",
       "1971-12-31                         9.407870  \n",
       "1972-12-31                         7.087910  \n",
       "1973-12-31                         9.209850  \n",
       "1974-12-31                        15.903200  \n",
       "1975-12-31                        24.235100  \n",
       "1976-12-31                        16.532600  \n",
       "1977-12-31                        15.882000  \n",
       "1978-12-31                         8.215960  \n",
       "1979-12-31                        13.465700  \n",
       "1980-12-31                        17.970600  \n",
       "1981-12-31                        11.879800  \n",
       "1982-12-31                         8.590530  \n",
       "1983-12-31                         4.607020  \n",
       "1984-12-31                         4.953410  \n",
       "1985-12-31                         6.065420  \n",
       "1986-12-31                         3.427610  \n",
       "1987-12-31                         4.148920  \n",
       "1988-12-31                         4.907980  \n",
       "1989-12-31                         7.797270  \n",
       "1990-12-31                         9.475590  \n",
       "1991-12-31                         5.853980  \n",
       "1992-12-31                         3.732600  \n",
       "1993-12-31                         1.564470  \n",
       "1994-12-31                         2.476450  \n",
       "1995-12-31                         3.411000  \n",
       "1996-12-31                         2.448710  \n",
       "1997-12-31                         3.132330  \n",
       "1998-12-31                         3.418170  \n",
       "1999-12-31                         1.555390  \n",
       "2000-12-31                         2.927100  \n",
       "2001-12-31                         1.820850  \n",
       "2002-12-31                         1.634460  \n",
       "2003-12-31                         2.913630  \n",
       "2004-12-31                         2.964430  \n",
       "2005-12-31                         2.829980  \n",
       "2006-12-31                         3.194860  \n",
       "2007-12-31                         4.273760  \n",
       "                                        ...  \n",
       "\n",
       "[62 rows x 3 columns]"
      ]
     },
     "execution_count": 134,
     "metadata": {},
     "output_type": "execute_result"
    }
   ],
   "source": [
    "import Quandl\n",
    "cpi = Quandl.get(\"UIFS/CPI_GBR\", returns=\"pandas\")\n",
    "cpi"
   ]
  },
  {
   "cell_type": "markdown",
   "metadata": {
    "slideshow": {
     "slide_type": "notes"
    }
   },
   "source": [
    "So what might we want to do with that? Well, the consumer price index (CPI) gives us a way to adjust for inflation. Basically, it says £4.42 in 1948 would buy you the same amount of basic goods as £111.28 in 2009. So we can use this to turn our inflation-adjusted values back into non-inflation-adjusted values - we divide by the CPI. To make it a bit clearer, if we say £55bn was spent on Food in 1971, *in today's money* then we can say (approximately) $$ \\unicode{163}55\\mathrm{bn} \\times \\frac{CPI_{1971}}{CPI_{today}}$$ was spent in 1971-money. Ideally, if you looked up some government record from 1971, the first year of decimal UK currency, and it said \"Ye Olde Expenditure for This Yeare of the HouseHoldes on the Foods and Stuffe of Similar Likeness\", then that should be about the number it says. Please note, 1971 isn't that long ago - I'm just about in that generation, so it's not allowed to be.\n",
    "\n",
    "Again, if you find this mysterious, you can just use the formula like any other mysterious statistical formula - this isn't a maths course, we just need it for sensibly coding the analysis!"
   ]
  },
  {
   "cell_type": "code",
   "execution_count": 157,
   "metadata": {
    "collapsed": false,
    "slideshow": {
     "slide_type": "notes"
    }
   },
   "outputs": [
    {
     "data": {
      "image/png": "[encoded data removed]",
      "text/plain": [
       "<matplotlib.figure.Figure at 0x7f81e423ed30>"
      ]
     },
     "metadata": {},
     "output_type": "display_data"
    }
   ],
   "source": [
    "## SIXTH VERSION OF SCRIPT\n",
    "\n",
    "import pandas as pd\n",
    "import matplotlib.pyplot as plt\n",
    "\n",
    "# Pick out an interesting table - 2011 value of household expenditure by purpose\n",
    "df = pd.read_excel(\n",
    "    'data/expenditure.xls',\n",
    "    sheetname='Table 1',\n",
    "    na_values=' ',\n",
    "    header=5,\n",
    "    index_col=0,\n",
    "    parse_cols=(0, 1, 2, 3, 4, 5, 7)\n",
    ").dropna()\n",
    "\n",
    "df.index.name = \"Category\"\n",
    "df.columns.name = \"Years\"\n",
    "\n",
    "perc1971 = df.loc[:, 1971: 2009]\n",
    "todaysCurrency = pd.DataFrame({2009: df['2009.1']})\n",
    "\n",
    "df = pd.concat((perc1971, todaysCurrency), axis=1, keys=(\"%1971\", \"currency\"))\n",
    "stacked_df = df.stack(level=0)\n",
    "\n",
    "# ======= Pretty much the same down to here, only some label changes ======\n",
    "\n",
    "# Switch around so the rows are years\n",
    "df = stacked_df.transpose()\n",
    "\n",
    "# [L]\n",
    "# Turn the rows into actual DateTimeIndex objects\n",
    "df.index = pd.to_datetime(df.index, format=\"%Y\")\n",
    "\n",
    "# [M]\n",
    "# Grab the CPI values from the online database (if you ran this once, you shouldn't need to uncomment it)\n",
    "#cpi = Quandl.get(\"UIFS/CPI_GBR\", returns=\"pandas\")\n",
    "cpi_series = cpi[\"CPI: ALL ITEMS (INDEX NUMBER)\"]\n",
    "\n",
    "# [N]\n",
    "# Create a Series where all the rows are...\n",
    "our_cpi_values = pd.Series(index=df.index)\n",
    "# Create a Series where the indices are... and the rows are...\n",
    "our_cpi_values = pd.concat((cpi_series, our_cpi_values)).sort_index()\n",
    "# After this none of the rows are...\n",
    "our_cpi_values = our_cpi_values.interpolate()\n",
    "# This command...\n",
    "our_cpi_values = our_cpi_values.reindex(df.index)\n",
    "\n",
    "# [O]\n",
    "date2009 = pd.to_datetime(\"2009-01-01 00:00:00\")\n",
    "def calculate_prices_in_old_money_for_col(x):\n",
    "    if x.name[1] != 'currency':\n",
    "        return x\n",
    "    \n",
    "    percent_col = (x.name[0], '%1971')\n",
    "    \n",
    "    ratio = df.loc[:, percent_col]\n",
    "    ratio2009 = df.loc[date2009, percent_col]\n",
    "    \n",
    "    cpi = our_cpi_values\n",
    "    cpi2009 = our_cpi_values[date2009]\n",
    "    return ratio * x[date2009] * cpi / (ratio2009 * cpi2009)\n",
    "\n",
    "df = df.apply(calculate_prices_in_old_money_for_col)\n",
    "\n",
    "# You only need this line in Jupyter\n",
    "%matplotlib inline\n",
    "\n",
    "# Some fancy plotting\n",
    "fig = plt.figure()\n",
    "ax_left = fig.add_subplot(111)\n",
    "ax_right = ax_left.twinx()\n",
    "\n",
    "# Pick the category we want\n",
    "category = df[\"Communication\"]\n",
    "category[\"%1971\"].plot(kind='bar', ax=ax_left, label=\"% of 1971\")\n",
    "category[\"currency\"].plot(kind='bar', ax=ax_right, color='red', label=\"Currency\")\n",
    "\n",
    "# We do a little more decoration this time\n",
    "plt.title(\"Household Expenditure on Communication\")\n",
    "ax_left.legend(loc=2)\n",
    "ax_left.set_ylabel(\"% of 1971 (inflation-adjusted)\")\n",
    "ax_right.legend(loc=9)\n",
    "ax_right.set_ylabel(\"£ bill. (direct comparison)\")\n",
    "\n",
    "# Update the labels in a pretty way\n",
    "labels = df.index.map(lambda t: t.strftime(\"%Y\"))\n",
    "ax_left.set_xticklabels(labels)  # If you want to know why, comment out this line!\n",
    "ax_left.set_xlabel(\"Year\")\n",
    "\n",
    "plt.show()"
   ]
  },
  {
   "cell_type": "markdown",
   "metadata": {
    "slideshow": {
     "slide_type": "notes"
    }
   },
   "source": [
    "The point of this exercise, really, is to show you how you can combine multiple incompatible sources of data in constructive ways that would be extremely hard in other tools. This is just one example - you could be doing this with data from a live feed, or a daily HDF5 astronomical data dump, or a molecular database, anything Python can handle, and bring it into pandas to integrate it with your Excel table.\n",
    "\n",
    "In this particular case, we want to match up the years in the Expenditure data with the timestamps in the CDI data. While you could do this all with the years in columns, to my mind it is neater as the row index, so we start with our stacked dataset and transpose it (run the script above to set up `stacked_df` first):"
   ]
  },
  {
   "cell_type": "code",
   "execution_count": 145,
   "metadata": {
    "collapsed": false
   },
   "outputs": [
    {
     "data": {
      "text/html": [
       "<div style=\"max-height:1000px;max-width:1500px;overflow:auto;\">\n",
       "<table border=\"1\" class=\"dataframe\">\n",
       "  <thead>\n",
       "    <tr>\n",
       "      <th>Category</th>\n",
       "      <th colspan=\"2\" halign=\"left\">Food and non-alcoholic beverages</th>\n",
       "      <th colspan=\"2\" halign=\"left\">Alcoholic beverages and tobacco</th>\n",
       "      <th colspan=\"2\" halign=\"left\">Clothing and footwear</th>\n",
       "      <th colspan=\"2\" halign=\"left\">Housing, water and fuels2</th>\n",
       "      <th colspan=\"2\" halign=\"left\">Furnishings, household equipment and maintenance</th>\n",
       "      <th colspan=\"2\" halign=\"left\">Miscellaneous goods and services</th>\n",
       "      <th colspan=\"2\" halign=\"left\">Restaurants and hotels3</th>\n",
       "      <th colspan=\"2\" halign=\"left\">Recreation and culture</th>\n",
       "      <th colspan=\"2\" halign=\"left\">Transport</th>\n",
       "      <th colspan=\"2\" halign=\"left\">Communication</th>\n",
       "      <th></th>\n",
       "    </tr>\n",
       "    <tr>\n",
       "      <th></th>\n",
       "      <th>%1971</th>\n",
       "      <th>currency</th>\n",
       "      <th>%1971</th>\n",
       "      <th>currency</th>\n",
       "      <th>%1971</th>\n",
       "      <th>currency</th>\n",
       "      <th>%1971</th>\n",
       "      <th>currency</th>\n",
       "      <th>%1971</th>\n",
       "      <th>currency</th>\n",
       "      <th>%1971</th>\n",
       "      <th>currency</th>\n",
       "      <th>%1971</th>\n",
       "      <th>currency</th>\n",
       "      <th>%1971</th>\n",
       "      <th>currency</th>\n",
       "      <th>%1971</th>\n",
       "      <th>currency</th>\n",
       "      <th>%1971</th>\n",
       "      <th>currency</th>\n",
       "      <th></th>\n",
       "    </tr>\n",
       "    <tr>\n",
       "      <th>Years</th>\n",
       "      <th></th>\n",
       "      <th></th>\n",
       "      <th></th>\n",
       "      <th></th>\n",
       "      <th></th>\n",
       "      <th></th>\n",
       "      <th></th>\n",
       "      <th></th>\n",
       "      <th></th>\n",
       "      <th></th>\n",
       "      <th></th>\n",
       "      <th></th>\n",
       "      <th></th>\n",
       "      <th></th>\n",
       "      <th></th>\n",
       "      <th></th>\n",
       "      <th></th>\n",
       "      <th></th>\n",
       "      <th></th>\n",
       "      <th></th>\n",
       "    </tr>\n",
       "  </thead>\n",
       "  <tbody>\n",
       "    <tr>\n",
       "      <th>1971</th>\n",
       "      <td> 100.000000</td>\n",
       "      <td>    NaN</td>\n",
       "      <td> 100.000000</td>\n",
       "      <td>    NaN</td>\n",
       "      <td> 100.000000</td>\n",
       "      <td>    NaN</td>\n",
       "      <td> 100.000000</td>\n",
       "      <td>     NaN</td>\n",
       "      <td> 100.000000</td>\n",
       "      <td>    NaN</td>\n",
       "      <td> 100.000000</td>\n",
       "      <td>     NaN</td>\n",
       "      <td> 100.000000</td>\n",
       "      <td>    NaN</td>\n",
       "      <td> 100.000000</td>\n",
       "      <td>   NaN</td>\n",
       "      <td> 100.000000</td>\n",
       "      <td>     NaN</td>\n",
       "      <td>  100.000000</td>\n",
       "      <td>    NaN</td>\n",
       "      <td>...</td>\n",
       "    </tr>\n",
       "    <tr>\n",
       "      <th>1981</th>\n",
       "      <td> 104.640913</td>\n",
       "      <td>    NaN</td>\n",
       "      <td>  99.237497</td>\n",
       "      <td>    NaN</td>\n",
       "      <td> 119.877158</td>\n",
       "      <td>    NaN</td>\n",
       "      <td> 116.734336</td>\n",
       "      <td>     NaN</td>\n",
       "      <td> 116.808722</td>\n",
       "      <td>    NaN</td>\n",
       "      <td> 120.876377</td>\n",
       "      <td>     NaN</td>\n",
       "      <td> 125.594386</td>\n",
       "      <td>    NaN</td>\n",
       "      <td> 158.242026</td>\n",
       "      <td>   NaN</td>\n",
       "      <td> 127.948926</td>\n",
       "      <td>     NaN</td>\n",
       "      <td>  190.027855</td>\n",
       "      <td>    NaN</td>\n",
       "      <td>...</td>\n",
       "    </tr>\n",
       "    <tr>\n",
       "      <th>1991</th>\n",
       "      <td> 117.230576</td>\n",
       "      <td>    NaN</td>\n",
       "      <td>  92.064204</td>\n",
       "      <td>    NaN</td>\n",
       "      <td> 186.847400</td>\n",
       "      <td>    NaN</td>\n",
       "      <td> 138.879523</td>\n",
       "      <td>     NaN</td>\n",
       "      <td> 159.656426</td>\n",
       "      <td>    NaN</td>\n",
       "      <td> 240.394746</td>\n",
       "      <td>     NaN</td>\n",
       "      <td> 167.157564</td>\n",
       "      <td>    NaN</td>\n",
       "      <td> 279.165652</td>\n",
       "      <td>   NaN</td>\n",
       "      <td> 180.949507</td>\n",
       "      <td>     NaN</td>\n",
       "      <td>  306.406685</td>\n",
       "      <td>    NaN</td>\n",
       "      <td>...</td>\n",
       "    </tr>\n",
       "    <tr>\n",
       "      <th>2001</th>\n",
       "      <td> 136.729755</td>\n",
       "      <td>    NaN</td>\n",
       "      <td>  88.024221</td>\n",
       "      <td>    NaN</td>\n",
       "      <td> 344.276183</td>\n",
       "      <td>    NaN</td>\n",
       "      <td> 152.250032</td>\n",
       "      <td>     NaN</td>\n",
       "      <td> 261.638586</td>\n",
       "      <td>    NaN</td>\n",
       "      <td> 336.047068</td>\n",
       "      <td>     NaN</td>\n",
       "      <td> 193.105120</td>\n",
       "      <td>    NaN</td>\n",
       "      <td> 544.963883</td>\n",
       "      <td>   NaN</td>\n",
       "      <td> 246.488683</td>\n",
       "      <td>     NaN</td>\n",
       "      <td>  789.582173</td>\n",
       "      <td>    NaN</td>\n",
       "      <td>...</td>\n",
       "    </tr>\n",
       "    <tr>\n",
       "      <th>2009</th>\n",
       "      <td> 151.008988</td>\n",
       "      <td> 83.813</td>\n",
       "      <td>  89.613302</td>\n",
       "      <td> 31.128</td>\n",
       "      <td> 552.546860</td>\n",
       "      <td> 47.599</td>\n",
       "      <td> 160.082001</td>\n",
       "      <td> 193.447</td>\n",
       "      <td> 262.682524</td>\n",
       "      <td> 43.867</td>\n",
       "      <td> 377.225149</td>\n",
       "      <td> 104.765</td>\n",
       "      <td> 185.494668</td>\n",
       "      <td> 88.763</td>\n",
       "      <td> 868.809350</td>\n",
       "      <td> 99.26</td>\n",
       "      <td> 272.763784</td>\n",
       "      <td> 124.616</td>\n",
       "      <td> 1126.128134</td>\n",
       "      <td> 18.747</td>\n",
       "      <td>...</td>\n",
       "    </tr>\n",
       "  </tbody>\n",
       "</table>\n",
       "<p>5 rows × 36 columns</p>\n",
       "</div>"
      ],
      "text/plain": [
       "Category  Food and non-alcoholic beverages            \\\n",
       "                                     %1971  currency   \n",
       "Years                                                  \n",
       "1971                            100.000000       NaN   \n",
       "1981                            104.640913       NaN   \n",
       "1991                            117.230576       NaN   \n",
       "2001                            136.729755       NaN   \n",
       "2009                            151.008988    83.813   \n",
       "\n",
       "Category  Alcoholic beverages and tobacco            Clothing and footwear  \\\n",
       "                                    %1971  currency                  %1971   \n",
       "Years                                                                        \n",
       "1971                           100.000000       NaN             100.000000   \n",
       "1981                            99.237497       NaN             119.877158   \n",
       "1991                            92.064204       NaN             186.847400   \n",
       "2001                            88.024221       NaN             344.276183   \n",
       "2009                            89.613302    31.128             552.546860   \n",
       "\n",
       "Category            Housing, water and fuels2            \\\n",
       "          currency                      %1971  currency   \n",
       "Years                                                     \n",
       "1971           NaN                 100.000000       NaN   \n",
       "1981           NaN                 116.734336       NaN   \n",
       "1991           NaN                 138.879523       NaN   \n",
       "2001           NaN                 152.250032       NaN   \n",
       "2009        47.599                 160.082001   193.447   \n",
       "\n",
       "Category  Furnishings, household equipment and maintenance            \\\n",
       "                                                     %1971  currency   \n",
       "Years                                                                  \n",
       "1971                                            100.000000       NaN   \n",
       "1981                                            116.808722       NaN   \n",
       "1991                                            159.656426       NaN   \n",
       "2001                                            261.638586       NaN   \n",
       "2009                                            262.682524    43.867   \n",
       "\n",
       "Category  Miscellaneous goods and services            Restaurants and hotels3  \\\n",
       "                                     %1971  currency                    %1971   \n",
       "Years                                                                           \n",
       "1971                            100.000000       NaN               100.000000   \n",
       "1981                            120.876377       NaN               125.594386   \n",
       "1991                            240.394746       NaN               167.157564   \n",
       "2001                            336.047068       NaN               193.105120   \n",
       "2009                            377.225149   104.765               185.494668   \n",
       "\n",
       "Category            Recreation and culture             Transport            \\\n",
       "          currency                   %1971  currency       %1971  currency   \n",
       "Years                                                                        \n",
       "1971           NaN              100.000000       NaN  100.000000       NaN   \n",
       "1981           NaN              158.242026       NaN  127.948926       NaN   \n",
       "1991           NaN              279.165652       NaN  180.949507       NaN   \n",
       "2001           NaN              544.963883       NaN  246.488683       NaN   \n",
       "2009        88.763              868.809350     99.26  272.763784   124.616   \n",
       "\n",
       "Category  Communication                \n",
       "                  %1971  currency      \n",
       "Years                                  \n",
       "1971         100.000000       NaN ...  \n",
       "1981         190.027855       NaN ...  \n",
       "1991         306.406685       NaN ...  \n",
       "2001         789.582173       NaN ...  \n",
       "2009        1126.128134    18.747 ...  \n",
       "\n",
       "[5 rows x 36 columns]"
      ]
     },
     "execution_count": 145,
     "metadata": {},
     "output_type": "execute_result"
    }
   ],
   "source": [
    "df = stacked_df.transpose()\n",
    "df"
   ]
  },
  {
   "cell_type": "markdown",
   "metadata": {
    "slideshow": {
     "slide_type": "notes"
    }
   },
   "source": [
    "Now we can get a year, something like this:"
   ]
  },
  {
   "cell_type": "code",
   "execution_count": 148,
   "metadata": {
    "collapsed": false,
    "slideshow": {
     "slide_type": "slide"
    }
   },
   "outputs": [
    {
     "data": {
      "text/plain": [
       "Category                                                  \n",
       "Food and non-alcoholic beverages                  %1971       100\n",
       "                                                  currency    NaN\n",
       "Alcoholic beverages and tobacco                   %1971       100\n",
       "                                                  currency    NaN\n",
       "Clothing and footwear                             %1971       100\n",
       "                                                  currency    NaN\n",
       "Housing, water and fuels2                         %1971       100\n",
       "                                                  currency    NaN\n",
       "Furnishings, household equipment and maintenance  %1971       100\n",
       "                                                  currency    NaN\n",
       "Miscellaneous goods and services                  %1971       100\n",
       "                                                  currency    NaN\n",
       "Restaurants and hotels3                           %1971       100\n",
       "                                                  currency    NaN\n",
       "Recreation and culture                            %1971       100\n",
       "                                                  currency    NaN\n",
       "Transport                                         %1971       100\n",
       "                                                  currency    NaN\n",
       "Communication                                     %1971       100\n",
       "                                                  currency    NaN\n",
       "Health                                            %1971       100\n",
       "                                                  currency    NaN\n",
       "Education                                         %1971       100\n",
       "                                                  currency    NaN\n",
       "Total domestic household expenditure              %1971       100\n",
       "                                                  currency    NaN\n",
       "  Total goods                                     %1971       100\n",
       "                                                  currency    NaN\n",
       "  Total services                                  %1971       100\n",
       "                                                  currency    NaN\n",
       "UK tourist expenditure abroad                     %1971       100\n",
       "                                                  currency    NaN\n",
       " less foreign tourist expenditure                 %1971       100\n",
       "                                                  currency    NaN\n",
       "Household final consumption expenditure4          %1971       100\n",
       "                                                  currency    NaN\n",
       "Name: 1971, dtype: float64"
      ]
     },
     "execution_count": 148,
     "metadata": {},
     "output_type": "execute_result"
    }
   ],
   "source": [
    "df.ix[1971] # instead of stacked_df[1971]"
   ]
  },
  {
   "cell_type": "markdown",
   "metadata": {
    "slideshow": {
     "slide_type": "notes"
    }
   },
   "source": [
    "We are going to learn how to interpolate in time - this has many useful applications and is one of pandas' main strengths. Normally, we would be resampling, say, a broken up series of timestamped measurements to try to estimate some value at daily, hourly, monthly or other regular intervals. Here though, we have one series of timestamps and want to match them to another."
   ]
  },
  {
   "cell_type": "markdown",
   "metadata": {
    "slideshow": {
     "slide_type": "notes"
    }
   },
   "source": [
    "The first step is to make sure pandas knows our Years in the Expenditure table are actually dates, not some random integers."
   ]
  },
  {
   "cell_type": "code",
   "execution_count": 151,
   "metadata": {
    "collapsed": false,
    "slideshow": {
     "slide_type": "slide"
    }
   },
   "outputs": [
    {
     "data": {
      "text/plain": [
       "<class 'pandas.tseries.index.DatetimeIndex'>\n",
       "[1971-01-01, ..., 2009-01-01]\n",
       "Length: 5, Freq: None, Timezone: None"
      ]
     },
     "execution_count": 151,
     "metadata": {},
     "output_type": "execute_result"
    }
   ],
   "source": [
    "# [L]\n",
    "# Turn the rows into actual DateTimeIndex objects\n",
    "df.index = pd.to_datetime(df.index, format=\"%Y\")\n",
    "df.index"
   ]
  },
  {
   "cell_type": "markdown",
   "metadata": {
    "slideshow": {
     "slide_type": "notes"
    }
   },
   "source": [
    "In one not-so-fell swoop, we convert all of the entries in the index (i.e. row headings, i.e. years) into DateTime objects, and set the index (i.e. the row headings) to the converted values. The pandas output isn't very pretty but it does confirm that. Now what can we do with it?\n",
    "\n",
    "Well, put it with the CPI info..."
   ]
  },
  {
   "cell_type": "code",
   "execution_count": 154,
   "metadata": {
    "collapsed": false,
    "slideshow": {
     "slide_type": "slide"
    }
   },
   "outputs": [
    {
     "data": {
      "text/plain": [
       "Date\n",
       "1948-12-31    4.42594\n",
       "1949-12-31    4.56534\n",
       "1950-12-31    4.66989\n",
       "1951-12-31    5.12294\n",
       "1952-12-31    5.43659\n",
       "1953-12-31    5.54114\n",
       "1954-12-31    5.64569\n",
       "1955-12-31    5.81994\n",
       "1956-12-31    6.06388\n",
       "1957-12-31    6.20619\n",
       "1958-12-31    6.38334\n",
       "1959-12-31    6.42690\n",
       "1960-12-31    6.49080\n",
       "1961-12-31    6.72313\n",
       "1962-12-31    6.99902\n",
       "...\n",
       "1995-12-31     77.6447\n",
       "1996-12-31     79.5459\n",
       "1997-12-31     82.0376\n",
       "1998-12-31     84.8418\n",
       "1999-12-31     86.1614\n",
       "2000-12-31     88.6834\n",
       "2001-12-31     90.2982\n",
       "2002-12-31     91.7741\n",
       "2003-12-31     94.4481\n",
       "2004-12-31     97.2479\n",
       "2005-12-31    100.0000\n",
       "2006-12-31    103.1950\n",
       "2007-12-31    107.6050\n",
       "2008-12-31    111.9030\n",
       "2009-12-31    111.2820\n",
       "Name: CPI: ALL ITEMS (INDEX NUMBER), Length: 62"
      ]
     },
     "execution_count": 154,
     "metadata": {},
     "output_type": "execute_result"
    }
   ],
   "source": [
    "# [M]\n",
    "cpi[\"CPI: ALL ITEMS (INDEX NUMBER)\"]"
   ]
  },
  {
   "cell_type": "markdown",
   "metadata": {
    "slideshow": {
     "slide_type": "notes"
    }
   },
   "source": [
    "To mix this data together, we need to be able to map dates we have in the DataFrame index with interpolated values from this series... so begins our next challenge!"
   ]
  },
  {
   "cell_type": "markdown",
   "metadata": {
    "slideshow": {
     "slide_type": "slide"
    }
   },
   "source": [
    "# Quiz\n",
    "## What on Earth are we doing in Section `[N]`?\n",
    "\n",
    "Stars up! Fill in missing text for each of the ...s in the section [N] comments above. Update Etherpad for reference! The more detail, the better, and if provide links to the docs for each line.\n",
    "\n",
    "Don't forget stars and arrows!"
   ]
  },
  {
   "cell_type": "code",
   "execution_count": 156,
   "metadata": {
    "collapsed": true,
    "slideshow": {
     "slide_type": "slide"
    }
   },
   "outputs": [],
   "source": [
    "# Create a Series where all the rows are...\n",
    "our_cpi_values = pd.Series(index=df.index)\n",
    "# Create a Series where the indices are... and the rows are...\n",
    "our_cpi_values = pd.concat((cpi_series, our_cpi_values)).sort_index()\n",
    "# After this none of the rows are...\n",
    "our_cpi_values = our_cpi_values.interpolate()\n",
    "# This command...\n",
    "our_cpi_values = our_cpi_values.reindex(df.index)"
   ]
  },
  {
   "cell_type": "markdown",
   "metadata": {
    "slideshow": {
     "slide_type": "notes"
    }
   },
   "source": [
    "Note that I'm being inefficient and creating new objects every time - if you are dealing with large data and want to reuse your data structures, many pandas operations allow you to pass an argument like `overwrite=True` or `copy=False` to force that behaviour."
   ]
  },
  {
   "cell_type": "code",
   "execution_count": null,
   "metadata": {
    "collapsed": true,
    "slideshow": {
     "slide_type": "slide"
    }
   },
   "outputs": [],
   "source": [
    "# [O]\n",
    "date2009 = pd.to_datetime(\"2009-01-01 00:00:00\")\n",
    "def calculate_prices_in_old_money_for_col(x):\n",
    "    if x.name[1] != 'currency':\n",
    "        return x\n",
    "    \n",
    "    percent_col = (x.name[0], '%1971')\n",
    "    \n",
    "    ratio = df.loc[:, percent_col]\n",
    "    ratio2009 = df.loc[date2009, percent_col]\n",
    "    \n",
    "    cpi = our_cpi_values\n",
    "    cpi2009 = our_cpi_values[date2009]\n",
    "    return ratio * x[date2009] * cpi / (ratio2009 * cpi2009)"
   ]
  },
  {
   "cell_type": "markdown",
   "metadata": {
    "slideshow": {
     "slide_type": "notes"
    }
   },
   "source": [
    "This is really just our old function, slightly adjusted to deal with columns and with the `our_cpi_values` variable used, as I described above."
   ]
  },
  {
   "cell_type": "markdown",
   "metadata": {
    "slideshow": {
     "slide_type": "fragment"
    }
   },
   "source": [
    "$$ \\unicode{163}_{y} = \\unicode{163}_{2009} \\times \\frac{\\%_y}{\\%_{2009}} \\times \\frac{\\mathrm{CPI}_y}{\\mathrm{CPI}_{2009}}$$"
   ]
  },
  {
   "cell_type": "markdown",
   "metadata": {
    "slideshow": {
     "slide_type": "notes"
    }
   },
   "source": [
    "This is as complicated as I let this function get. We scale the total figure for 2009 first by the percentage value, then by the CPI."
   ]
  },
  {
   "cell_type": "markdown",
   "metadata": {
    "slideshow": {
     "slide_type": "notes"
    }
   },
   "source": [
    "The rest is broadly the same, we just adjust one or two calls for the fact we now have Years in rows, instead of columns. The last bit is plotting - this one is a little nicer... in particular:"
   ]
  },
  {
   "cell_type": "code",
   "execution_count": 158,
   "metadata": {
    "collapsed": false,
    "slideshow": {
     "slide_type": "slide"
    }
   },
   "outputs": [
    {
     "data": {
      "text/plain": [
       "<matplotlib.text.Text at 0x7f81e3c448d0>"
      ]
     },
     "execution_count": 158,
     "metadata": {},
     "output_type": "execute_result"
    },
    {
     "data": {
      "image/png": "[encoded data removed]",
      "text/plain": [
       "<matplotlib.figure.Figure at 0x7f81e38b3710>"
      ]
     },
     "metadata": {},
     "output_type": "display_data"
    }
   ],
   "source": [
    "# We do a little more decoration this time\n",
    "plt.title(\"Household Expenditure on Communication\")\n",
    "ax_left.legend(loc=2)\n",
    "ax_left.set_ylabel(\"% of 1971 (inflation-adjusted)\")\n",
    "ax_right.legend(loc=9)\n",
    "ax_right.set_ylabel(\"£ bill. (direct comparison)\")\n",
    "\n",
    "# Update the labels in a pretty way\n",
    "labels = df.index.map(lambda t: t.strftime(\"%Y\"))\n",
    "ax_left.set_xticklabels(labels)  # If you want to know why, comment out this line!\n",
    "ax_left.set_xlabel(\"Year\")"
   ]
  },
  {
   "cell_type": "markdown",
   "metadata": {
    "slideshow": {
     "slide_type": "notes"
    }
   },
   "source": [
    "Here we add some axis labels and so forth. The legend locations are a bit strange - numbers 0 to 10, indicating the preferred location - see the [matplotlib.pyplot.legend](http://matplotlib.org/api/pyplot_api.html#matplotlib.pyplot.legend) docs for the full list of locations.\n",
    "\n",
    "Now, what do we do with the labels? First we take the index, which is a Series (1D array) then we use a member called `map`. This applies a function to each element and returns the mutated list. In this case, our function is a lambda function that takes one argument (a DataTimeIndex) and formats it, just printing the Year component as a string. This is equivalent to:\n",
    "\n",
    "```python\n",
    "    def stringify_date(date):\n",
    "        return date.format(\"%Y\")\n",
    "    \n",
    "    labels = df.index.map(stringify_date)\n",
    "```\n",
    "\n",
    "The lambda function just makes it a bit more neat."
   ]
  },
  {
   "cell_type": "markdown",
   "metadata": {
    "slideshow": {
     "slide_type": "notes"
    }
   },
   "source": [
    "If you run the full script above, you should now see a nice comparison of what people spent on Communications (we got bored with Food and switched) in 1971, in their money, (red) against the inflation-adjusted ratio (blue)."
   ]
  },
  {
   "cell_type": "markdown",
   "metadata": {
    "slideshow": {
     "slide_type": "slide"
    }
   },
   "source": [
    "# The Coup de Grace\n",
    "## Publishable paper to take home"
   ]
  },
  {
   "cell_type": "markdown",
   "metadata": {
    "slideshow": {
     "slide_type": "notes"
    }
   },
   "source": [
    "One last trick, just to round it off and give us a useful analysis that we could pop into a journal and sit back. Lets produce a series of plots in a row, just like that one, for interesting categories - say, \"Communications\", \"Food\" and \"Alcohol &amp; Tobacco\". How have they all changed (a) in relative terms, compared to say, the price of bread/basic goods, and (b) in absolute terms, the number of 1971, 1981, 1991, etc. pounds sterling that changed hands in those years."
   ]
  },
  {
   "cell_type": "code",
   "execution_count": 93,
   "metadata": {
    "collapsed": false,
    "scrolled": false,
    "slideshow": {
     "slide_type": "notes"
    }
   },
   "outputs": [
    {
     "data": {
      "image/png": "[encoded data removed]",
      "text/plain": [
       "<matplotlib.figure.Figure at 0x7f81e3a85c50>"
      ]
     },
     "metadata": {},
     "output_type": "display_data"
    }
   ],
   "source": [
    "## SEVENTH VERSION OF SCRIPT\n",
    "\n",
    "import pandas as pd\n",
    "import matplotlib.pyplot as plt\n",
    "\n",
    "# Pick out an interesting table - 2011 value of household expenditure by purpose\n",
    "df = pd.read_excel(\n",
    "    'data/expenditure.xls',\n",
    "    sheetname='Table 1',\n",
    "    na_values=' ',\n",
    "    header=5,\n",
    "    index_col=0,\n",
    "    parse_cols=(0, 1, 2, 3, 4, 5, 7)\n",
    ").dropna()\n",
    "\n",
    "df.index.name = \"Category\"\n",
    "df.columns.name = \"Years\"\n",
    "\n",
    "perc1971 = df.loc[:, 1971: 2009]\n",
    "todaysCurrency = pd.DataFrame({2009: df['2009.1']})\n",
    "\n",
    "df = pd.concat((perc1971, todaysCurrency), axis=1, keys=(\"%1971\", \"currency\"))\n",
    "df = df.stack(level=0)\n",
    "\n",
    "# Note we have swapped around here!\n",
    "df = df.transpose()\n",
    "\n",
    "# [L]\n",
    "df.index = pd.to_datetime(df.index, format=\"%Y\")\n",
    "\n",
    "# [M]\n",
    "#cpi = Quandl.get(\"UIFS/CPI_GBR\", returns=\"pandas\")\n",
    "cpi_series = cpi[\"CPI: ALL ITEMS (INDEX NUMBER)\"]\n",
    "\n",
    "# [N]\n",
    "our_cpi_values = pd.Series(index=df.index)\n",
    "our_cpi_values = pd.concat((cpi_series, our_cpi_values)).sort_index()\n",
    "our_cpi_values = our_cpi_values.interpolate()\n",
    "our_cpi_values = our_cpi_values.reindex(df.index)\n",
    "\n",
    "# [O]\n",
    "date2009 = pd.to_datetime(\"2009-01-01 00:00:00\")\n",
    "def calculate_prices_in_old_money_for_col(x):\n",
    "    if x.name[1] != 'currency':\n",
    "        return x\n",
    "    \n",
    "    percent_col = (x.name[0], '%1971')\n",
    "    \n",
    "    ratio = df.loc[:, percent_col]\n",
    "    ratio2009 = df.loc[date2009, percent_col]\n",
    "    \n",
    "    cpi = our_cpi_values\n",
    "    cpi2009 = our_cpi_values[date2009]\n",
    "    return ratio * x[date2009] * cpi / (ratio2009 * cpi2009)\n",
    "\n",
    "df = df.apply(calculate_prices_in_old_money_for_col)\n",
    "\n",
    "# You only need this line in Jupyter\n",
    "%matplotlib inline\n",
    "\n",
    "categories_of_interest = (\n",
    "    \"Communication\",\n",
    "    \"Food and non-alcoholic beverages\",\n",
    "    \"Alcoholic beverages and tobacco\"\n",
    ")\n",
    "\n",
    "fig = plt.figure(figsize=(20, 5))\n",
    "\n",
    "for i, category_name in enumerate(categories_of_interest):\n",
    "    ax_left = fig.add_subplot(1, len(categories_of_interest), i + 1)\n",
    "    ax_right = ax_left.twinx()\n",
    "\n",
    "    category = df[category_name]\n",
    "    category[\"%1971\"].plot(kind='bar', ax=ax_left, label=\"% of 1971\")\n",
    "    category[\"currency\"].plot(kind='bar', ax=ax_right, color='red', label=\"Currency\")\n",
    "\n",
    "    plt.title(\"Household Expenditure on \" + category_name)\n",
    "    ax_left.legend(loc=2)\n",
    "    ax_left.set_ylabel(\"% of 1971 (inflation-adjusted)\")\n",
    "    ax_right.legend(loc=9)\n",
    "    ax_right.set_ylabel(\"£ bill. (direct comparison)\")\n",
    "\n",
    "    ax_left.set_xticklabels(df.index.map(lambda t: t.strftime(\"%Y\")))\n",
    "    ax_left.set_xlabel(\"Year\")\n",
    "\n",
    "plt.show()"
   ]
  },
  {
   "cell_type": "markdown",
   "metadata": {
    "slideshow": {
     "slide_type": "notes"
    }
   },
   "source": [
    "Nothing significant has changed, right down to the plotting section. At that point, we make sure our figure is a sensible shape for several plots:"
   ]
  },
  {
   "cell_type": "code",
   "execution_count": null,
   "metadata": {
    "collapsed": true,
    "slideshow": {
     "slide_type": "fragment"
    }
   },
   "outputs": [],
   "source": [
    "fig = plt.figure(figsize=(20, 5))"
   ]
  },
  {
   "cell_type": "markdown",
   "metadata": {
    "slideshow": {
     "slide_type": "notes"
    }
   },
   "source": [
    "then we loop through our chosen categories, numbering them on the way, and identifying the actual location in the row of plots with `add_subplot`"
   ]
  },
  {
   "cell_type": "code",
   "execution_count": 159,
   "metadata": {
    "collapsed": true,
    "slideshow": {
     "slide_type": "fragment"
    }
   },
   "outputs": [],
   "source": [
    "for i, category_name in enumerate(categories_of_interest):\n",
    "    ax_left = fig.add_subplot(1, len(categories_of_interest), i + 1)\n",
    "    # ..."
   ]
  },
  {
   "cell_type": "markdown",
   "metadata": {
    "slideshow": {
     "slide_type": "notes"
    }
   },
   "source": [
    "we drop in the category names in a couple of places, and that is it! The wonderful thing about this approach to analysis is extending functionality as we just did, is often very quick and takes minimal changes."
   ]
  },
  {
   "cell_type": "markdown",
   "metadata": {
    "slideshow": {
     "slide_type": "notes"
    }
   },
   "source": [
    "So looking at the final output, what do we see? In all cases, expenditure rises in absolute terms. The UK spends more on everything in absolute terms, year on year. However, with Communication, we see it is growing exponentially, with Alcohol &amp; Tobacco it is logarithmic or maybe even moving towards a steady limit. The inflation-adjusted values in blue are even more emphatic. Communication still seems to be at least polynomial, although the jumps decrease since the early 2000s. Food is on a gradual linear increase, but pretty consistent. Alcohol &amp; Tobacco fell in relative spending terms from 1971, but since the early 2000s has been fairly static.\n",
    "\n",
    "Of course this is far too little data to do any proper analysis, and the approach has been pretty...rough... but this process should show you how you can apply pandas to your research analysis.\n",
    "\n",
    "One last thing - I keep mentioning tidy code and what you saw up there wasn't really it! A two minute run through, provides the much clearer and readable version below:"
   ]
  },
  {
   "cell_type": "code",
   "execution_count": 98,
   "metadata": {
    "collapsed": false,
    "slideshow": {
     "slide_type": "notes"
    }
   },
   "outputs": [
    {
     "data": {
      "image/png": "[encoded data removed]",
      "text/plain": [
       "<matplotlib.figure.Figure at 0x7f81e438fef0>"
      ]
     },
     "metadata": {},
     "output_type": "display_data"
    }
   ],
   "source": [
    "## FINAL VERSION OF SCRIPT\n",
    "\n",
    "import pandas as pd\n",
    "import matplotlib.pyplot as plt\n",
    "\n",
    "\n",
    "def load_expenditure_data():\n",
    "    \"\"\"Get the ONS expenditure data from an Excel file\"\"\"\n",
    "    \n",
    "    # Load the data from a specific table in the XLS\n",
    "    df = pd.read_excel(\n",
    "        'data/expenditure.xls',\n",
    "        sheetname='Table 1',\n",
    "        na_values=' ',\n",
    "        header=5,\n",
    "        index_col=0,\n",
    "        parse_cols=(0, 1, 2, 3, 4, 5, 7)\n",
    "    ).dropna()\n",
    "\n",
    "    # Split data into two parts - ratio against 1971 and the final column,\n",
    "    # an absolute value of bill. GBP spent (for 2009)\n",
    "    perc1971 = df.loc[:, 1971: 2009]\n",
    "    todaysCurrency = pd.DataFrame({2009: df['2009.1']})\n",
    "\n",
    "    # Make the columns in each part subcolumns under two headings\n",
    "    df = pd.concat((perc1971, todaysCurrency), axis=1, keys=(\"%1971\", \"currency\"))\n",
    "    \n",
    "    # Swap the %1971 and currency into sub-rows for each category\n",
    "    # At the moment, all our currency data is empty, except for 2009\n",
    "    df = df.stack(level=0)\n",
    "\n",
    "    # We actually want rows to be years\n",
    "    df = df.transpose()\n",
    "\n",
    "    # Name the column and index for clarity\n",
    "    df.columns.name = \"Category\"\n",
    "    df.index.name = \"Years\"\n",
    "\n",
    "    # Turn the years into something pandas knows are dates\n",
    "    df.index = pd.to_datetime(df.index, format=\"%Y\")\n",
    "    \n",
    "    return df\n",
    "\n",
    "\n",
    "def get_cpi_for_dates(dates):\n",
    "    \"\"\"Use an online service to get historical Consumer Price Index data\"\"\"\n",
    "    \n",
    "    # Grab the CPI data from Quandl\n",
    "    #cpi = Quandl.get(\"UIFS/CPI_GBR\", returns=\"pandas\")\n",
    "    cpi_series = cpi[\"CPI: ALL ITEMS (INDEX NUMBER)\"]\n",
    "\n",
    "    # Create a Series of NaNs, where the index is the dates we want\n",
    "    our_cpi_values = pd.Series(index=dates)\n",
    "    \n",
    "    # Merge our desired dates into the list we have been given\n",
    "    our_cpi_values = pd.concat((cpi_series, our_cpi_values)).sort_index()\n",
    "    \n",
    "    # Interpolate the online CPI values by date, to get rid of the\n",
    "    # NaNs we merged in\n",
    "    our_cpi_values = our_cpi_values.interpolate()\n",
    "    \n",
    "    # Extract only the dates we want\n",
    "    our_cpi_values = our_cpi_values.reindex(dates)\n",
    "    \n",
    "    return our_cpi_values\n",
    "\n",
    "\n",
    "# For comparisons, we we will need 2009 as a DateTime object\n",
    "date2009 = pd.to_datetime(\"2009-01-01 00:00:00\")\n",
    "def calculate_prices_in_old_money_for_col(x):\n",
    "    \"\"\"Fill in the blank (NaN) entries in a column of currency with the non-inflation-adjusted expenditure\"\"\"\n",
    "    # We only need to alter subcolumns with currency\n",
    "    if x.name[1] != 'currency':\n",
    "        return x\n",
    "    \n",
    "    category = x.name[0]\n",
    "    \n",
    "    # This is the multi-index for the %1971 value under the\n",
    "    # same category as column x\n",
    "    percent_col = (category, '%1971')\n",
    "    \n",
    "    # Get the %1971 values in the category for each year\n",
    "    ratio = df.loc[:, percent_col]\n",
    "    \n",
    "    # Get the %1971 value for 2009\n",
    "    ratio2009 = df.loc[date2009, percent_col]\n",
    "    \n",
    "    # Get the CPI values in each year\n",
    "    cpi = our_cpi_values\n",
    "    \n",
    "    # Get the 2009 CPI value\n",
    "    cpi2009 = our_cpi_values[date2009]\n",
    "    \n",
    "    # The currency value is scaled by the CPI difference\n",
    "    # from 2009 and the change in ratio from 2009\n",
    "    x = ratio * x[date2009] * cpi / (ratio2009 * cpi2009)\n",
    "    \n",
    "    return x\n",
    "\n",
    "\n",
    "# You only need this line in Jupyter\n",
    "%matplotlib inline\n",
    "def plot_categories(df, categories_of_interest):\n",
    "    \"\"\"\n",
    "    We plot out a series of figures showing the currency and %1971\n",
    "    values for a series of expenditure categories\n",
    "    \"\"\"\n",
    "    \n",
    "    # Set a sensible size of figure\n",
    "    fig = plt.figure(figsize=(20, 5))\n",
    "    number_of_plots = len(categories_of_interest)\n",
    "\n",
    "    # Go through each category desired and create a new subplot\n",
    "    for i, category_name in enumerate(categories_of_interest):\n",
    "        # We create the figure as the (i+1)th place in a (1 x number_of_plots) grid\n",
    "        ax_left = fig.add_subplot(1, number_of_plots, i + 1)\n",
    "        \n",
    "        # We want another ax sharing the same x-axis\n",
    "        ax_right = ax_left.twinx()\n",
    "\n",
    "        # Get the category object from the DataFrame\n",
    "        category = df[category_name]\n",
    "        \n",
    "        # Plot the %1971 bar using LHS\n",
    "        category[\"%1971\"].plot(kind='bar', ax=ax_left, label=\"% of 1971\")\n",
    "        \n",
    "        # Plot the currency using RHS y-axis\n",
    "        category[\"currency\"].plot(kind='bar', ax=ax_right, color='red', label=\"Currency\")\n",
    "\n",
    "        plt.title(\"Household Expenditure on \" + category_name)\n",
    "        \n",
    "        # Put the axes legends in the upper left (see docs for loc values)\n",
    "        ax_left.legend(loc=2)\n",
    "        ax_left.set_ylabel(\"% of 1971 (inflation-adjusted)\")\n",
    "        ax_right.legend(loc=9)\n",
    "        ax_right.set_ylabel(\"£ bill. (direct comparison)\")\n",
    "\n",
    "        # Convert the DateTime objects to something pretty\n",
    "        ax_left.set_xticklabels(df.index.map(lambda t: t.strftime(\"%Y\")))\n",
    "        ax_left.set_xlabel(\"Year\")\n",
    "\n",
    "    plt.show()\n",
    "\n",
    "\n",
    "# Get our data in\n",
    "df = load_expenditure_data()\n",
    "\n",
    "# Use the Consumer Price Index to work out what the non-inflation-adjusted prices were\n",
    "our_cpi_values = get_cpi_for_dates(df.index)\n",
    "\n",
    "# Update the DataFrame by scaling for CPI\n",
    "df = df.apply(calculate_prices_in_old_money_for_col)\n",
    "\n",
    "# Pick a few categories we want plotted\n",
    "categories_of_interest = (\n",
    "    \"Communication\",\n",
    "    \"Food and non-alcoholic beverages\",\n",
    "    \"Alcoholic beverages and tobacco\"\n",
    ")\n",
    "\n",
    "# Display the grid of plots\n",
    "plot_categories(df, categories_of_interest)"
   ]
  },
  {
   "cell_type": "markdown",
   "metadata": {},
   "source": [
    "If there is some time left, or you are coming back to this as an exercise, try using pandas to export an Excel file, or if you are feeling brave, export to SQL and create an Access database with [PyPyODBC](https://code.google.com/archive/p/pypyodbc/wikis/PyPyODBC_Example_Tutorial.wiki)"
   ]
  },
  {
   "cell_type": "markdown",
   "metadata": {
    "slideshow": {
     "slide_type": "notes"
    }
   },
   "source": [
    "A side note on big data: some tasks like MapReduce, and other buzzwordy things engineers like me don't deal with much, have specialized non-Python tools you may want to use, but Python is the best tool for analysing the output and passing to something else. Maybe you just have a series of bash scripts, or another tool for generating data. If this sounds like a use-case for you, you may wish to check out [luigi](https://github.com/spotify/luigi), an open source Python-based pipeline management tool from Spotify."
   ]
  },
  {
   "cell_type": "markdown",
   "metadata": {
    "slideshow": {
     "slide_type": "notes"
    }
   },
   "source": [
    "Another tip if you need your Python fast - you can use Cython to translate it from Python to C and compile it automatically. This is common in science and data analysis for accelerating your Python code. If you're proficient in C then, when you start getting that way in Python, you could check out something like Philip Herron's book *Learning Cython* - he is a Belfast-based developer who has used these tools working for the New York Stock Exchange."
   ]
  }
 ],
 "metadata": {
  "celltoolbar": "Slideshow",
  "kernelspec": {
   "display_name": "Python 3",
   "language": "python",
   "name": "python3"
  },
  "language_info": {
   "codemirror_mode": {
    "name": "ipython",
    "version": 3
   },
   "file_extension": ".py",
   "mimetype": "text/x-python",
   "name": "python",
   "nbconvert_exporter": "python",
   "pygments_lexer": "ipython3",
   "version": "3.4.3"
  },
  "livereveal": {
   "theme": "beige",
   "transition": "convex"
  }
 },
 "nbformat": 4,
 "nbformat_minor": 0
}
