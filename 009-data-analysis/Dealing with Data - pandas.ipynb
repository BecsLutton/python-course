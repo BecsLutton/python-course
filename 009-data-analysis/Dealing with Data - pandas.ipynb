{
 "cells": [
  {
   "cell_type": "markdown",
   "metadata": {
    "slideshow": {
     "slide_type": "slide"
    }
   },
   "source": [
    "# The Bear Necessities\n",
    "## Getting to grips with pandas"
   ]
  },
  {
   "cell_type": "markdown",
   "metadata": {
    "slideshow": {
     "slide_type": "notes"
    }
   },
   "source": [
    "After the previous session, with its introductory plotting and numerical data handling, by far the most common request for this session was data analysis tools. The second request was that we deal with some Excel importing. In Python, the primary analysis tool we can use for general datasets is called **pandas**. To quote the docs (emphasis mine):"
   ]
  },
  {
   "cell_type": "markdown",
   "metadata": {
    "slideshow": {
     "slide_type": "slide"
    }
   },
   "source": [
    "[http://pandas.pydata.org/](http://pandas.pydata.org/)\n",
    "\n",
    ">  Python has long been great for **data munging and preparation**,\n",
    ">  but less so for **data analysis and modeling**.\n",
    "\n",
    ">  **pandas** helps **fill this gap**, enabling you to carry out your **entire data analysis workflow in Python** without having to switch to a more domain specific language like R."
   ]
  },
  {
   "cell_type": "markdown",
   "metadata": {
    "collapsed": true,
    "slideshow": {
     "slide_type": "notes"
    }
   },
   "source": [
    "My summary is, pandas is to Excel as numpy/scipy/etc. are to MATLAB. You don't have the nice GUI interface, but you do have easily scriptable automation and all the power of Python to do pretty much anything with your data. In this session, we will begin by importing an XLS file and doing some basic manipulation. I'll show you a slightly quicker way, and then we will get on with some analysis. Time permitting, we will do some plotting, and more advanced pandas techniques, before finishing off by dynamically incorporating online database data into our XLS analysis."
   ]
  },
  {
   "cell_type": "markdown",
   "metadata": {
    "slideshow": {
     "slide_type": "notes"
    }
   },
   "source": [
    "If you are thinking of experimenting with some data, I would highly recommend you check out OpenDataNI:"
   ]
  },
  {
   "cell_type": "markdown",
   "metadata": {
    "slideshow": {
     "slide_type": "slide"
    }
   },
   "source": [
    "![OpenDataNI Screenshot](images/screenshot-opendatani.png)"
   ]
  },
  {
   "cell_type": "markdown",
   "metadata": {
    "slideshow": {
     "slide_type": "notes"
    }
   },
   "source": [
    "Good in general, but unfortunately for this session, they force public sector bodies to upload data in standardized, universally-supported formats, so not Microsoft Excel. Instead, we will grab some data from a longer-running project, from when it was common to accept a broader range of formats: [data.gov.uk](https://data.gov.uk/data/search?res_format=XLS)"
   ]
  },
  {
   "cell_type": "markdown",
   "metadata": {
    "slideshow": {
     "slide_type": "slide"
    }
   },
   "source": [
    "# data.gov.uk\n",
    "## Social Trends 2011\n",
    "\n",
    "![data.gov.uk Excel data](images/screenshot-datagovuk.png)"
   ]
  },
  {
   "cell_type": "markdown",
   "metadata": {
    "slideshow": {
     "slide_type": "notes"
    }
   },
   "source": [
    "Conveniently, as this is under the Open Government License, I've been able to put a copy of the relevant Excel file in the *data* folder below this notebook."
   ]
  },
  {
   "cell_type": "markdown",
   "metadata": {
    "slideshow": {
     "slide_type": "notes"
    }
   },
   "source": [
    "In the last session, we spent a lot of time using Jupyter as a workflow, stepping from one box to the next. That's fine for experimenting with data, or keeping a journal of what you're doing, but not so useful if you want a repeatable script. This afternoon, we are going to use a standalone IDE to do some scripting. However, for the moment, keeping our notes and our code in one place is handy, so we will work through a series of short scripts in Jupyter."
   ]
  },
  {
   "cell_type": "markdown",
   "metadata": {
    "slideshow": {
     "slide_type": "notes"
    }
   },
   "source": [
    "Firstly though, we will need to check that the libraries pandas and xlrd are installed."
   ]
  },
  {
   "cell_type": "markdown",
   "metadata": {
    "slideshow": {
     "slide_type": "notes"
    }
   },
   "source": [
    "Second, we should take a look at the Excel file and see what we are actually dealing with..."
   ]
  },
  {
   "cell_type": "markdown",
   "metadata": {
    "slideshow": {
     "slide_type": "notes"
    }
   },
   "source": [
    "Thirdly, we run the script below. Don't worry about the detail just this second, we will work through it step by step, as there are a few subtleties."
   ]
  },
  {
   "cell_type": "code",
   "execution_count": null,
   "metadata": {
    "slideshow": {
     "slide_type": "notes"
    }
   },
   "outputs": [],
   "source": [
    "import pandas as pd\n",
    "\n",
    "# [A]\n",
    "excel_file = pd.ExcelFile('data/expenditure.xls')\n",
    "\n",
    "# [B] Pick out an interesting table - 2011 value of household expenditure by purpose\n",
    "df = excel_file.parse('Table 1')\n",
    "\n",
    "# [C] Cut down to the relevant table\n",
    "df = df.ix[4:26]\n",
    "\n",
    "# [D] Challenge here!\n",
    "#df = df.******(how='***')"
   ]
  },
  {
   "cell_type": "markdown",
   "metadata": {},
   "source": [
    "First off, lets have a look at that Excel file we loaded. There are a few Excel-file-specific properties methods of interest, but we will start with:"
   ]
  },
  {
   "cell_type": "code",
   "execution_count": null,
   "metadata": {
    "slideshow": {
     "slide_type": "slide"
    }
   },
   "outputs": [],
   "source": [
    "excel_file.sheet_names"
   ]
  },
  {
   "cell_type": "markdown",
   "metadata": {
    "slideshow": {
     "slide_type": "notes"
    }
   },
   "source": [
    "The basic unit of pandas operations is the DataFrame, kind of like numpy is centred on numpy arrays. In fact, originally the pandas DataFrame subclassed numpy arrays, (but nowadays it's a completely separate implementation). A DataFrame is a bit like a spreadsheet or database table. In my head they look a bit like this:"
   ]
  },
  {
   "cell_type": "markdown",
   "metadata": {
    "slideshow": {
     "slide_type": "slide"
    }
   },
   "source": [
    "![What I think a data-frame looks like](images/dataframe.png)"
   ]
  },
  {
   "cell_type": "markdown",
   "metadata": {
    "slideshow": {
     "slide_type": "notes"
    }
   },
   "source": [
    "Notice that multi-level indexes are fine - we can sub-divide rows even further than that if we really want. So, this really corresponds to a single-table spreadsheet. So we pick our sheet out of the Excel document at line `[B]`"
   ]
  },
  {
   "cell_type": "code",
   "execution_count": null,
   "metadata": {
    "slideshow": {
     "slide_type": "notes"
    }
   },
   "outputs": [],
   "source": [
    "df = excel_file.parse('Table 1')"
   ]
  },
  {
   "cell_type": "markdown",
   "metadata": {
    "slideshow": {
     "slide_type": "notes"
    }
   },
   "source": [
    "What's this data look like? Well, remember, in Excel it looked like:"
   ]
  },
  {
   "cell_type": "markdown",
   "metadata": {
    "slideshow": {
     "slide_type": "slide"
    }
   },
   "source": [
    "![Screenshot of Excel data](images/screenshot-excel.png)"
   ]
  },
  {
   "cell_type": "markdown",
   "metadata": {
    "slideshow": {
     "slide_type": "notes"
    }
   },
   "source": [
    "In pandas it looks like:"
   ]
  },
  {
   "cell_type": "code",
   "execution_count": null,
   "metadata": {
    "scrolled": true,
    "slideshow": {
     "slide_type": "slide"
    }
   },
   "outputs": [],
   "source": [
    "df"
   ]
  },
  {
   "cell_type": "markdown",
   "metadata": {
    "slideshow": {
     "slide_type": "notes"
    }
   },
   "source": [
    "You should try this without the `.head()`. Well... all the data is there, but a whole load of `NaN` entries corresponding to the empty cells. The table we actually want is in the (Excel) range [A6:H28]."
   ]
  },
  {
   "cell_type": "markdown",
   "metadata": {
    "slideshow": {
     "slide_type": "slide"
    }
   },
   "source": [
    "We can grab a row using the syntax `df.ix[ROW]`, where `ROW` is the row we want."
   ]
  },
  {
   "cell_type": "markdown",
   "metadata": {
    "slideshow": {
     "slide_type": "notes"
    }
   },
   "source": [
    "Now, if we grab row 6, what happens?"
   ]
  },
  {
   "cell_type": "code",
   "execution_count": null,
   "metadata": {
    "slideshow": {
     "slide_type": "-"
    }
   },
   "outputs": [],
   "source": [
    "df.ix[6]"
   ]
  },
  {
   "cell_type": "markdown",
   "metadata": {
    "slideshow": {
     "slide_type": "fragment"
    }
   },
   "source": [
    "This actually accepts the list slicing syntax we learned last time, e.g. `df.ix[6:7]`"
   ]
  },
  {
   "cell_type": "code",
   "execution_count": null,
   "metadata": {
    "scrolled": true,
    "slideshow": {
     "slide_type": "notes"
    }
   },
   "outputs": [],
   "source": [
    "df.ix[6:7]"
   ]
  },
  {
   "cell_type": "markdown",
   "metadata": {
    "slideshow": {
     "slide_type": "notes"
    }
   },
   "source": [
    "Notice that when we picked out a single row we got something that looks a bit different - an ASCII table instead of one of those nice formatted HTML-y things. That's because pandas has a concept called Series, like a 1D array, with rows. When we pick a single row or column, that's what we get back. Don't worry too much about why they are different, just think of them as a single-dimensional list of spreadsheet cells, but bear in mind, 1D data isn't actually a DataFrame."
   ]
  },
  {
   "cell_type": "markdown",
   "metadata": {
    "slideshow": {
     "slide_type": "notes"
    }
   },
   "source": [
    "If you're really astute, you will have noticed that `df.ix[6]` is not the same as Excel's [A6:H6]. Quiz question - why?\n",
    "<span style='color: white; background: white'>(a) Python is zero-indexed and (b) it treats the first row in Excel as the header, so in total Python is different by two</span> <-- (the answer is hidden here if you're desperate, highlight the text with your mouse)"
   ]
  },
  {
   "cell_type": "markdown",
   "metadata": {
    "slideshow": {
     "slide_type": "slide"
    }
   },
   "source": [
    "So actually, the header row in Excel, [A6:H6], corresponds to `df.ix[4]`:"
   ]
  },
  {
   "cell_type": "code",
   "execution_count": null,
   "metadata": {
    "slideshow": {
     "slide_type": "fragment"
    }
   },
   "outputs": [],
   "source": [
    "df.ix[4]"
   ]
  },
  {
   "cell_type": "markdown",
   "metadata": {
    "slideshow": {
     "slide_type": "notes"
    }
   },
   "source": [
    "At step `[C]` we trim down a bit and extract only table we are interested in. Notice that we don't worry about the columns - pandas has spotted no more data comes after column H and stops adding them in at that point."
   ]
  },
  {
   "cell_type": "code",
   "execution_count": null,
   "metadata": {
    "slideshow": {
     "slide_type": "slide"
    }
   },
   "outputs": [],
   "source": [
    "df = df.ix[4:26]"
   ]
  },
  {
   "cell_type": "markdown",
   "metadata": {
    "slideshow": {
     "slide_type": "fragment"
    }
   },
   "source": [
    "<img alt=\"Cut down screenshot showing the DataFrame's new coverage\" src=\"images/screenshot-excel-cutdown.png\" style='max-height: 400px' />"
   ]
  },
  {
   "cell_type": "code",
   "execution_count": null,
   "metadata": {},
   "outputs": [],
   "source": [
    "df.ix[4:6, 1:2]"
   ]
  },
  {
   "cell_type": "markdown",
   "metadata": {
    "slideshow": {
     "slide_type": "notes"
    }
   },
   "source": [
    "As a side-point, you can slice in two directions, as with numpy arrays. For instance:"
   ]
  },
  {
   "cell_type": "markdown",
   "metadata": {
    "slideshow": {
     "slide_type": "slide"
    }
   },
   "source": [
    "# Challenge\n",
    "## Fix the stars in `[D]`\n",
    "\n",
    "But first, put your own stars up. Remember to swap for arrows when finished!!\n",
    "\n",
    "You'll need the pandas docs [http://pandas.pydata.org/pandas-docs/stable/api.html](http://pandas.pydata.org/pandas-docs/stable/api.html)"
   ]
  },
  {
   "cell_type": "markdown",
   "metadata": {
    "slideshow": {
     "slide_type": "notes"
    }
   },
   "source": [
    "So, now we just need to deal with all those `NaN`s. Thankfully, this is something pandas is especially good at. Generally speaking, you can just work with the data and it will ignore those `NaN` entries when you sum, or average, or whatever. However, this table only has `NaN`s in full rows and columns, so we can excise them very neatly. However, this is a challenge for you - fill in the 9 mising characters in `[D]`, marked as asterisks, to complete the script above! You should get printed output showing many rows and columns, all with string or numeric entries. There will a few `NaN`s left though..."
   ]
  },
  {
   "cell_type": "markdown",
   "metadata": {
    "slideshow": {
     "slide_type": "notes"
    }
   },
   "source": [
    "The final few `NaN`s are actually to do with some cells having spaces or so forth in them. Because we used the `all` argument, all cells in the row or column must be `NaN` for it to be removed. But this is really a loading-time problem - how do we tell pandas to recognise a space character as a NaN value (also known as NA values)? Start here... [http://pandas.pydata.org/pandas-docs/stable/generated/pandas.ExcelFile.parse.html#pandas.ExcelFile.parse](http://pandas.pydata.org/pandas-docs/stable/generated/pandas.ExcelFile.parse.html#pandas.ExcelFile.parse)"
   ]
  },
  {
   "cell_type": "markdown",
   "metadata": {
    "slideshow": {
     "slide_type": "slide"
    }
   },
   "source": [
    "# Challenge\n",
    "\n",
    "Can you modify the ExcelFile class's `parse(...)` arguments to treat cells with only a space in them as `NaN`s?"
   ]
  },
  {
   "cell_type": "markdown",
   "metadata": {
    "slideshow": {
     "slide_type": "notes"
    }
   },
   "source": [
    "Don't read through the following code snippets until you work it out!"
   ]
  },
  {
   "cell_type": "markdown",
   "metadata": {
    "slideshow": {
     "slide_type": "slide"
    }
   },
   "source": [
    "# Doing something with the data\n",
    "## Making it all worthwhile"
   ]
  },
  {
   "cell_type": "code",
   "execution_count": null,
   "metadata": {
    "slideshow": {
     "slide_type": "notes"
    }
   },
   "outputs": [],
   "source": [
    "## SECOND VERSION OF SCRIPT\n",
    "\n",
    "import pandas as pd\n",
    "\n",
    "# [A]\n",
    "excel_file = pd.ExcelFile('data/expenditure.xls')\n",
    "\n",
    "# [B] Pick out an interesting table - 2011 value of household expenditure by purpose\n",
    "df = excel_file.parse('Table 1', na_values=' ')\n",
    "\n",
    "# [C] Cut down to the relevant table\n",
    "df = df.ix[4:26]\n",
    "\n",
    "# [D] Strip out empty rows and columns\n",
    "df = df.dropna(how='all', axis=(0, 1))\n",
    "\n",
    "# [E] Reindex/column to desired table\n",
    "# Note that ix lets you mix position (e.g. 0th column) and name (row '4') when not ambiguous\n",
    "df.ix[4, 0] = 0                       # E1\n",
    "df.columns = df.ix[4, :].astype(int)  # E2\n",
    "df = df[1:]                           # E3\n",
    "df.index = df[0]                      # E4\n",
    "df.index.name = \"Category\"            # E5\n",
    "df = df.ix[:, 1:]                     # E6\n",
    "df.columns.name = \"Years\"             # E7"
   ]
  },
  {
   "cell_type": "markdown",
   "metadata": {
    "slideshow": {
     "slide_type": "slide"
    }
   },
   "source": [
    "# Challenge\n",
    "\n",
    "With the rest of the people in your row, have a chat and work out why line `#En` is in the script above, where `n` is the number of your row - 1 nearest the screen, counting towards the back of the room.\n",
    "\n",
    "In Etherpad, where there is a space left for notes on this challenge put as full and descriptive notes as possible."
   ]
  },
  {
   "cell_type": "code",
   "execution_count": null,
   "metadata": {
    "slideshow": {
     "slide_type": "slide"
    }
   },
   "outputs": [],
   "source": [
    "## THIRD VERSION OF SCRIPT\n",
    "\n",
    "import pandas as pd\n",
    "\n",
    "# Pick out an interesting table - 2011 value of household expenditure by purpose\n",
    "df = pd.read_excel(\n",
    "    'data/expenditure.xls',\n",
    "    sheetname='Table 1',\n",
    "    na_values=' ',\n",
    "    header=5,\n",
    "    index_col=0,\n",
    "    parse_cols=(0, 1, 2, 3, 4, 5, 7)\n",
    ").dropna()\n",
    "\n",
    "df.index.name = \"Category\"\n",
    "df.columns.name = \"Years\"\n",
    "df"
   ]
  },
  {
   "cell_type": "markdown",
   "metadata": {
    "slideshow": {
     "slide_type": "notes"
    }
   },
   "source": [
    "Now, there are a couple of take-away points here. First, I'm really irritating. Second, in Python, parsing functions also contain bonus arguments to do standard transformations, whether it's from CSV, Excel, SQL or whatever - always have a quick check through the documentation to see if you are re-inventing the wheel.\n",
    "\n",
    "However, when you need more control - say, you have to play around with messier data than this, or some of those arguments (like desired columns) must be calculated *after* the data is loaded - then the first examples show how you can tweak pandas data to do exactly what you want.\n",
    "\n",
    "A formatting point: while Python determines code blocks entirely by indenting, between parens (and many other places), whitespace does not matter, and so I can spread the parse call over several lines. As `read_excel` returns DataFrame, we can call `dropna()` on the returned value directly and get back the tidied DataFrame."
   ]
  },
  {
   "cell_type": "markdown",
   "metadata": {
    "slideshow": {
     "slide_type": "notes"
    }
   },
   "source": [
    "If we look back at the Excel file, we see that the 2009.1 column is actually a different unit. The first five columns are percentages comparative based on 1971 - so, from 1971 to 2009, the amount spent on food and drink has risen by about 50% (to 151%). In case you're thinking, \"but bread cost a tenth of today's price in 1970!\", bear in mind that this is already adjusted for inflation.\n",
    "\n",
    "The last column is an absolute value in billions sterling (don't ask me why \"current prices\" are marked 2009 in a spreadsheet ONS marked 2011). So maybe a subindex with \"as % of 1971\" and \"in today's currency\" as a breakdown would be handy, rather than mixing up the types in a single row."
   ]
  },
  {
   "cell_type": "code",
   "execution_count": null,
   "metadata": {
    "slideshow": {
     "slide_type": "notes"
    }
   },
   "outputs": [],
   "source": [
    "## FOURTH VERSION OF SCRIPT\n",
    "\n",
    "import pandas as pd\n",
    "\n",
    "# Pick out an interesting table - 2011 value of household expenditure by purpose\n",
    "df = pd.read_excel(\n",
    "    'data/expenditure.xls',\n",
    "    sheetname='Table 1',\n",
    "    na_values=' ',\n",
    "    header=5,\n",
    "    index_col=0,\n",
    "    parse_cols=(0, 1, 2, 3, 4, 5, 7)\n",
    ").dropna()\n",
    "\n",
    "df.index.name = \"Category\"\n",
    "df.columns.name = \"Years\"\n",
    "\n",
    "# [F]\n",
    "df.columns = map(str, df.columns)\n",
    "perc1971 = df.loc[:, '1971': '2009']\n",
    "todaysCurrency = pd.DataFrame({'2009': df['2009.1']})\n",
    "\n",
    "# [G]\n",
    "joined_df = pd.concat((perc1971, todaysCurrency), axis=1, keys=(\"%1971\", \"today's money\"))\n",
    "\n",
    "# [H]\n",
    "stacked_df = joined_df.stack(level=0)\n",
    "\n",
    "# [I]\n",
    "def calculate_prices_in_todays_money_for_row(x):\n",
    "    if x.name[1] != \"today's money\":\n",
    "        return x\n",
    "    \n",
    "    percent_row = (x.name[0], \"%1971\")\n",
    "    ratio = stacked_df.loc[percent_row, :]\n",
    "    ratio2009 = stacked_df.loc[percent_row, '2009']\n",
    "    \n",
    "    return ratio * x['2009'] / ratio2009\n",
    "\n",
    "filled_df = stacked_df.*****(calculate_prices_in_todays_money_for_row, ****=*)\n",
    "\n",
    "# [J]\n",
    "# You only need this line in Jupyter\n",
    "%matplotlib inline\n",
    "\n",
    "transposed_df = filled_df.transpose()\n",
    "transposed_df[\"Communication\"].plot(kind='bar')"
   ]
  },
  {
   "cell_type": "markdown",
   "metadata": {
    "slideshow": {
     "slide_type": "notes"
    }
   },
   "source": [
    "Now, this is a bit more intricate. What we do use pandas understanding of multiple levels of columns. I say 'understanding' because pandas actually knows what to do with sub-columns, what they are, how they are layered and how to manipulate them, as opposed to a basic Excel spreadsheet that just displays what you put in the cells.\n",
    "\n",
    "So, we want to stop mixing up our several ratio columns and our actual currency column..."
   ]
  },
  {
   "cell_type": "code",
   "execution_count": null,
   "metadata": {
    "slideshow": {
     "slide_type": "slide"
    }
   },
   "outputs": [],
   "source": [
    "# Make the cols strings, not integers\n",
    "df.columns = map(str, df.columns)\n",
    "# Pick out all rows and cols 1971 to 2009\n",
    "# (loc lets us identify them by actual row/column names)\n",
    "perc1971 = df.loc[:, '1971': '2009'] # [F]\n",
    "# Pick out the 2009 column, and make it a DataFrame of its own\n",
    "# We do this with a 1-element dictionary (remember those?)\n",
    "todaysCurrency = pd.DataFrame({'2009': df['2009.1']})"
   ]
  },
  {
   "cell_type": "code",
   "execution_count": null,
   "metadata": {
    "slideshow": {
     "slide_type": "slide"
    }
   },
   "outputs": [],
   "source": [
    "perc1971.head()"
   ]
  },
  {
   "cell_type": "code",
   "execution_count": null,
   "metadata": {
    "slideshow": {
     "slide_type": "fragment"
    }
   },
   "outputs": [],
   "source": [
    "todaysCurrency.head()"
   ]
  },
  {
   "cell_type": "markdown",
   "metadata": {
    "slideshow": {
     "slide_type": "notes"
    }
   },
   "source": [
    "That's not a whole lot of use, unless we can put them back together..."
   ]
  },
  {
   "cell_type": "code",
   "execution_count": null,
   "metadata": {
    "slideshow": {
     "slide_type": "slide"
    }
   },
   "outputs": [],
   "source": [
    "joined_df = pd.concat((perc1971, todaysCurrency), axis=1, keys=(\"%1971\", \"today's money\")) # [G]\n",
    "joined_df"
   ]
  },
  {
   "cell_type": "markdown",
   "metadata": {
    "slideshow": {
     "slide_type": "notes"
    }
   },
   "source": [
    "Essentially what we did was give pandas a tuple with the DataFrames we wanted to tied together, and matching keys to group them under (lists instead of tuples would have been fine). We could also have just appended the columns, but we want to distinguish between these two sets of columns, so two-level indexing makes sense. We also passed `axis=1` to indicate we wanted this done to the columns."
   ]
  },
  {
   "cell_type": "markdown",
   "metadata": {
    "slideshow": {
     "slide_type": "notes"
    }
   },
   "source": [
    "Now that's starting to look nicer than ONS published it. There's a bit more touching up of categories we could do (\"totals\" for a start seem to be in the wrong place, and footnote numbers have crept in), but that's an exercise for the overly keen reader.\n",
    "\n",
    "Still... it feels like there's something missing... we have inflation-adjusted ratios of spending vs 1970 (the %1970 columns), but only an actual currency value for 2009. Surely we can expand this to match? Presumably, if £83bn is 151% of 1971 spending (look at 2009 Food column) then people in 1971 spent the equivalent of around £50bn in today's money. That's kind of interesting, if you're into that sort of thing.\n",
    "\n",
    "Now, given that you're all doing PhDs and you're planning to apply these techniques to your data, you'll probably end up in a scenario where you are sitting with a load of empty datacells going, \"hey, I know an interesting way to fill these!\" and it will be approximately as interesting to anybody else as \"I wonder what the inflation adjusted household expenditure on furnishings was in 1971?\" sounds to you right now. So it's a perfect example."
   ]
  },
  {
   "cell_type": "markdown",
   "metadata": {
    "slideshow": {
     "slide_type": "notes"
    }
   },
   "source": [
    "First off - we want to use a tool called \"stacking\". This pivots, turning a level of columns into sub-rows. If that doesn't make much sense to you right now, I'll show you:"
   ]
  },
  {
   "cell_type": "code",
   "execution_count": null,
   "metadata": {
    "slideshow": {
     "slide_type": "slide"
    }
   },
   "outputs": [],
   "source": [
    "joined_df.stack()"
   ]
  },
  {
   "cell_type": "markdown",
   "metadata": {
    "slideshow": {
     "slide_type": "notes"
    }
   },
   "source": [
    "So, structurally, we now have what we want - the level argument told pandas which level (the entry-type or year) to swap into the rows. However, we still want the years as columns, we just want to be able to see \"%1970\" or \"today's money\" for each expenditure category..."
   ]
  },
  {
   "cell_type": "code",
   "execution_count": null,
   "metadata": {
    "slideshow": {
     "slide_type": "slide"
    }
   },
   "outputs": [],
   "source": [
    "stacked_df = joined_df.stack(level=0) # [H]\n",
    "stacked_df"
   ]
  },
  {
   "cell_type": "markdown",
   "metadata": {
    "slideshow": {
     "slide_type": "notes"
    }
   },
   "source": [
    "That's better. That's structurally what we want. Now we have the task of filling in the values."
   ]
  },
  {
   "cell_type": "markdown",
   "metadata": {
    "slideshow": {
     "slide_type": "notes"
    }
   },
   "source": [
    "Well, we will need a function like this:"
   ]
  },
  {
   "cell_type": "code",
   "execution_count": null,
   "metadata": {
    "slideshow": {
     "slide_type": "slide"
    }
   },
   "outputs": [],
   "source": [
    "# [I]\n",
    "def calculate_prices_in_todays_money_for_row(x):\n",
    "    if x.name[1] != \"today's money\":\n",
    "        return x\n",
    "    # ... some stuff here ...\n",
    "    return row_with_the_NaNs_filled_in"
   ]
  },
  {
   "cell_type": "markdown",
   "metadata": {
    "slideshow": {
     "slide_type": "notes"
    }
   },
   "source": [
    "We can then apply this to every row `x`. Note that, when we have a multi-level index, the `x.name` value will be a tuple, with the top-level index as first entry and sub-index as second. That means that this function will simply send back the unmodified row, *unless* it is one of the \"today's money\" ones. So what do we do to fill in the missing values in the row."
   ]
  },
  {
   "cell_type": "markdown",
   "metadata": {
    "slideshow": {
     "slide_type": "slide"
    }
   },
   "source": [
    "For each year $y$:\n",
    "\n",
    "$$ \\frac{\\unicode{163}_y}{\\%_y} = \\frac{\\unicode{163}_{2009}}{\\%_{2009}}$$\n",
    "\n",
    "or, equivalently,\n",
    "\n",
    "$$ \\unicode{163}_y = \\unicode{163}_{2009} \\times \\frac{\\%_y}{\\%_{2009}}$$"
   ]
  },
  {
   "cell_type": "markdown",
   "metadata": {
    "slideshow": {
     "slide_type": "notes"
    }
   },
   "source": [
    "Why? Well think about the first example with 1971:\n",
    "\n",
    "$$ \\unicode{163}_{1971} = \\unicode{163}83\\mathrm{bn} \\times \\frac{100\\%}{151\\%} = \\unicode{163}55\\mathrm{bn}$$"
   ]
  },
  {
   "cell_type": "markdown",
   "metadata": {
    "slideshow": {
     "slide_type": "notes"
    }
   },
   "source": [
    "Pandas is nice, in that we can forget about looping over each year in the row, and just do the sum with the entire row - pandas knows how to add, subtract and multiply them element-wise. If you're still with me so far, great - if not, the take-away is that this could be any complex formula or data-filling trick or otherwise that you need to apply to a subset of your data."
   ]
  },
  {
   "cell_type": "code",
   "execution_count": null,
   "metadata": {
    "slideshow": {
     "slide_type": "slide"
    }
   },
   "outputs": [],
   "source": [
    "# [I]\n",
    "def calculate_prices_in_todays_money_for_row(x):\n",
    "    if x.name[1] != \"today's money\":\n",
    "        return x\n",
    "    \n",
    "    # Get the name of the row with all the percentages\n",
    "    # for this category\n",
    "    percent_row = (x.name[0], \"%1971\")\n",
    "    # Get the values for the percentage ratios\n",
    "    ratio = stacked_df.loc[percent_row, :]\n",
    "    # Get the 2009 one (e.g. for Food this is 151%)\n",
    "    ratio2009 = stacked_df.loc[percent_row, '2009']\n",
    "    \n",
    "    # Do the sum on the last slide\n",
    "    return ratio * x['2009'] / ratio2009"
   ]
  },
  {
   "cell_type": "markdown",
   "metadata": {
    "slideshow": {
     "slide_type": "notes"
    }
   },
   "source": [
    "Here we use the `loc` method, instead of the `iloc` method - this specifically tells pandas we are slicing by **label**, not by **position**. That is, we want the column *called* 2009, not the 2009th column. Like I said, the formula in the return statement is operating on Series (which are like lists or arrays), not scalars, but as long as they are same length Series (`ratio` and `x[2009]`) or are scalars (`ratio2009` is a float), pandas knows to do everything element-wise."
   ]
  },
  {
   "cell_type": "markdown",
   "metadata": {
    "slideshow": {
     "slide_type": "notes"
    }
   },
   "source": [
    "OK, grand. So, what I'm going to do now is let you work out how to actually apply this to the DataFrame. If you're struggling with what is going on, feel free to skip ahead to grab the answer and work back or ask questions about what's just happened - if you feel fairly happy, then this your next exercise. Either way..."
   ]
  },
  {
   "cell_type": "markdown",
   "metadata": {
    "slideshow": {
     "slide_type": "slide"
    }
   },
   "source": [
    "# Put up your stars\n",
    "## Once you are content, put up arrows\n",
    "Or I will be sitting here a very long time.\n",
    "\n",
    "Either\n",
    "\n",
    "1. revise the last few steps (F, G, H, I) or\n",
    "2. try and fill the blanks in the line between `[I]` and `[J]` to apply the filling function to the data.\n",
    "\n",
    "If you find it, put the relevant link to the docs in Etherpad for others!"
   ]
  },
  {
   "cell_type": "markdown",
   "metadata": {
    "slideshow": {
     "slide_type": "notes"
    }
   },
   "source": [
    "So if you got that to run, then you should see a nice plot. If not, copy the relevant line from the script below to the one above and run it."
   ]
  },
  {
   "cell_type": "markdown",
   "metadata": {
    "slideshow": {
     "slide_type": "notes"
    }
   },
   "source": [
    "Now, the following should have no missing values..."
   ]
  },
  {
   "cell_type": "code",
   "execution_count": null,
   "metadata": {
    "slideshow": {
     "slide_type": "slide"
    }
   },
   "outputs": [],
   "source": [
    "filled_df"
   ]
  },
  {
   "cell_type": "markdown",
   "metadata": {
    "slideshow": {
     "slide_type": "notes"
    }
   },
   "source": [
    "Last comment on that script - pandas makes basic plotting very simple - we can just call `plot(...)` on our dataset, and using the `kind` argument can get the value shown in several ways. We do a transpose at `[J]` to get the categories along the plot's `x` axis, and note that pandas understands the concept of sub-indexes, grouping the bars automatically. But this really isn't very useful - currency and ratio are completely different scales!"
   ]
  },
  {
   "cell_type": "markdown",
   "metadata": {
    "slideshow": {
     "slide_type": "slide"
    }
   },
   "source": [
    "# The Plot Thickens\n",
    "## Since my Brutus the Younger pun failed so miserably last time"
   ]
  },
  {
   "cell_type": "code",
   "execution_count": null,
   "metadata": {
    "scrolled": true,
    "slideshow": {
     "slide_type": "notes"
    }
   },
   "outputs": [],
   "source": [
    "## FIFTH VERSION OF SCRIPT\n",
    "\n",
    "import pandas as pd\n",
    "import matplotlib.pyplot as plt\n",
    "\n",
    "# Pick out an interesting table - 2011 value of household expenditure by purpose\n",
    "df = pd.read_excel(\n",
    "    'data/expenditure.xls',\n",
    "    sheetname='Table 1',\n",
    "    na_values=' ',\n",
    "    header=5,\n",
    "    index_col=0,\n",
    "    parse_cols=(0, 1, 2, 3, 4, 5, 7)\n",
    ").dropna()\n",
    "\n",
    "# Uncommented for presenting only!! Commented version at end of presentation\n",
    "df.index.name = \"Category\"\n",
    "df.columns = map(str, df.columns)\n",
    "df.columns.name = \"Years\"\n",
    "perc1971 = df.loc[:, '1971': '2009']\n",
    "todaysCurrency = pd.DataFrame({'2009': df['2009.1']})\n",
    "df = pd.concat((perc1971, todaysCurrency), axis=1, keys=(\"%1971\", \"today's money\"))\n",
    "df = df.stack(level=0)\n",
    "\n",
    "def calculate_prices_in_todays_money_for_row(x):\n",
    "    if x.name[1] != 'today':\n",
    "        return x\n",
    "    \n",
    "    percent_row = (x.name[0], '%1971')\n",
    "    ratio = df.loc[percent_row, :]\n",
    "    ratio2009 = df.loc[percent_row, '2009']\n",
    "    \n",
    "    return ratio * x['2009'] / ratio2009\n",
    "\n",
    "df = df.apply(calculate_prices_in_todays_money_for_row, axis=1)\n",
    "\n",
    "# You only need this line in Jupyter\n",
    "%matplotlib inline\n",
    "\n",
    "# [K]\n",
    "fig = plt.figure()\n",
    "\n",
    "# Create a set of axes\n",
    "ax_left = fig.add_subplot(111)\n",
    "# And another sharing an x-axis\n",
    "ax_right = ax_left.twinx()\n",
    "\n",
    "# Grab a specific category, just to be clearer\n",
    "category = df.transpose()[\"Communication\"]\n",
    "\n",
    "# Show bars for both the 1971% ratio (left y-axis) and today's money (right y-axis)\n",
    "category[\"%1971\"].plot(kind='bar', ax=ax_left)\n",
    "category[\"today's money\"].plot(kind='bar', ax=ax_right, color='red')\n",
    "plt.show()"
   ]
  },
  {
   "cell_type": "markdown",
   "metadata": {
    "slideshow": {
     "slide_type": "notes"
    }
   },
   "source": [
    "Now this script is getting a bit longer - don't worry, there is a tidier version at the end (not massively tidied, just the kind of quick tidy that it is totally reasonable to expect you to do when you're doing PhD coding!) Anyhow, skip down to the plotting part `[K]`"
   ]
  },
  {
   "cell_type": "code",
   "execution_count": null,
   "metadata": {
    "slideshow": {
     "slide_type": "slide"
    }
   },
   "outputs": [],
   "source": [
    "# Create a set of axes\n",
    "ax_left = fig.add_subplot(111)\n",
    "# And another sharing an x-axis\n",
    "ax_right = ax_left.twinx()"
   ]
  },
  {
   "cell_type": "markdown",
   "metadata": {
    "slideshow": {
     "slide_type": "notes"
    }
   },
   "source": [
    "This trick here allows you to add two scales to a graph - one on the right, one on the left. Now pandas can show both bars (overlapping) and scaled correctly! Try running the script..."
   ]
  },
  {
   "cell_type": "markdown",
   "metadata": {
    "slideshow": {
     "slide_type": "notes"
    }
   },
   "source": [
    "Something strange is going on here - we only see one set of bars. In fact, this is correct, because the currency is simply a scaling of the %1971 column - that's how we calculated it - then when we scale the bars we made to the same overall size on the plot, shock and horror, they match. This isn't a maths lesson, so if this confuses you or is unexpected, that isn't core to what's happening on a programming level, rather the kind of thing you might come across in your data analysis, dealing with interpolated or filled data."
   ]
  },
  {
   "cell_type": "markdown",
   "metadata": {
    "slideshow": {
     "slide_type": "notes"
    }
   },
   "source": [
    "In any case, plotting two sets of identical bars on different scales is clearly pretty useless. What would be more interesting would be, rather than looking at inflation-adjusted ratio and inflation-adjusted pound sterling price, how about inflation-adjusted ratio and actual price payed over the counter in 1971?\n",
    "\n",
    "While I wait for the clamour to die down and you all to take your seats again (make sure you get the party poppers off the lights first), we'll start thinking of a way to do that..."
   ]
  },
  {
   "cell_type": "markdown",
   "metadata": {
    "slideshow": {
     "slide_type": "slide"
    }
   },
   "source": [
    "# To infinity and beyond\n",
    "## Integrate with other sources\n",
    "\n",
    "For the next bit, we will need to install **Quandl** via pip3.\n",
    "\n",
    "Have a quick look here [https://www.quandl.com/collections/uk/uk-inflation](https://www.quandl.com/collections/uk/uk-inflation)"
   ]
  },
  {
   "cell_type": "markdown",
   "metadata": {
    "slideshow": {
     "slide_type": "notes"
    }
   },
   "source": [
    "Quandl is an online service that provides Python bindings to grab its online data (using JSON, as is standard nowadays). Note that, you can make only 50 calls a day, so an extra line or two to save a dump when you first use it (and only call again if the dump is missing) will give you extra mileage. However, we are going to cheat and just call it once manually..."
   ]
  },
  {
   "cell_type": "code",
   "execution_count": 1,
   "metadata": {
    "slideshow": {
     "slide_type": "slide"
    }
   },
   "outputs": [
    {
     "data": {
      "text/html": [
       "<div>\n",
       "<table border=\"1\" class=\"dataframe\">\n",
       "  <thead>\n",
       "    <tr style=\"text-align: right;\">\n",
       "      <th></th>\n",
       "      <th>HARMONIZED CPI (INDEX NUMBER)</th>\n",
       "      <th>CPI: ALL ITEMS (INDEX NUMBER)</th>\n",
       "      <th>CPI % CHANGE (PERCENT PER ANNU)</th>\n",
       "    </tr>\n",
       "    <tr>\n",
       "      <th>Date</th>\n",
       "      <th></th>\n",
       "      <th></th>\n",
       "      <th></th>\n",
       "    </tr>\n",
       "  </thead>\n",
       "  <tbody>\n",
       "    <tr>\n",
       "      <th>1948-12-31</th>\n",
       "      <td>NaN</td>\n",
       "      <td>4.42594</td>\n",
       "      <td>NaN</td>\n",
       "    </tr>\n",
       "    <tr>\n",
       "      <th>1949-12-31</th>\n",
       "      <td>NaN</td>\n",
       "      <td>4.56534</td>\n",
       "      <td>3.149610</td>\n",
       "    </tr>\n",
       "    <tr>\n",
       "      <th>1950-12-31</th>\n",
       "      <td>NaN</td>\n",
       "      <td>4.66989</td>\n",
       "      <td>2.290080</td>\n",
       "    </tr>\n",
       "    <tr>\n",
       "      <th>1951-12-31</th>\n",
       "      <td>NaN</td>\n",
       "      <td>5.12294</td>\n",
       "      <td>9.701490</td>\n",
       "    </tr>\n",
       "    <tr>\n",
       "      <th>1952-12-31</th>\n",
       "      <td>NaN</td>\n",
       "      <td>5.43659</td>\n",
       "      <td>6.122450</td>\n",
       "    </tr>\n",
       "    <tr>\n",
       "      <th>1953-12-31</th>\n",
       "      <td>NaN</td>\n",
       "      <td>5.54114</td>\n",
       "      <td>1.923080</td>\n",
       "    </tr>\n",
       "    <tr>\n",
       "      <th>1954-12-31</th>\n",
       "      <td>NaN</td>\n",
       "      <td>5.64569</td>\n",
       "      <td>1.886790</td>\n",
       "    </tr>\n",
       "    <tr>\n",
       "      <th>1955-12-31</th>\n",
       "      <td>NaN</td>\n",
       "      <td>5.81994</td>\n",
       "      <td>3.086420</td>\n",
       "    </tr>\n",
       "    <tr>\n",
       "      <th>1956-12-31</th>\n",
       "      <td>NaN</td>\n",
       "      <td>6.06388</td>\n",
       "      <td>4.191620</td>\n",
       "    </tr>\n",
       "    <tr>\n",
       "      <th>1957-12-31</th>\n",
       "      <td>NaN</td>\n",
       "      <td>6.20619</td>\n",
       "      <td>2.346740</td>\n",
       "    </tr>\n",
       "    <tr>\n",
       "      <th>1958-12-31</th>\n",
       "      <td>NaN</td>\n",
       "      <td>6.38334</td>\n",
       "      <td>2.854470</td>\n",
       "    </tr>\n",
       "    <tr>\n",
       "      <th>1959-12-31</th>\n",
       "      <td>NaN</td>\n",
       "      <td>6.42690</td>\n",
       "      <td>0.682439</td>\n",
       "    </tr>\n",
       "    <tr>\n",
       "      <th>1960-12-31</th>\n",
       "      <td>NaN</td>\n",
       "      <td>6.49080</td>\n",
       "      <td>0.994126</td>\n",
       "    </tr>\n",
       "    <tr>\n",
       "      <th>1961-12-31</th>\n",
       "      <td>NaN</td>\n",
       "      <td>6.72313</td>\n",
       "      <td>3.579420</td>\n",
       "    </tr>\n",
       "    <tr>\n",
       "      <th>1962-12-31</th>\n",
       "      <td>NaN</td>\n",
       "      <td>6.99902</td>\n",
       "      <td>4.103670</td>\n",
       "    </tr>\n",
       "    <tr>\n",
       "      <th>1963-12-31</th>\n",
       "      <td>NaN</td>\n",
       "      <td>7.14423</td>\n",
       "      <td>2.074690</td>\n",
       "    </tr>\n",
       "    <tr>\n",
       "      <th>1964-12-31</th>\n",
       "      <td>NaN</td>\n",
       "      <td>7.37366</td>\n",
       "      <td>3.211380</td>\n",
       "    </tr>\n",
       "    <tr>\n",
       "      <th>1965-12-31</th>\n",
       "      <td>NaN</td>\n",
       "      <td>7.72797</td>\n",
       "      <td>4.805040</td>\n",
       "    </tr>\n",
       "    <tr>\n",
       "      <th>1966-12-31</th>\n",
       "      <td>NaN</td>\n",
       "      <td>8.03000</td>\n",
       "      <td>3.908310</td>\n",
       "    </tr>\n",
       "    <tr>\n",
       "      <th>1967-12-31</th>\n",
       "      <td>NaN</td>\n",
       "      <td>8.22458</td>\n",
       "      <td>2.423150</td>\n",
       "    </tr>\n",
       "    <tr>\n",
       "      <th>1968-12-31</th>\n",
       "      <td>NaN</td>\n",
       "      <td>8.61374</td>\n",
       "      <td>4.731640</td>\n",
       "    </tr>\n",
       "    <tr>\n",
       "      <th>1969-12-31</th>\n",
       "      <td>NaN</td>\n",
       "      <td>9.08421</td>\n",
       "      <td>5.461900</td>\n",
       "    </tr>\n",
       "    <tr>\n",
       "      <th>1970-12-31</th>\n",
       "      <td>NaN</td>\n",
       "      <td>9.66214</td>\n",
       "      <td>6.361890</td>\n",
       "    </tr>\n",
       "    <tr>\n",
       "      <th>1971-12-31</th>\n",
       "      <td>NaN</td>\n",
       "      <td>10.57110</td>\n",
       "      <td>9.407870</td>\n",
       "    </tr>\n",
       "    <tr>\n",
       "      <th>1972-12-31</th>\n",
       "      <td>NaN</td>\n",
       "      <td>11.32040</td>\n",
       "      <td>7.087910</td>\n",
       "    </tr>\n",
       "    <tr>\n",
       "      <th>1973-12-31</th>\n",
       "      <td>NaN</td>\n",
       "      <td>12.36300</td>\n",
       "      <td>9.209850</td>\n",
       "    </tr>\n",
       "    <tr>\n",
       "      <th>1974-12-31</th>\n",
       "      <td>NaN</td>\n",
       "      <td>14.32910</td>\n",
       "      <td>15.903200</td>\n",
       "    </tr>\n",
       "    <tr>\n",
       "      <th>1975-12-31</th>\n",
       "      <td>NaN</td>\n",
       "      <td>17.80180</td>\n",
       "      <td>24.235100</td>\n",
       "    </tr>\n",
       "    <tr>\n",
       "      <th>1976-12-31</th>\n",
       "      <td>NaN</td>\n",
       "      <td>20.74490</td>\n",
       "      <td>16.532600</td>\n",
       "    </tr>\n",
       "    <tr>\n",
       "      <th>1977-12-31</th>\n",
       "      <td>NaN</td>\n",
       "      <td>24.03960</td>\n",
       "      <td>15.882000</td>\n",
       "    </tr>\n",
       "    <tr>\n",
       "      <th>...</th>\n",
       "      <td>...</td>\n",
       "      <td>...</td>\n",
       "      <td>...</td>\n",
       "    </tr>\n",
       "    <tr>\n",
       "      <th>1980-12-31</th>\n",
       "      <td>NaN</td>\n",
       "      <td>34.82220</td>\n",
       "      <td>17.970600</td>\n",
       "    </tr>\n",
       "    <tr>\n",
       "      <th>1981-12-31</th>\n",
       "      <td>NaN</td>\n",
       "      <td>38.95910</td>\n",
       "      <td>11.879800</td>\n",
       "    </tr>\n",
       "    <tr>\n",
       "      <th>1982-12-31</th>\n",
       "      <td>NaN</td>\n",
       "      <td>42.30590</td>\n",
       "      <td>8.590530</td>\n",
       "    </tr>\n",
       "    <tr>\n",
       "      <th>1983-12-31</th>\n",
       "      <td>NaN</td>\n",
       "      <td>44.25490</td>\n",
       "      <td>4.607020</td>\n",
       "    </tr>\n",
       "    <tr>\n",
       "      <th>1984-12-31</th>\n",
       "      <td>NaN</td>\n",
       "      <td>46.44700</td>\n",
       "      <td>4.953410</td>\n",
       "    </tr>\n",
       "    <tr>\n",
       "      <th>1985-12-31</th>\n",
       "      <td>NaN</td>\n",
       "      <td>49.26420</td>\n",
       "      <td>6.065420</td>\n",
       "    </tr>\n",
       "    <tr>\n",
       "      <th>1986-12-31</th>\n",
       "      <td>NaN</td>\n",
       "      <td>50.95280</td>\n",
       "      <td>3.427610</td>\n",
       "    </tr>\n",
       "    <tr>\n",
       "      <th>1987-12-31</th>\n",
       "      <td>NaN</td>\n",
       "      <td>53.06680</td>\n",
       "      <td>4.148920</td>\n",
       "    </tr>\n",
       "    <tr>\n",
       "      <th>1988-12-31</th>\n",
       "      <td>63.4911</td>\n",
       "      <td>55.67130</td>\n",
       "      <td>4.907980</td>\n",
       "    </tr>\n",
       "    <tr>\n",
       "      <th>1989-12-31</th>\n",
       "      <td>66.7953</td>\n",
       "      <td>60.01220</td>\n",
       "      <td>7.797270</td>\n",
       "    </tr>\n",
       "    <tr>\n",
       "      <th>1990-12-31</th>\n",
       "      <td>71.4872</td>\n",
       "      <td>65.69870</td>\n",
       "      <td>9.475590</td>\n",
       "    </tr>\n",
       "    <tr>\n",
       "      <th>1991-12-31</th>\n",
       "      <td>76.8693</td>\n",
       "      <td>69.54460</td>\n",
       "      <td>5.853980</td>\n",
       "    </tr>\n",
       "    <tr>\n",
       "      <th>1992-12-31</th>\n",
       "      <td>80.1220</td>\n",
       "      <td>72.14050</td>\n",
       "      <td>3.732600</td>\n",
       "    </tr>\n",
       "    <tr>\n",
       "      <th>1993-12-31</th>\n",
       "      <td>82.1486</td>\n",
       "      <td>73.26910</td>\n",
       "      <td>1.564470</td>\n",
       "    </tr>\n",
       "    <tr>\n",
       "      <th>1994-12-31</th>\n",
       "      <td>83.7713</td>\n",
       "      <td>75.08360</td>\n",
       "      <td>2.476450</td>\n",
       "    </tr>\n",
       "    <tr>\n",
       "      <th>1995-12-31</th>\n",
       "      <td>85.9887</td>\n",
       "      <td>77.64470</td>\n",
       "      <td>3.411000</td>\n",
       "    </tr>\n",
       "    <tr>\n",
       "      <th>1996-12-31</th>\n",
       "      <td>88.1107</td>\n",
       "      <td>79.54590</td>\n",
       "      <td>2.448710</td>\n",
       "    </tr>\n",
       "    <tr>\n",
       "      <th>1997-12-31</th>\n",
       "      <td>89.7041</td>\n",
       "      <td>82.03760</td>\n",
       "      <td>3.132330</td>\n",
       "    </tr>\n",
       "    <tr>\n",
       "      <th>1998-12-31</th>\n",
       "      <td>91.1065</td>\n",
       "      <td>84.84180</td>\n",
       "      <td>3.418170</td>\n",
       "    </tr>\n",
       "    <tr>\n",
       "      <th>1999-12-31</th>\n",
       "      <td>92.3327</td>\n",
       "      <td>86.16140</td>\n",
       "      <td>1.555390</td>\n",
       "    </tr>\n",
       "    <tr>\n",
       "      <th>2000-12-31</th>\n",
       "      <td>93.0578</td>\n",
       "      <td>88.68340</td>\n",
       "      <td>2.927100</td>\n",
       "    </tr>\n",
       "    <tr>\n",
       "      <th>2001-12-31</th>\n",
       "      <td>94.2079</td>\n",
       "      <td>90.29820</td>\n",
       "      <td>1.820850</td>\n",
       "    </tr>\n",
       "    <tr>\n",
       "      <th>2002-12-31</th>\n",
       "      <td>95.3913</td>\n",
       "      <td>91.77410</td>\n",
       "      <td>1.634460</td>\n",
       "    </tr>\n",
       "    <tr>\n",
       "      <th>2003-12-31</th>\n",
       "      <td>96.6914</td>\n",
       "      <td>94.44810</td>\n",
       "      <td>2.913630</td>\n",
       "    </tr>\n",
       "    <tr>\n",
       "      <th>2004-12-31</th>\n",
       "      <td>97.9915</td>\n",
       "      <td>97.24790</td>\n",
       "      <td>2.964430</td>\n",
       "    </tr>\n",
       "    <tr>\n",
       "      <th>2005-12-31</th>\n",
       "      <td>100.0000</td>\n",
       "      <td>100.00000</td>\n",
       "      <td>2.829980</td>\n",
       "    </tr>\n",
       "    <tr>\n",
       "      <th>2006-12-31</th>\n",
       "      <td>102.3340</td>\n",
       "      <td>103.19500</td>\n",
       "      <td>3.194860</td>\n",
       "    </tr>\n",
       "    <tr>\n",
       "      <th>2007-12-31</th>\n",
       "      <td>104.7090</td>\n",
       "      <td>107.60500</td>\n",
       "      <td>4.273760</td>\n",
       "    </tr>\n",
       "    <tr>\n",
       "      <th>2008-12-31</th>\n",
       "      <td>108.4920</td>\n",
       "      <td>111.90300</td>\n",
       "      <td>3.993710</td>\n",
       "    </tr>\n",
       "    <tr>\n",
       "      <th>2009-12-31</th>\n",
       "      <td>110.8430</td>\n",
       "      <td>111.28200</td>\n",
       "      <td>-0.554715</td>\n",
       "    </tr>\n",
       "  </tbody>\n",
       "</table>\n",
       "<p>62 rows × 3 columns</p>\n",
       "</div>"
      ],
      "text/plain": [
       "            HARMONIZED CPI (INDEX NUMBER)  CPI: ALL ITEMS (INDEX NUMBER)  \\\n",
       "Date                                                                       \n",
       "1948-12-31                            NaN                        4.42594   \n",
       "1949-12-31                            NaN                        4.56534   \n",
       "1950-12-31                            NaN                        4.66989   \n",
       "1951-12-31                            NaN                        5.12294   \n",
       "1952-12-31                            NaN                        5.43659   \n",
       "1953-12-31                            NaN                        5.54114   \n",
       "1954-12-31                            NaN                        5.64569   \n",
       "1955-12-31                            NaN                        5.81994   \n",
       "1956-12-31                            NaN                        6.06388   \n",
       "1957-12-31                            NaN                        6.20619   \n",
       "1958-12-31                            NaN                        6.38334   \n",
       "1959-12-31                            NaN                        6.42690   \n",
       "1960-12-31                            NaN                        6.49080   \n",
       "1961-12-31                            NaN                        6.72313   \n",
       "1962-12-31                            NaN                        6.99902   \n",
       "1963-12-31                            NaN                        7.14423   \n",
       "1964-12-31                            NaN                        7.37366   \n",
       "1965-12-31                            NaN                        7.72797   \n",
       "1966-12-31                            NaN                        8.03000   \n",
       "1967-12-31                            NaN                        8.22458   \n",
       "1968-12-31                            NaN                        8.61374   \n",
       "1969-12-31                            NaN                        9.08421   \n",
       "1970-12-31                            NaN                        9.66214   \n",
       "1971-12-31                            NaN                       10.57110   \n",
       "1972-12-31                            NaN                       11.32040   \n",
       "1973-12-31                            NaN                       12.36300   \n",
       "1974-12-31                            NaN                       14.32910   \n",
       "1975-12-31                            NaN                       17.80180   \n",
       "1976-12-31                            NaN                       20.74490   \n",
       "1977-12-31                            NaN                       24.03960   \n",
       "...                                   ...                            ...   \n",
       "1980-12-31                            NaN                       34.82220   \n",
       "1981-12-31                            NaN                       38.95910   \n",
       "1982-12-31                            NaN                       42.30590   \n",
       "1983-12-31                            NaN                       44.25490   \n",
       "1984-12-31                            NaN                       46.44700   \n",
       "1985-12-31                            NaN                       49.26420   \n",
       "1986-12-31                            NaN                       50.95280   \n",
       "1987-12-31                            NaN                       53.06680   \n",
       "1988-12-31                        63.4911                       55.67130   \n",
       "1989-12-31                        66.7953                       60.01220   \n",
       "1990-12-31                        71.4872                       65.69870   \n",
       "1991-12-31                        76.8693                       69.54460   \n",
       "1992-12-31                        80.1220                       72.14050   \n",
       "1993-12-31                        82.1486                       73.26910   \n",
       "1994-12-31                        83.7713                       75.08360   \n",
       "1995-12-31                        85.9887                       77.64470   \n",
       "1996-12-31                        88.1107                       79.54590   \n",
       "1997-12-31                        89.7041                       82.03760   \n",
       "1998-12-31                        91.1065                       84.84180   \n",
       "1999-12-31                        92.3327                       86.16140   \n",
       "2000-12-31                        93.0578                       88.68340   \n",
       "2001-12-31                        94.2079                       90.29820   \n",
       "2002-12-31                        95.3913                       91.77410   \n",
       "2003-12-31                        96.6914                       94.44810   \n",
       "2004-12-31                        97.9915                       97.24790   \n",
       "2005-12-31                       100.0000                      100.00000   \n",
       "2006-12-31                       102.3340                      103.19500   \n",
       "2007-12-31                       104.7090                      107.60500   \n",
       "2008-12-31                       108.4920                      111.90300   \n",
       "2009-12-31                       110.8430                      111.28200   \n",
       "\n",
       "            CPI % CHANGE (PERCENT PER ANNU)  \n",
       "Date                                         \n",
       "1948-12-31                              NaN  \n",
       "1949-12-31                         3.149610  \n",
       "1950-12-31                         2.290080  \n",
       "1951-12-31                         9.701490  \n",
       "1952-12-31                         6.122450  \n",
       "1953-12-31                         1.923080  \n",
       "1954-12-31                         1.886790  \n",
       "1955-12-31                         3.086420  \n",
       "1956-12-31                         4.191620  \n",
       "1957-12-31                         2.346740  \n",
       "1958-12-31                         2.854470  \n",
       "1959-12-31                         0.682439  \n",
       "1960-12-31                         0.994126  \n",
       "1961-12-31                         3.579420  \n",
       "1962-12-31                         4.103670  \n",
       "1963-12-31                         2.074690  \n",
       "1964-12-31                         3.211380  \n",
       "1965-12-31                         4.805040  \n",
       "1966-12-31                         3.908310  \n",
       "1967-12-31                         2.423150  \n",
       "1968-12-31                         4.731640  \n",
       "1969-12-31                         5.461900  \n",
       "1970-12-31                         6.361890  \n",
       "1971-12-31                         9.407870  \n",
       "1972-12-31                         7.087910  \n",
       "1973-12-31                         9.209850  \n",
       "1974-12-31                        15.903200  \n",
       "1975-12-31                        24.235100  \n",
       "1976-12-31                        16.532600  \n",
       "1977-12-31                        15.882000  \n",
       "...                                     ...  \n",
       "1980-12-31                        17.970600  \n",
       "1981-12-31                        11.879800  \n",
       "1982-12-31                         8.590530  \n",
       "1983-12-31                         4.607020  \n",
       "1984-12-31                         4.953410  \n",
       "1985-12-31                         6.065420  \n",
       "1986-12-31                         3.427610  \n",
       "1987-12-31                         4.148920  \n",
       "1988-12-31                         4.907980  \n",
       "1989-12-31                         7.797270  \n",
       "1990-12-31                         9.475590  \n",
       "1991-12-31                         5.853980  \n",
       "1992-12-31                         3.732600  \n",
       "1993-12-31                         1.564470  \n",
       "1994-12-31                         2.476450  \n",
       "1995-12-31                         3.411000  \n",
       "1996-12-31                         2.448710  \n",
       "1997-12-31                         3.132330  \n",
       "1998-12-31                         3.418170  \n",
       "1999-12-31                         1.555390  \n",
       "2000-12-31                         2.927100  \n",
       "2001-12-31                         1.820850  \n",
       "2002-12-31                         1.634460  \n",
       "2003-12-31                         2.913630  \n",
       "2004-12-31                         2.964430  \n",
       "2005-12-31                         2.829980  \n",
       "2006-12-31                         3.194860  \n",
       "2007-12-31                         4.273760  \n",
       "2008-12-31                         3.993710  \n",
       "2009-12-31                        -0.554715  \n",
       "\n",
       "[62 rows x 3 columns]"
      ]
     },
     "execution_count": 1,
     "metadata": {},
     "output_type": "execute_result"
    }
   ],
   "source": [
    "import quandl\n",
    "cpi = quandl.get(\"UIFS/CPI_GBR\", returns=\"pandas\")\n",
    "cpi"
   ]
  },
  {
   "cell_type": "markdown",
   "metadata": {
    "slideshow": {
     "slide_type": "notes"
    }
   },
   "source": [
    "So what might we want to do with that? Well, the consumer price index (CPI) gives us a way to adjust for inflation. Basically, it says £4.42 in 1948 would buy you the same amount of basic goods as £111.28 in 2009. So we can use this to turn our inflation-adjusted values back into non-inflation-adjusted values - we divide by the CPI. To make it a bit clearer, if we say £55bn was spent on Food in 1971, *in today's money* then we can say (approximately) $$ \\unicode{163}55\\mathrm{bn} \\times \\frac{CPI_{1971}}{CPI_{today}}$$ was spent in 1971-money. Ideally, if you looked up some government record from 1971, the first year of decimal UK currency, and it said \"Ye Olde Expenditure for This Yeare of the HouseHoldes on the Foods and Stuffe of Similar Likeness\", then that should be about the number it says. Please note, 1971 isn't that long ago - I'm just about in that generation, so it's not allowed to be.\n",
    "\n",
    "Again, if you find this mysterious, you can just use the formula like any other mysterious statistical formula - this isn't a maths course, we just need it for sensibly coding the analysis!"
   ]
  },
  {
   "cell_type": "code",
   "execution_count": null,
   "metadata": {
    "slideshow": {
     "slide_type": "notes"
    }
   },
   "outputs": [],
   "source": [
    "## SIXTH VERSION OF SCRIPT\n",
    "\n",
    "import pandas as pd\n",
    "import matplotlib.pyplot as plt\n",
    "\n",
    "# Pick out an interesting table - 2011 value of household expenditure by purpose\n",
    "df = pd.read_excel(\n",
    "    'data/expenditure.xls',\n",
    "    sheetname='Table 1',\n",
    "    na_values=' ',\n",
    "    header=5,\n",
    "    index_col=0,\n",
    "    parse_cols=(0, 1, 2, 3, 4, 5, 7)\n",
    ").dropna()\n",
    "\n",
    "df.index.name = \"Category\"\n",
    "df.columns = map(str, df.columns)\n",
    "df.columns.name = \"Years\"\n",
    "\n",
    "perc1971 = df.loc[:, '1971': '2009']\n",
    "todaysCurrency = pd.DataFrame({'2009': df['2009.1']})\n",
    "\n",
    "df = pd.concat((perc1971, todaysCurrency), axis=1, keys=(\"%1971\", \"currency\"))\n",
    "stacked_df = df.stack(level=0)\n",
    "\n",
    "# ======= Pretty much the same down to here, only some label changes ======\n",
    "\n",
    "# Switch around so the rows are years\n",
    "df = stacked_df.transpose()\n",
    "\n",
    "# [L]\n",
    "# Turn the rows into actual DateTimeIndex objects\n",
    "df.index = pd.to_datetime(df.index, format=\"%Y\")\n",
    "\n",
    "# [M]\n",
    "# Grab the CPI values from the online database (if you ran this once, you shouldn't need to uncomment it)\n",
    "#cpi = Quandl.get(\"UIFS/CPI_GBR\", returns=\"pandas\")\n",
    "cpi_series = cpi[\"CPI: ALL ITEMS (INDEX NUMBER)\"]\n",
    "\n",
    "# [N]\n",
    "# Create a Series where all the rows are...\n",
    "our_cpi_values = pd.Series(index=df.index)\n",
    "# Create a Series where the indices are... and the rows are...\n",
    "our_cpi_values = pd.concat((cpi_series, our_cpi_values)).sort_index()\n",
    "# After this none of the rows are...\n",
    "our_cpi_values = our_cpi_values.interpolate()\n",
    "# This command...\n",
    "our_cpi_values = our_cpi_values.reindex(df.index)\n",
    "\n",
    "# [O]\n",
    "date2009 = pd.to_datetime(\"2009-01-01 00:00:00\")\n",
    "def calculate_prices_in_old_money_for_col(x):\n",
    "    if x.name[1] != 'currency':\n",
    "        return x\n",
    "    \n",
    "    percent_col = (x.name[0], '%1971')\n",
    "    \n",
    "    ratio = df.loc[:, percent_col]\n",
    "    ratio2009 = df.loc[date2009, percent_col]\n",
    "    \n",
    "    cpi = our_cpi_values\n",
    "    cpi2009 = our_cpi_values[date2009]\n",
    "    return ratio * x[date2009] * cpi / (ratio2009 * cpi2009)\n",
    "\n",
    "df = df.apply(calculate_prices_in_old_money_for_col)\n",
    "\n",
    "# You only need this line in Jupyter\n",
    "%matplotlib inline\n",
    "\n",
    "# Some fancy plotting\n",
    "fig = plt.figure()\n",
    "ax_left = fig.add_subplot(111)\n",
    "ax_right = ax_left.twinx()\n",
    "\n",
    "# Pick the category we want\n",
    "category = df[\"Communication\"]\n",
    "category[\"%1971\"].plot(kind='bar', ax=ax_left, label=\"% of 1971\")\n",
    "category[\"currency\"].plot(kind='bar', ax=ax_right, color='red', label=\"Currency\")\n",
    "\n",
    "# We do a little more decoration this time\n",
    "plt.title(\"Household Expenditure on Communication\")\n",
    "ax_left.legend(loc=2)\n",
    "ax_left.set_ylabel(\"% of 1971 (inflation-adjusted)\")\n",
    "ax_right.legend(loc=9)\n",
    "ax_right.set_ylabel(\"£ bill. (direct comparison)\")\n",
    "\n",
    "# Update the labels in a pretty way\n",
    "labels = df.index.map(lambda t: t.strftime(\"%Y\"))\n",
    "ax_left.set_xticklabels(labels)  # If you want to know why, comment out this line!\n",
    "ax_left.set_xlabel(\"Year\")\n",
    "\n",
    "plt.show()"
   ]
  },
  {
   "cell_type": "markdown",
   "metadata": {
    "slideshow": {
     "slide_type": "notes"
    }
   },
   "source": [
    "The point of this exercise, really, is to show you how you can combine multiple incompatible sources of data in constructive ways that would be extremely hard in other tools. This is just one example - you could be doing this with data from a live feed, or a daily HDF5 astronomical data dump, or a molecular database, anything Python can handle, and bring it into pandas to integrate it with your Excel table.\n",
    "\n",
    "In this particular case, we want to match up the years in the Expenditure data with the timestamps in the CDI data. While you could do this all with the years in columns, to my mind it is neater as the row index, so we start with our stacked dataset and transpose it (run the script above to set up `stacked_df` first):"
   ]
  },
  {
   "cell_type": "code",
   "execution_count": null,
   "metadata": {
    "slideshow": {
     "slide_type": "slide"
    }
   },
   "outputs": [],
   "source": [
    "df = stacked_df.transpose()\n",
    "df"
   ]
  },
  {
   "cell_type": "markdown",
   "metadata": {
    "slideshow": {
     "slide_type": "notes"
    }
   },
   "source": [
    "Now we can get a year, something like this:"
   ]
  },
  {
   "cell_type": "code",
   "execution_count": null,
   "metadata": {
    "slideshow": {
     "slide_type": "slide"
    }
   },
   "outputs": [],
   "source": [
    "df.ix[1971] # instead of stacked_df[1971]"
   ]
  },
  {
   "cell_type": "markdown",
   "metadata": {
    "slideshow": {
     "slide_type": "notes"
    }
   },
   "source": [
    "We are going to learn how to interpolate in time - this has many useful applications and is one of pandas' main strengths. Normally, we would be resampling, say, a broken up series of timestamped measurements to try to estimate some value at daily, hourly, monthly or other regular intervals. Here though, we have one series of timestamps and want to match them to another."
   ]
  },
  {
   "cell_type": "markdown",
   "metadata": {
    "slideshow": {
     "slide_type": "notes"
    }
   },
   "source": [
    "The first step is to make sure pandas knows our Years in the Expenditure table are actually dates, not some random integers."
   ]
  },
  {
   "cell_type": "code",
   "execution_count": null,
   "metadata": {
    "slideshow": {
     "slide_type": "slide"
    }
   },
   "outputs": [],
   "source": [
    "# [L]\n",
    "# Turn the rows into actual DateTimeIndex objects\n",
    "df.index = pd.to_datetime(df.index, format=\"%Y\")\n",
    "df.index"
   ]
  },
  {
   "cell_type": "markdown",
   "metadata": {
    "slideshow": {
     "slide_type": "notes"
    }
   },
   "source": [
    "In one not-so-fell swoop, we convert all of the entries in the index (i.e. row headings, i.e. years) into DateTime objects, and set the index (i.e. the row headings) to the converted values. The pandas output isn't very pretty but it does confirm that. Now what can we do with it?\n",
    "\n",
    "Well, put it with the CPI info..."
   ]
  },
  {
   "cell_type": "code",
   "execution_count": null,
   "metadata": {
    "slideshow": {
     "slide_type": "slide"
    }
   },
   "outputs": [],
   "source": [
    "# [M]\n",
    "cpi[\"CPI: ALL ITEMS (INDEX NUMBER)\"]"
   ]
  },
  {
   "cell_type": "markdown",
   "metadata": {
    "slideshow": {
     "slide_type": "notes"
    }
   },
   "source": [
    "To mix this data together, we need to be able to map dates we have in the DataFrame index with interpolated values from this series... so begins our next challenge!"
   ]
  },
  {
   "cell_type": "markdown",
   "metadata": {
    "slideshow": {
     "slide_type": "slide"
    }
   },
   "source": [
    "# Quiz\n",
    "## What on Earth are we doing in Section `[N]`?\n",
    "\n",
    "Stars up! Fill in missing text for each of the ...s in the section [N] comments above. Update Etherpad for reference! The more detail, the better, and if provide links to the docs for each line.\n",
    "\n",
    "Don't forget stars and arrows!"
   ]
  },
  {
   "cell_type": "code",
   "execution_count": null,
   "metadata": {
    "slideshow": {
     "slide_type": "slide"
    }
   },
   "outputs": [],
   "source": [
    "# Create a Series where all the rows are...\n",
    "our_cpi_values = pd.Series(index=df.index)\n",
    "# Create a Series where the indices are... and the rows are...\n",
    "our_cpi_values = pd.concat((cpi_series, our_cpi_values)).sort_index()\n",
    "# After this none of the rows are...\n",
    "our_cpi_values = our_cpi_values.interpolate()\n",
    "# This command...\n",
    "our_cpi_values = our_cpi_values.reindex(df.index)"
   ]
  },
  {
   "cell_type": "markdown",
   "metadata": {
    "slideshow": {
     "slide_type": "notes"
    }
   },
   "source": [
    "Note that I'm being inefficient and creating new objects every time - if you are dealing with large data and want to reuse your data structures, many pandas operations allow you to pass an argument like `overwrite=True` or `copy=False` to force that behaviour."
   ]
  },
  {
   "cell_type": "code",
   "execution_count": null,
   "metadata": {
    "slideshow": {
     "slide_type": "slide"
    }
   },
   "outputs": [],
   "source": [
    "# [O]\n",
    "date2009 = pd.to_datetime(\"2009-01-01 00:00:00\")\n",
    "def calculate_prices_in_old_money_for_col(x):\n",
    "    if x.name[1] != 'currency':\n",
    "        return x\n",
    "    \n",
    "    percent_col = (x.name[0], '%1971')\n",
    "    \n",
    "    ratio = df.loc[:, percent_col]\n",
    "    ratio2009 = df.loc[date2009, percent_col]\n",
    "    \n",
    "    cpi = our_cpi_values\n",
    "    cpi2009 = our_cpi_values[date2009]\n",
    "    return ratio * x[date2009] * cpi / (ratio2009 * cpi2009)"
   ]
  },
  {
   "cell_type": "markdown",
   "metadata": {
    "slideshow": {
     "slide_type": "notes"
    }
   },
   "source": [
    "This is really just our old function, slightly adjusted to deal with columns and with the `our_cpi_values` variable used, as I described above."
   ]
  },
  {
   "cell_type": "markdown",
   "metadata": {
    "slideshow": {
     "slide_type": "fragment"
    }
   },
   "source": [
    "$$ \\unicode{163}_{y} = \\unicode{163}_{2009} \\times \\frac{\\%_y}{\\%_{2009}} \\times \\frac{\\mathrm{CPI}_y}{\\mathrm{CPI}_{2009}}$$"
   ]
  },
  {
   "cell_type": "markdown",
   "metadata": {
    "slideshow": {
     "slide_type": "notes"
    }
   },
   "source": [
    "This is as complicated as I let this function get. We scale the total figure for 2009 first by the percentage value, then by the CPI."
   ]
  },
  {
   "cell_type": "markdown",
   "metadata": {
    "slideshow": {
     "slide_type": "notes"
    }
   },
   "source": [
    "The rest is broadly the same, we just adjust one or two calls for the fact we now have Years in rows, instead of columns. The last bit is plotting - this one is a little nicer... in particular:"
   ]
  },
  {
   "cell_type": "code",
   "execution_count": null,
   "metadata": {
    "slideshow": {
     "slide_type": "slide"
    }
   },
   "outputs": [],
   "source": [
    "# We do a little more decoration this time\n",
    "plt.title(\"Household Expenditure on Communication\")\n",
    "ax_left.legend(loc=2)\n",
    "ax_left.set_ylabel(\"% of 1971 (inflation-adjusted)\")\n",
    "ax_right.legend(loc=9)\n",
    "ax_right.set_ylabel(\"£ bill. (direct comparison)\")\n",
    "\n",
    "# Update the labels in a pretty way\n",
    "labels = df.index.map(lambda t: t.strftime(\"%Y\"))\n",
    "ax_left.set_xticklabels(labels)  # If you want to know why, comment out this line!\n",
    "ax_left.set_xlabel(\"Year\")"
   ]
  },
  {
   "cell_type": "markdown",
   "metadata": {
    "slideshow": {
     "slide_type": "notes"
    }
   },
   "source": [
    "Here we add some axis labels and so forth. The legend locations are a bit strange - numbers 0 to 10, indicating the preferred location - see the [matplotlib.pyplot.legend](http://matplotlib.org/api/pyplot_api.html#matplotlib.pyplot.legend) docs for the full list of locations.\n",
    "\n",
    "Now, what do we do with the labels? First we take the index, which is a Series (1D array) then we use a member called `map`. This applies a function to each element and returns the mutated list. In this case, our function is a lambda function that takes one argument (a DataTimeIndex) and formats it, just printing the Year component as a string. This is equivalent to:\n",
    "\n",
    "```python\n",
    "    def stringify_date(date):\n",
    "        return date.format(\"%Y\")\n",
    "    \n",
    "    labels = df.index.map(stringify_date)\n",
    "```\n",
    "\n",
    "The lambda function just makes it a bit more neat."
   ]
  },
  {
   "cell_type": "markdown",
   "metadata": {
    "slideshow": {
     "slide_type": "notes"
    }
   },
   "source": [
    "If you run the full script above, you should now see a nice comparison of what people spent on Communications (we got bored with Food and switched) in 1971, in their money, (red) against the inflation-adjusted ratio (blue)."
   ]
  },
  {
   "cell_type": "markdown",
   "metadata": {
    "slideshow": {
     "slide_type": "slide"
    }
   },
   "source": [
    "# The Coup de Grace\n",
    "## Publishable paper to take home"
   ]
  },
  {
   "cell_type": "markdown",
   "metadata": {
    "slideshow": {
     "slide_type": "notes"
    }
   },
   "source": [
    "One last trick, just to round it off and give us a useful analysis that we could pop into a journal and sit back. Lets produce a series of plots in a row, just like that one, for interesting categories - say, \"Communications\", \"Food\" and \"Alcohol &amp; Tobacco\". How have they all changed (a) in relative terms, compared to say, the price of bread/basic goods, and (b) in absolute terms, the number of 1971, 1981, 1991, etc. pounds sterling that changed hands in those years."
   ]
  },
  {
   "cell_type": "code",
   "execution_count": null,
   "metadata": {
    "scrolled": false,
    "slideshow": {
     "slide_type": "notes"
    }
   },
   "outputs": [],
   "source": [
    "## SEVENTH VERSION OF SCRIPT\n",
    "\n",
    "import pandas as pd\n",
    "import matplotlib.pyplot as plt\n",
    "\n",
    "# Pick out an interesting table - 2011 value of household expenditure by purpose\n",
    "df = pd.read_excel(\n",
    "    'data/expenditure.xls',\n",
    "    sheetname='Table 1',\n",
    "    na_values=' ',\n",
    "    header=5,\n",
    "    index_col=0,\n",
    "    parse_cols=(0, 1, 2, 3, 4, 5, 7)\n",
    ").dropna()\n",
    "\n",
    "df.index.name = \"Category\"\n",
    "df.columns = map(str, df.columns)\n",
    "df.columns.name = \"Years\"\n",
    "\n",
    "perc1971 = df.loc[:, '1971': '2009']\n",
    "todaysCurrency = pd.DataFrame({'2009': df['2009.1']})\n",
    "\n",
    "df = pd.concat((perc1971, todaysCurrency), axis=1, keys=(\"%1971\", \"currency\"))\n",
    "df = df.stack(level=0)\n",
    "\n",
    "# Note we have swapped around here!\n",
    "df = df.transpose()\n",
    "\n",
    "# [L]\n",
    "df.index = pd.to_datetime(df.index, format=\"%Y\")\n",
    "\n",
    "# [M]\n",
    "#cpi = quandl.get(\"UIFS/CPI_GBR\", returns=\"pandas\")\n",
    "cpi_series = cpi[\"CPI: ALL ITEMS (INDEX NUMBER)\"]\n",
    "\n",
    "# [N]\n",
    "our_cpi_values = pd.Series(index=df.index)\n",
    "our_cpi_values = pd.concat((cpi_series, our_cpi_values)).sort_index()\n",
    "our_cpi_values = our_cpi_values.interpolate()\n",
    "our_cpi_values = our_cpi_values.reindex(df.index)\n",
    "\n",
    "# [O]\n",
    "date2009 = pd.to_datetime(\"2009-01-01 00:00:00\")\n",
    "def calculate_prices_in_old_money_for_col(x):\n",
    "    if x.name[1] != 'currency':\n",
    "        return x\n",
    "    \n",
    "    percent_col = (x.name[0], '%1971')\n",
    "    \n",
    "    ratio = df.loc[:, percent_col]\n",
    "    ratio2009 = df.loc[date2009, percent_col]\n",
    "    \n",
    "    cpi = our_cpi_values\n",
    "    cpi2009 = our_cpi_values[date2009]\n",
    "    return ratio * x[date2009] * cpi / (ratio2009 * cpi2009)\n",
    "\n",
    "df = df.apply(calculate_prices_in_old_money_for_col)\n",
    "\n",
    "# You only need this line in Jupyter\n",
    "%matplotlib inline\n",
    "\n",
    "categories_of_interest = (\n",
    "    \"Communication\",\n",
    "    \"Food and non-alcoholic beverages\",\n",
    "    \"Alcoholic beverages and tobacco\"\n",
    ")\n",
    "\n",
    "fig = plt.figure(figsize=(20, 5))\n",
    "\n",
    "for i, category_name in enumerate(categories_of_interest):\n",
    "    ax_left = fig.add_subplot(1, len(categories_of_interest), i + 1)\n",
    "    ax_right = ax_left.twinx()\n",
    "\n",
    "    category = df[category_name]\n",
    "    category[\"%1971\"].plot(kind='bar', ax=ax_left, label=\"% of 1971\")\n",
    "    category[\"currency\"].plot(kind='bar', ax=ax_right, color='red', label=\"Currency\")\n",
    "\n",
    "    plt.title(\"Household Expenditure on \" + category_name)\n",
    "    ax_left.legend(loc=2)\n",
    "    ax_left.set_ylabel(\"% of 1971 (inflation-adjusted)\")\n",
    "    ax_right.legend(loc=9)\n",
    "    ax_right.set_ylabel(\"£ bill. (direct comparison)\")\n",
    "\n",
    "    ax_left.set_xticklabels(df.index.map(lambda t: t.strftime(\"%Y\")))\n",
    "    ax_left.set_xlabel(\"Year\")\n",
    "\n",
    "plt.show()"
   ]
  },
  {
   "cell_type": "markdown",
   "metadata": {
    "slideshow": {
     "slide_type": "notes"
    }
   },
   "source": [
    "Nothing significant has changed, right down to the plotting section. At that point, we make sure our figure is a sensible shape for several plots:"
   ]
  },
  {
   "cell_type": "code",
   "execution_count": null,
   "metadata": {
    "slideshow": {
     "slide_type": "fragment"
    }
   },
   "outputs": [],
   "source": [
    "fig = plt.figure(figsize=(20, 5))"
   ]
  },
  {
   "cell_type": "markdown",
   "metadata": {
    "slideshow": {
     "slide_type": "notes"
    }
   },
   "source": [
    "then we loop through our chosen categories, numbering them on the way, and identifying the actual location in the row of plots with `add_subplot`"
   ]
  },
  {
   "cell_type": "code",
   "execution_count": null,
   "metadata": {
    "slideshow": {
     "slide_type": "fragment"
    }
   },
   "outputs": [],
   "source": [
    "for i, category_name in enumerate(categories_of_interest):\n",
    "    ax_left = fig.add_subplot(1, len(categories_of_interest), i + 1)\n",
    "    # ..."
   ]
  },
  {
   "cell_type": "markdown",
   "metadata": {
    "slideshow": {
     "slide_type": "notes"
    }
   },
   "source": [
    "we drop in the category names in a couple of places, and that is it! The wonderful thing about this approach to analysis is extending functionality as we just did, is often very quick and takes minimal changes."
   ]
  },
  {
   "cell_type": "markdown",
   "metadata": {
    "slideshow": {
     "slide_type": "notes"
    }
   },
   "source": [
    "So looking at the final output, what do we see? In all cases, expenditure rises in absolute terms. The UK spends more on everything in absolute terms, year on year. However, with Communication, we see it is growing exponentially, with Alcohol &amp; Tobacco it is logarithmic or maybe even moving towards a steady limit. The inflation-adjusted values in blue are even more emphatic. Communication still seems to be at least polynomial, although the jumps decrease since the early 2000s. Food is on a gradual linear increase, but pretty consistent. Alcohol &amp; Tobacco fell in relative spending terms from 1971, but since the early 2000s has been fairly static.\n",
    "\n",
    "Of course this is far too little data to do any proper analysis, and the approach has been pretty...rough... but this process should show you how you can apply pandas to your research analysis.\n",
    "\n",
    "One last thing - I keep mentioning tidy code and what you saw up there wasn't really it! A two minute run through, provides the much clearer and readable version below:"
   ]
  },
  {
   "cell_type": "code",
   "execution_count": null,
   "metadata": {
    "slideshow": {
     "slide_type": "notes"
    }
   },
   "outputs": [],
   "source": [
    "## FINAL VERSION OF SCRIPT\n",
    "\n",
    "import pandas as pd\n",
    "import matplotlib.pyplot as plt\n",
    "\n",
    "\n",
    "def load_expenditure_data():\n",
    "    \"\"\"Get the ONS expenditure data from an Excel file\"\"\"\n",
    "    \n",
    "    # Load the data from a specific table in the XLS\n",
    "    df = pd.read_excel(\n",
    "        'data/expenditure.xls',\n",
    "        sheetname='Table 1',\n",
    "        na_values=' ',\n",
    "        header=5,\n",
    "        index_col=0,\n",
    "        parse_cols=(0, 1, 2, 3, 4, 5, 7)\n",
    "    ).dropna()\n",
    "\n",
    "    # Split data into two parts - ratio against 1971 and the final column,\n",
    "    # an absolute value of bill. GBP spent (for 2009)\n",
    "    df.columns = map(str, df.columns)\n",
    "    perc1971 = df.loc[:, '1971': '2009']\n",
    "    todaysCurrency = pd.DataFrame({'2009': df['2009.1']})\n",
    "\n",
    "    # Make the columns in each part subcolumns under two headings\n",
    "    df = pd.concat((perc1971, todaysCurrency), axis=1, keys=(\"%1971\", \"currency\"))\n",
    "    \n",
    "    # Swap the %1971 and currency into sub-rows for each category\n",
    "    # At the moment, all our currency data is empty, except for 2009\n",
    "    df = df.stack(level=0)\n",
    "\n",
    "    # We actually want rows to be years\n",
    "    df = df.transpose()\n",
    "\n",
    "    # Name the column and index for clarity\n",
    "    df.columns.name = \"Category\"\n",
    "    df.index.name = \"Years\"\n",
    "\n",
    "    # Turn the years into something pandas knows are dates\n",
    "    df.index = pd.to_datetime(df.index, format=\"%Y\")\n",
    "    \n",
    "    return df\n",
    "\n",
    "\n",
    "def get_cpi_for_dates(dates):\n",
    "    \"\"\"Use an online service to get historical Consumer Price Index data\"\"\"\n",
    "    \n",
    "    # Grab the CPI data from Quandl\n",
    "    #cpi = quandl.get(\"UIFS/CPI_GBR\", returns=\"pandas\")\n",
    "    cpi_series = cpi[\"CPI: ALL ITEMS (INDEX NUMBER)\"]\n",
    "\n",
    "    # Create a Series of NaNs, where the index is the dates we want\n",
    "    our_cpi_values = pd.Series(index=dates)\n",
    "    \n",
    "    # Merge our desired dates into the list we have been given\n",
    "    our_cpi_values = pd.concat((cpi_series, our_cpi_values)).sort_index()\n",
    "    \n",
    "    # Interpolate the online CPI values by date, to get rid of the\n",
    "    # NaNs we merged in\n",
    "    our_cpi_values = our_cpi_values.interpolate()\n",
    "    \n",
    "    # Extract only the dates we want\n",
    "    our_cpi_values = our_cpi_values.reindex(dates)\n",
    "    \n",
    "    return our_cpi_values\n",
    "\n",
    "\n",
    "# For comparisons, we we will need 2009 as a DateTime object\n",
    "date2009 = pd.to_datetime(\"2009-01-01 00:00:00\")\n",
    "def calculate_prices_in_old_money_for_col(x):\n",
    "    \"\"\"Fill in the blank (NaN) entries in a column of currency with the non-inflation-adjusted expenditure\"\"\"\n",
    "    # We only need to alter subcolumns with currency\n",
    "    if x.name[1] != 'currency':\n",
    "        return x\n",
    "    \n",
    "    category = x.name[0]\n",
    "    \n",
    "    # This is the multi-index for the %1971 value under the\n",
    "    # same category as column x\n",
    "    percent_col = (category, '%1971')\n",
    "    \n",
    "    # Get the %1971 values in the category for each year\n",
    "    ratio = df.loc[:, percent_col]\n",
    "    \n",
    "    # Get the %1971 value for 2009\n",
    "    ratio2009 = df.loc[date2009, percent_col]\n",
    "    \n",
    "    # Get the CPI values in each year\n",
    "    cpi = our_cpi_values\n",
    "    \n",
    "    # Get the 2009 CPI value\n",
    "    cpi2009 = our_cpi_values[date2009]\n",
    "    \n",
    "    # The currency value is scaled by the CPI difference\n",
    "    # from 2009 and the change in ratio from 2009\n",
    "    x = ratio * x[date2009] * cpi / (ratio2009 * cpi2009)\n",
    "    \n",
    "    return x\n",
    "\n",
    "\n",
    "# You only need this line in Jupyter\n",
    "%matplotlib inline\n",
    "def plot_categories(df, categories_of_interest):\n",
    "    \"\"\"\n",
    "    We plot out a series of figures showing the currency and %1971\n",
    "    values for a series of expenditure categories\n",
    "    \"\"\"\n",
    "    \n",
    "    # Set a sensible size of figure\n",
    "    fig = plt.figure(figsize=(20, 5))\n",
    "    number_of_plots = len(categories_of_interest)\n",
    "\n",
    "    # Go through each category desired and create a new subplot\n",
    "    for i, category_name in enumerate(categories_of_interest):\n",
    "        # We create the figure as the (i+1)th place in a (1 x number_of_plots) grid\n",
    "        ax_left = fig.add_subplot(1, number_of_plots, i + 1)\n",
    "        \n",
    "        # We want another ax sharing the same x-axis\n",
    "        ax_right = ax_left.twinx()\n",
    "\n",
    "        # Get the category object from the DataFrame\n",
    "        category = df[category_name]\n",
    "        \n",
    "        # Plot the %1971 bar using LHS\n",
    "        category[\"%1971\"].plot(kind='bar', ax=ax_left, label=\"% of 1971\")\n",
    "        \n",
    "        # Plot the currency using RHS y-axis\n",
    "        category[\"currency\"].plot(kind='bar', ax=ax_right, color='red', label=\"Currency\")\n",
    "\n",
    "        plt.title(\"Household Expenditure on \" + category_name)\n",
    "        \n",
    "        # Put the axes legends in the upper left (see docs for loc values)\n",
    "        ax_left.legend(loc=2)\n",
    "        ax_left.set_ylabel(\"% of 1971 (inflation-adjusted)\")\n",
    "        ax_right.legend(loc=9)\n",
    "        ax_right.set_ylabel(\"£ bill. (direct comparison)\")\n",
    "\n",
    "        # Convert the DateTime objects to something pretty\n",
    "        ax_left.set_xticklabels(df.index.map(lambda t: t.strftime(\"%Y\")))\n",
    "        ax_left.set_xlabel(\"Year\")\n",
    "\n",
    "    plt.show()\n",
    "\n",
    "\n",
    "# Get our data in\n",
    "df = load_expenditure_data()\n",
    "\n",
    "# Use the Consumer Price Index to work out what the non-inflation-adjusted prices were\n",
    "our_cpi_values = get_cpi_for_dates(df.index)\n",
    "\n",
    "# Update the DataFrame by scaling for CPI\n",
    "df = df.apply(calculate_prices_in_old_money_for_col)\n",
    "\n",
    "# Pick a few categories we want plotted\n",
    "categories_of_interest = (\n",
    "    \"Communication\",\n",
    "    \"Food and non-alcoholic beverages\",\n",
    "    \"Alcoholic beverages and tobacco\"\n",
    ")\n",
    "\n",
    "# Display the grid of plots\n",
    "plot_categories(df, categories_of_interest)"
   ]
  },
  {
   "cell_type": "markdown",
   "metadata": {},
   "source": [
    "Well, that's not _quite_ the final version of the script. We wouldn't want to leave you thinking all your pretty business intelligence (BI) tools with their interactive data dashboards are way flasher than what Python has (things like PowerBI and Tableau, which you may or may not have come across).\n",
    "\n",
    "This is departing into a whole separate realm of interactive web-based plotting, so we will simply show how a few changes to use the plotting library, _Bokeh_ (pronounced \"bouquet\", as in \"Hyacinth\" for those old enough to get the reference)."
   ]
  },
  {
   "cell_type": "markdown",
   "metadata": {},
   "source": [
    "## Final Exercise\n",
    "\n",
    "The version below has (largely) the same comments and code as the _matplotlib_ version above. However, it instead uses _bokeh_ to create interactive plots.\n",
    "\n",
    "Suggest corrections, in Etherpad, for the comments that no longer make sense."
   ]
  },
  {
   "cell_type": "code",
   "execution_count": 7,
   "metadata": {},
   "outputs": [
    {
     "data": {
      "text/html": [
       "\n",
       "    <div class=\"bk-root\">\n",
       "        <a href=\"http://bokeh.pydata.org\" target=\"_blank\" class=\"bk-logo bk-logo-small bk-logo-notebook\"></a>\n",
       "        <span id=\"764c75df-b8e5-49dc-921b-310f2d86e186\">Loading BokehJS ...</span>\n",
       "    </div>"
      ]
     },
     "metadata": {},
     "output_type": "display_data"
    },
    {
     "data": {
      "application/javascript": [
       "\n",
       "(function(global) {\n",
       "  function now() {\n",
       "    return new Date();\n",
       "  }\n",
       "\n",
       "  var force = \"1\";\n",
       "\n",
       "  if (typeof (window._bokeh_onload_callbacks) === \"undefined\" || force !== \"\") {\n",
       "    window._bokeh_onload_callbacks = [];\n",
       "    window._bokeh_is_loading = undefined;\n",
       "  }\n",
       "\n",
       "\n",
       "  \n",
       "  if (typeof (window._bokeh_timeout) === \"undefined\" || force !== \"\") {\n",
       "    window._bokeh_timeout = Date.now() + 5000;\n",
       "    window._bokeh_failed_load = false;\n",
       "  }\n",
       "\n",
       "  var NB_LOAD_WARNING = {'data': {'text/html':\n",
       "     \"<div style='background-color: #fdd'>\\n\"+\n",
       "     \"<p>\\n\"+\n",
       "     \"BokehJS does not appear to have successfully loaded. If loading BokehJS from CDN, this \\n\"+\n",
       "     \"may be due to a slow or bad network connection. Possible fixes:\\n\"+\n",
       "     \"</p>\\n\"+\n",
       "     \"<ul>\\n\"+\n",
       "     \"<li>re-rerun `output_notebook()` to attempt to load from CDN again, or</li>\\n\"+\n",
       "     \"<li>use INLINE resources instead, as so:</li>\\n\"+\n",
       "     \"</ul>\\n\"+\n",
       "     \"<code>\\n\"+\n",
       "     \"from bokeh.resources import INLINE\\n\"+\n",
       "     \"output_notebook(resources=INLINE)\\n\"+\n",
       "     \"</code>\\n\"+\n",
       "     \"</div>\"}};\n",
       "\n",
       "  function display_loaded() {\n",
       "    if (window.Bokeh !== undefined) {\n",
       "      Bokeh.$(\"#764c75df-b8e5-49dc-921b-310f2d86e186\").text(\"BokehJS successfully loaded.\");\n",
       "    } else if (Date.now() < window._bokeh_timeout) {\n",
       "      setTimeout(display_loaded, 100)\n",
       "    }\n",
       "  }\n",
       "\n",
       "  function run_callbacks() {\n",
       "    window._bokeh_onload_callbacks.forEach(function(callback) { callback() });\n",
       "    delete window._bokeh_onload_callbacks\n",
       "    console.info(\"Bokeh: all callbacks have finished\");\n",
       "  }\n",
       "\n",
       "  function load_libs(js_urls, callback) {\n",
       "    window._bokeh_onload_callbacks.push(callback);\n",
       "    if (window._bokeh_is_loading > 0) {\n",
       "      console.log(\"Bokeh: BokehJS is being loaded, scheduling callback at\", now());\n",
       "      return null;\n",
       "    }\n",
       "    if (js_urls == null || js_urls.length === 0) {\n",
       "      run_callbacks();\n",
       "      return null;\n",
       "    }\n",
       "    console.log(\"Bokeh: BokehJS not loaded, scheduling load and callback at\", now());\n",
       "    window._bokeh_is_loading = js_urls.length;\n",
       "    for (var i = 0; i < js_urls.length; i++) {\n",
       "      var url = js_urls[i];\n",
       "      var s = document.createElement('script');\n",
       "      s.src = url;\n",
       "      s.async = false;\n",
       "      s.onreadystatechange = s.onload = function() {\n",
       "        window._bokeh_is_loading--;\n",
       "        if (window._bokeh_is_loading === 0) {\n",
       "          console.log(\"Bokeh: all BokehJS libraries loaded\");\n",
       "          run_callbacks()\n",
       "        }\n",
       "      };\n",
       "      s.onerror = function() {\n",
       "        console.warn(\"failed to load library \" + url);\n",
       "      };\n",
       "      console.log(\"Bokeh: injecting script tag for BokehJS library: \", url);\n",
       "      document.getElementsByTagName(\"head\")[0].appendChild(s);\n",
       "    }\n",
       "  };var element = document.getElementById(\"764c75df-b8e5-49dc-921b-310f2d86e186\");\n",
       "  if (element == null) {\n",
       "    console.log(\"Bokeh: ERROR: autoload.js configured with elementid '764c75df-b8e5-49dc-921b-310f2d86e186' but no matching script tag was found. \")\n",
       "    return false;\n",
       "  }\n",
       "\n",
       "  var js_urls = ['https://cdn.pydata.org/bokeh/release/bokeh-0.12.3.min.js', 'https://cdn.pydata.org/bokeh/release/bokeh-widgets-0.12.3.min.js'];\n",
       "\n",
       "  var inline_js = [\n",
       "    function(Bokeh) {\n",
       "      Bokeh.set_log_level(\"info\");\n",
       "    },\n",
       "    \n",
       "    function(Bokeh) {\n",
       "      \n",
       "      Bokeh.$(\"#764c75df-b8e5-49dc-921b-310f2d86e186\").text(\"BokehJS is loading...\");\n",
       "\n",
       "    },\n",
       "    function(Bokeh) {\n",
       "      console.log(\"Bokeh: injecting CSS: https://cdn.pydata.org/bokeh/release/bokeh-0.12.3.min.css\");\n",
       "      Bokeh.embed.inject_css(\"https://cdn.pydata.org/bokeh/release/bokeh-0.12.3.min.css\");\n",
       "      console.log(\"Bokeh: injecting CSS: https://cdn.pydata.org/bokeh/release/bokeh-widgets-0.12.3.min.css\");\n",
       "      Bokeh.embed.inject_css(\"https://cdn.pydata.org/bokeh/release/bokeh-widgets-0.12.3.min.css\");\n",
       "    }\n",
       "  ];\n",
       "\n",
       "  function run_inline_js() {\n",
       "    \n",
       "    if ((window.Bokeh !== undefined) || (force === \"1\")) {\n",
       "      for (var i = 0; i < inline_js.length; i++) {\n",
       "        inline_js[i](window.Bokeh);\n",
       "      }if (force === \"1\") {\n",
       "        display_loaded();\n",
       "      }} else if (Date.now() < window._bokeh_timeout) {\n",
       "      setTimeout(run_inline_js, 100);\n",
       "    } else if (!window._bokeh_failed_load) {\n",
       "      console.log(\"Bokeh: BokehJS failed to load within specified timeout.\");\n",
       "      window._bokeh_failed_load = true;\n",
       "    } else if (!force) {\n",
       "      var cell = $(\"#764c75df-b8e5-49dc-921b-310f2d86e186\").parents('.cell').data().cell;\n",
       "      cell.output_area.append_execute_result(NB_LOAD_WARNING)\n",
       "    }\n",
       "\n",
       "  }\n",
       "\n",
       "  if (window._bokeh_is_loading === 0) {\n",
       "    console.log(\"Bokeh: BokehJS loaded, going straight to plotting\");\n",
       "    run_inline_js();\n",
       "  } else {\n",
       "    load_libs(js_urls, function() {\n",
       "      console.log(\"Bokeh: BokehJS plotting callback run at\", now());\n",
       "      run_inline_js();\n",
       "    });\n",
       "  }\n",
       "}(this));"
      ]
     },
     "metadata": {},
     "output_type": "display_data"
    },
    {
     "data": {
      "text/html": [
       "\n",
       "\n",
       "    <div class=\"bk-root\">\n",
       "        <div class=\"plotdiv\" id=\"9acc087f-9c6f-499b-a073-c8e9a6a10dd0\"></div>\n",
       "    </div>\n",
       "<script type=\"text/javascript\">\n",
       "  \n",
       "  (function(global) {\n",
       "    function now() {\n",
       "      return new Date();\n",
       "    }\n",
       "\n",
       "    var force = \"\";\n",
       "\n",
       "    if (typeof (window._bokeh_onload_callbacks) === \"undefined\" || force !== \"\") {\n",
       "      window._bokeh_onload_callbacks = [];\n",
       "      window._bokeh_is_loading = undefined;\n",
       "    }\n",
       "\n",
       "\n",
       "    \n",
       "    if (typeof (window._bokeh_timeout) === \"undefined\" || force !== \"\") {\n",
       "      window._bokeh_timeout = Date.now() + 0;\n",
       "      window._bokeh_failed_load = false;\n",
       "    }\n",
       "\n",
       "    var NB_LOAD_WARNING = {'data': {'text/html':\n",
       "       \"<div style='background-color: #fdd'>\\n\"+\n",
       "       \"<p>\\n\"+\n",
       "       \"BokehJS does not appear to have successfully loaded. If loading BokehJS from CDN, this \\n\"+\n",
       "       \"may be due to a slow or bad network connection. Possible fixes:\\n\"+\n",
       "       \"</p>\\n\"+\n",
       "       \"<ul>\\n\"+\n",
       "       \"<li>re-rerun `output_notebook()` to attempt to load from CDN again, or</li>\\n\"+\n",
       "       \"<li>use INLINE resources instead, as so:</li>\\n\"+\n",
       "       \"</ul>\\n\"+\n",
       "       \"<code>\\n\"+\n",
       "       \"from bokeh.resources import INLINE\\n\"+\n",
       "       \"output_notebook(resources=INLINE)\\n\"+\n",
       "       \"</code>\\n\"+\n",
       "       \"</div>\"}};\n",
       "\n",
       "    function display_loaded() {\n",
       "      if (window.Bokeh !== undefined) {\n",
       "        Bokeh.$(\"#9acc087f-9c6f-499b-a073-c8e9a6a10dd0\").text(\"BokehJS successfully loaded.\");\n",
       "      } else if (Date.now() < window._bokeh_timeout) {\n",
       "        setTimeout(display_loaded, 100)\n",
       "      }\n",
       "    }\n",
       "\n",
       "    function run_callbacks() {\n",
       "      window._bokeh_onload_callbacks.forEach(function(callback) { callback() });\n",
       "      delete window._bokeh_onload_callbacks\n",
       "      console.info(\"Bokeh: all callbacks have finished\");\n",
       "    }\n",
       "\n",
       "    function load_libs(js_urls, callback) {\n",
       "      window._bokeh_onload_callbacks.push(callback);\n",
       "      if (window._bokeh_is_loading > 0) {\n",
       "        console.log(\"Bokeh: BokehJS is being loaded, scheduling callback at\", now());\n",
       "        return null;\n",
       "      }\n",
       "      if (js_urls == null || js_urls.length === 0) {\n",
       "        run_callbacks();\n",
       "        return null;\n",
       "      }\n",
       "      console.log(\"Bokeh: BokehJS not loaded, scheduling load and callback at\", now());\n",
       "      window._bokeh_is_loading = js_urls.length;\n",
       "      for (var i = 0; i < js_urls.length; i++) {\n",
       "        var url = js_urls[i];\n",
       "        var s = document.createElement('script');\n",
       "        s.src = url;\n",
       "        s.async = false;\n",
       "        s.onreadystatechange = s.onload = function() {\n",
       "          window._bokeh_is_loading--;\n",
       "          if (window._bokeh_is_loading === 0) {\n",
       "            console.log(\"Bokeh: all BokehJS libraries loaded\");\n",
       "            run_callbacks()\n",
       "          }\n",
       "        };\n",
       "        s.onerror = function() {\n",
       "          console.warn(\"failed to load library \" + url);\n",
       "        };\n",
       "        console.log(\"Bokeh: injecting script tag for BokehJS library: \", url);\n",
       "        document.getElementsByTagName(\"head\")[0].appendChild(s);\n",
       "      }\n",
       "    };var element = document.getElementById(\"9acc087f-9c6f-499b-a073-c8e9a6a10dd0\");\n",
       "    if (element == null) {\n",
       "      console.log(\"Bokeh: ERROR: autoload.js configured with elementid '9acc087f-9c6f-499b-a073-c8e9a6a10dd0' but no matching script tag was found. \")\n",
       "      return false;\n",
       "    }\n",
       "\n",
       "    var js_urls = [];\n",
       "\n",
       "    var inline_js = [\n",
       "      function(Bokeh) {\n",
       "        Bokeh.$(function() {\n",
       "            var docs_json = {\"7fe40be4-0e36-4afb-b436-9883aa28e62c\":{\"roots\":{\"references\":[{\"attributes\":{\"months\":[0,2,4,6,8,10]},\"id\":\"7fc46192-7200-4c59-b4f7-0a41991d280e\",\"type\":\"MonthsTicker\"},{\"attributes\":{\"months\":[0,1,2,3,4,5,6,7,8,9,10,11]},\"id\":\"3608c2e6-4726-4543-9af2-6accd2210582\",\"type\":\"MonthsTicker\"},{\"attributes\":{\"months\":[0,2,4,6,8,10]},\"id\":\"2239fff8-eb10-45f8-9f70-a08ef755b29b\",\"type\":\"MonthsTicker\"},{\"attributes\":{\"plot\":{\"id\":\"d4119899-e635-439e-b551-72450ba35ebf\",\"subtype\":\"Figure\",\"type\":\"Plot\"}},\"id\":\"02d1144a-69d2-402c-a405-f59e2b6cf60f\",\"type\":\"PanTool\"},{\"attributes\":{\"callback\":null,\"end\":110.00000000000001},\"id\":\"762c283d-2bf9-4162-8478-65ba1a71b88b\",\"type\":\"Range1d\"},{\"attributes\":{\"callback\":null},\"id\":\"f479563f-4bfe-4914-aa88-ebda9cc5391b\",\"type\":\"DataRange1d\"},{\"attributes\":{\"items\":[{\"id\":\"0fff9276-2cfc-4e03-9146-5675b40c2474\",\"type\":\"LegendItem\"},{\"id\":\"54543ff2-39af-453a-a6cf-c4a9e7eda668\",\"type\":\"LegendItem\"}],\"location\":\"top_left\",\"plot\":{\"id\":\"7dfe6bb1-a3a5-44ee-b95d-f2f8fc1c890e\",\"subtype\":\"Figure\",\"type\":\"Plot\"}},\"id\":\"3e0a4c7b-2776-45c5-b12c-3fcaafaeba30\",\"type\":\"Legend\"},{\"attributes\":{\"axis_label\":\"% of 1971 (inflation-adjusted)\",\"formatter\":{\"id\":\"2f809fd8-1b2b-407b-8dee-f4895e27047b\",\"type\":\"BasicTickFormatter\"},\"plot\":{\"id\":\"d4119899-e635-439e-b551-72450ba35ebf\",\"subtype\":\"Figure\",\"type\":\"Plot\"},\"ticker\":{\"id\":\"d76e7503-a60c-43ce-8373-5d17f7e1fba7\",\"type\":\"BasicTicker\"}},\"id\":\"05713f47-2585-4a8e-a23c-38c67950e206\",\"type\":\"LinearAxis\"},{\"attributes\":{\"base\":24,\"mantissas\":[1,2,4,6,8,12],\"max_interval\":43200000.0,\"min_interval\":3600000.0,\"num_minor_ticks\":0},\"id\":\"60934612-aa97-4cb4-a904-0ec78dc8bce3\",\"type\":\"AdaptiveTicker\"},{\"attributes\":{\"active_drag\":\"auto\",\"active_scroll\":{\"id\":\"1f868173-47a7-4f1b-ae72-085c3d70006e\",\"type\":\"WheelZoomTool\"},\"active_tap\":\"auto\",\"tools\":[{\"id\":\"834002ac-d9b7-45bf-840f-aa8a05024473\",\"type\":\"PanTool\"},{\"id\":\"1f868173-47a7-4f1b-ae72-085c3d70006e\",\"type\":\"WheelZoomTool\"},{\"id\":\"a992006e-686f-49d8-814c-6b7438018ccf\",\"type\":\"BoxZoomTool\"},{\"id\":\"738c8005-d1bc-4f1f-b5b3-58b0a52d9e16\",\"type\":\"SaveTool\"},{\"id\":\"bce8fc5e-20be-4d74-94f7-19541b53ef7f\",\"type\":\"ResetTool\"}]},\"id\":\"1aa9d0c0-45f1-4131-a3dd-d2b6a3980c05\",\"type\":\"Toolbar\"},{\"attributes\":{\"plot\":{\"id\":\"7dfe6bb1-a3a5-44ee-b95d-f2f8fc1c890e\",\"subtype\":\"Figure\",\"type\":\"Plot\"},\"ticker\":{\"id\":\"69fa993f-f1d8-484d-a784-9b63972ad880\",\"type\":\"DatetimeTicker\"}},\"id\":\"fece912b-04f2-4f92-a9a4-38be2f8a22cc\",\"type\":\"Grid\"},{\"attributes\":{\"plot\":{\"id\":\"7dfe6bb1-a3a5-44ee-b95d-f2f8fc1c890e\",\"subtype\":\"Figure\",\"type\":\"Plot\"}},\"id\":\"bce8fc5e-20be-4d74-94f7-19541b53ef7f\",\"type\":\"ResetTool\"},{\"attributes\":{\"data_source\":{\"id\":\"c7778049-4262-4df9-bfc3-cdd82083383c\",\"type\":\"ColumnDataSource\"},\"glyph\":{\"id\":\"f90f9fb2-43de-4ccf-a7a1-f8f7f45d169b\",\"type\":\"VBar\"},\"hover_glyph\":null,\"nonselection_glyph\":{\"id\":\"562f3ded-ef57-404f-ac00-f9879aad487b\",\"type\":\"VBar\"},\"selection_glyph\":null},\"id\":\"e1b5f0d0-2523-4bf5-87de-33c3a1595223\",\"type\":\"GlyphRenderer\"},{\"attributes\":{\"days\":[1,8,15,22]},\"id\":\"7a09ce45-6a86-41a5-8463-61f97f31ba28\",\"type\":\"DaysTicker\"},{\"attributes\":{\"months\":[0,4,8]},\"id\":\"19a91984-a2d5-4556-8f96-b5c20f8e79c3\",\"type\":\"MonthsTicker\"},{\"attributes\":{\"fill_alpha\":{\"value\":0.1},\"fill_color\":{\"value\":\"#1f77b4\"},\"line_alpha\":{\"value\":0.1},\"line_color\":{\"value\":\"#1f77b4\"},\"top\":{\"field\":\"top\"},\"width\":{\"value\":200000000000.0},\"x\":{\"field\":\"x\"}},\"id\":\"562f3ded-ef57-404f-ac00-f9879aad487b\",\"type\":\"VBar\"},{\"attributes\":{},\"id\":\"7abbf117-b6a7-4b6d-ad8e-657e34e2fda1\",\"type\":\"BasicTickFormatter\"},{\"attributes\":{\"months\":[0,2,4,6,8,10]},\"id\":\"22a23978-370d-44d4-bacf-a2c44941f589\",\"type\":\"MonthsTicker\"},{\"attributes\":{},\"id\":\"82aa5aa0-3bb1-46ed-b47e-6abe56fa3691\",\"type\":\"BasicTickFormatter\"},{\"attributes\":{\"base\":60,\"mantissas\":[1,2,5,10,15,20,30],\"max_interval\":1800000.0,\"min_interval\":1000.0,\"num_minor_ticks\":0},\"id\":\"df687e6d-256f-4d81-9ddb-c9d20f411143\",\"type\":\"AdaptiveTicker\"},{\"attributes\":{\"num_minor_ticks\":5},\"id\":\"f32b5b9f-dbc5-4277-be13-131d72381e23\",\"type\":\"DatetimeTicker\"},{\"attributes\":{\"callback\":null,\"column_names\":[\"x\",\"top\"],\"data\":{\"top\":[3.149047177682757,11.395564400917191,19.378506185770842,24.520216979675997,31.127999999999993],\"x\":[31536000000.0,347155200000.0,662688000000.0,978307200000.0,1230768000000.0]}},\"id\":\"5da22289-eb13-408a-bbfe-795ac65b3e55\",\"type\":\"ColumnDataSource\"},{\"attributes\":{\"plot\":{\"id\":\"7fb94c6b-c548-4d48-8c28-a480cd6a045d\",\"subtype\":\"Figure\",\"type\":\"Plot\"}},\"id\":\"f33a8537-a455-4407-a573-4b54aece339b\",\"type\":\"SaveTool\"},{\"attributes\":{\"overlay\":{\"id\":\"a6d53ee8-138b-41be-b71c-5e831d13a068\",\"type\":\"BoxAnnotation\"},\"plot\":{\"id\":\"7fb94c6b-c548-4d48-8c28-a480cd6a045d\",\"subtype\":\"Figure\",\"type\":\"Plot\"}},\"id\":\"bd3a0ebb-38c6-4b59-98ee-5bbeec55bdc7\",\"type\":\"BoxZoomTool\"},{\"attributes\":{},\"id\":\"51225406-ea27-4ca3-9519-e39a23d9e1c2\",\"type\":\"ToolEvents\"},{\"attributes\":{\"below\":[{\"id\":\"e7d8fd27-1252-436a-85ec-49d4b4e07087\",\"type\":\"DatetimeAxis\"}],\"extra_y_ranges\":{\"currency\":{\"id\":\"03b66cf5-e4af-4796-befa-0eb8ba7a1bd5\",\"type\":\"Range1d\"}},\"left\":[{\"id\":\"021653c9-3b25-46c5-a3a2-78d4d2809a8d\",\"type\":\"LinearAxis\"}],\"plot_height\":500,\"plot_width\":300,\"renderers\":[{\"id\":\"e7d8fd27-1252-436a-85ec-49d4b4e07087\",\"type\":\"DatetimeAxis\"},{\"id\":\"fece912b-04f2-4f92-a9a4-38be2f8a22cc\",\"type\":\"Grid\"},{\"id\":\"021653c9-3b25-46c5-a3a2-78d4d2809a8d\",\"type\":\"LinearAxis\"},{\"id\":\"aa929f8b-155f-46a3-84ec-1ddbd93aae53\",\"type\":\"Grid\"},{\"id\":\"2462c70d-1400-4887-80b6-9ad62675e3d6\",\"type\":\"BoxAnnotation\"},{\"id\":\"3e0a4c7b-2776-45c5-b12c-3fcaafaeba30\",\"type\":\"Legend\"},{\"id\":\"ed332dca-585c-461f-944c-cdf72539a0fc\",\"type\":\"GlyphRenderer\"},{\"id\":\"e93c2709-d601-4fc4-a0ec-2f775f7fcecd\",\"type\":\"GlyphRenderer\"},{\"id\":\"9e757c72-a692-4b88-b0ba-c73ac9c39e3f\",\"type\":\"LinearAxis\"}],\"right\":[{\"id\":\"9e757c72-a692-4b88-b0ba-c73ac9c39e3f\",\"type\":\"LinearAxis\"}],\"title\":{\"id\":\"79dc324a-be98-4ed4-887c-dd423a8f0ebf\",\"type\":\"Title\"},\"tool_events\":{\"id\":\"51225406-ea27-4ca3-9519-e39a23d9e1c2\",\"type\":\"ToolEvents\"},\"toolbar\":{\"id\":\"1aa9d0c0-45f1-4131-a3dd-d2b6a3980c05\",\"type\":\"Toolbar\"},\"toolbar_location\":\"below\",\"x_range\":{\"id\":\"9709c1cd-3003-45d6-839a-d258dd572025\",\"type\":\"DataRange1d\"},\"y_range\":{\"id\":\"bf9db91a-cab7-41f8-b3cd-1604e6bd922b\",\"type\":\"Range1d\"}},\"id\":\"7dfe6bb1-a3a5-44ee-b95d-f2f8fc1c890e\",\"subtype\":\"Figure\",\"type\":\"Plot\"},{\"attributes\":{\"months\":[0,4,8]},\"id\":\"3e6ee6d6-2507-486b-82de-b3fd40f46f6d\",\"type\":\"MonthsTicker\"},{\"attributes\":{},\"id\":\"c2449d79-0177-43ce-865c-a5d3adba2e47\",\"type\":\"DatetimeTickFormatter\"},{\"attributes\":{\"callback\":null,\"end\":100},\"id\":\"461ff2f7-6b99-460f-9e11-ec4e4ce059ed\",\"type\":\"Range1d\"},{\"attributes\":{\"data_source\":{\"id\":\"0358dc2e-a9ea-4890-a2ce-e436bbc27b80\",\"type\":\"ColumnDataSource\"},\"glyph\":{\"id\":\"159c9264-88ab-43e1-91f4-49a8fbdd17d0\",\"type\":\"VBar\"},\"hover_glyph\":null,\"nonselection_glyph\":{\"id\":\"22141aa3-58cd-4f12-bb86-86dc0443bfd9\",\"type\":\"VBar\"},\"selection_glyph\":null,\"y_range_name\":\"currency\"},\"id\":\"b9afca1c-c0cf-4bb5-8b39-dfaa3342509c\",\"type\":\"GlyphRenderer\"},{\"attributes\":{\"data_source\":{\"id\":\"b22c66da-5e47-4610-928e-4865be83f20a\",\"type\":\"ColumnDataSource\"},\"glyph\":{\"id\":\"e4e89e53-f0c4-4acd-841e-802ba5a2244a\",\"type\":\"VBar\"},\"hover_glyph\":null,\"nonselection_glyph\":{\"id\":\"21bb1b3c-4a5d-46d9-a080-62ef74549a02\",\"type\":\"VBar\"},\"selection_glyph\":null},\"id\":\"e7c0d2aa-d011-48b0-8695-ba728f99c365\",\"type\":\"GlyphRenderer\"},{\"attributes\":{\"months\":[0,6]},\"id\":\"39bb0864-1738-472b-929c-40b71184f817\",\"type\":\"MonthsTicker\"},{\"attributes\":{\"plot\":null,\"text\":\"Alcoholic beverages and tobacco\"},\"id\":\"7f2193f7-a1f6-4e36-a1c2-b07bb585c66d\",\"type\":\"Title\"},{\"attributes\":{\"callback\":null,\"column_names\":[\"x\",\"top\"],\"data\":{\"top\":[100.0,99.23749719668088,92.06420401755682,88.02422067728196,89.61330214974537],\"x\":[31536000000.0,347155200000.0,662688000000.0,978307200000.0,1230768000000.0]}},\"id\":\"b22c66da-5e47-4610-928e-4865be83f20a\",\"type\":\"ColumnDataSource\"},{\"attributes\":{\"base\":24,\"mantissas\":[1,2,4,6,8,12],\"max_interval\":43200000.0,\"min_interval\":3600000.0,\"num_minor_ticks\":0},\"id\":\"b10a53eb-201b-4c21-a458-e8747b577507\",\"type\":\"AdaptiveTicker\"},{\"attributes\":{\"plot\":null,\"text\":\"Communication\"},\"id\":\"79dc324a-be98-4ed4-887c-dd423a8f0ebf\",\"type\":\"Title\"},{\"attributes\":{\"data_source\":{\"id\":\"8cd645ed-f8aa-4fb4-967b-8dd300b9593e\",\"type\":\"ColumnDataSource\"},\"glyph\":{\"id\":\"bc450bae-fee8-4a52-9428-6991cf07d8bc\",\"type\":\"VBar\"},\"hover_glyph\":null,\"nonselection_glyph\":{\"id\":\"b7f01afd-0f77-4af3-8290-d9f2a859f04a\",\"type\":\"VBar\"},\"selection_glyph\":null,\"y_range_name\":\"currency\"},\"id\":\"e93c2709-d601-4fc4-a0ec-2f775f7fcecd\",\"type\":\"GlyphRenderer\"},{\"attributes\":{},\"id\":\"88649784-bd05-45b9-8a27-109a9359eb8d\",\"type\":\"BasicTickFormatter\"},{\"attributes\":{\"fill_alpha\":{\"value\":0.1},\"fill_color\":{\"value\":\"#1f77b4\"},\"line_alpha\":{\"value\":0.1},\"line_color\":{\"value\":\"#1f77b4\"},\"top\":{\"field\":\"top\"},\"width\":{\"value\":200000000000.0},\"x\":{\"field\":\"x\"}},\"id\":\"b552e0ad-5db7-4912-a6be-d870af1b6d93\",\"type\":\"VBar\"},{\"attributes\":{\"plot\":{\"id\":\"7fb94c6b-c548-4d48-8c28-a480cd6a045d\",\"subtype\":\"Figure\",\"type\":\"Plot\"}},\"id\":\"8d6b95db-bab7-4257-a8a8-c62395e2f398\",\"type\":\"ResetTool\"},{\"attributes\":{\"callback\":null},\"id\":\"9709c1cd-3003-45d6-839a-d258dd572025\",\"type\":\"DataRange1d\"},{\"attributes\":{\"label\":{\"value\":\"% of 1971\"},\"renderers\":[{\"id\":\"e1b5f0d0-2523-4bf5-87de-33c3a1595223\",\"type\":\"GlyphRenderer\"}]},\"id\":\"96b2f651-df88-4f21-a3b5-fec0f1ec3f7e\",\"type\":\"LegendItem\"},{\"attributes\":{\"plot\":{\"id\":\"7fb94c6b-c548-4d48-8c28-a480cd6a045d\",\"subtype\":\"Figure\",\"type\":\"Plot\"},\"ticker\":{\"id\":\"f32b5b9f-dbc5-4277-be13-131d72381e23\",\"type\":\"DatetimeTicker\"}},\"id\":\"2283c84b-6ef9-48bb-9708-6120fe6d844b\",\"type\":\"Grid\"},{\"attributes\":{},\"id\":\"8ba244b6-f410-4ac8-b0fa-0293c53b2b76\",\"type\":\"YearsTicker\"},{\"attributes\":{\"callback\":null,\"column_names\":[\"x\",\"top\"],\"data\":{\"top\":[100.0,104.64091262639351,117.23057644110268,136.72975542304025,151.00898798720925],\"x\":[31536000000.0,347155200000.0,662688000000.0,978307200000.0,1230768000000.0]}},\"id\":\"c7778049-4262-4df9-bfc3-cdd82083383c\",\"type\":\"ColumnDataSource\"},{\"attributes\":{\"months\":[0,1,2,3,4,5,6,7,8,9,10,11]},\"id\":\"778308ae-7960-40a1-b83c-1314e4128f41\",\"type\":\"MonthsTicker\"},{\"attributes\":{\"children\":[{\"id\":\"7dfe6bb1-a3a5-44ee-b95d-f2f8fc1c890e\",\"subtype\":\"Figure\",\"type\":\"Plot\"},{\"id\":\"7fb94c6b-c548-4d48-8c28-a480cd6a045d\",\"subtype\":\"Figure\",\"type\":\"Plot\"},{\"id\":\"d4119899-e635-439e-b551-72450ba35ebf\",\"subtype\":\"Figure\",\"type\":\"Plot\"}]},\"id\":\"017e3cd4-d2f2-4e47-a9a6-7917a4a6d313\",\"type\":\"Row\"},{\"attributes\":{\"plot\":null,\"text\":\"Food and non-alcoholic beverages\"},\"id\":\"cdb819df-c13f-4750-ba05-b8323d50e348\",\"type\":\"Title\"},{\"attributes\":{\"below\":[{\"id\":\"c86d9316-6066-4b91-862f-9dd7a373f7e9\",\"type\":\"DatetimeAxis\"}],\"extra_y_ranges\":{\"currency\":{\"id\":\"e39c3f01-e6c9-4577-a805-33432b0c83e9\",\"type\":\"Range1d\"}},\"left\":[{\"id\":\"05713f47-2585-4a8e-a23c-38c67950e206\",\"type\":\"LinearAxis\"}],\"plot_height\":500,\"plot_width\":300,\"renderers\":[{\"id\":\"c86d9316-6066-4b91-862f-9dd7a373f7e9\",\"type\":\"DatetimeAxis\"},{\"id\":\"e73a4316-ecf0-4d3a-8211-9c3bfcb9ac96\",\"type\":\"Grid\"},{\"id\":\"05713f47-2585-4a8e-a23c-38c67950e206\",\"type\":\"LinearAxis\"},{\"id\":\"bfa4a8ba-bc9e-4fe2-814c-0c8048208f62\",\"type\":\"Grid\"},{\"id\":\"427fea40-1e0c-422a-a2eb-93500cfbd25b\",\"type\":\"BoxAnnotation\"},{\"id\":\"8384ea10-f845-405f-a148-a7d14110fd49\",\"type\":\"Legend\"},{\"id\":\"e7c0d2aa-d011-48b0-8695-ba728f99c365\",\"type\":\"GlyphRenderer\"},{\"id\":\"141faf01-0894-4be5-926d-778d3e5c475e\",\"type\":\"GlyphRenderer\"},{\"id\":\"a1b1e13b-6ddd-4b9c-92f3-0d7a8c847647\",\"type\":\"LinearAxis\"}],\"right\":[{\"id\":\"a1b1e13b-6ddd-4b9c-92f3-0d7a8c847647\",\"type\":\"LinearAxis\"}],\"title\":{\"id\":\"7f2193f7-a1f6-4e36-a1c2-b07bb585c66d\",\"type\":\"Title\"},\"tool_events\":{\"id\":\"498dd541-c50f-4028-a1dd-def19f5a7055\",\"type\":\"ToolEvents\"},\"toolbar\":{\"id\":\"3902a59f-b880-438f-881a-18ad8a8ff7af\",\"type\":\"Toolbar\"},\"toolbar_location\":\"below\",\"x_range\":{\"id\":\"f479563f-4bfe-4914-aa88-ebda9cc5391b\",\"type\":\"DataRange1d\"},\"y_range\":{\"id\":\"762c283d-2bf9-4162-8478-65ba1a71b88b\",\"type\":\"Range1d\"}},\"id\":\"d4119899-e635-439e-b551-72450ba35ebf\",\"subtype\":\"Figure\",\"type\":\"Plot\"},{\"attributes\":{\"overlay\":{\"id\":\"427fea40-1e0c-422a-a2eb-93500cfbd25b\",\"type\":\"BoxAnnotation\"},\"plot\":{\"id\":\"d4119899-e635-439e-b551-72450ba35ebf\",\"subtype\":\"Figure\",\"type\":\"Plot\"}},\"id\":\"ff294b18-3b6a-448c-85e1-6b7c3a5e4168\",\"type\":\"BoxZoomTool\"},{\"attributes\":{\"months\":[0,4,8]},\"id\":\"e97f39ef-86df-48bb-879d-0174abe64fa8\",\"type\":\"MonthsTicker\"},{\"attributes\":{\"fill_color\":{\"value\":\"red\"},\"line_color\":{\"value\":\"red\"},\"top\":{\"field\":\"top\"},\"width\":{\"value\":200000000000.0},\"x\":{\"field\":\"x\"}},\"id\":\"159c9264-88ab-43e1-91f4-49a8fbdd17d0\",\"type\":\"VBar\"},{\"attributes\":{},\"id\":\"83ffafd5-8631-44f0-bfd7-e4f5316ee521\",\"type\":\"DatetimeTickFormatter\"},{\"attributes\":{\"plot\":{\"id\":\"d4119899-e635-439e-b551-72450ba35ebf\",\"subtype\":\"Figure\",\"type\":\"Plot\"}},\"id\":\"426f582c-c98c-4fe5-a68c-e5c403e7f950\",\"type\":\"SaveTool\"},{\"attributes\":{\"months\":[0,6]},\"id\":\"781a4faa-1c07-47fc-a995-98238ee31dcc\",\"type\":\"MonthsTicker\"},{\"attributes\":{\"label\":{\"value\":\"% of 1971\"},\"renderers\":[{\"id\":\"e7c0d2aa-d011-48b0-8695-ba728f99c365\",\"type\":\"GlyphRenderer\"}]},\"id\":\"96a5526a-a2cc-4209-b61c-ab1e2a7f4126\",\"type\":\"LegendItem\"},{\"attributes\":{},\"id\":\"a35bf130-5297-4d1f-917c-408e80cdaa99\",\"type\":\"ToolEvents\"},{\"attributes\":{\"plot\":{\"id\":\"7fb94c6b-c548-4d48-8c28-a480cd6a045d\",\"subtype\":\"Figure\",\"type\":\"Plot\"}},\"id\":\"8e6b0ad4-02f5-4719-87ab-bea1141ec402\",\"type\":\"WheelZoomTool\"},{\"attributes\":{},\"id\":\"8c05e347-f619-40c6-80ca-382e0614c662\",\"type\":\"BasicTicker\"},{\"attributes\":{\"max_interval\":500.0,\"num_minor_ticks\":0},\"id\":\"e123fd1c-2e58-405e-ae39-d5fa3ef69e4e\",\"type\":\"AdaptiveTicker\"},{\"attributes\":{},\"id\":\"2f809fd8-1b2b-407b-8dee-f4895e27047b\",\"type\":\"BasicTickFormatter\"},{\"attributes\":{\"fill_color\":{\"value\":\"#1f77b4\"},\"line_color\":{\"value\":\"#1f77b4\"},\"top\":{\"field\":\"top\"},\"width\":{\"value\":200000000000.0},\"x\":{\"field\":\"x\"}},\"id\":\"e4e89e53-f0c4-4acd-841e-802ba5a2244a\",\"type\":\"VBar\"},{\"attributes\":{},\"id\":\"498dd541-c50f-4028-a1dd-def19f5a7055\",\"type\":\"ToolEvents\"},{\"attributes\":{\"overlay\":{\"id\":\"2462c70d-1400-4887-80b6-9ad62675e3d6\",\"type\":\"BoxAnnotation\"},\"plot\":{\"id\":\"7dfe6bb1-a3a5-44ee-b95d-f2f8fc1c890e\",\"subtype\":\"Figure\",\"type\":\"Plot\"}},\"id\":\"a992006e-686f-49d8-814c-6b7438018ccf\",\"type\":\"BoxZoomTool\"},{\"attributes\":{\"base\":60,\"mantissas\":[1,2,5,10,15,20,30],\"max_interval\":1800000.0,\"min_interval\":1000.0,\"num_minor_ticks\":0},\"id\":\"762e0258-5bc5-4170-8663-cbb9dc1697b5\",\"type\":\"AdaptiveTicker\"},{\"attributes\":{\"axis_label\":\"% of 1971 (inflation-adjusted)\",\"formatter\":{\"id\":\"7abbf117-b6a7-4b6d-ad8e-657e34e2fda1\",\"type\":\"BasicTickFormatter\"},\"plot\":{\"id\":\"7fb94c6b-c548-4d48-8c28-a480cd6a045d\",\"subtype\":\"Figure\",\"type\":\"Plot\"},\"ticker\":{\"id\":\"8c05e347-f619-40c6-80ca-382e0614c662\",\"type\":\"BasicTicker\"}},\"id\":\"4d2a7913-e0d8-443d-bd76-c2846a417b3d\",\"type\":\"LinearAxis\"},{\"attributes\":{\"plot\":{\"id\":\"7fb94c6b-c548-4d48-8c28-a480cd6a045d\",\"subtype\":\"Figure\",\"type\":\"Plot\"}},\"id\":\"f9cf1a8c-e1cd-44bc-8c10-0db666b32232\",\"type\":\"PanTool\"},{\"attributes\":{\"axis_label\":\"% of 1971 (inflation-adjusted)\",\"formatter\":{\"id\":\"82aa5aa0-3bb1-46ed-b47e-6abe56fa3691\",\"type\":\"BasicTickFormatter\"},\"plot\":{\"id\":\"7dfe6bb1-a3a5-44ee-b95d-f2f8fc1c890e\",\"subtype\":\"Figure\",\"type\":\"Plot\"},\"ticker\":{\"id\":\"16b510f9-e900-4946-8a36-a2f9ccc2700a\",\"type\":\"BasicTicker\"}},\"id\":\"021653c9-3b25-46c5-a3a2-78d4d2809a8d\",\"type\":\"LinearAxis\"},{\"attributes\":{\"axis_label\":\"Year\",\"formatter\":{\"id\":\"c2449d79-0177-43ce-865c-a5d3adba2e47\",\"type\":\"DatetimeTickFormatter\"},\"plot\":{\"id\":\"7dfe6bb1-a3a5-44ee-b95d-f2f8fc1c890e\",\"subtype\":\"Figure\",\"type\":\"Plot\"},\"ticker\":{\"id\":\"69fa993f-f1d8-484d-a784-9b63972ad880\",\"type\":\"DatetimeTicker\"}},\"id\":\"e7d8fd27-1252-436a-85ec-49d4b4e07087\",\"type\":\"DatetimeAxis\"},{\"attributes\":{\"plot\":{\"id\":\"d4119899-e635-439e-b551-72450ba35ebf\",\"subtype\":\"Figure\",\"type\":\"Plot\"}},\"id\":\"c4cb81f5-26a0-4cd3-a106-4d869cdf6e86\",\"type\":\"WheelZoomTool\"},{\"attributes\":{\"label\":{\"value\":\"Currency\"},\"renderers\":[{\"id\":\"141faf01-0894-4be5-926d-778d3e5c475e\",\"type\":\"GlyphRenderer\"}]},\"id\":\"993e0f90-f927-447d-825d-97dd53054a88\",\"type\":\"LegendItem\"},{\"attributes\":{},\"id\":\"abf1b102-54bb-480f-bdb7-ddc7b7c2495a\",\"type\":\"YearsTicker\"},{\"attributes\":{\"fill_color\":{\"value\":\"red\"},\"line_color\":{\"value\":\"red\"},\"top\":{\"field\":\"top\"},\"width\":{\"value\":200000000000.0},\"x\":{\"field\":\"x\"}},\"id\":\"bc450bae-fee8-4a52-9428-6991cf07d8bc\",\"type\":\"VBar\"},{\"attributes\":{\"dimension\":1,\"plot\":{\"id\":\"7dfe6bb1-a3a5-44ee-b95d-f2f8fc1c890e\",\"subtype\":\"Figure\",\"type\":\"Plot\"},\"ticker\":{\"id\":\"16b510f9-e900-4946-8a36-a2f9ccc2700a\",\"type\":\"BasicTicker\"}},\"id\":\"aa929f8b-155f-46a3-84ec-1ddbd93aae53\",\"type\":\"Grid\"},{\"attributes\":{\"bottom_units\":\"screen\",\"fill_alpha\":{\"value\":0.5},\"fill_color\":{\"value\":\"lightgrey\"},\"left_units\":\"screen\",\"level\":\"overlay\",\"line_alpha\":{\"value\":1.0},\"line_color\":{\"value\":\"black\"},\"line_dash\":[4,4],\"line_width\":{\"value\":2},\"plot\":null,\"render_mode\":\"css\",\"right_units\":\"screen\",\"top_units\":\"screen\"},\"id\":\"2462c70d-1400-4887-80b6-9ad62675e3d6\",\"type\":\"BoxAnnotation\"},{\"attributes\":{\"plot\":{\"id\":\"7dfe6bb1-a3a5-44ee-b95d-f2f8fc1c890e\",\"subtype\":\"Figure\",\"type\":\"Plot\"}},\"id\":\"738c8005-d1bc-4f1f-b5b3-58b0a52d9e16\",\"type\":\"SaveTool\"},{\"attributes\":{\"plot\":{\"id\":\"7dfe6bb1-a3a5-44ee-b95d-f2f8fc1c890e\",\"subtype\":\"Figure\",\"type\":\"Plot\"}},\"id\":\"834002ac-d9b7-45bf-840f-aa8a05024473\",\"type\":\"PanTool\"},{\"attributes\":{\"max_interval\":500.0,\"num_minor_ticks\":0},\"id\":\"9ed0b480-c81a-444e-b716-6017d4b009fe\",\"type\":\"AdaptiveTicker\"},{\"attributes\":{\"callback\":null,\"column_names\":[\"x\",\"top\"],\"data\":{\"top\":[0.15091916758457874,1.0457853114697804,3.0909570035927088,10.541069783628501,18.747000000000003],\"x\":[31536000000.0,347155200000.0,662688000000.0,978307200000.0,1230768000000.0]}},\"id\":\"8cd645ed-f8aa-4fb4-967b-8dd300b9593e\",\"type\":\"ColumnDataSource\"},{\"attributes\":{\"active_drag\":\"auto\",\"active_scroll\":{\"id\":\"8e6b0ad4-02f5-4719-87ab-bea1141ec402\",\"type\":\"WheelZoomTool\"},\"active_tap\":\"auto\",\"tools\":[{\"id\":\"f9cf1a8c-e1cd-44bc-8c10-0db666b32232\",\"type\":\"PanTool\"},{\"id\":\"8e6b0ad4-02f5-4719-87ab-bea1141ec402\",\"type\":\"WheelZoomTool\"},{\"id\":\"bd3a0ebb-38c6-4b59-98ee-5bbeec55bdc7\",\"type\":\"BoxZoomTool\"},{\"id\":\"f33a8537-a455-4407-a573-4b54aece339b\",\"type\":\"SaveTool\"},{\"id\":\"8d6b95db-bab7-4257-a8a8-c62395e2f398\",\"type\":\"ResetTool\"}]},\"id\":\"9302e6de-d636-4cf7-bc0d-a9a8e65baf41\",\"type\":\"Toolbar\"},{\"attributes\":{\"callback\":null,\"end\":100},\"id\":\"03b66cf5-e4af-4796-befa-0eb8ba7a1bd5\",\"type\":\"Range1d\"},{\"attributes\":{\"dimension\":1,\"plot\":{\"id\":\"d4119899-e635-439e-b551-72450ba35ebf\",\"subtype\":\"Figure\",\"type\":\"Plot\"},\"ticker\":{\"id\":\"d76e7503-a60c-43ce-8373-5d17f7e1fba7\",\"type\":\"BasicTicker\"}},\"id\":\"bfa4a8ba-bc9e-4fe2-814c-0c8048208f62\",\"type\":\"Grid\"},{\"attributes\":{\"num_minor_ticks\":5},\"id\":\"b4f401f5-ec09-4988-b7ed-c96f28c005b3\",\"type\":\"DatetimeTicker\"},{\"attributes\":{\"num_minor_ticks\":5},\"id\":\"69fa993f-f1d8-484d-a784-9b63972ad880\",\"type\":\"DatetimeTicker\"},{\"attributes\":{\"data_source\":{\"id\":\"5da22289-eb13-408a-bbfe-795ac65b3e55\",\"type\":\"ColumnDataSource\"},\"glyph\":{\"id\":\"ae016c58-0283-49f5-ba70-bd2bcf2c49c5\",\"type\":\"VBar\"},\"hover_glyph\":null,\"nonselection_glyph\":{\"id\":\"a8d18e5a-9ea6-44d6-b130-25e188d17979\",\"type\":\"VBar\"},\"selection_glyph\":null,\"y_range_name\":\"currency\"},\"id\":\"141faf01-0894-4be5-926d-778d3e5c475e\",\"type\":\"GlyphRenderer\"},{\"attributes\":{\"label\":{\"value\":\"Currency\"},\"renderers\":[{\"id\":\"e93c2709-d601-4fc4-a0ec-2f775f7fcecd\",\"type\":\"GlyphRenderer\"}]},\"id\":\"54543ff2-39af-453a-a6cf-c4a9e7eda668\",\"type\":\"LegendItem\"},{\"attributes\":{\"fill_color\":{\"value\":\"#1f77b4\"},\"line_color\":{\"value\":\"#1f77b4\"},\"top\":{\"field\":\"top\"},\"width\":{\"value\":200000000000.0},\"x\":{\"field\":\"x\"}},\"id\":\"8c3de266-981c-460f-bae1-0b647935773c\",\"type\":\"VBar\"},{\"attributes\":{\"base\":60,\"mantissas\":[1,2,5,10,15,20,30],\"max_interval\":1800000.0,\"min_interval\":1000.0,\"num_minor_ticks\":0},\"id\":\"c50b15da-00c6-40fc-b30f-42c4acd9d69d\",\"type\":\"AdaptiveTicker\"},{\"attributes\":{\"callback\":null,\"column_names\":[\"x\",\"top\"],\"data\":{\"top\":[5.0316337227923835,19.19956583185509,39.42759127932539,60.85762632304363,83.813],\"x\":[31536000000.0,347155200000.0,662688000000.0,978307200000.0,1230768000000.0]}},\"id\":\"0358dc2e-a9ea-4890-a2ce-e436bbc27b80\",\"type\":\"ColumnDataSource\"},{\"attributes\":{\"callback\":null,\"end\":166.1098867859302},\"id\":\"f83f6537-87b7-49cc-acc3-ddc283b79af1\",\"type\":\"Range1d\"},{\"attributes\":{},\"id\":\"5d4b35d8-b66b-42a7-bdfb-86aa3af10cb2\",\"type\":\"BasicTickFormatter\"},{\"attributes\":{\"days\":[1,2,3,4,5,6,7,8,9,10,11,12,13,14,15,16,17,18,19,20,21,22,23,24,25,26,27,28,29,30,31]},\"id\":\"bed1c2d1-a667-404f-a863-c6cac611b8d5\",\"type\":\"DaysTicker\"},{\"attributes\":{\"axis_label\":\"Year\",\"formatter\":{\"id\":\"c073078e-495c-4a1c-a0bd-04129555f6d8\",\"type\":\"DatetimeTickFormatter\"},\"plot\":{\"id\":\"d4119899-e635-439e-b551-72450ba35ebf\",\"subtype\":\"Figure\",\"type\":\"Plot\"},\"ticker\":{\"id\":\"b4f401f5-ec09-4988-b7ed-c96f28c005b3\",\"type\":\"DatetimeTicker\"}},\"id\":\"c86d9316-6066-4b91-862f-9dd7a373f7e9\",\"type\":\"DatetimeAxis\"},{\"attributes\":{\"max_interval\":500.0,\"num_minor_ticks\":0},\"id\":\"0f3c19e0-27d2-4494-bccb-520813a118f9\",\"type\":\"AdaptiveTicker\"},{\"attributes\":{\"days\":[1,8,15,22]},\"id\":\"f2ab9146-caa5-42cb-a49b-d6e7cf9a5a8e\",\"type\":\"DaysTicker\"},{\"attributes\":{\"fill_alpha\":{\"value\":0.1},\"fill_color\":{\"value\":\"#1f77b4\"},\"line_alpha\":{\"value\":0.1},\"line_color\":{\"value\":\"#1f77b4\"},\"top\":{\"field\":\"top\"},\"width\":{\"value\":200000000000.0},\"x\":{\"field\":\"x\"}},\"id\":\"21bb1b3c-4a5d-46d9-a080-62ef74549a02\",\"type\":\"VBar\"},{\"attributes\":{\"fill_alpha\":{\"value\":0.1},\"fill_color\":{\"value\":\"#1f77b4\"},\"line_alpha\":{\"value\":0.1},\"line_color\":{\"value\":\"#1f77b4\"},\"top\":{\"field\":\"top\"},\"width\":{\"value\":200000000000.0},\"x\":{\"field\":\"x\"}},\"id\":\"b7f01afd-0f77-4af3-8290-d9f2a859f04a\",\"type\":\"VBar\"},{\"attributes\":{\"active_drag\":\"auto\",\"active_scroll\":{\"id\":\"c4cb81f5-26a0-4cd3-a106-4d869cdf6e86\",\"type\":\"WheelZoomTool\"},\"active_tap\":\"auto\",\"tools\":[{\"id\":\"02d1144a-69d2-402c-a405-f59e2b6cf60f\",\"type\":\"PanTool\"},{\"id\":\"c4cb81f5-26a0-4cd3-a106-4d869cdf6e86\",\"type\":\"WheelZoomTool\"},{\"id\":\"ff294b18-3b6a-448c-85e1-6b7c3a5e4168\",\"type\":\"BoxZoomTool\"},{\"id\":\"426f582c-c98c-4fe5-a68c-e5c403e7f950\",\"type\":\"SaveTool\"},{\"id\":\"ce2aaf81-e8e1-4963-9c10-a135784a6ea5\",\"type\":\"ResetTool\"}]},\"id\":\"3902a59f-b880-438f-881a-18ad8a8ff7af\",\"type\":\"Toolbar\"},{\"attributes\":{\"axis_label\":\"\\u00a3 bill. (direct comparison)\",\"formatter\":{\"id\":\"b4c293aa-7fa6-4bb6-99e8-657e7a4b79ac\",\"type\":\"BasicTickFormatter\"},\"plot\":{\"id\":\"7dfe6bb1-a3a5-44ee-b95d-f2f8fc1c890e\",\"subtype\":\"Figure\",\"type\":\"Plot\"},\"ticker\":{\"id\":\"b3fc1ca0-0abd-4fed-b246-49a0c3dc0912\",\"type\":\"BasicTicker\"},\"y_range_name\":\"currency\"},\"id\":\"9e757c72-a692-4b88-b0ba-c73ac9c39e3f\",\"type\":\"LinearAxis\"},{\"attributes\":{\"plot\":{\"id\":\"d4119899-e635-439e-b551-72450ba35ebf\",\"subtype\":\"Figure\",\"type\":\"Plot\"},\"ticker\":{\"id\":\"b4f401f5-ec09-4988-b7ed-c96f28c005b3\",\"type\":\"DatetimeTicker\"}},\"id\":\"e73a4316-ecf0-4d3a-8211-9c3bfcb9ac96\",\"type\":\"Grid\"},{\"attributes\":{\"base\":24,\"mantissas\":[1,2,4,6,8,12],\"max_interval\":43200000.0,\"min_interval\":3600000.0,\"num_minor_ticks\":0},\"id\":\"2b5d867f-e41f-47f7-af8b-0230aec3cb77\",\"type\":\"AdaptiveTicker\"},{\"attributes\":{\"bottom_units\":\"screen\",\"fill_alpha\":{\"value\":0.5},\"fill_color\":{\"value\":\"lightgrey\"},\"left_units\":\"screen\",\"level\":\"overlay\",\"line_alpha\":{\"value\":1.0},\"line_color\":{\"value\":\"black\"},\"line_dash\":[4,4],\"line_width\":{\"value\":2},\"plot\":null,\"render_mode\":\"css\",\"right_units\":\"screen\",\"top_units\":\"screen\"},\"id\":\"427fea40-1e0c-422a-a2eb-93500cfbd25b\",\"type\":\"BoxAnnotation\"},{\"attributes\":{\"months\":[0,6]},\"id\":\"71ff4acd-cda7-4ac3-aba4-4aaa845a0dd8\",\"type\":\"MonthsTicker\"},{\"attributes\":{\"months\":[0,1,2,3,4,5,6,7,8,9,10,11]},\"id\":\"11b3f753-b775-4b89-a22b-b4e60e8bbdf0\",\"type\":\"MonthsTicker\"},{\"attributes\":{\"label\":{\"value\":\"Currency\"},\"renderers\":[{\"id\":\"b9afca1c-c0cf-4bb5-8b39-dfaa3342509c\",\"type\":\"GlyphRenderer\"}]},\"id\":\"53b70f03-c502-4c6e-badb-7985665fb177\",\"type\":\"LegendItem\"},{\"attributes\":{\"axis_label\":\"\\u00a3 bill. (direct comparison)\",\"formatter\":{\"id\":\"88649784-bd05-45b9-8a27-109a9359eb8d\",\"type\":\"BasicTickFormatter\"},\"plot\":{\"id\":\"d4119899-e635-439e-b551-72450ba35ebf\",\"subtype\":\"Figure\",\"type\":\"Plot\"},\"ticker\":{\"id\":\"03d8494c-590e-45ed-a80e-67aad65ee516\",\"type\":\"BasicTicker\"},\"y_range_name\":\"currency\"},\"id\":\"a1b1e13b-6ddd-4b9c-92f3-0d7a8c847647\",\"type\":\"LinearAxis\"},{\"attributes\":{},\"id\":\"d76e7503-a60c-43ce-8373-5d17f7e1fba7\",\"type\":\"BasicTicker\"},{\"attributes\":{\"plot\":{\"id\":\"d4119899-e635-439e-b551-72450ba35ebf\",\"subtype\":\"Figure\",\"type\":\"Plot\"}},\"id\":\"ce2aaf81-e8e1-4963-9c10-a135784a6ea5\",\"type\":\"ResetTool\"},{\"attributes\":{\"below\":[{\"id\":\"a09a0897-74fc-40a6-a009-1a4fa6c0e9b5\",\"type\":\"DatetimeAxis\"}],\"extra_y_ranges\":{\"currency\":{\"id\":\"461ff2f7-6b99-460f-9e11-ec4e4ce059ed\",\"type\":\"Range1d\"}},\"left\":[{\"id\":\"4d2a7913-e0d8-443d-bd76-c2846a417b3d\",\"type\":\"LinearAxis\"}],\"plot_height\":500,\"plot_width\":300,\"renderers\":[{\"id\":\"a09a0897-74fc-40a6-a009-1a4fa6c0e9b5\",\"type\":\"DatetimeAxis\"},{\"id\":\"2283c84b-6ef9-48bb-9708-6120fe6d844b\",\"type\":\"Grid\"},{\"id\":\"4d2a7913-e0d8-443d-bd76-c2846a417b3d\",\"type\":\"LinearAxis\"},{\"id\":\"cb6fc2ed-6b6b-4415-8563-b441f8c9b406\",\"type\":\"Grid\"},{\"id\":\"a6d53ee8-138b-41be-b71c-5e831d13a068\",\"type\":\"BoxAnnotation\"},{\"id\":\"b44fc5c7-6e45-4cf0-ba30-94ed33fcf6e8\",\"type\":\"Legend\"},{\"id\":\"e1b5f0d0-2523-4bf5-87de-33c3a1595223\",\"type\":\"GlyphRenderer\"},{\"id\":\"b9afca1c-c0cf-4bb5-8b39-dfaa3342509c\",\"type\":\"GlyphRenderer\"},{\"id\":\"c6b6f0cd-8cda-4c35-9c0e-2efc6434d416\",\"type\":\"LinearAxis\"}],\"right\":[{\"id\":\"c6b6f0cd-8cda-4c35-9c0e-2efc6434d416\",\"type\":\"LinearAxis\"}],\"title\":{\"id\":\"cdb819df-c13f-4750-ba05-b8323d50e348\",\"type\":\"Title\"},\"tool_events\":{\"id\":\"a35bf130-5297-4d1f-917c-408e80cdaa99\",\"type\":\"ToolEvents\"},\"toolbar\":{\"id\":\"9302e6de-d636-4cf7-bc0d-a9a8e65baf41\",\"type\":\"Toolbar\"},\"toolbar_location\":\"below\",\"x_range\":{\"id\":\"d5c8d5f0-b032-4de5-a7c1-760ffd2885c6\",\"type\":\"DataRange1d\"},\"y_range\":{\"id\":\"f83f6537-87b7-49cc-acc3-ddc283b79af1\",\"type\":\"Range1d\"}},\"id\":\"7fb94c6b-c548-4d48-8c28-a480cd6a045d\",\"subtype\":\"Figure\",\"type\":\"Plot\"},{\"attributes\":{\"fill_color\":{\"value\":\"red\"},\"line_color\":{\"value\":\"red\"},\"top\":{\"field\":\"top\"},\"width\":{\"value\":200000000000.0},\"x\":{\"field\":\"x\"}},\"id\":\"ae016c58-0283-49f5-ba70-bd2bcf2c49c5\",\"type\":\"VBar\"},{\"attributes\":{\"bottom_units\":\"screen\",\"fill_alpha\":{\"value\":0.5},\"fill_color\":{\"value\":\"lightgrey\"},\"left_units\":\"screen\",\"level\":\"overlay\",\"line_alpha\":{\"value\":1.0},\"line_color\":{\"value\":\"black\"},\"line_dash\":[4,4],\"line_width\":{\"value\":2},\"plot\":null,\"render_mode\":\"css\",\"right_units\":\"screen\",\"top_units\":\"screen\"},\"id\":\"a6d53ee8-138b-41be-b71c-5e831d13a068\",\"type\":\"BoxAnnotation\"},{\"attributes\":{\"fill_color\":{\"value\":\"#1f77b4\"},\"line_color\":{\"value\":\"#1f77b4\"},\"top\":{\"field\":\"top\"},\"width\":{\"value\":200000000000.0},\"x\":{\"field\":\"x\"}},\"id\":\"f90f9fb2-43de-4ccf-a7a1-f8f7f45d169b\",\"type\":\"VBar\"},{\"attributes\":{},\"id\":\"c073078e-495c-4a1c-a0bd-04129555f6d8\",\"type\":\"DatetimeTickFormatter\"},{\"attributes\":{\"fill_alpha\":{\"value\":0.1},\"fill_color\":{\"value\":\"#1f77b4\"},\"line_alpha\":{\"value\":0.1},\"line_color\":{\"value\":\"#1f77b4\"},\"top\":{\"field\":\"top\"},\"width\":{\"value\":200000000000.0},\"x\":{\"field\":\"x\"}},\"id\":\"a8d18e5a-9ea6-44d6-b130-25e188d17979\",\"type\":\"VBar\"},{\"attributes\":{\"callback\":null,\"column_names\":[\"x\",\"top\"],\"data\":{\"top\":[100.0,190.0278551532034,306.4066852367688,789.5821727019498,1126.1281337047355],\"x\":[31536000000.0,347155200000.0,662688000000.0,978307200000.0,1230768000000.0]}},\"id\":\"796d1ba2-81b7-4771-a821-567026c74900\",\"type\":\"ColumnDataSource\"},{\"attributes\":{\"plot\":{\"id\":\"7dfe6bb1-a3a5-44ee-b95d-f2f8fc1c890e\",\"subtype\":\"Figure\",\"type\":\"Plot\"}},\"id\":\"1f868173-47a7-4f1b-ae72-085c3d70006e\",\"type\":\"WheelZoomTool\"},{\"attributes\":{\"days\":[1,4,7,10,13,16,19,22,25,28]},\"id\":\"51600f9b-d8a2-4dea-bdbc-1ff836cdb2b1\",\"type\":\"DaysTicker\"},{\"attributes\":{},\"id\":\"16b510f9-e900-4946-8a36-a2f9ccc2700a\",\"type\":\"BasicTicker\"},{\"attributes\":{\"dimension\":1,\"plot\":{\"id\":\"7fb94c6b-c548-4d48-8c28-a480cd6a045d\",\"subtype\":\"Figure\",\"type\":\"Plot\"},\"ticker\":{\"id\":\"8c05e347-f619-40c6-80ca-382e0614c662\",\"type\":\"BasicTicker\"}},\"id\":\"cb6fc2ed-6b6b-4415-8563-b441f8c9b406\",\"type\":\"Grid\"},{\"attributes\":{},\"id\":\"454ef1f1-6b0f-4e06-b1d6-a53c8a3b60b2\",\"type\":\"BasicTicker\"},{\"attributes\":{\"items\":[{\"id\":\"96b2f651-df88-4f21-a3b5-fec0f1ec3f7e\",\"type\":\"LegendItem\"},{\"id\":\"53b70f03-c502-4c6e-badb-7985665fb177\",\"type\":\"LegendItem\"}],\"location\":\"top_left\",\"plot\":{\"id\":\"7fb94c6b-c548-4d48-8c28-a480cd6a045d\",\"subtype\":\"Figure\",\"type\":\"Plot\"}},\"id\":\"b44fc5c7-6e45-4cf0-ba30-94ed33fcf6e8\",\"type\":\"Legend\"},{\"attributes\":{\"callback\":null,\"end\":1238.7409470752093},\"id\":\"bf9db91a-cab7-41f8-b3cd-1604e6bd922b\",\"type\":\"Range1d\"},{\"attributes\":{\"days\":[1,15]},\"id\":\"5d612f5e-d1c0-4cdd-ad3d-3a72c68b0331\",\"type\":\"DaysTicker\"},{\"attributes\":{},\"id\":\"b3fc1ca0-0abd-4fed-b246-49a0c3dc0912\",\"type\":\"BasicTicker\"},{\"attributes\":{\"axis_label\":\"\\u00a3 bill. (direct comparison)\",\"formatter\":{\"id\":\"5d4b35d8-b66b-42a7-bdfb-86aa3af10cb2\",\"type\":\"BasicTickFormatter\"},\"plot\":{\"id\":\"7fb94c6b-c548-4d48-8c28-a480cd6a045d\",\"subtype\":\"Figure\",\"type\":\"Plot\"},\"ticker\":{\"id\":\"454ef1f1-6b0f-4e06-b1d6-a53c8a3b60b2\",\"type\":\"BasicTicker\"},\"y_range_name\":\"currency\"},\"id\":\"c6b6f0cd-8cda-4c35-9c0e-2efc6434d416\",\"type\":\"LinearAxis\"},{\"attributes\":{\"data_source\":{\"id\":\"796d1ba2-81b7-4771-a821-567026c74900\",\"type\":\"ColumnDataSource\"},\"glyph\":{\"id\":\"8c3de266-981c-460f-bae1-0b647935773c\",\"type\":\"VBar\"},\"hover_glyph\":null,\"nonselection_glyph\":{\"id\":\"b552e0ad-5db7-4912-a6be-d870af1b6d93\",\"type\":\"VBar\"},\"selection_glyph\":null},\"id\":\"ed332dca-585c-461f-944c-cdf72539a0fc\",\"type\":\"GlyphRenderer\"},{\"attributes\":{\"items\":[{\"id\":\"96a5526a-a2cc-4209-b61c-ab1e2a7f4126\",\"type\":\"LegendItem\"},{\"id\":\"993e0f90-f927-447d-825d-97dd53054a88\",\"type\":\"LegendItem\"}],\"location\":\"top_left\",\"plot\":{\"id\":\"d4119899-e635-439e-b551-72450ba35ebf\",\"subtype\":\"Figure\",\"type\":\"Plot\"}},\"id\":\"8384ea10-f845-405f-a148-a7d14110fd49\",\"type\":\"Legend\"},{\"attributes\":{\"callback\":null},\"id\":\"d5c8d5f0-b032-4de5-a7c1-760ffd2885c6\",\"type\":\"DataRange1d\"},{\"attributes\":{\"days\":[1,4,7,10,13,16,19,22,25,28]},\"id\":\"3b0f38ee-3a79-4bd2-b8fd-bcb00f2177a2\",\"type\":\"DaysTicker\"},{\"attributes\":{\"days\":[1,8,15,22]},\"id\":\"f4f9e1bd-6d32-42b6-aee9-67838b7a2c48\",\"type\":\"DaysTicker\"},{\"attributes\":{\"days\":[1,4,7,10,13,16,19,22,25,28]},\"id\":\"a18e49ec-cf96-4b8a-aefe-2afd3ecbc400\",\"type\":\"DaysTicker\"},{\"attributes\":{\"days\":[1,2,3,4,5,6,7,8,9,10,11,12,13,14,15,16,17,18,19,20,21,22,23,24,25,26,27,28,29,30,31]},\"id\":\"1e9c12d5-986b-436f-878c-3f154f45c958\",\"type\":\"DaysTicker\"},{\"attributes\":{\"fill_alpha\":{\"value\":0.1},\"fill_color\":{\"value\":\"#1f77b4\"},\"line_alpha\":{\"value\":0.1},\"line_color\":{\"value\":\"#1f77b4\"},\"top\":{\"field\":\"top\"},\"width\":{\"value\":200000000000.0},\"x\":{\"field\":\"x\"}},\"id\":\"22141aa3-58cd-4f12-bb86-86dc0443bfd9\",\"type\":\"VBar\"},{\"attributes\":{\"days\":[1,15]},\"id\":\"ba2fd0cf-04ee-47a8-b36e-a16eb3a96327\",\"type\":\"DaysTicker\"},{\"attributes\":{\"callback\":null,\"end\":100},\"id\":\"e39c3f01-e6c9-4577-a805-33432b0c83e9\",\"type\":\"Range1d\"},{\"attributes\":{},\"id\":\"3a05cd0f-80ae-4a46-9f2c-760f49457b23\",\"type\":\"YearsTicker\"},{\"attributes\":{\"label\":{\"value\":\"% of 1971\"},\"renderers\":[{\"id\":\"ed332dca-585c-461f-944c-cdf72539a0fc\",\"type\":\"GlyphRenderer\"}]},\"id\":\"0fff9276-2cfc-4e03-9146-5675b40c2474\",\"type\":\"LegendItem\"},{\"attributes\":{\"days\":[1,2,3,4,5,6,7,8,9,10,11,12,13,14,15,16,17,18,19,20,21,22,23,24,25,26,27,28,29,30,31]},\"id\":\"b9e86af9-3f96-407e-b9e1-02cf89936c45\",\"type\":\"DaysTicker\"},{\"attributes\":{},\"id\":\"03d8494c-590e-45ed-a80e-67aad65ee516\",\"type\":\"BasicTicker\"},{\"attributes\":{},\"id\":\"b4c293aa-7fa6-4bb6-99e8-657e7a4b79ac\",\"type\":\"BasicTickFormatter\"},{\"attributes\":{\"axis_label\":\"Year\",\"formatter\":{\"id\":\"83ffafd5-8631-44f0-bfd7-e4f5316ee521\",\"type\":\"DatetimeTickFormatter\"},\"plot\":{\"id\":\"7fb94c6b-c548-4d48-8c28-a480cd6a045d\",\"subtype\":\"Figure\",\"type\":\"Plot\"},\"ticker\":{\"id\":\"f32b5b9f-dbc5-4277-be13-131d72381e23\",\"type\":\"DatetimeTicker\"}},\"id\":\"a09a0897-74fc-40a6-a009-1a4fa6c0e9b5\",\"type\":\"DatetimeAxis\"},{\"attributes\":{\"days\":[1,15]},\"id\":\"2e2d6775-0c8c-43e9-bd30-6e0ba94966d6\",\"type\":\"DaysTicker\"}],\"root_ids\":[\"017e3cd4-d2f2-4e47-a9a6-7917a4a6d313\"]},\"title\":\"Bokeh Application\",\"version\":\"0.12.3\"}};\n",
       "            var render_items = [{\"docid\":\"7fe40be4-0e36-4afb-b436-9883aa28e62c\",\"elementid\":\"9acc087f-9c6f-499b-a073-c8e9a6a10dd0\",\"modelid\":\"017e3cd4-d2f2-4e47-a9a6-7917a4a6d313\"}];\n",
       "            \n",
       "            Bokeh.embed.embed_items(docs_json, render_items);\n",
       "        });\n",
       "      },\n",
       "      function(Bokeh) {\n",
       "      }\n",
       "    ];\n",
       "\n",
       "    function run_inline_js() {\n",
       "      \n",
       "      if ((window.Bokeh !== undefined) || (force === \"1\")) {\n",
       "        for (var i = 0; i < inline_js.length; i++) {\n",
       "          inline_js[i](window.Bokeh);\n",
       "        }if (force === \"1\") {\n",
       "          display_loaded();\n",
       "        }} else if (Date.now() < window._bokeh_timeout) {\n",
       "        setTimeout(run_inline_js, 100);\n",
       "      } else if (!window._bokeh_failed_load) {\n",
       "        console.log(\"Bokeh: BokehJS failed to load within specified timeout.\");\n",
       "        window._bokeh_failed_load = true;\n",
       "      } else if (!force) {\n",
       "        var cell = $(\"#9acc087f-9c6f-499b-a073-c8e9a6a10dd0\").parents('.cell').data().cell;\n",
       "        cell.output_area.append_execute_result(NB_LOAD_WARNING)\n",
       "      }\n",
       "\n",
       "    }\n",
       "\n",
       "    if (window._bokeh_is_loading === 0) {\n",
       "      console.log(\"Bokeh: BokehJS loaded, going straight to plotting\");\n",
       "      run_inline_js();\n",
       "    } else {\n",
       "      load_libs(js_urls, function() {\n",
       "        console.log(\"Bokeh: BokehJS plotting callback run at\", now());\n",
       "        run_inline_js();\n",
       "      });\n",
       "    }\n",
       "  }(this));\n",
       "</script>"
      ]
     },
     "metadata": {},
     "output_type": "display_data"
    }
   ],
   "source": [
    "## FINAL VERSION OF SCRIPT, VERSION 2\n",
    "\n",
    "import pandas as pd\n",
    "#import matplotlib.pyplot as plt\n",
    "import bokeh.plotting as plt\n",
    "\n",
    "from bokeh.io import output_notebook\n",
    "from bokeh.layouts import row\n",
    "from bokeh.models import Range1d, LinearAxis\n",
    "output_notebook()\n",
    "\n",
    "def load_expenditure_data():\n",
    "    \"\"\"Get the ONS expenditure data from an Excel file\"\"\"\n",
    "    \n",
    "    # Load the data from a specific table in the XLS\n",
    "    df = pd.read_excel(\n",
    "        'data/expenditure.xls',\n",
    "        sheetname='Table 1',\n",
    "        na_values=' ',\n",
    "        header=5,\n",
    "        index_col=0,\n",
    "        parse_cols=(0, 1, 2, 3, 4, 5, 7)\n",
    "    ).dropna()\n",
    "\n",
    "    # Split data into two parts - ratio against 1971 and the final column,\n",
    "    # an absolute value of bill. GBP spent (for 2009)\n",
    "    df.columns = map(str, df.columns)\n",
    "    perc1971 = df.loc[:, '1971': '2009']\n",
    "    todaysCurrency = pd.DataFrame({'2009': df['2009.1']})\n",
    "\n",
    "    # Make the columns in each part subcolumns under two headings\n",
    "    df = pd.concat((perc1971, todaysCurrency), axis=1, keys=(\"%1971\", \"currency\"))\n",
    "    \n",
    "    # Swap the %1971 and currency into sub-rows for each category\n",
    "    # At the moment, all our currency data is empty, except for 2009\n",
    "    df = df.stack(level=0)\n",
    "\n",
    "    # We actually want rows to be years\n",
    "    df = df.transpose()\n",
    "\n",
    "    # Name the column and index for clarity\n",
    "    df.columns.name = \"Category\"\n",
    "    df.index.name = \"Years\"\n",
    "\n",
    "    # Turn the years into something pandas knows are dates\n",
    "    df.index = pd.to_datetime(df.index, format=\"%Y\")\n",
    "    \n",
    "    return df\n",
    "\n",
    "\n",
    "def get_cpi_for_dates(dates):\n",
    "    \"\"\"Use an online service to get historical Consumer Price Index data\"\"\"\n",
    "    \n",
    "    # Grab the CPI data from Quandl\n",
    "    #cpi = quandl.get(\"UIFS/CPI_GBR\", returns=\"pandas\")\n",
    "    cpi_series = cpi[\"CPI: ALL ITEMS (INDEX NUMBER)\"]\n",
    "\n",
    "    # Create a Series of NaNs, where the index is the dates we want\n",
    "    our_cpi_values = pd.Series(index=dates)\n",
    "    \n",
    "    # Merge our desired dates into the list we have been given\n",
    "    our_cpi_values = pd.concat((cpi_series, our_cpi_values)).sort_index()\n",
    "    \n",
    "    # Interpolate the online CPI values by date, to get rid of the\n",
    "    # NaNs we merged in\n",
    "    our_cpi_values = our_cpi_values.interpolate()\n",
    "    \n",
    "    # Extract only the dates we want\n",
    "    our_cpi_values = our_cpi_values.reindex(dates)\n",
    "    \n",
    "    return our_cpi_values\n",
    "\n",
    "\n",
    "# For comparisons, we we will need 2009 as a DateTime object\n",
    "date2009 = pd.to_datetime(\"2009-01-01 00:00:00\")\n",
    "def calculate_prices_in_old_money_for_col(x):\n",
    "    \"\"\"Fill in the blank (NaN) entries in a column of currency with the non-inflation-adjusted expenditure\"\"\"\n",
    "    # We only need to alter subcolumns with currency\n",
    "    if x.name[1] != 'currency':\n",
    "        return x\n",
    "    \n",
    "    category = x.name[0]\n",
    "    \n",
    "    # This is the multi-index for the %1971 value under the\n",
    "    # same category as column x\n",
    "    percent_col = (category, '%1971')\n",
    "    \n",
    "    # Get the %1971 values in the category for each year\n",
    "    ratio = df.loc[:, percent_col]\n",
    "    \n",
    "    # Get the %1971 value for 2009\n",
    "    ratio2009 = df.loc[date2009, percent_col]\n",
    "    \n",
    "    # Get the CPI values in each year\n",
    "    cpi = our_cpi_values\n",
    "    \n",
    "    # Get the 2009 CPI value\n",
    "    cpi2009 = our_cpi_values[date2009]\n",
    "    \n",
    "    # The currency value is scaled by the CPI difference\n",
    "    # from 2009 and the change in ratio from 2009\n",
    "    x = ratio * x[date2009] * cpi / (ratio2009 * cpi2009)\n",
    "    \n",
    "    return x\n",
    "\n",
    "def plot_categories(df, categories_of_interest):\n",
    "    \"\"\"\n",
    "    We plot out a series of figures showing the currency and %1971\n",
    "    values for a series of expenditure categories\n",
    "    \"\"\"\n",
    "    \n",
    "    # Set a sensible size of figure\n",
    "    \n",
    "    number_of_plots = len(categories_of_interest)\n",
    "    plots = []\n",
    "    \n",
    "    # Go through each category desired and create a new subplot\n",
    "    for i, category_name in enumerate(categories_of_interest):\n",
    "        # We create the figure as the (i+1)th place in a (1 x number_of_plots) grid\n",
    "        ax_left = plt.figure()\n",
    "        fig = plt.figure(\n",
    "            title = category_name,\n",
    "            x_axis_type='datetime',\n",
    "            plot_width=300,\n",
    "            plot_height=500,\n",
    "            toolbar_location='below',\n",
    "            active_scroll='wheel_zoom',\n",
    "            tools='pan,wheel_zoom,box_zoom,save,reset'\n",
    "        )\n",
    "        \n",
    "        # Get the category object from the DataFrame\n",
    "        category = df[category_name]\n",
    "                \n",
    "        # We want another ax sharing the same x-axis\n",
    "        fig.y_range = Range1d(start=0, end=category[\"%1971\"].max() * 1.1)\n",
    "        fig.extra_y_ranges = {'currency': Range1d(start=0, end=100)}\n",
    "\n",
    "        # Plot the %1971 bar using LHS\n",
    "        fig.vbar(\n",
    "            x=category.index,\n",
    "            top=category[\"%1971\"],\n",
    "            width=2e11,\n",
    "            legend=\"% of 1971\"\n",
    "        )\n",
    "        \n",
    "        # Plot the currency using RHS y-axis\n",
    "        fig.vbar(\n",
    "            x=category.index,\n",
    "            top=category[\"currency\"],\n",
    "            width=2e11,\n",
    "            color='red',\n",
    "            y_range_name='currency',\n",
    "            legend=\"Currency\"\n",
    "        )\n",
    "        \n",
    "        # Put the axes legends in the upper left (see docs for loc values)\n",
    "        fig.legend.location = 'top_left'\n",
    "        fig.yaxis.axis_label = \"% of 1971 (inflation-adjusted)\"\n",
    "        fig.add_layout(LinearAxis(y_range_name='currency', axis_label=\"£ bill. (direct comparison)\"), 'right')\n",
    "\n",
    "        # Convert the DateTime objects to something pretty\n",
    "        fig.xaxis.axis_label = \"Year\"\n",
    "        \n",
    "        plots.append(fig)\n",
    "\n",
    "    plt.show(row(*plots))\n",
    "\n",
    "\n",
    "# Get our data in\n",
    "df = load_expenditure_data()\n",
    "\n",
    "# Use the Consumer Price Index to work out what the non-inflation-adjusted prices were\n",
    "our_cpi_values = get_cpi_for_dates(df.index)\n",
    "\n",
    "# Update the DataFrame by scaling for CPI\n",
    "df = df.apply(calculate_prices_in_old_money_for_col)\n",
    "\n",
    "# Pick a few categories we want plotted\n",
    "categories_of_interest = (\n",
    "    \"Communication\",\n",
    "    \"Food and non-alcoholic beverages\",\n",
    "    \"Alcoholic beverages and tobacco\"\n",
    ")\n",
    "\n",
    "# Display the grid of plots\n",
    "plot_categories(df, categories_of_interest)"
   ]
  },
  {
   "cell_type": "markdown",
   "metadata": {},
   "source": [
    "_Bokeh_ also allows you have interactive buttons and sliders, as well as many of the plotting types available in _matplotlib_. You could then export this as an interactive page that you can embed in a website, for instance.\n",
    "\n",
    "In the most recent versions of _bokeh_, you can in a single short line make the legend clickable to hide individual plots: \"fig.legend.click"
   ]
  },
  {
   "cell_type": "markdown",
   "metadata": {
    "slideshow": {
     "slide_type": "notes"
    }
   },
   "source": [
    "If there is some time left, or you are coming back to this as an exercise, try using pandas to export an Excel file, or if you are feeling brave, export to SQL and create an Access database with [PyPyODBC](https://code.google.com/archive/p/pypyodbc/wikis/PyPyODBC_Example_Tutorial.wiki)"
   ]
  },
  {
   "cell_type": "markdown",
   "metadata": {
    "slideshow": {
     "slide_type": "notes"
    }
   },
   "source": [
    "A side note on big data: some tasks like MapReduce, and other buzzwordy things engineers like me don't deal with much, have specialized non-Python tools you may want to use, but Python is the best tool for analysing the output and passing to something else. Maybe you just have a series of bash scripts, or another tool for generating data. If this sounds like a use-case for you, you may wish to check out [luigi](https://github.com/spotify/luigi), an open source Python-based pipeline management tool from Spotify."
   ]
  },
  {
   "cell_type": "markdown",
   "metadata": {
    "slideshow": {
     "slide_type": "notes"
    }
   },
   "source": [
    "Another tip if you need your Python fast - you can use Cython to translate it from Python to C and compile it automatically. This is common in science and data analysis for accelerating your Python code. If you're proficient in C then, when you start getting that way in Python, you could check out something like Philip Herron's book *Learning Cython* - he is a Belfast-based developer who has used these tools working for the New York Stock Exchange."
   ]
  }
 ],
 "metadata": {
  "celltoolbar": "Slideshow",
  "kernelspec": {
   "display_name": "Python 3",
   "language": "python",
   "name": "python3"
  },
  "language_info": {
   "codemirror_mode": {
    "name": "ipython",
    "version": 3
   },
   "file_extension": ".py",
   "mimetype": "text/x-python",
   "name": "python",
   "nbconvert_exporter": "python",
   "pygments_lexer": "ipython3",
   "version": "3.4.3+"
  },
  "livereveal": {
   "theme": "beige",
   "transition": "convex"
  }
 },
 "nbformat": 4,
 "nbformat_minor": 1
}
