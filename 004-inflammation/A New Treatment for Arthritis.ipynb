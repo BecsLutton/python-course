{
 "cells": [
  {
   "cell_type": "markdown",
   "metadata": {
    "slideshow": {
     "slide_type": "notes"
    }
   },
   "source": [
    "First off, an acknowledgement of the usefulness of the Software Carpentry materials, and particularly data, in preparing this session - this course is not, however, affiliated with or endorsed by the Software Carpentry team. Nonetheless, if you would like a more in-depth walkthrough, relevant to this arthritis example, I recommend you explore their resources, particularly the python-novice-inflammation workshop."
   ]
  },
  {
   "cell_type": "markdown",
   "metadata": {
    "slideshow": {
     "slide_type": "slide"
    }
   },
   "source": [
    "# A New Treatment for Arthritis\n",
    "\n",
    "## Starting out with some data"
   ]
  },
  {
   "cell_type": "markdown",
   "metadata": {
    "slideshow": {
     "slide_type": "notes"
    }
   },
   "source": [
    "In this task, we will examine some data representing trials of an arthritis treatment. Our data is in the form of an ASCII file, where each row represents a patient and each column a consecutive day's measurement of inflammation."
   ]
  },
  {
   "cell_type": "markdown",
   "metadata": {
    "slideshow": {
     "slide_type": "slide"
    }
   },
   "source": [
    "# The Scientific Python Trifecta"
   ]
  },
  {
   "cell_type": "markdown",
   "metadata": {
    "slideshow": {
     "slide_type": "fragment"
    }
   },
   "source": [
    "* **numpy** - handling numbers"
   ]
  },
  {
   "cell_type": "markdown",
   "metadata": {
    "slideshow": {
     "slide_type": "fragment"
    }
   },
   "source": [
    "* **matplotlib** - plotting"
   ]
  },
  {
   "cell_type": "markdown",
   "metadata": {
    "slideshow": {
     "slide_type": "fragment"
    }
   },
   "source": [
    "* **scipy** - general scientific methods"
   ]
  },
  {
   "cell_type": "markdown",
   "metadata": {
    "slideshow": {
     "slide_type": "notes"
    }
   },
   "source": [
    "**numpy** has flexible routines for loading raw data..."
   ]
  },
  {
   "cell_type": "markdown",
   "metadata": {
    "slideshow": {
     "slide_type": "slide"
    }
   },
   "source": [
    "In the same directory as your notebooks, there is a folder with some data, called `data`."
   ]
  },
  {
   "cell_type": "code",
   "execution_count": 2,
   "metadata": {
    "slideshow": {
     "slide_type": "fragment"
    }
   },
   "outputs": [
    {
     "name": "stdout",
     "output_type": "stream",
     "text": [
      "0,0,1,3,1,2,4,7,8,3,3,3,10,5,7,4,7,7,12,18,6,13,11,11,7,7,4,6,8,8,4,4,5,7,3,4,2,3,0,0\n",
      " 0,1,2,1,2,1,3,2,2,6,10,11,5,9,4,4,7,16,8,6,18,4,12,5,12,7,11,5,11,3,3,5,4,4,5,5,1,1,0,1\n",
      " 0,1,1,3,3,2,6,2,5,9,5,7,4,5,4,15,5,11,9,10,19,14,12,17,7,12,11,7,4,2,10,5,4,2,2,3,2,2,1,1\n",
      "\n"
     ]
    }
   ],
   "source": [
    "with open('data/inflammation-01.csv', 'r') as f:\n",
    "    snippet = f.readlines()[:3]\n",
    "print(*snippet)"
   ]
  },
  {
   "cell_type": "markdown",
   "metadata": {
    "slideshow": {
     "slide_type": "notes"
    }
   },
   "source": [
    "This construct, a `with` statement, addresses the age-old problem of cleaning up file descriptors. In general, a *with context* expects the object being used to have some open and close routines that will be called at the entrance and exit of the block, respectively. Note that we don't have scoping here - the `snippet` variable exists outside the block, making it easy to load data in a short block and handle it later."
   ]
  },
  {
   "cell_type": "markdown",
   "metadata": {
    "slideshow": {
     "slide_type": "subslide"
    }
   },
   "source": [
    "We could use more traditional syntax:\n",
    "\n",
    "```python\n",
    "    f = open('foo.csv', 'r')\n",
    "    ...\n",
    "    f.close()\n",
    "```\n",
    "\n",
    "but this succinct approach has the benefit of containing use within a protected block."
   ]
  },
  {
   "cell_type": "markdown",
   "metadata": {
    "slideshow": {
     "slide_type": "notes"
    }
   },
   "source": [
    "It can be used for much more than just simple files, such as XML builders, sockets or mutexes."
   ]
  },
  {
   "cell_type": "markdown",
   "metadata": {
    "slideshow": {
     "slide_type": "notes"
    }
   },
   "source": [
    "We also note that a new piece of Python syntax has appeared - a star, indicating that an iterable (here, a list) is used to fill up arguments to a function. This is especially useful with print, and is equivalent to:\n",
    "\n",
    "```python\n",
    "    print(snippet[0], snippet[1], snippet[2])\n",
    "```\n",
    "\n",
    "However, there are places it really shines. In fact, you can also name arguments to a function - in that case you can additionally provide a dict that fills them out (with two stars to indicate the expansion)."
   ]
  },
  {
   "cell_type": "markdown",
   "metadata": {
    "slideshow": {
     "slide_type": "notes"
    }
   },
   "source": [
    "Looking at the printed data, you can see we have a large number of columns (equal for each row), data in the range 0-20 and it is comma-separated. Remember, each row represents a patient and each column, the measurement of inflammation on a given day."
   ]
  },
  {
   "cell_type": "markdown",
   "metadata": {
    "slideshow": {
     "slide_type": "slide"
    }
   },
   "source": [
    "# Import the data"
   ]
  },
  {
   "cell_type": "code",
   "execution_count": 3,
   "metadata": {},
   "outputs": [
    {
     "name": "stdout",
     "output_type": "stream",
     "text": [
      "[[ 0.  0.  1. ...,  3.  0.  0.]\n",
      " [ 0.  1.  2. ...,  1.  0.  1.]\n",
      " [ 0.  1.  1. ...,  2.  1.  1.]\n",
      " ..., \n",
      " [ 0.  1.  1. ...,  1.  1.  1.]\n",
      " [ 0.  0.  0. ...,  0.  2.  0.]\n",
      " [ 0.  0.  1. ...,  1.  1.  0.]]\n"
     ]
    }
   ],
   "source": [
    "import numpy as np\n",
    "data = np.loadtxt(fname='data/inflammation-01.csv', delimiter=',') # Comma-separated...\n",
    "print(data)"
   ]
  },
  {
   "cell_type": "markdown",
   "metadata": {
    "slideshow": {
     "slide_type": "notes"
    }
   },
   "source": [
    "While this has kindly been rendered for us as if it were a list of lists, in reality it is something much more useful..."
   ]
  },
  {
   "cell_type": "code",
   "execution_count": 4,
   "metadata": {
    "slideshow": {
     "slide_type": "fragment"
    }
   },
   "outputs": [
    {
     "data": {
      "text/plain": [
       "numpy.ndarray"
      ]
     },
     "execution_count": 4,
     "metadata": {},
     "output_type": "execute_result"
    }
   ],
   "source": [
    "type(data)"
   ]
  },
  {
   "cell_type": "markdown",
   "metadata": {
    "slideshow": {
     "slide_type": "notes"
    }
   },
   "source": [
    "This type is `numpy`'s N-dimensional matrix class. More generally, it is an instance of `numpy.array`, the defining class of numpy, if there is such a thing.\n",
    "\n",
    "This means we get a wide swathe of attributes and methods applicable to matrices, and a whole load of functions inside `numpy` and other libraries that will happily take it as an argument. One particularly useful property is `shape`:"
   ]
  },
  {
   "cell_type": "code",
   "execution_count": 5,
   "metadata": {
    "slideshow": {
     "slide_type": "fragment"
    }
   },
   "outputs": [
    {
     "data": {
      "text/plain": [
       "(60, 40)"
      ]
     },
     "execution_count": 5,
     "metadata": {},
     "output_type": "execute_result"
    }
   ],
   "source": [
    "data.shape"
   ]
  },
  {
   "cell_type": "markdown",
   "metadata": {
    "slideshow": {
     "slide_type": "notes"
    }
   },
   "source": [
    "This tells us that there are 60 patients (rows), each with 40 days of inflammation measurements (columns)."
   ]
  },
  {
   "cell_type": "markdown",
   "metadata": {
    "slideshow": {
     "slide_type": "slide"
    }
   },
   "source": [
    "We can get an idea of the wide variety of methods available on the `data` object..."
   ]
  },
  {
   "cell_type": "code",
   "execution_count": 6,
   "metadata": {
    "scrolled": true
   },
   "outputs": [
    {
     "data": {
      "text/plain": [
       "'T, __abs__, __add__, __and__, __array__, __array_finalize__, __array_interface__, __array_prepare__, __array_priority__, __array_struct__, __array_wrap__, __bool__, __class__, __contains__, __copy__, __deepcopy__, __delattr__, __delitem__, __dir__, __divmod__, __doc__, __eq__, __float__, __floordiv__, __format__, __ge__, __getattribute__, __getitem__, __gt__, __hash__, __iadd__, __iand__, __ifloordiv__, __ilshift__, __imod__, __imul__, __index__, __init__, __int__, __invert__, __ior__, __ipow__, __irshift__, __isub__, __iter__, __itruediv__, __ixor__, __le__, __len__, __lshift__, __lt__, __mod__, __mul__, __ne__, __neg__, __new__, __or__, __pos__, __pow__, __radd__, __rand__, __rdivmod__, __reduce__, __reduce_ex__, __repr__, __rfloordiv__, __rlshift__, __rmod__, __rmul__, __ror__, __rpow__, __rrshift__, __rshift__, __rsub__, __rtruediv__, __rxor__, __setattr__, __setitem__, __setstate__, __sizeof__, __str__, __sub__, __subclasshook__, __truediv__, __xor__, all, any, argmax, argmin, argpartition, argsort, astype, base, byteswap, choose, clip, compress, conj, conjugate, copy, ctypes, cumprod, cumsum, data, diagonal, dot, dtype, dump, dumps, fill, flags, flat, flatten, getfield, imag, item, itemset, itemsize, max, mean, min, nbytes, ndim, newbyteorder, nonzero, partition, prod, ptp, put, ravel, real, repeat, reshape, resize, round, searchsorted, setfield, setflags, shape, size, sort, squeeze, std, strides, sum, swapaxes, take, tofile, tolist, tostring, trace, transpose, var, view'"
      ]
     },
     "execution_count": 6,
     "metadata": {},
     "output_type": "execute_result"
    }
   ],
   "source": [
    "\", \".join(dir(data))"
   ]
  },
  {
   "cell_type": "markdown",
   "metadata": {
    "slideshow": {
     "slide_type": "notes"
    }
   },
   "source": [
    "A lot of the magic methods here, those with double underscores on either side, allow Python to treat this object more like a built-in. For instance, the `__neg__` method will get called when we enter `-data`. If we try `data1 < data2`, then `data1.__lt__` will be called with `data2` as an argument, expecting a boolean return. The behaviour when the user writes `data.previously_unknown_attr` is defined by the `__getattr__` method - this need not be an error. In some ways, you can think of this as an expansion of the concept of operator overloading.\n",
    "\n",
    "The `array` class uses those methods very effectively, to help us write clear and efficient code."
   ]
  },
  {
   "cell_type": "code",
   "execution_count": 7,
   "metadata": {
    "slideshow": {
     "slide_type": "slide"
    }
   },
   "outputs": [
    {
     "name": "stdout",
     "output_type": "stream",
     "text": [
      "[[ 0.  0.  2. ...,  6.  0.  0.]\n",
      " [ 0.  2.  4. ...,  2.  0.  2.]\n",
      " [ 0.  2.  2. ...,  4.  2.  2.]\n",
      " ..., \n",
      " [ 0.  2.  2. ...,  2.  2.  2.]\n",
      " [ 0.  0.  0. ...,  0.  4.  0.]\n",
      " [ 0.  0.  2. ...,  2.  2.  0.]]\n"
     ]
    }
   ],
   "source": [
    "print(data * 2)"
   ]
  },
  {
   "cell_type": "markdown",
   "metadata": {},
   "source": [
    "This works because `numpy` has overridden the `__mul__` method."
   ]
  },
  {
   "cell_type": "markdown",
   "metadata": {
    "slideshow": {
     "slide_type": "slide"
    }
   },
   "source": [
    "We can also do our slicing in multiple dimensions... let's get the top-left corner..."
   ]
  },
  {
   "cell_type": "code",
   "execution_count": 8,
   "metadata": {},
   "outputs": [
    {
     "data": {
      "text/plain": [
       "array([[ 0.,  0.],\n",
       "       [ 0.,  1.],\n",
       "       [ 0.,  1.]])"
      ]
     },
     "execution_count": 8,
     "metadata": {},
     "output_type": "execute_result"
    }
   ],
   "source": [
    "data[0:3, 0:2]"
   ]
  },
  {
   "cell_type": "code",
   "execution_count": 9,
   "metadata": {},
   "outputs": [
    {
     "data": {
      "text/plain": [
       "array([[ 0.,  0.,  1.],\n",
       "       [ 0.,  1.,  2.],\n",
       "       [ 0.,  1.,  1.]])"
      ]
     },
     "execution_count": 9,
     "metadata": {},
     "output_type": "execute_result"
    }
   ],
   "source": [
    "data[:3,:3]"
   ]
  },
  {
   "cell_type": "markdown",
   "metadata": {
    "slideshow": {
     "slide_type": "notes"
    }
   },
   "source": [
    "...or more succinctly..."
   ]
  },
  {
   "cell_type": "markdown",
   "metadata": {
    "slideshow": {
     "slide_type": "slide"
    }
   },
   "source": [
    "Try grabbing the bottom left corner (3x3)..."
   ]
  },
  {
   "cell_type": "code",
   "execution_count": 10,
   "metadata": {},
   "outputs": [
    {
     "data": {
      "text/plain": [
       "array([[ 0.,  1.,  1.],\n",
       "       [ 0.,  0.,  0.],\n",
       "       [ 0.,  0.,  1.]])"
      ]
     },
     "execution_count": 10,
     "metadata": {},
     "output_type": "execute_result"
    }
   ],
   "source": [
    "data[-3:, :3]"
   ]
  },
  {
   "cell_type": "markdown",
   "metadata": {
    "slideshow": {
     "slide_type": "slide"
    }
   },
   "source": [
    "A few more practical uses of `nparray`:"
   ]
  },
  {
   "cell_type": "code",
   "execution_count": 11,
   "metadata": {
    "slideshow": {
     "slide_type": "fragment"
    }
   },
   "outputs": [
    {
     "data": {
      "text/plain": [
       "(6.1487499999999997, 20.0, 0.0)"
      ]
     },
     "execution_count": 11,
     "metadata": {},
     "output_type": "execute_result"
    }
   ],
   "source": [
    "data.mean(), data.max(), data.min()"
   ]
  },
  {
   "cell_type": "code",
   "execution_count": 12,
   "metadata": {
    "slideshow": {
     "slide_type": "fragment"
    }
   },
   "outputs": [
    {
     "data": {
      "text/plain": [
       "17.0"
      ]
     },
     "execution_count": 12,
     "metadata": {},
     "output_type": "execute_result"
    }
   ],
   "source": [
    "data[3].max()  # Max inflammation for 4th patient"
   ]
  },
  {
   "cell_type": "markdown",
   "metadata": {},
   "source": [
    "This could also be written `data[3,:]` - colon on its own just signifies all entries in that axis, from first to last"
   ]
  },
  {
   "cell_type": "code",
   "execution_count": 13,
   "metadata": {
    "slideshow": {
     "slide_type": "fragment"
    }
   },
   "outputs": [
    {
     "data": {
      "text/plain": [
       "1.0"
      ]
     },
     "execution_count": 13,
     "metadata": {},
     "output_type": "execute_result"
    }
   ],
   "source": [
    "data[:,1].max() # Max infl for 2nd day"
   ]
  },
  {
   "cell_type": "markdown",
   "metadata": {
    "slideshow": {
     "slide_type": "slide"
    }
   },
   "source": [
    "Suppose we want the max for every day..."
   ]
  },
  {
   "cell_type": "markdown",
   "metadata": {
    "slideshow": {
     "slide_type": "notes"
    }
   },
   "source": [
    "We could create a new list and write a loop to go through it, but it seems there should be a more transparent, succinct, *Pythonic* approach"
   ]
  },
  {
   "cell_type": "code",
   "execution_count": 16,
   "metadata": {
    "slideshow": {
     "slide_type": "fragment"
    }
   },
   "outputs": [
    {
     "data": {
      "text/plain": [
       "array([  0.,   1.,   2.,   3.,   4.,   5.,   6.,   7.,   8.,   9.,  10.,\n",
       "        11.,  12.,  13.,  14.,  15.,  16.,  17.,  18.,  19.,  20.,  19.,\n",
       "        18.,  17.,  16.,  15.,  14.,  13.,  12.,  11.,  10.,   9.,   8.,\n",
       "         7.,   6.,   5.,   4.,   3.,   2.,   1.])"
      ]
     },
     "execution_count": 16,
     "metadata": {},
     "output_type": "execute_result"
    }
   ],
   "source": [
    "data.max(axis=0)"
   ]
  },
  {
   "cell_type": "markdown",
   "metadata": {
    "slideshow": {
     "slide_type": "notes"
    }
   },
   "source": [
    "As you can see, the second day does indeed have `max` of `1.0`. Notice that it returns an array (this is a superclass of `ndarray`), so we can do...\n",
    "\n",
    "An aside: this is the first time you have seen a named argument. In an argument list of a function, you can supply a name for arguments:"
   ]
  },
  {
   "cell_type": "markdown",
   "metadata": {
    "slideshow": {
     "slide_type": "slide"
    }
   },
   "source": [
    "```python\n",
    "def some_function(arg1, info=38, axis=None):\n",
    "   ...\n",
    "```"
   ]
  },
  {
   "cell_type": "markdown",
   "metadata": {},
   "source": [
    "To write a function like this, you must provide a default for the argument. You can then call the function only passing a subset of arguments, as you have just seen."
   ]
  },
  {
   "cell_type": "code",
   "execution_count": 17,
   "metadata": {
    "slideshow": {
     "slide_type": "fragment"
    }
   },
   "outputs": [
    {
     "data": {
      "text/plain": [
       "(40,)"
      ]
     },
     "execution_count": 17,
     "metadata": {},
     "output_type": "execute_result"
    }
   ],
   "source": [
    "data.max(axis=0).shape"
   ]
  },
  {
   "cell_type": "markdown",
   "metadata": {
    "slideshow": {
     "slide_type": "notes"
    }
   },
   "source": [
    "This shouldn't be surprising - we take the maximum over all patients for each of 40 days, so we end up with a 40 element array."
   ]
  },
  {
   "cell_type": "markdown",
   "metadata": {
    "slideshow": {
     "slide_type": "slide"
    }
   },
   "source": [
    "Try using the following cell to get the mean inflammation over all patients for each of the first three days..."
   ]
  },
  {
   "cell_type": "markdown",
   "metadata": {
    "slideshow": {
     "slide_type": "notes"
    }
   },
   "source": [
    "(you should use slicing and end up with a 3 element array)"
   ]
  },
  {
   "cell_type": "code",
   "execution_count": 18,
   "metadata": {},
   "outputs": [
    {
     "name": "stdout",
     "output_type": "stream",
     "text": [
      "[ 0.          0.45        1.11666667]\n",
      "[ 0.          0.45        1.11666667]\n"
     ]
    }
   ],
   "source": [
    "print(data.mean(axis=0)[:3])\n",
    "print(data[:,:3].mean(axis=0))"
   ]
  },
  {
   "cell_type": "markdown",
   "metadata": {
    "slideshow": {
     "slide_type": "slide"
    }
   },
   "source": [
    "# RIGHT\n",
    "## Enough text."
   ]
  },
  {
   "cell_type": "markdown",
   "metadata": {
    "slideshow": {
     "slide_type": "notes"
    }
   },
   "source": [
    "Programming isn't about writing reams of code, it's about getting stuff done and having fun while doing it. Right? Right. Right. RIGHT.\n",
    "\n",
    "In any case, when examining data, it's a whole lot more pleasant and efficient to see visualizations, so lets get started with some plotting."
   ]
  },
  {
   "cell_type": "markdown",
   "metadata": {
    "slideshow": {
     "slide_type": "slide"
    }
   },
   "source": [
    "# Plotting\n",
    "## Like we're Brutus the Younger"
   ]
  },
  {
   "cell_type": "markdown",
   "metadata": {
    "slideshow": {
     "slide_type": "slide"
    }
   },
   "source": [
    "First, we use a magic method that works in Jupyter (strictly, in its IPython backend)"
   ]
  },
  {
   "cell_type": "code",
   "execution_count": 19,
   "metadata": {},
   "outputs": [],
   "source": [
    "# Switch on the joy\n",
    "% matplotlib inline"
   ]
  },
  {
   "cell_type": "markdown",
   "metadata": {
    "slideshow": {
     "slide_type": "fragment"
    }
   },
   "source": [
    "Now for inline plotting we can use the `matplotlib` module, the go-to for Python plotting (but not in the Dijkstra sense)..."
   ]
  },
  {
   "cell_type": "code",
   "execution_count": 20,
   "metadata": {
    "slideshow": {
     "slide_type": "fragment"
    }
   },
   "outputs": [
    {
     "data": {
      "image/png": "[encoded data removed]",
      "text/plain": [
       "<matplotlib.figure.Figure at 0x7f42c9ed3cf8>"
      ]
     },
     "metadata": {},
     "output_type": "display_data"
    }
   ],
   "source": [
    "import matplotlib\n",
    "pretty_pic = matplotlib.pyplot.imshow(data)\n",
    "matplotlib.pyplot.show(pretty_pic)"
   ]
  },
  {
   "cell_type": "markdown",
   "metadata": {
    "slideshow": {
     "slide_type": "notes"
    }
   },
   "source": [
    "MMMM. Pretty. Red shows greater inflammation, and what we may have guessed from the bits of CSV we saw, inflammation starts low, grows and reduces. Patients along the side, days along the bottom."
   ]
  },
  {
   "cell_type": "markdown",
   "metadata": {
    "slideshow": {
     "slide_type": "slide"
    }
   },
   "source": [
    "Time for a challenge... plot the heat map (as above) for the fourth, fifth and sixth patients, transposed with days up the side. The easiest way is to [start with Google](https://www.google.ie/search?q=numpy+ndarray+transpose)... But first, put up your stars so I can see them!"
   ]
  },
  {
   "cell_type": "code",
   "execution_count": 21,
   "metadata": {},
   "outputs": [
    {
     "data": {
      "image/png": "[encoded data removed]",
      "text/plain": [
       "<matplotlib.figure.Figure at 0x7f42ab606908>"
      ]
     },
     "metadata": {},
     "output_type": "display_data"
    }
   ],
   "source": [
    "import matplotlib\n",
    "pretty_pic = matplotlib.pyplot.imshow(data[4:7].T)\n",
    "matplotlib.pyplot.show(pretty_pic)\n",
    "#data[4:6]"
   ]
  },
  {
   "cell_type": "markdown",
   "metadata": {
    "slideshow": {
     "slide_type": "slide"
    }
   },
   "source": [
    "# Reproducible Plots\n",
    "\n",
    "If you come from a MATLAB background, or use other plotting tools, you will be used to saving/re-opening a plot..."
   ]
  },
  {
   "cell_type": "markdown",
   "metadata": {
    "slideshow": {
     "slide_type": "fragment"
    }
   },
   "source": [
    "...in Python you normally have a plotting script that you run each time (and save the image)."
   ]
  },
  {
   "cell_type": "markdown",
   "metadata": {
    "slideshow": {
     "slide_type": "slide"
    }
   },
   "source": [
    "## Cons\n",
    "\n",
    "* You have no standard GUI for designing plots\n",
    "* If your plot involves lots of processing, it's slow to open"
   ]
  },
  {
   "cell_type": "markdown",
   "metadata": {
    "slideshow": {
     "slide_type": "fragment"
    }
   },
   "source": [
    "## Pros\n",
    "\n",
    "* Changes are trivially easy\n",
    "* Every time you open the plot, it contains current data"
   ]
  },
  {
   "cell_type": "markdown",
   "metadata": {
    "slideshow": {
     "slide_type": "slide"
    }
   },
   "source": [
    "## Con-workarounds\n",
    "\n",
    "* There are libraries for adding GUI elements to plots\n",
    "* You can split into two scripts\n",
    " * output processed data\n",
    " * plot"
   ]
  },
  {
   "cell_type": "markdown",
   "metadata": {
    "slideshow": {
     "slide_type": "slide"
    }
   },
   "source": [
    "# Example plotting script"
   ]
  },
  {
   "cell_type": "code",
   "execution_count": 22,
   "metadata": {},
   "outputs": [
    {
     "data": {
      "image/png": "[encoded data removed]",
      "text/plain": [
       "<matplotlib.figure.Figure at 0x7f42c9db7c18>"
      ]
     },
     "metadata": {},
     "output_type": "display_data"
    }
   ],
   "source": [
    "import numpy as np\n",
    "from matplotlib import pyplot\n",
    "\n",
    "data = np.loadtxt(fname='data/inflammation-01.csv', delimiter=',')\n",
    "pyplot.figure(figsize=(5.0, 3.0))\n",
    "\n",
    "pyplot.xlabel('Day')    \n",
    "pyplot.ylabel('Inflammation')\n",
    "\n",
    "pyplot.plot(data.mean(axis=0), label='Average')\n",
    "pyplot.plot(data.max(axis=0), label='Max')\n",
    "pyplot.plot(data.min(axis=0), label='Min')\n",
    "pyplot.legend()\n",
    "\n",
    "pyplot.show()"
   ]
  },
  {
   "cell_type": "code",
   "execution_count": 23,
   "metadata": {
    "scrolled": false,
    "slideshow": {
     "slide_type": "slide"
    }
   },
   "outputs": [
    {
     "name": "stdout",
     "output_type": "stream",
     "text": [
      "[ 0.          0.45        1.11666667]\n",
      "[ 0.          0.45        1.11666667]\n"
     ]
    }
   ],
   "source": [
    "exec(In[18])  # Cheeky way to reshow output... forget immediately."
   ]
  },
  {
   "cell_type": "markdown",
   "metadata": {
    "slideshow": {
     "slide_type": "notes"
    }
   },
   "source": [
    "Now if I want to modify some part... I can do so and have the updated plot straight-away"
   ]
  },
  {
   "cell_type": "markdown",
   "metadata": {
    "slideshow": {
     "slide_type": "notes"
    }
   },
   "source": [
    "This particular syntax is for fairly basic use, with only one set of axis and so forth, but it's probably quite familiar if you are coming from MATLAB. If we want to expand a bit more, first we use a more classic matplotlib approach, and neater programming approach, by setting properties directly on specific objects, such as axes..."
   ]
  },
  {
   "cell_type": "code",
   "execution_count": 24,
   "metadata": {
    "slideshow": {
     "slide_type": "slide"
    }
   },
   "outputs": [
    {
     "data": {
      "image/png": "[encoded data removed]",
      "text/plain": [
       "<matplotlib.figure.Figure at 0x7f42a8353b00>"
      ]
     },
     "metadata": {},
     "output_type": "display_data"
    }
   ],
   "source": [
    "# This is the whole figure, possibly\n",
    "# with multiple subplots\n",
    "fig = pyplot.figure(figsize=(5.0, 3.0))\n",
    "\n",
    "# This is a specific set of axes\n",
    "axes = fig.add_subplot(1, 1, 1)\n",
    "axes.set_xlabel('Day')\n",
    "axes.set_ylabel('Inflammation')\n",
    "\n",
    "axes.plot(data.mean(axis=0), label='Average')\n",
    "axes.plot(data.max(axis=0), label='Max')\n",
    "axes.plot(data.min(axis=0), label='Min')\n",
    "axes.legend()\n",
    "\n",
    "pyplot.show()"
   ]
  },
  {
   "cell_type": "markdown",
   "metadata": {
    "slideshow": {
     "slide_type": "notes"
    }
   },
   "source": [
    "Not particularly more complicated, but more flexible... say we have a series of plots..."
   ]
  },
  {
   "cell_type": "code",
   "execution_count": 25,
   "metadata": {
    "slideshow": {
     "slide_type": "slide"
    }
   },
   "outputs": [
    {
     "data": {
      "image/png": "[encoded data removed]",
      "text/plain": [
       "<matplotlib.figure.Figure at 0x7f42a8388048>"
      ]
     },
     "metadata": {},
     "output_type": "display_data"
    }
   ],
   "source": [
    "fig = pyplot.figure(figsize=(10.0, 3.0))\n",
    "\n",
    "axes = []  # Blank list\n",
    "for i in range(1, 4):\n",
    "    ax = fig.add_subplot(1, 3, i)\n",
    "    ax.set_xlabel('Day')\n",
    "    axes.append(ax)\n",
    "    \n",
    "axes[0].set_ylabel('Average')\n",
    "axes[1].set_ylabel('Max')\n",
    "axes[2].set_ylabel('Min')\n",
    "\n",
    "axes[0].plot(data.mean(axis=0))\n",
    "axes[1].plot(data.max(axis=0))\n",
    "axes[2].plot(data.min(axis=0))\n",
    "\n",
    "fig.tight_layout()\n",
    "pyplot.show(fig)"
   ]
  },
  {
   "cell_type": "markdown",
   "metadata": {
    "slideshow": {
     "slide_type": "slide"
    }
   },
   "source": [
    "# Challenge\n",
    "\n",
    "## Put up your stars!!"
   ]
  },
  {
   "cell_type": "markdown",
   "metadata": {
    "slideshow": {
     "slide_type": "fragment"
    }
   },
   "source": [
    "Modify the previous cell to give the max line with a dash, the blue line with dots and the red line solid.\n",
    "\n",
    "Even better, add a title at the top."
   ]
  },
  {
   "cell_type": "markdown",
   "metadata": {
    "slideshow": {
     "slide_type": "notes"
    }
   },
   "source": [
    "When done, swap to the arrow. If you find this very easy and are waiting, leave your arrow up and have a go at plotting all the patients in very light grey behind your three coloured lines. See how long it takes to run for those 63 lines."
   ]
  },
  {
   "cell_type": "markdown",
   "metadata": {
    "slideshow": {
     "slide_type": "fragment"
    }
   },
   "source": [
    "If you're having trouble, Google **pyplot line style** and pick the **pylab_examples example code** link..."
   ]
  },
  {
   "cell_type": "markdown",
   "metadata": {
    "slideshow": {
     "slide_type": "notes"
    }
   },
   "source": [
    "Bear in mind, and this is particularly the case with matplotlib, that there are multiple similar tools with slightly different configurations and long lists of technical documentation - try not to get lost in them and use Etherpad to flags things up. However, short examples are findable via Google, especially via Stack Overflow, that get you going fast."
   ]
  },
  {
   "cell_type": "markdown",
   "metadata": {
    "slideshow": {
     "slide_type": "slide"
    }
   },
   "source": [
    "# But...\n",
    "## Not so interactive"
   ]
  },
  {
   "cell_type": "markdown",
   "metadata": {
    "slideshow": {
     "slide_type": "notes"
    }
   },
   "source": [
    "If we are using Jupyter, it is probably because we want to have something interactive. Fixed plots in a web-page make it seem like something is missing."
   ]
  },
  {
   "cell_type": "markdown",
   "metadata": {
    "slideshow": {
     "slide_type": "slide"
    }
   },
   "source": [
    "# Bokeh\n",
    "## Dynamic plots"
   ]
  },
  {
   "cell_type": "code",
   "execution_count": 26,
   "metadata": {},
   "outputs": [
    {
     "data": {
      "text/html": [
       "\n",
       "    <div class=\"bk-root\">\n",
       "        <a href=\"http://bokeh.pydata.org\" target=\"_blank\" class=\"bk-logo bk-logo-small bk-logo-notebook\"></a>\n",
       "        <span id=\"ab336a99-ed03-4be3-ac41-b7486c898236\">Loading BokehJS ...</span>\n",
       "    </div>"
      ]
     },
     "metadata": {},
     "output_type": "display_data"
    },
    {
     "data": {
      "application/javascript": [
       "\n",
       "(function(global) {\n",
       "  function now() {\n",
       "    return new Date();\n",
       "  }\n",
       "\n",
       "  var force = \"1\";\n",
       "\n",
       "  if (typeof (window._bokeh_onload_callbacks) === \"undefined\" || force !== \"\") {\n",
       "    window._bokeh_onload_callbacks = [];\n",
       "    window._bokeh_is_loading = undefined;\n",
       "  }\n",
       "\n",
       "\n",
       "  \n",
       "  if (typeof (window._bokeh_timeout) === \"undefined\" || force !== \"\") {\n",
       "    window._bokeh_timeout = Date.now() + 5000;\n",
       "    window._bokeh_failed_load = false;\n",
       "  }\n",
       "\n",
       "  var NB_LOAD_WARNING = {'data': {'text/html':\n",
       "     \"<div style='background-color: #fdd'>\\n\"+\n",
       "     \"<p>\\n\"+\n",
       "     \"BokehJS does not appear to have successfully loaded. If loading BokehJS from CDN, this \\n\"+\n",
       "     \"may be due to a slow or bad network connection. Possible fixes:\\n\"+\n",
       "     \"</p>\\n\"+\n",
       "     \"<ul>\\n\"+\n",
       "     \"<li>re-rerun `output_notebook()` to attempt to load from CDN again, or</li>\\n\"+\n",
       "     \"<li>use INLINE resources instead, as so:</li>\\n\"+\n",
       "     \"</ul>\\n\"+\n",
       "     \"<code>\\n\"+\n",
       "     \"from bokeh.resources import INLINE\\n\"+\n",
       "     \"output_notebook(resources=INLINE)\\n\"+\n",
       "     \"</code>\\n\"+\n",
       "     \"</div>\"}};\n",
       "\n",
       "  function display_loaded() {\n",
       "    if (window.Bokeh !== undefined) {\n",
       "      Bokeh.$(\"#ab336a99-ed03-4be3-ac41-b7486c898236\").text(\"BokehJS successfully loaded.\");\n",
       "    } else if (Date.now() < window._bokeh_timeout) {\n",
       "      setTimeout(display_loaded, 100)\n",
       "    }\n",
       "  }\n",
       "\n",
       "  function run_callbacks() {\n",
       "    window._bokeh_onload_callbacks.forEach(function(callback) { callback() });\n",
       "    delete window._bokeh_onload_callbacks\n",
       "    console.info(\"Bokeh: all callbacks have finished\");\n",
       "  }\n",
       "\n",
       "  function load_libs(js_urls, callback) {\n",
       "    window._bokeh_onload_callbacks.push(callback);\n",
       "    if (window._bokeh_is_loading > 0) {\n",
       "      console.log(\"Bokeh: BokehJS is being loaded, scheduling callback at\", now());\n",
       "      return null;\n",
       "    }\n",
       "    if (js_urls == null || js_urls.length === 0) {\n",
       "      run_callbacks();\n",
       "      return null;\n",
       "    }\n",
       "    console.log(\"Bokeh: BokehJS not loaded, scheduling load and callback at\", now());\n",
       "    window._bokeh_is_loading = js_urls.length;\n",
       "    for (var i = 0; i < js_urls.length; i++) {\n",
       "      var url = js_urls[i];\n",
       "      var s = document.createElement('script');\n",
       "      s.src = url;\n",
       "      s.async = false;\n",
       "      s.onreadystatechange = s.onload = function() {\n",
       "        window._bokeh_is_loading--;\n",
       "        if (window._bokeh_is_loading === 0) {\n",
       "          console.log(\"Bokeh: all BokehJS libraries loaded\");\n",
       "          run_callbacks()\n",
       "        }\n",
       "      };\n",
       "      s.onerror = function() {\n",
       "        console.warn(\"failed to load library \" + url);\n",
       "      };\n",
       "      console.log(\"Bokeh: injecting script tag for BokehJS library: \", url);\n",
       "      document.getElementsByTagName(\"head\")[0].appendChild(s);\n",
       "    }\n",
       "  };var element = document.getElementById(\"ab336a99-ed03-4be3-ac41-b7486c898236\");\n",
       "  if (element == null) {\n",
       "    console.log(\"Bokeh: ERROR: autoload.js configured with elementid 'ab336a99-ed03-4be3-ac41-b7486c898236' but no matching script tag was found. \")\n",
       "    return false;\n",
       "  }\n",
       "\n",
       "  var js_urls = ['https://cdn.pydata.org/bokeh/release/bokeh-0.12.3.min.js', 'https://cdn.pydata.org/bokeh/release/bokeh-widgets-0.12.3.min.js'];\n",
       "\n",
       "  var inline_js = [\n",
       "    function(Bokeh) {\n",
       "      Bokeh.set_log_level(\"info\");\n",
       "    },\n",
       "    \n",
       "    function(Bokeh) {\n",
       "      \n",
       "      Bokeh.$(\"#ab336a99-ed03-4be3-ac41-b7486c898236\").text(\"BokehJS is loading...\");\n",
       "\n",
       "    },\n",
       "    function(Bokeh) {\n",
       "      console.log(\"Bokeh: injecting CSS: https://cdn.pydata.org/bokeh/release/bokeh-0.12.3.min.css\");\n",
       "      Bokeh.embed.inject_css(\"https://cdn.pydata.org/bokeh/release/bokeh-0.12.3.min.css\");\n",
       "      console.log(\"Bokeh: injecting CSS: https://cdn.pydata.org/bokeh/release/bokeh-widgets-0.12.3.min.css\");\n",
       "      Bokeh.embed.inject_css(\"https://cdn.pydata.org/bokeh/release/bokeh-widgets-0.12.3.min.css\");\n",
       "    }\n",
       "  ];\n",
       "\n",
       "  function run_inline_js() {\n",
       "    \n",
       "    if ((window.Bokeh !== undefined) || (force === \"1\")) {\n",
       "      for (var i = 0; i < inline_js.length; i++) {\n",
       "        inline_js[i](window.Bokeh);\n",
       "      }if (force === \"1\") {\n",
       "        display_loaded();\n",
       "      }} else if (Date.now() < window._bokeh_timeout) {\n",
       "      setTimeout(run_inline_js, 100);\n",
       "    } else if (!window._bokeh_failed_load) {\n",
       "      console.log(\"Bokeh: BokehJS failed to load within specified timeout.\");\n",
       "      window._bokeh_failed_load = true;\n",
       "    } else if (!force) {\n",
       "      var cell = $(\"#ab336a99-ed03-4be3-ac41-b7486c898236\").parents('.cell').data().cell;\n",
       "      cell.output_area.append_execute_result(NB_LOAD_WARNING)\n",
       "    }\n",
       "\n",
       "  }\n",
       "\n",
       "  if (window._bokeh_is_loading === 0) {\n",
       "    console.log(\"Bokeh: BokehJS loaded, going straight to plotting\");\n",
       "    run_inline_js();\n",
       "  } else {\n",
       "    load_libs(js_urls, function() {\n",
       "      console.log(\"Bokeh: BokehJS plotting callback run at\", now());\n",
       "      run_inline_js();\n",
       "    });\n",
       "  }\n",
       "}(this));"
      ]
     },
     "metadata": {},
     "output_type": "display_data"
    }
   ],
   "source": [
    "import bokeh.plotting as bplot\n",
    "from bokeh.io import output_notebook\n",
    "output_notebook()"
   ]
  },
  {
   "cell_type": "markdown",
   "metadata": {},
   "source": [
    "If this works, you should see an icon like a rainbow-coloured camera shutter."
   ]
  },
  {
   "cell_type": "code",
   "execution_count": 27,
   "metadata": {
    "slideshow": {
     "slide_type": "slide"
    }
   },
   "outputs": [
    {
     "data": {
      "text/html": [
       "\n",
       "\n",
       "    <div class=\"bk-root\">\n",
       "        <div class=\"plotdiv\" id=\"e593f212-66a4-40ca-bb6b-02ccbedda1b0\"></div>\n",
       "    </div>\n",
       "<script type=\"text/javascript\">\n",
       "  \n",
       "  (function(global) {\n",
       "    function now() {\n",
       "      return new Date();\n",
       "    }\n",
       "\n",
       "    var force = \"\";\n",
       "\n",
       "    if (typeof (window._bokeh_onload_callbacks) === \"undefined\" || force !== \"\") {\n",
       "      window._bokeh_onload_callbacks = [];\n",
       "      window._bokeh_is_loading = undefined;\n",
       "    }\n",
       "\n",
       "\n",
       "    \n",
       "    if (typeof (window._bokeh_timeout) === \"undefined\" || force !== \"\") {\n",
       "      window._bokeh_timeout = Date.now() + 0;\n",
       "      window._bokeh_failed_load = false;\n",
       "    }\n",
       "\n",
       "    var NB_LOAD_WARNING = {'data': {'text/html':\n",
       "       \"<div style='background-color: #fdd'>\\n\"+\n",
       "       \"<p>\\n\"+\n",
       "       \"BokehJS does not appear to have successfully loaded. If loading BokehJS from CDN, this \\n\"+\n",
       "       \"may be due to a slow or bad network connection. Possible fixes:\\n\"+\n",
       "       \"</p>\\n\"+\n",
       "       \"<ul>\\n\"+\n",
       "       \"<li>re-rerun `output_notebook()` to attempt to load from CDN again, or</li>\\n\"+\n",
       "       \"<li>use INLINE resources instead, as so:</li>\\n\"+\n",
       "       \"</ul>\\n\"+\n",
       "       \"<code>\\n\"+\n",
       "       \"from bokeh.resources import INLINE\\n\"+\n",
       "       \"output_notebook(resources=INLINE)\\n\"+\n",
       "       \"</code>\\n\"+\n",
       "       \"</div>\"}};\n",
       "\n",
       "    function display_loaded() {\n",
       "      if (window.Bokeh !== undefined) {\n",
       "        Bokeh.$(\"#e593f212-66a4-40ca-bb6b-02ccbedda1b0\").text(\"BokehJS successfully loaded.\");\n",
       "      } else if (Date.now() < window._bokeh_timeout) {\n",
       "        setTimeout(display_loaded, 100)\n",
       "      }\n",
       "    }\n",
       "\n",
       "    function run_callbacks() {\n",
       "      window._bokeh_onload_callbacks.forEach(function(callback) { callback() });\n",
       "      delete window._bokeh_onload_callbacks\n",
       "      console.info(\"Bokeh: all callbacks have finished\");\n",
       "    }\n",
       "\n",
       "    function load_libs(js_urls, callback) {\n",
       "      window._bokeh_onload_callbacks.push(callback);\n",
       "      if (window._bokeh_is_loading > 0) {\n",
       "        console.log(\"Bokeh: BokehJS is being loaded, scheduling callback at\", now());\n",
       "        return null;\n",
       "      }\n",
       "      if (js_urls == null || js_urls.length === 0) {\n",
       "        run_callbacks();\n",
       "        return null;\n",
       "      }\n",
       "      console.log(\"Bokeh: BokehJS not loaded, scheduling load and callback at\", now());\n",
       "      window._bokeh_is_loading = js_urls.length;\n",
       "      for (var i = 0; i < js_urls.length; i++) {\n",
       "        var url = js_urls[i];\n",
       "        var s = document.createElement('script');\n",
       "        s.src = url;\n",
       "        s.async = false;\n",
       "        s.onreadystatechange = s.onload = function() {\n",
       "          window._bokeh_is_loading--;\n",
       "          if (window._bokeh_is_loading === 0) {\n",
       "            console.log(\"Bokeh: all BokehJS libraries loaded\");\n",
       "            run_callbacks()\n",
       "          }\n",
       "        };\n",
       "        s.onerror = function() {\n",
       "          console.warn(\"failed to load library \" + url);\n",
       "        };\n",
       "        console.log(\"Bokeh: injecting script tag for BokehJS library: \", url);\n",
       "        document.getElementsByTagName(\"head\")[0].appendChild(s);\n",
       "      }\n",
       "    };var element = document.getElementById(\"e593f212-66a4-40ca-bb6b-02ccbedda1b0\");\n",
       "    if (element == null) {\n",
       "      console.log(\"Bokeh: ERROR: autoload.js configured with elementid 'e593f212-66a4-40ca-bb6b-02ccbedda1b0' but no matching script tag was found. \")\n",
       "      return false;\n",
       "    }\n",
       "\n",
       "    var js_urls = [];\n",
       "\n",
       "    var inline_js = [\n",
       "      function(Bokeh) {\n",
       "        Bokeh.$(function() {\n",
       "            var docs_json = {\"9a210a94-4eee-465d-b70c-d743ad005b57\":{\"roots\":{\"references\":[{\"attributes\":{\"dimension\":1,\"plot\":{\"id\":\"1114fd4c-fae2-4b34-a7ec-f05b1729c213\",\"subtype\":\"Figure\",\"type\":\"Plot\"},\"ticker\":{\"id\":\"6a312506-9fe2-41b7-94fe-0e1854f1a55f\",\"type\":\"BasicTicker\"}},\"id\":\"ff384bf9-bdd0-44f8-9c3e-9f67ab982ee7\",\"type\":\"Grid\"},{\"attributes\":{\"callback\":null},\"id\":\"53491a00-b696-49e3-8591-3b8ba56c3321\",\"type\":\"DataRange1d\"},{\"attributes\":{\"plot\":{\"id\":\"1114fd4c-fae2-4b34-a7ec-f05b1729c213\",\"subtype\":\"Figure\",\"type\":\"Plot\"}},\"id\":\"8cacbe15-90a7-47ab-b06c-dcb3cbbf2b95\",\"type\":\"ResetTool\"},{\"attributes\":{\"data_source\":{\"id\":\"d2d8e374-d65f-441a-99eb-313919c20c8d\",\"type\":\"ColumnDataSource\"},\"glyph\":{\"id\":\"301ead38-95b6-4e19-8c58-4463183d1806\",\"type\":\"Line\"},\"hover_glyph\":null,\"nonselection_glyph\":{\"id\":\"0917670d-7ca6-462b-9403-2810553418cc\",\"type\":\"Line\"},\"selection_glyph\":null},\"id\":\"1afb06a3-b950-42f5-b521-9ea2836a470a\",\"type\":\"GlyphRenderer\"},{\"attributes\":{},\"id\":\"c4684f1c-782a-4456-a7a9-cde3949b2eb7\",\"type\":\"BasicTickFormatter\"},{\"attributes\":{\"active_drag\":\"auto\",\"active_scroll\":\"auto\",\"active_tap\":\"auto\",\"tools\":[{\"id\":\"d0cc7e23-5034-49f8-acc9-e28a06826060\",\"type\":\"PanTool\"},{\"id\":\"1383eccf-1442-4e4d-a76b-8d5bf412ca74\",\"type\":\"WheelZoomTool\"},{\"id\":\"3fb56d6b-a882-49e1-90b3-13fc7622186a\",\"type\":\"BoxZoomTool\"},{\"id\":\"20471202-9b81-459f-827e-419c7fbf47ac\",\"type\":\"SaveTool\"},{\"id\":\"8cacbe15-90a7-47ab-b06c-dcb3cbbf2b95\",\"type\":\"ResetTool\"},{\"id\":\"204f56c5-3bd5-4d4c-8bea-ab363bf2177c\",\"type\":\"HelpTool\"}]},\"id\":\"0112e1c8-10e0-445d-86d3-d415a60f2112\",\"type\":\"Toolbar\"},{\"attributes\":{\"callback\":null,\"column_names\":[\"x\",\"y\"],\"data\":{\"x\":[0,1,2,3,4,5,6,7,8,9,10,11,12,13,14,15,16,17,18,19,20,21,22,23,24,25,26,27,28,29,30,31,32,33,34,35,36,37,38,39],\"y\":[0.0,0.45,1.1166666666666667,1.75,2.433333333333333,3.15,3.8,3.8833333333333333,5.233333333333333,5.516666666666667,5.95,5.9,8.35,7.733333333333333,8.366666666666667,9.5,9.583333333333334,10.633333333333333,11.566666666666666,12.35,13.25,11.966666666666667,11.033333333333333,10.166666666666666,10.0,8.666666666666666,9.15,7.25,7.333333333333333,6.583333333333333,6.066666666666666,5.95,5.116666666666666,3.6,3.3,3.566666666666667,2.4833333333333334,1.5,1.1333333333333333,0.5666666666666667]}},\"id\":\"d2d8e374-d65f-441a-99eb-313919c20c8d\",\"type\":\"ColumnDataSource\"},{\"attributes\":{\"bottom_units\":\"screen\",\"fill_alpha\":{\"value\":0.5},\"fill_color\":{\"value\":\"lightgrey\"},\"left_units\":\"screen\",\"level\":\"overlay\",\"line_alpha\":{\"value\":1.0},\"line_color\":{\"value\":\"black\"},\"line_dash\":[4,4],\"line_width\":{\"value\":2},\"plot\":null,\"render_mode\":\"css\",\"right_units\":\"screen\",\"top_units\":\"screen\"},\"id\":\"50200c68-384b-4463-8eed-6edb7f6aa032\",\"type\":\"BoxAnnotation\"},{\"attributes\":{\"callback\":null},\"id\":\"221ba741-5f74-4c63-a10b-f568bec8b72a\",\"type\":\"DataRange1d\"},{\"attributes\":{\"plot\":{\"id\":\"1114fd4c-fae2-4b34-a7ec-f05b1729c213\",\"subtype\":\"Figure\",\"type\":\"Plot\"}},\"id\":\"20471202-9b81-459f-827e-419c7fbf47ac\",\"type\":\"SaveTool\"},{\"attributes\":{\"line_alpha\":{\"value\":0.1},\"line_color\":{\"value\":\"#1f77b4\"},\"x\":{\"field\":\"x\"},\"y\":{\"field\":\"y\"}},\"id\":\"0917670d-7ca6-462b-9403-2810553418cc\",\"type\":\"Line\"},{\"attributes\":{\"line_color\":{\"value\":\"#1f77b4\"},\"x\":{\"field\":\"x\"},\"y\":{\"field\":\"y\"}},\"id\":\"301ead38-95b6-4e19-8c58-4463183d1806\",\"type\":\"Line\"},{\"attributes\":{\"axis_label\":\"Day\",\"formatter\":{\"id\":\"c4684f1c-782a-4456-a7a9-cde3949b2eb7\",\"type\":\"BasicTickFormatter\"},\"plot\":{\"id\":\"1114fd4c-fae2-4b34-a7ec-f05b1729c213\",\"subtype\":\"Figure\",\"type\":\"Plot\"},\"ticker\":{\"id\":\"9d8c3154-9178-4813-bd65-55f6f2f96630\",\"type\":\"BasicTicker\"}},\"id\":\"57e21ed2-f66b-435e-8cb0-ffdaaa3f7796\",\"type\":\"LinearAxis\"},{\"attributes\":{},\"id\":\"9d8c3154-9178-4813-bd65-55f6f2f96630\",\"type\":\"BasicTicker\"},{\"attributes\":{},\"id\":\"7932517a-1d56-4200-a7b4-7fb1718feaa2\",\"type\":\"BasicTickFormatter\"},{\"attributes\":{\"below\":[{\"id\":\"57e21ed2-f66b-435e-8cb0-ffdaaa3f7796\",\"type\":\"LinearAxis\"}],\"left\":[{\"id\":\"60a8b893-8be3-4535-adb8-9f0851595d68\",\"type\":\"LinearAxis\"}],\"renderers\":[{\"id\":\"57e21ed2-f66b-435e-8cb0-ffdaaa3f7796\",\"type\":\"LinearAxis\"},{\"id\":\"012f9caf-407c-49a4-90bd-f436d39f841b\",\"type\":\"Grid\"},{\"id\":\"60a8b893-8be3-4535-adb8-9f0851595d68\",\"type\":\"LinearAxis\"},{\"id\":\"ff384bf9-bdd0-44f8-9c3e-9f67ab982ee7\",\"type\":\"Grid\"},{\"id\":\"50200c68-384b-4463-8eed-6edb7f6aa032\",\"type\":\"BoxAnnotation\"},{\"id\":\"1afb06a3-b950-42f5-b521-9ea2836a470a\",\"type\":\"GlyphRenderer\"}],\"title\":{\"id\":\"44cccd62-461d-4df3-a5a6-5ad525a5d081\",\"type\":\"Title\"},\"tool_events\":{\"id\":\"b391198c-7eb9-4016-9559-b1080f0dc500\",\"type\":\"ToolEvents\"},\"toolbar\":{\"id\":\"0112e1c8-10e0-445d-86d3-d415a60f2112\",\"type\":\"Toolbar\"},\"x_range\":{\"id\":\"221ba741-5f74-4c63-a10b-f568bec8b72a\",\"type\":\"DataRange1d\"},\"y_range\":{\"id\":\"53491a00-b696-49e3-8591-3b8ba56c3321\",\"type\":\"DataRange1d\"}},\"id\":\"1114fd4c-fae2-4b34-a7ec-f05b1729c213\",\"subtype\":\"Figure\",\"type\":\"Plot\"},{\"attributes\":{\"overlay\":{\"id\":\"50200c68-384b-4463-8eed-6edb7f6aa032\",\"type\":\"BoxAnnotation\"},\"plot\":{\"id\":\"1114fd4c-fae2-4b34-a7ec-f05b1729c213\",\"subtype\":\"Figure\",\"type\":\"Plot\"}},\"id\":\"3fb56d6b-a882-49e1-90b3-13fc7622186a\",\"type\":\"BoxZoomTool\"},{\"attributes\":{\"plot\":null,\"text\":null},\"id\":\"44cccd62-461d-4df3-a5a6-5ad525a5d081\",\"type\":\"Title\"},{\"attributes\":{},\"id\":\"6a312506-9fe2-41b7-94fe-0e1854f1a55f\",\"type\":\"BasicTicker\"},{\"attributes\":{\"plot\":{\"id\":\"1114fd4c-fae2-4b34-a7ec-f05b1729c213\",\"subtype\":\"Figure\",\"type\":\"Plot\"}},\"id\":\"204f56c5-3bd5-4d4c-8bea-ab363bf2177c\",\"type\":\"HelpTool\"},{\"attributes\":{\"plot\":{\"id\":\"1114fd4c-fae2-4b34-a7ec-f05b1729c213\",\"subtype\":\"Figure\",\"type\":\"Plot\"}},\"id\":\"d0cc7e23-5034-49f8-acc9-e28a06826060\",\"type\":\"PanTool\"},{\"attributes\":{},\"id\":\"b391198c-7eb9-4016-9559-b1080f0dc500\",\"type\":\"ToolEvents\"},{\"attributes\":{\"formatter\":{\"id\":\"7932517a-1d56-4200-a7b4-7fb1718feaa2\",\"type\":\"BasicTickFormatter\"},\"plot\":{\"id\":\"1114fd4c-fae2-4b34-a7ec-f05b1729c213\",\"subtype\":\"Figure\",\"type\":\"Plot\"},\"ticker\":{\"id\":\"6a312506-9fe2-41b7-94fe-0e1854f1a55f\",\"type\":\"BasicTicker\"}},\"id\":\"60a8b893-8be3-4535-adb8-9f0851595d68\",\"type\":\"LinearAxis\"},{\"attributes\":{\"plot\":{\"id\":\"1114fd4c-fae2-4b34-a7ec-f05b1729c213\",\"subtype\":\"Figure\",\"type\":\"Plot\"},\"ticker\":{\"id\":\"9d8c3154-9178-4813-bd65-55f6f2f96630\",\"type\":\"BasicTicker\"}},\"id\":\"012f9caf-407c-49a4-90bd-f436d39f841b\",\"type\":\"Grid\"},{\"attributes\":{\"plot\":{\"id\":\"1114fd4c-fae2-4b34-a7ec-f05b1729c213\",\"subtype\":\"Figure\",\"type\":\"Plot\"}},\"id\":\"1383eccf-1442-4e4d-a76b-8d5bf412ca74\",\"type\":\"WheelZoomTool\"}],\"root_ids\":[\"1114fd4c-fae2-4b34-a7ec-f05b1729c213\"]},\"title\":\"Bokeh Application\",\"version\":\"0.12.3\"}};\n",
       "            var render_items = [{\"docid\":\"9a210a94-4eee-465d-b70c-d743ad005b57\",\"elementid\":\"e593f212-66a4-40ca-bb6b-02ccbedda1b0\",\"modelid\":\"1114fd4c-fae2-4b34-a7ec-f05b1729c213\"}];\n",
       "            \n",
       "            Bokeh.embed.embed_items(docs_json, render_items);\n",
       "        });\n",
       "      },\n",
       "      function(Bokeh) {\n",
       "      }\n",
       "    ];\n",
       "\n",
       "    function run_inline_js() {\n",
       "      \n",
       "      if ((window.Bokeh !== undefined) || (force === \"1\")) {\n",
       "        for (var i = 0; i < inline_js.length; i++) {\n",
       "          inline_js[i](window.Bokeh);\n",
       "        }if (force === \"1\") {\n",
       "          display_loaded();\n",
       "        }} else if (Date.now() < window._bokeh_timeout) {\n",
       "        setTimeout(run_inline_js, 100);\n",
       "      } else if (!window._bokeh_failed_load) {\n",
       "        console.log(\"Bokeh: BokehJS failed to load within specified timeout.\");\n",
       "        window._bokeh_failed_load = true;\n",
       "      } else if (!force) {\n",
       "        var cell = $(\"#e593f212-66a4-40ca-bb6b-02ccbedda1b0\").parents('.cell').data().cell;\n",
       "        cell.output_area.append_execute_result(NB_LOAD_WARNING)\n",
       "      }\n",
       "\n",
       "    }\n",
       "\n",
       "    if (window._bokeh_is_loading === 0) {\n",
       "      console.log(\"Bokeh: BokehJS loaded, going straight to plotting\");\n",
       "      run_inline_js();\n",
       "    } else {\n",
       "      load_libs(js_urls, function() {\n",
       "        console.log(\"Bokeh: BokehJS plotting callback run at\", now());\n",
       "        run_inline_js();\n",
       "      });\n",
       "    }\n",
       "  }(this));\n",
       "</script>"
      ]
     },
     "metadata": {},
     "output_type": "display_data"
    }
   ],
   "source": [
    "fig = bplot.figure()\n",
    "days = np.arange(data.shape[1])\n",
    "fig.line(days, data.mean(axis=0))\n",
    "fig.xaxis.axis_label = \"Day\"\n",
    "bplot.show(fig)"
   ]
  },
  {
   "cell_type": "markdown",
   "metadata": {
    "slideshow": {
     "slide_type": "notes"
    }
   },
   "source": [
    "Notice the syntax is quite similar to `matplotlib` but a little different, so make sure you don't get them mixed up. For example, `plot` has become specifically `line` and we now explicitly provide the days along the bottom. Note that `numpy.arange` is just like `range` but it returns a `numpy` array."
   ]
  },
  {
   "cell_type": "markdown",
   "metadata": {
    "slideshow": {
     "slide_type": "slide"
    }
   },
   "source": [
    "# Challenge II\n",
    "\n",
    "## Reproduce our three-line matplotlib plot in Bokeh"
   ]
  },
  {
   "cell_type": "code",
   "execution_count": null,
   "metadata": {},
   "outputs": [],
   "source": [
    "# Here's cell for you..."
   ]
  },
  {
   "cell_type": "markdown",
   "metadata": {
    "slideshow": {
     "slide_type": "notes"
    }
   },
   "source": [
    "Don't forget to put up your star!\n",
    "\n",
    "Start with the [Bokeh documentation](http://bokeh.pydata.org/en/0.10.0/docs/quickstart.html) and the Bokeh example above..."
   ]
  },
  {
   "cell_type": "markdown",
   "metadata": {
    "slideshow": {
     "slide_type": "slide"
    }
   },
   "source": [
    "# Summary"
   ]
  },
  {
   "cell_type": "markdown",
   "metadata": {
    "slideshow": {
     "slide_type": "fragment"
    }
   },
   "source": [
    "* **numpy** lets you manipulate large arrays fast "
   ]
  },
  {
   "cell_type": "markdown",
   "metadata": {
    "slideshow": {
     "slide_type": "fragment"
    }
   },
   "source": [
    "* **matplotlib** lets you plot reproducibly"
   ]
  },
  {
   "cell_type": "markdown",
   "metadata": {
    "slideshow": {
     "slide_type": "fragment"
    }
   },
   "source": [
    "* you can do processing and plotting together or separately"
   ]
  },
  {
   "cell_type": "markdown",
   "metadata": {
    "slideshow": {
     "slide_type": "notes"
    }
   },
   "source": [
    "# Answers"
   ]
  },
  {
   "cell_type": "code",
   "execution_count": 28,
   "metadata": {
    "slideshow": {
     "slide_type": "notes"
    }
   },
   "outputs": [
    {
     "data": {
      "text/html": [
       "\n",
       "\n",
       "    <div class=\"bk-root\">\n",
       "        <div class=\"plotdiv\" id=\"941672de-fe94-4725-8abf-2c33100967f6\"></div>\n",
       "    </div>\n",
       "<script type=\"text/javascript\">\n",
       "  \n",
       "  (function(global) {\n",
       "    function now() {\n",
       "      return new Date();\n",
       "    }\n",
       "\n",
       "    var force = \"\";\n",
       "\n",
       "    if (typeof (window._bokeh_onload_callbacks) === \"undefined\" || force !== \"\") {\n",
       "      window._bokeh_onload_callbacks = [];\n",
       "      window._bokeh_is_loading = undefined;\n",
       "    }\n",
       "\n",
       "\n",
       "    \n",
       "    if (typeof (window._bokeh_timeout) === \"undefined\" || force !== \"\") {\n",
       "      window._bokeh_timeout = Date.now() + 0;\n",
       "      window._bokeh_failed_load = false;\n",
       "    }\n",
       "\n",
       "    var NB_LOAD_WARNING = {'data': {'text/html':\n",
       "       \"<div style='background-color: #fdd'>\\n\"+\n",
       "       \"<p>\\n\"+\n",
       "       \"BokehJS does not appear to have successfully loaded. If loading BokehJS from CDN, this \\n\"+\n",
       "       \"may be due to a slow or bad network connection. Possible fixes:\\n\"+\n",
       "       \"</p>\\n\"+\n",
       "       \"<ul>\\n\"+\n",
       "       \"<li>re-rerun `output_notebook()` to attempt to load from CDN again, or</li>\\n\"+\n",
       "       \"<li>use INLINE resources instead, as so:</li>\\n\"+\n",
       "       \"</ul>\\n\"+\n",
       "       \"<code>\\n\"+\n",
       "       \"from bokeh.resources import INLINE\\n\"+\n",
       "       \"output_notebook(resources=INLINE)\\n\"+\n",
       "       \"</code>\\n\"+\n",
       "       \"</div>\"}};\n",
       "\n",
       "    function display_loaded() {\n",
       "      if (window.Bokeh !== undefined) {\n",
       "        Bokeh.$(\"#941672de-fe94-4725-8abf-2c33100967f6\").text(\"BokehJS successfully loaded.\");\n",
       "      } else if (Date.now() < window._bokeh_timeout) {\n",
       "        setTimeout(display_loaded, 100)\n",
       "      }\n",
       "    }\n",
       "\n",
       "    function run_callbacks() {\n",
       "      window._bokeh_onload_callbacks.forEach(function(callback) { callback() });\n",
       "      delete window._bokeh_onload_callbacks\n",
       "      console.info(\"Bokeh: all callbacks have finished\");\n",
       "    }\n",
       "\n",
       "    function load_libs(js_urls, callback) {\n",
       "      window._bokeh_onload_callbacks.push(callback);\n",
       "      if (window._bokeh_is_loading > 0) {\n",
       "        console.log(\"Bokeh: BokehJS is being loaded, scheduling callback at\", now());\n",
       "        return null;\n",
       "      }\n",
       "      if (js_urls == null || js_urls.length === 0) {\n",
       "        run_callbacks();\n",
       "        return null;\n",
       "      }\n",
       "      console.log(\"Bokeh: BokehJS not loaded, scheduling load and callback at\", now());\n",
       "      window._bokeh_is_loading = js_urls.length;\n",
       "      for (var i = 0; i < js_urls.length; i++) {\n",
       "        var url = js_urls[i];\n",
       "        var s = document.createElement('script');\n",
       "        s.src = url;\n",
       "        s.async = false;\n",
       "        s.onreadystatechange = s.onload = function() {\n",
       "          window._bokeh_is_loading--;\n",
       "          if (window._bokeh_is_loading === 0) {\n",
       "            console.log(\"Bokeh: all BokehJS libraries loaded\");\n",
       "            run_callbacks()\n",
       "          }\n",
       "        };\n",
       "        s.onerror = function() {\n",
       "          console.warn(\"failed to load library \" + url);\n",
       "        };\n",
       "        console.log(\"Bokeh: injecting script tag for BokehJS library: \", url);\n",
       "        document.getElementsByTagName(\"head\")[0].appendChild(s);\n",
       "      }\n",
       "    };var element = document.getElementById(\"941672de-fe94-4725-8abf-2c33100967f6\");\n",
       "    if (element == null) {\n",
       "      console.log(\"Bokeh: ERROR: autoload.js configured with elementid '941672de-fe94-4725-8abf-2c33100967f6' but no matching script tag was found. \")\n",
       "      return false;\n",
       "    }\n",
       "\n",
       "    var js_urls = [];\n",
       "\n",
       "    var inline_js = [\n",
       "      function(Bokeh) {\n",
       "        Bokeh.$(function() {\n",
       "            var docs_json = {\"8694e7f6-261b-48df-a7b9-7485a115bbff\":{\"roots\":{\"references\":[{\"attributes\":{\"callback\":null,\"column_names\":[\"x\",\"y\"],\"data\":{\"x\":[0,1,2,3,4,5,6,7,8,9,10,11,12,13,14,15,16,17,18,19,20,21,22,23,24,25,26,27,28,29,30,31,32,33,34,35,36,37,38,39],\"y\":[0.0,0.0,0.0,0.0,1.0,1.0,1.0,1.0,2.0,2.0,2.0,2.0,3.0,3.0,3.0,3.0,4.0,5.0,5.0,5.0,5.0,4.0,4.0,4.0,4.0,3.0,3.0,3.0,3.0,2.0,2.0,2.0,2.0,1.0,1.0,1.0,1.0,0.0,0.0,0.0]}},\"id\":\"b2244f94-fe05-4279-b6fb-31d7429edd22\",\"type\":\"ColumnDataSource\"},{\"attributes\":{\"plot\":{\"id\":\"e1e12f93-c9b9-4188-92f3-a11403136142\",\"subtype\":\"Figure\",\"type\":\"Plot\"}},\"id\":\"e592bfc1-5392-48ea-80d6-8d5a4cd31dc7\",\"type\":\"HelpTool\"},{\"attributes\":{\"axis_label\":\"Inflammation\",\"formatter\":{\"id\":\"2d899ae2-c34d-4a68-b4ae-18c08879f719\",\"type\":\"BasicTickFormatter\"},\"plot\":{\"id\":\"e1e12f93-c9b9-4188-92f3-a11403136142\",\"subtype\":\"Figure\",\"type\":\"Plot\"},\"ticker\":{\"id\":\"712756df-5170-4d2d-b2ed-1f8998eda061\",\"type\":\"BasicTicker\"}},\"id\":\"b636f75a-c526-46ae-bd12-0b485ecab455\",\"type\":\"LinearAxis\"},{\"attributes\":{\"plot\":{\"id\":\"e1e12f93-c9b9-4188-92f3-a11403136142\",\"subtype\":\"Figure\",\"type\":\"Plot\"}},\"id\":\"002bbd81-09ab-413f-93d8-c69fdbffcf21\",\"type\":\"SaveTool\"},{\"attributes\":{\"plot\":{\"id\":\"e1e12f93-c9b9-4188-92f3-a11403136142\",\"subtype\":\"Figure\",\"type\":\"Plot\"}},\"id\":\"ccbc2a6a-9324-4d86-8492-5d72c25f5061\",\"type\":\"ResetTool\"},{\"attributes\":{\"callback\":null,\"column_names\":[\"x\",\"y\"],\"data\":{\"x\":[0,1,2,3,4,5,6,7,8,9,10,11,12,13,14,15,16,17,18,19,20,21,22,23,24,25,26,27,28,29,30,31,32,33,34,35,36,37,38,39],\"y\":[0.0,1.0,2.0,3.0,4.0,5.0,6.0,7.0,8.0,9.0,10.0,11.0,12.0,13.0,14.0,15.0,16.0,17.0,18.0,19.0,20.0,19.0,18.0,17.0,16.0,15.0,14.0,13.0,12.0,11.0,10.0,9.0,8.0,7.0,6.0,5.0,4.0,3.0,2.0,1.0]}},\"id\":\"fbdea575-99ec-4042-9285-9bb0c3606154\",\"type\":\"ColumnDataSource\"},{\"attributes\":{\"label\":{\"value\":\"Max\"},\"renderers\":[{\"id\":\"5c30c61c-3454-4aeb-a2e9-91cbfa96057a\",\"type\":\"GlyphRenderer\"}]},\"id\":\"60283a19-9db3-48d0-8677-8ef5739dd850\",\"type\":\"LegendItem\"},{\"attributes\":{\"line_color\":{\"value\":\"blue\"},\"x\":{\"field\":\"x\"},\"y\":{\"field\":\"y\"}},\"id\":\"8487beae-2f01-4f99-a81f-2255fd66cf46\",\"type\":\"Line\"},{\"attributes\":{\"data_source\":{\"id\":\"b2244f94-fe05-4279-b6fb-31d7429edd22\",\"type\":\"ColumnDataSource\"},\"glyph\":{\"id\":\"14a837df-773a-4eda-864c-71cf689a5390\",\"type\":\"Line\"},\"hover_glyph\":null,\"nonselection_glyph\":{\"id\":\"85affdd9-919d-4686-a2cc-6c95945afd92\",\"type\":\"Line\"},\"selection_glyph\":null},\"id\":\"7c5b762e-4089-43c0-b855-e131722cdb65\",\"type\":\"GlyphRenderer\"},{\"attributes\":{\"callback\":null,\"column_names\":[\"x\",\"y\"],\"data\":{\"x\":[0,1,2,3,4,5,6,7,8,9,10,11,12,13,14,15,16,17,18,19,20,21,22,23,24,25,26,27,28,29,30,31,32,33,34,35,36,37,38,39],\"y\":[0.0,0.45,1.1166666666666667,1.75,2.433333333333333,3.15,3.8,3.8833333333333333,5.233333333333333,5.516666666666667,5.95,5.9,8.35,7.733333333333333,8.366666666666667,9.5,9.583333333333334,10.633333333333333,11.566666666666666,12.35,13.25,11.966666666666667,11.033333333333333,10.166666666666666,10.0,8.666666666666666,9.15,7.25,7.333333333333333,6.583333333333333,6.066666666666666,5.95,5.116666666666666,3.6,3.3,3.566666666666667,2.4833333333333334,1.5,1.1333333333333333,0.5666666666666667]}},\"id\":\"07957f24-2f81-41e0-b113-8ff1ee4d0050\",\"type\":\"ColumnDataSource\"},{\"attributes\":{\"plot\":{\"id\":\"e1e12f93-c9b9-4188-92f3-a11403136142\",\"subtype\":\"Figure\",\"type\":\"Plot\"},\"ticker\":{\"id\":\"f61869d5-69c4-44b7-bf6a-7d82472b34f4\",\"type\":\"BasicTicker\"}},\"id\":\"76bfffb4-0944-4902-bd5c-ebd990313e77\",\"type\":\"Grid\"},{\"attributes\":{},\"id\":\"57d9756d-8d1b-4544-9dd3-1fa11d4d41c0\",\"type\":\"BasicTickFormatter\"},{\"attributes\":{\"callback\":null},\"id\":\"fcec742a-a09f-4261-a1e2-d6db22ab72a1\",\"type\":\"DataRange1d\"},{\"attributes\":{\"line_color\":{\"value\":\"green\"},\"x\":{\"field\":\"x\"},\"y\":{\"field\":\"y\"}},\"id\":\"a4a7e964-3054-4b8d-89a6-facf214e3ac5\",\"type\":\"Line\"},{\"attributes\":{\"line_alpha\":{\"value\":0.1},\"line_color\":{\"value\":\"#1f77b4\"},\"x\":{\"field\":\"x\"},\"y\":{\"field\":\"y\"}},\"id\":\"85affdd9-919d-4686-a2cc-6c95945afd92\",\"type\":\"Line\"},{\"attributes\":{\"label\":{\"value\":\"Min\"},\"renderers\":[{\"id\":\"7c5b762e-4089-43c0-b855-e131722cdb65\",\"type\":\"GlyphRenderer\"}]},\"id\":\"3117b2a0-fad2-443f-9a04-ccc4afec0a01\",\"type\":\"LegendItem\"},{\"attributes\":{\"plot\":{\"id\":\"e1e12f93-c9b9-4188-92f3-a11403136142\",\"subtype\":\"Figure\",\"type\":\"Plot\"}},\"id\":\"575ba1eb-594c-4556-87fa-edf6a48c1fc4\",\"type\":\"PanTool\"},{\"attributes\":{\"dimension\":1,\"plot\":{\"id\":\"e1e12f93-c9b9-4188-92f3-a11403136142\",\"subtype\":\"Figure\",\"type\":\"Plot\"},\"ticker\":{\"id\":\"712756df-5170-4d2d-b2ed-1f8998eda061\",\"type\":\"BasicTicker\"}},\"id\":\"5ace3f89-422d-4e25-ac4f-9ccc05e6c66b\",\"type\":\"Grid\"},{\"attributes\":{\"active_drag\":\"auto\",\"active_scroll\":\"auto\",\"active_tap\":\"auto\",\"tools\":[{\"id\":\"575ba1eb-594c-4556-87fa-edf6a48c1fc4\",\"type\":\"PanTool\"},{\"id\":\"f550a694-467c-44bd-b000-e1b4abe3d9d4\",\"type\":\"WheelZoomTool\"},{\"id\":\"74a7b179-d53c-422b-a82a-169c0a5089e3\",\"type\":\"BoxZoomTool\"},{\"id\":\"002bbd81-09ab-413f-93d8-c69fdbffcf21\",\"type\":\"SaveTool\"},{\"id\":\"ccbc2a6a-9324-4d86-8492-5d72c25f5061\",\"type\":\"ResetTool\"},{\"id\":\"e592bfc1-5392-48ea-80d6-8d5a4cd31dc7\",\"type\":\"HelpTool\"}]},\"id\":\"6a1aa4c8-ca73-425d-bd1e-5f47b15d5d1b\",\"type\":\"Toolbar\"},{\"attributes\":{},\"id\":\"2d899ae2-c34d-4a68-b4ae-18c08879f719\",\"type\":\"BasicTickFormatter\"},{\"attributes\":{\"data_source\":{\"id\":\"fbdea575-99ec-4042-9285-9bb0c3606154\",\"type\":\"ColumnDataSource\"},\"glyph\":{\"id\":\"8487beae-2f01-4f99-a81f-2255fd66cf46\",\"type\":\"Line\"},\"hover_glyph\":null,\"nonselection_glyph\":{\"id\":\"ed2f80ec-537a-47e6-9756-884b4bc943d8\",\"type\":\"Line\"},\"selection_glyph\":null},\"id\":\"5c30c61c-3454-4aeb-a2e9-91cbfa96057a\",\"type\":\"GlyphRenderer\"},{\"attributes\":{\"plot\":{\"id\":\"e1e12f93-c9b9-4188-92f3-a11403136142\",\"subtype\":\"Figure\",\"type\":\"Plot\"}},\"id\":\"f550a694-467c-44bd-b000-e1b4abe3d9d4\",\"type\":\"WheelZoomTool\"},{\"attributes\":{\"label\":{\"value\":\"Average\"},\"renderers\":[{\"id\":\"8ae78b1a-7925-47e0-b439-0406ea21499a\",\"type\":\"GlyphRenderer\"}]},\"id\":\"06233171-57bb-451e-a888-16b1ffccf9e3\",\"type\":\"LegendItem\"},{\"attributes\":{\"axis_label\":\"Day\",\"formatter\":{\"id\":\"57d9756d-8d1b-4544-9dd3-1fa11d4d41c0\",\"type\":\"BasicTickFormatter\"},\"plot\":{\"id\":\"e1e12f93-c9b9-4188-92f3-a11403136142\",\"subtype\":\"Figure\",\"type\":\"Plot\"},\"ticker\":{\"id\":\"f61869d5-69c4-44b7-bf6a-7d82472b34f4\",\"type\":\"BasicTicker\"}},\"id\":\"27393af5-cd70-4120-9d4d-750dfe29fed2\",\"type\":\"LinearAxis\"},{\"attributes\":{},\"id\":\"712756df-5170-4d2d-b2ed-1f8998eda061\",\"type\":\"BasicTicker\"},{\"attributes\":{\"line_alpha\":{\"value\":0.1},\"line_color\":{\"value\":\"#1f77b4\"},\"x\":{\"field\":\"x\"},\"y\":{\"field\":\"y\"}},\"id\":\"ed2f80ec-537a-47e6-9756-884b4bc943d8\",\"type\":\"Line\"},{\"attributes\":{\"below\":[{\"id\":\"27393af5-cd70-4120-9d4d-750dfe29fed2\",\"type\":\"LinearAxis\"}],\"left\":[{\"id\":\"b636f75a-c526-46ae-bd12-0b485ecab455\",\"type\":\"LinearAxis\"}],\"renderers\":[{\"id\":\"27393af5-cd70-4120-9d4d-750dfe29fed2\",\"type\":\"LinearAxis\"},{\"id\":\"76bfffb4-0944-4902-bd5c-ebd990313e77\",\"type\":\"Grid\"},{\"id\":\"b636f75a-c526-46ae-bd12-0b485ecab455\",\"type\":\"LinearAxis\"},{\"id\":\"5ace3f89-422d-4e25-ac4f-9ccc05e6c66b\",\"type\":\"Grid\"},{\"id\":\"9965e837-7be2-4c20-a7f2-3df408ebad24\",\"type\":\"BoxAnnotation\"},{\"id\":\"f1ec2cd8-c615-4a00-ba28-909f60defa09\",\"type\":\"Legend\"},{\"id\":\"8ae78b1a-7925-47e0-b439-0406ea21499a\",\"type\":\"GlyphRenderer\"},{\"id\":\"5c30c61c-3454-4aeb-a2e9-91cbfa96057a\",\"type\":\"GlyphRenderer\"},{\"id\":\"7c5b762e-4089-43c0-b855-e131722cdb65\",\"type\":\"GlyphRenderer\"}],\"title\":{\"id\":\"eac75cbe-7cda-4a72-8369-bc3d2be2b67d\",\"type\":\"Title\"},\"tool_events\":{\"id\":\"9b404968-524f-4f20-a9da-122a0e80adaa\",\"type\":\"ToolEvents\"},\"toolbar\":{\"id\":\"6a1aa4c8-ca73-425d-bd1e-5f47b15d5d1b\",\"type\":\"Toolbar\"},\"x_range\":{\"id\":\"fcec742a-a09f-4261-a1e2-d6db22ab72a1\",\"type\":\"DataRange1d\"},\"y_range\":{\"id\":\"e9671bec-4982-49f0-998e-d73db8585f42\",\"type\":\"DataRange1d\"}},\"id\":\"e1e12f93-c9b9-4188-92f3-a11403136142\",\"subtype\":\"Figure\",\"type\":\"Plot\"},{\"attributes\":{},\"id\":\"9b404968-524f-4f20-a9da-122a0e80adaa\",\"type\":\"ToolEvents\"},{\"attributes\":{\"data_source\":{\"id\":\"07957f24-2f81-41e0-b113-8ff1ee4d0050\",\"type\":\"ColumnDataSource\"},\"glyph\":{\"id\":\"a4a7e964-3054-4b8d-89a6-facf214e3ac5\",\"type\":\"Line\"},\"hover_glyph\":null,\"nonselection_glyph\":{\"id\":\"13523c75-9cb8-47e2-a4ea-9d6a329925d8\",\"type\":\"Line\"},\"selection_glyph\":null},\"id\":\"8ae78b1a-7925-47e0-b439-0406ea21499a\",\"type\":\"GlyphRenderer\"},{\"attributes\":{\"items\":[{\"id\":\"06233171-57bb-451e-a888-16b1ffccf9e3\",\"type\":\"LegendItem\"},{\"id\":\"60283a19-9db3-48d0-8677-8ef5739dd850\",\"type\":\"LegendItem\"},{\"id\":\"3117b2a0-fad2-443f-9a04-ccc4afec0a01\",\"type\":\"LegendItem\"}],\"plot\":{\"id\":\"e1e12f93-c9b9-4188-92f3-a11403136142\",\"subtype\":\"Figure\",\"type\":\"Plot\"}},\"id\":\"f1ec2cd8-c615-4a00-ba28-909f60defa09\",\"type\":\"Legend\"},{\"attributes\":{\"plot\":null,\"text\":null},\"id\":\"eac75cbe-7cda-4a72-8369-bc3d2be2b67d\",\"type\":\"Title\"},{\"attributes\":{\"overlay\":{\"id\":\"9965e837-7be2-4c20-a7f2-3df408ebad24\",\"type\":\"BoxAnnotation\"},\"plot\":{\"id\":\"e1e12f93-c9b9-4188-92f3-a11403136142\",\"subtype\":\"Figure\",\"type\":\"Plot\"}},\"id\":\"74a7b179-d53c-422b-a82a-169c0a5089e3\",\"type\":\"BoxZoomTool\"},{\"attributes\":{\"line_alpha\":{\"value\":0.1},\"line_color\":{\"value\":\"#1f77b4\"},\"x\":{\"field\":\"x\"},\"y\":{\"field\":\"y\"}},\"id\":\"13523c75-9cb8-47e2-a4ea-9d6a329925d8\",\"type\":\"Line\"},{\"attributes\":{\"callback\":null},\"id\":\"e9671bec-4982-49f0-998e-d73db8585f42\",\"type\":\"DataRange1d\"},{\"attributes\":{\"line_color\":{\"value\":\"red\"},\"x\":{\"field\":\"x\"},\"y\":{\"field\":\"y\"}},\"id\":\"14a837df-773a-4eda-864c-71cf689a5390\",\"type\":\"Line\"},{\"attributes\":{\"bottom_units\":\"screen\",\"fill_alpha\":{\"value\":0.5},\"fill_color\":{\"value\":\"lightgrey\"},\"left_units\":\"screen\",\"level\":\"overlay\",\"line_alpha\":{\"value\":1.0},\"line_color\":{\"value\":\"black\"},\"line_dash\":[4,4],\"line_width\":{\"value\":2},\"plot\":null,\"render_mode\":\"css\",\"right_units\":\"screen\",\"top_units\":\"screen\"},\"id\":\"9965e837-7be2-4c20-a7f2-3df408ebad24\",\"type\":\"BoxAnnotation\"},{\"attributes\":{},\"id\":\"f61869d5-69c4-44b7-bf6a-7d82472b34f4\",\"type\":\"BasicTicker\"}],\"root_ids\":[\"e1e12f93-c9b9-4188-92f3-a11403136142\"]},\"title\":\"Bokeh Application\",\"version\":\"0.12.3\"}};\n",
       "            var render_items = [{\"docid\":\"8694e7f6-261b-48df-a7b9-7485a115bbff\",\"elementid\":\"941672de-fe94-4725-8abf-2c33100967f6\",\"modelid\":\"e1e12f93-c9b9-4188-92f3-a11403136142\"}];\n",
       "            \n",
       "            Bokeh.embed.embed_items(docs_json, render_items);\n",
       "        });\n",
       "      },\n",
       "      function(Bokeh) {\n",
       "      }\n",
       "    ];\n",
       "\n",
       "    function run_inline_js() {\n",
       "      \n",
       "      if ((window.Bokeh !== undefined) || (force === \"1\")) {\n",
       "        for (var i = 0; i < inline_js.length; i++) {\n",
       "          inline_js[i](window.Bokeh);\n",
       "        }if (force === \"1\") {\n",
       "          display_loaded();\n",
       "        }} else if (Date.now() < window._bokeh_timeout) {\n",
       "        setTimeout(run_inline_js, 100);\n",
       "      } else if (!window._bokeh_failed_load) {\n",
       "        console.log(\"Bokeh: BokehJS failed to load within specified timeout.\");\n",
       "        window._bokeh_failed_load = true;\n",
       "      } else if (!force) {\n",
       "        var cell = $(\"#941672de-fe94-4725-8abf-2c33100967f6\").parents('.cell').data().cell;\n",
       "        cell.output_area.append_execute_result(NB_LOAD_WARNING)\n",
       "      }\n",
       "\n",
       "    }\n",
       "\n",
       "    if (window._bokeh_is_loading === 0) {\n",
       "      console.log(\"Bokeh: BokehJS loaded, going straight to plotting\");\n",
       "      run_inline_js();\n",
       "    } else {\n",
       "      load_libs(js_urls, function() {\n",
       "        console.log(\"Bokeh: BokehJS plotting callback run at\", now());\n",
       "        run_inline_js();\n",
       "      });\n",
       "    }\n",
       "  }(this));\n",
       "</script>"
      ]
     },
     "metadata": {},
     "output_type": "display_data"
    }
   ],
   "source": [
    "# This is the whole figure, possibly\n",
    "# with multiple subplots\n",
    "fig = bplot.figure()\n",
    "\n",
    "days = np.arange(data.shape[1])\n",
    "\n",
    "# This is a specific set of axes\n",
    "fig.xaxis.axis_label = 'Day'\n",
    "fig.yaxis.axis_label = 'Inflammation'\n",
    "\n",
    "fig.line(days, data.mean(axis=0), legend='Average', color='green')\n",
    "fig.line(days, data.max(axis=0), legend='Max', color='blue')\n",
    "fig.line(days, data.min(axis=0), legend='Min', color='red')\n",
    "\n",
    "bplot.show(fig)"
   ]
  }
 ],
 "metadata": {
  "celltoolbar": "Slideshow",
  "kernelspec": {
   "display_name": "Python 3",
   "language": "python",
   "name": "python3"
  },
  "language_info": {
   "codemirror_mode": {
    "name": "ipython",
    "version": 3
   },
   "file_extension": ".py",
   "mimetype": "text/x-python",
   "name": "python",
   "nbconvert_exporter": "python",
   "pygments_lexer": "ipython3",
   "version": "3.4.3+"
  },
  "livereveal": {
   "theme": "beige",
   "transition": "cascade"
  }
 },
 "nbformat": 4,
 "nbformat_minor": 1
}
