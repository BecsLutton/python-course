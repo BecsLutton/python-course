{
 "cells": [
  {
   "cell_type": "markdown",
   "metadata": {},
   "source": [
    "# Preparing for an Audience"
   ]
  },
  {
   "cell_type": "markdown",
   "metadata": {},
   "source": [
    "## Generating some sample data"
   ]
  },
  {
   "cell_type": "markdown",
   "metadata": {},
   "source": [
    "### Definitions\n",
    "\n",
    "__octet__ is a non-negative integer below 256\n",
    "\n",
    "Four __octets__ form an IP address, e.g. 194.82.329.12\n",
    "\n",
    "IP addresses beginning 192.168.0 are normally internal to a network. Most others are external (i.e. are users or machines on the internet)"
   ]
  },
  {
   "cell_type": "markdown",
   "metadata": {},
   "source": [
    "### Sample Script for Creating Fake Data"
   ]
  },
  {
   "cell_type": "code",
   "execution_count": 394,
   "metadata": {},
   "outputs": [
    {
     "data": {
      "text/html": [
       "<div>\n",
       "<style scoped>\n",
       "    .dataframe tbody tr th:only-of-type {\n",
       "        vertical-align: middle;\n",
       "    }\n",
       "\n",
       "    .dataframe tbody tr th {\n",
       "        vertical-align: top;\n",
       "    }\n",
       "\n",
       "    .dataframe thead th {\n",
       "        text-align: right;\n",
       "    }\n",
       "</style>\n",
       "<table border=\"1\" class=\"dataframe\">\n",
       "  <thead>\n",
       "    <tr style=\"text-align: right;\">\n",
       "      <th></th>\n",
       "      <th>IP</th>\n",
       "      <th>Verb</th>\n",
       "      <th>Processing Time</th>\n",
       "      <th>Memory</th>\n",
       "    </tr>\n",
       "  </thead>\n",
       "  <tbody>\n",
       "    <tr>\n",
       "      <th>0</th>\n",
       "      <td>7.188.7.25</td>\n",
       "      <td>POST</td>\n",
       "      <td>1743.295717</td>\n",
       "      <td>28.175855</td>\n",
       "    </tr>\n",
       "    <tr>\n",
       "      <th>1</th>\n",
       "      <td>7.188.7.25</td>\n",
       "      <td>POST</td>\n",
       "      <td>1577.784382</td>\n",
       "      <td>38.337078</td>\n",
       "    </tr>\n",
       "    <tr>\n",
       "      <th>2</th>\n",
       "      <td>192.168.0.59</td>\n",
       "      <td>GET</td>\n",
       "      <td>186.191274</td>\n",
       "      <td>41.319380</td>\n",
       "    </tr>\n",
       "    <tr>\n",
       "      <th>3</th>\n",
       "      <td>192.168.0.99</td>\n",
       "      <td>GET</td>\n",
       "      <td>187.719323</td>\n",
       "      <td>32.833063</td>\n",
       "    </tr>\n",
       "    <tr>\n",
       "      <th>4</th>\n",
       "      <td>192.168.0.87</td>\n",
       "      <td>POST</td>\n",
       "      <td>1460.225149</td>\n",
       "      <td>30.253453</td>\n",
       "    </tr>\n",
       "    <tr>\n",
       "      <th>5</th>\n",
       "      <td>192.168.0.13</td>\n",
       "      <td>POST</td>\n",
       "      <td>1329.558167</td>\n",
       "      <td>25.172799</td>\n",
       "    </tr>\n",
       "    <tr>\n",
       "      <th>6</th>\n",
       "      <td>192.168.0.49</td>\n",
       "      <td>PUT</td>\n",
       "      <td>1543.512892</td>\n",
       "      <td>31.717037</td>\n",
       "    </tr>\n",
       "    <tr>\n",
       "      <th>7</th>\n",
       "      <td>219.247.173.211</td>\n",
       "      <td>POST</td>\n",
       "      <td>258.484893</td>\n",
       "      <td>32.186691</td>\n",
       "    </tr>\n",
       "    <tr>\n",
       "      <th>8</th>\n",
       "      <td>192.168.0.116</td>\n",
       "      <td>GET</td>\n",
       "      <td>1222.958965</td>\n",
       "      <td>34.103962</td>\n",
       "    </tr>\n",
       "    <tr>\n",
       "      <th>9</th>\n",
       "      <td>219.247.173.211</td>\n",
       "      <td>GET</td>\n",
       "      <td>206.855103</td>\n",
       "      <td>34.365589</td>\n",
       "    </tr>\n",
       "    <tr>\n",
       "      <th>10</th>\n",
       "      <td>192.168.0.204</td>\n",
       "      <td>GET</td>\n",
       "      <td>1385.789652</td>\n",
       "      <td>32.695956</td>\n",
       "    </tr>\n",
       "    <tr>\n",
       "      <th>11</th>\n",
       "      <td>192.168.0.55</td>\n",
       "      <td>PUT</td>\n",
       "      <td>204.049597</td>\n",
       "      <td>20.264839</td>\n",
       "    </tr>\n",
       "    <tr>\n",
       "      <th>12</th>\n",
       "      <td>192.168.0.14</td>\n",
       "      <td>POST</td>\n",
       "      <td>248.997704</td>\n",
       "      <td>35.112999</td>\n",
       "    </tr>\n",
       "    <tr>\n",
       "      <th>13</th>\n",
       "      <td>7.188.7.25</td>\n",
       "      <td>GET</td>\n",
       "      <td>1249.837218</td>\n",
       "      <td>29.770855</td>\n",
       "    </tr>\n",
       "    <tr>\n",
       "      <th>14</th>\n",
       "      <td>7.188.7.25</td>\n",
       "      <td>PUT</td>\n",
       "      <td>1413.081993</td>\n",
       "      <td>40.220510</td>\n",
       "    </tr>\n",
       "    <tr>\n",
       "      <th>15</th>\n",
       "      <td>192.168.0.150</td>\n",
       "      <td>PUT</td>\n",
       "      <td>1287.815001</td>\n",
       "      <td>27.555081</td>\n",
       "    </tr>\n",
       "    <tr>\n",
       "      <th>16</th>\n",
       "      <td>192.168.0.17</td>\n",
       "      <td>POST</td>\n",
       "      <td>252.445915</td>\n",
       "      <td>31.009037</td>\n",
       "    </tr>\n",
       "    <tr>\n",
       "      <th>17</th>\n",
       "      <td>192.168.0.109</td>\n",
       "      <td>POST</td>\n",
       "      <td>254.057354</td>\n",
       "      <td>31.535269</td>\n",
       "    </tr>\n",
       "    <tr>\n",
       "      <th>18</th>\n",
       "      <td>192.168.0.107</td>\n",
       "      <td>POST</td>\n",
       "      <td>1541.080465</td>\n",
       "      <td>34.097293</td>\n",
       "    </tr>\n",
       "    <tr>\n",
       "      <th>19</th>\n",
       "      <td>192.168.0.235</td>\n",
       "      <td>GET</td>\n",
       "      <td>1182.747477</td>\n",
       "      <td>27.424553</td>\n",
       "    </tr>\n",
       "    <tr>\n",
       "      <th>20</th>\n",
       "      <td>7.188.7.25</td>\n",
       "      <td>POST</td>\n",
       "      <td>1593.740215</td>\n",
       "      <td>17.930066</td>\n",
       "    </tr>\n",
       "    <tr>\n",
       "      <th>21</th>\n",
       "      <td>192.168.0.98</td>\n",
       "      <td>PUT</td>\n",
       "      <td>198.117138</td>\n",
       "      <td>28.977082</td>\n",
       "    </tr>\n",
       "    <tr>\n",
       "      <th>22</th>\n",
       "      <td>27.76.40.27</td>\n",
       "      <td>PUT</td>\n",
       "      <td>215.313828</td>\n",
       "      <td>32.533187</td>\n",
       "    </tr>\n",
       "    <tr>\n",
       "      <th>23</th>\n",
       "      <td>219.247.173.211</td>\n",
       "      <td>POST</td>\n",
       "      <td>248.588069</td>\n",
       "      <td>33.043423</td>\n",
       "    </tr>\n",
       "    <tr>\n",
       "      <th>24</th>\n",
       "      <td>7.188.7.25</td>\n",
       "      <td>POST</td>\n",
       "      <td>1773.610250</td>\n",
       "      <td>33.161752</td>\n",
       "    </tr>\n",
       "    <tr>\n",
       "      <th>25</th>\n",
       "      <td>192.168.0.33</td>\n",
       "      <td>PUT</td>\n",
       "      <td>197.315464</td>\n",
       "      <td>30.373218</td>\n",
       "    </tr>\n",
       "    <tr>\n",
       "      <th>26</th>\n",
       "      <td>192.168.0.141</td>\n",
       "      <td>GET</td>\n",
       "      <td>197.165484</td>\n",
       "      <td>30.768038</td>\n",
       "    </tr>\n",
       "    <tr>\n",
       "      <th>27</th>\n",
       "      <td>192.168.0.237</td>\n",
       "      <td>GET</td>\n",
       "      <td>1132.504336</td>\n",
       "      <td>26.274325</td>\n",
       "    </tr>\n",
       "    <tr>\n",
       "      <th>28</th>\n",
       "      <td>192.168.0.251</td>\n",
       "      <td>PUT</td>\n",
       "      <td>176.420469</td>\n",
       "      <td>24.583284</td>\n",
       "    </tr>\n",
       "    <tr>\n",
       "      <th>29</th>\n",
       "      <td>219.247.173.211</td>\n",
       "      <td>POST</td>\n",
       "      <td>236.054355</td>\n",
       "      <td>38.365741</td>\n",
       "    </tr>\n",
       "    <tr>\n",
       "      <th>...</th>\n",
       "      <td>...</td>\n",
       "      <td>...</td>\n",
       "      <td>...</td>\n",
       "      <td>...</td>\n",
       "    </tr>\n",
       "    <tr>\n",
       "      <th>1170</th>\n",
       "      <td>27.76.40.27</td>\n",
       "      <td>GET</td>\n",
       "      <td>190.111898</td>\n",
       "      <td>34.719723</td>\n",
       "    </tr>\n",
       "    <tr>\n",
       "      <th>1171</th>\n",
       "      <td>192.168.0.40</td>\n",
       "      <td>PUT</td>\n",
       "      <td>1498.638407</td>\n",
       "      <td>31.195145</td>\n",
       "    </tr>\n",
       "    <tr>\n",
       "      <th>1172</th>\n",
       "      <td>7.188.7.25</td>\n",
       "      <td>POST</td>\n",
       "      <td>1444.024842</td>\n",
       "      <td>29.444923</td>\n",
       "    </tr>\n",
       "    <tr>\n",
       "      <th>1173</th>\n",
       "      <td>7.188.7.25</td>\n",
       "      <td>POST</td>\n",
       "      <td>1549.516813</td>\n",
       "      <td>30.381273</td>\n",
       "    </tr>\n",
       "    <tr>\n",
       "      <th>1174</th>\n",
       "      <td>192.168.0.164</td>\n",
       "      <td>GET</td>\n",
       "      <td>1375.354279</td>\n",
       "      <td>33.580426</td>\n",
       "    </tr>\n",
       "    <tr>\n",
       "      <th>1175</th>\n",
       "      <td>192.168.0.253</td>\n",
       "      <td>PUT</td>\n",
       "      <td>1274.841855</td>\n",
       "      <td>33.297835</td>\n",
       "    </tr>\n",
       "    <tr>\n",
       "      <th>1176</th>\n",
       "      <td>192.168.0.116</td>\n",
       "      <td>GET</td>\n",
       "      <td>168.274920</td>\n",
       "      <td>25.358589</td>\n",
       "    </tr>\n",
       "    <tr>\n",
       "      <th>1177</th>\n",
       "      <td>192.168.0.205</td>\n",
       "      <td>GET</td>\n",
       "      <td>209.404872</td>\n",
       "      <td>37.727061</td>\n",
       "    </tr>\n",
       "    <tr>\n",
       "      <th>1178</th>\n",
       "      <td>192.168.0.239</td>\n",
       "      <td>PUT</td>\n",
       "      <td>202.219805</td>\n",
       "      <td>20.714305</td>\n",
       "    </tr>\n",
       "    <tr>\n",
       "      <th>1179</th>\n",
       "      <td>219.247.173.211</td>\n",
       "      <td>PUT</td>\n",
       "      <td>171.230326</td>\n",
       "      <td>29.805501</td>\n",
       "    </tr>\n",
       "    <tr>\n",
       "      <th>1180</th>\n",
       "      <td>192.168.0.103</td>\n",
       "      <td>PUT</td>\n",
       "      <td>189.095144</td>\n",
       "      <td>31.099677</td>\n",
       "    </tr>\n",
       "    <tr>\n",
       "      <th>1181</th>\n",
       "      <td>108.101.99.178</td>\n",
       "      <td>GET</td>\n",
       "      <td>141.513089</td>\n",
       "      <td>29.009148</td>\n",
       "    </tr>\n",
       "    <tr>\n",
       "      <th>1182</th>\n",
       "      <td>27.76.40.27</td>\n",
       "      <td>PUT</td>\n",
       "      <td>187.531304</td>\n",
       "      <td>29.513748</td>\n",
       "    </tr>\n",
       "    <tr>\n",
       "      <th>1183</th>\n",
       "      <td>7.188.7.25</td>\n",
       "      <td>POST</td>\n",
       "      <td>1316.405793</td>\n",
       "      <td>31.416517</td>\n",
       "    </tr>\n",
       "    <tr>\n",
       "      <th>1184</th>\n",
       "      <td>192.168.0.2</td>\n",
       "      <td>PUT</td>\n",
       "      <td>171.381770</td>\n",
       "      <td>44.512922</td>\n",
       "    </tr>\n",
       "    <tr>\n",
       "      <th>1185</th>\n",
       "      <td>192.168.0.107</td>\n",
       "      <td>PUT</td>\n",
       "      <td>203.068637</td>\n",
       "      <td>29.684770</td>\n",
       "    </tr>\n",
       "    <tr>\n",
       "      <th>1186</th>\n",
       "      <td>192.168.0.73</td>\n",
       "      <td>GET</td>\n",
       "      <td>1192.996805</td>\n",
       "      <td>30.303313</td>\n",
       "    </tr>\n",
       "    <tr>\n",
       "      <th>1187</th>\n",
       "      <td>192.168.0.75</td>\n",
       "      <td>PUT</td>\n",
       "      <td>1298.995312</td>\n",
       "      <td>34.828463</td>\n",
       "    </tr>\n",
       "    <tr>\n",
       "      <th>1188</th>\n",
       "      <td>192.168.0.100</td>\n",
       "      <td>GET</td>\n",
       "      <td>204.642915</td>\n",
       "      <td>24.806932</td>\n",
       "    </tr>\n",
       "    <tr>\n",
       "      <th>1189</th>\n",
       "      <td>7.188.7.25</td>\n",
       "      <td>GET</td>\n",
       "      <td>1321.031323</td>\n",
       "      <td>29.373819</td>\n",
       "    </tr>\n",
       "    <tr>\n",
       "      <th>1190</th>\n",
       "      <td>7.188.7.25</td>\n",
       "      <td>PUT</td>\n",
       "      <td>1136.760253</td>\n",
       "      <td>21.394892</td>\n",
       "    </tr>\n",
       "    <tr>\n",
       "      <th>1191</th>\n",
       "      <td>7.188.7.25</td>\n",
       "      <td>GET</td>\n",
       "      <td>1124.973090</td>\n",
       "      <td>40.558408</td>\n",
       "    </tr>\n",
       "    <tr>\n",
       "      <th>1192</th>\n",
       "      <td>7.188.7.25</td>\n",
       "      <td>POST</td>\n",
       "      <td>1590.321026</td>\n",
       "      <td>23.720438</td>\n",
       "    </tr>\n",
       "    <tr>\n",
       "      <th>1193</th>\n",
       "      <td>108.101.99.178</td>\n",
       "      <td>PUT</td>\n",
       "      <td>171.799304</td>\n",
       "      <td>30.498988</td>\n",
       "    </tr>\n",
       "    <tr>\n",
       "      <th>1194</th>\n",
       "      <td>108.101.99.178</td>\n",
       "      <td>POST</td>\n",
       "      <td>259.962011</td>\n",
       "      <td>24.477090</td>\n",
       "    </tr>\n",
       "    <tr>\n",
       "      <th>1195</th>\n",
       "      <td>86.17.170.148</td>\n",
       "      <td>POST</td>\n",
       "      <td>216.784897</td>\n",
       "      <td>31.774103</td>\n",
       "    </tr>\n",
       "    <tr>\n",
       "      <th>1196</th>\n",
       "      <td>192.168.0.217</td>\n",
       "      <td>PUT</td>\n",
       "      <td>1203.691543</td>\n",
       "      <td>29.063067</td>\n",
       "    </tr>\n",
       "    <tr>\n",
       "      <th>1197</th>\n",
       "      <td>106.202.92.156</td>\n",
       "      <td>GET</td>\n",
       "      <td>165.903854</td>\n",
       "      <td>38.760526</td>\n",
       "    </tr>\n",
       "    <tr>\n",
       "      <th>1198</th>\n",
       "      <td>108.101.99.178</td>\n",
       "      <td>POST</td>\n",
       "      <td>217.040922</td>\n",
       "      <td>30.594501</td>\n",
       "    </tr>\n",
       "    <tr>\n",
       "      <th>1199</th>\n",
       "      <td>192.168.0.170</td>\n",
       "      <td>GET</td>\n",
       "      <td>181.721777</td>\n",
       "      <td>23.239065</td>\n",
       "    </tr>\n",
       "  </tbody>\n",
       "</table>\n",
       "<p>1200 rows × 4 columns</p>\n",
       "</div>"
      ],
      "text/plain": [
       "                   IP  Verb  Processing Time     Memory\n",
       "0          7.188.7.25  POST      1743.295717  28.175855\n",
       "1          7.188.7.25  POST      1577.784382  38.337078\n",
       "2        192.168.0.59   GET       186.191274  41.319380\n",
       "3        192.168.0.99   GET       187.719323  32.833063\n",
       "4        192.168.0.87  POST      1460.225149  30.253453\n",
       "5        192.168.0.13  POST      1329.558167  25.172799\n",
       "6        192.168.0.49   PUT      1543.512892  31.717037\n",
       "7     219.247.173.211  POST       258.484893  32.186691\n",
       "8       192.168.0.116   GET      1222.958965  34.103962\n",
       "9     219.247.173.211   GET       206.855103  34.365589\n",
       "10      192.168.0.204   GET      1385.789652  32.695956\n",
       "11       192.168.0.55   PUT       204.049597  20.264839\n",
       "12       192.168.0.14  POST       248.997704  35.112999\n",
       "13         7.188.7.25   GET      1249.837218  29.770855\n",
       "14         7.188.7.25   PUT      1413.081993  40.220510\n",
       "15      192.168.0.150   PUT      1287.815001  27.555081\n",
       "16       192.168.0.17  POST       252.445915  31.009037\n",
       "17      192.168.0.109  POST       254.057354  31.535269\n",
       "18      192.168.0.107  POST      1541.080465  34.097293\n",
       "19      192.168.0.235   GET      1182.747477  27.424553\n",
       "20         7.188.7.25  POST      1593.740215  17.930066\n",
       "21       192.168.0.98   PUT       198.117138  28.977082\n",
       "22        27.76.40.27   PUT       215.313828  32.533187\n",
       "23    219.247.173.211  POST       248.588069  33.043423\n",
       "24         7.188.7.25  POST      1773.610250  33.161752\n",
       "25       192.168.0.33   PUT       197.315464  30.373218\n",
       "26      192.168.0.141   GET       197.165484  30.768038\n",
       "27      192.168.0.237   GET      1132.504336  26.274325\n",
       "28      192.168.0.251   PUT       176.420469  24.583284\n",
       "29    219.247.173.211  POST       236.054355  38.365741\n",
       "...               ...   ...              ...        ...\n",
       "1170      27.76.40.27   GET       190.111898  34.719723\n",
       "1171     192.168.0.40   PUT      1498.638407  31.195145\n",
       "1172       7.188.7.25  POST      1444.024842  29.444923\n",
       "1173       7.188.7.25  POST      1549.516813  30.381273\n",
       "1174    192.168.0.164   GET      1375.354279  33.580426\n",
       "1175    192.168.0.253   PUT      1274.841855  33.297835\n",
       "1176    192.168.0.116   GET       168.274920  25.358589\n",
       "1177    192.168.0.205   GET       209.404872  37.727061\n",
       "1178    192.168.0.239   PUT       202.219805  20.714305\n",
       "1179  219.247.173.211   PUT       171.230326  29.805501\n",
       "1180    192.168.0.103   PUT       189.095144  31.099677\n",
       "1181   108.101.99.178   GET       141.513089  29.009148\n",
       "1182      27.76.40.27   PUT       187.531304  29.513748\n",
       "1183       7.188.7.25  POST      1316.405793  31.416517\n",
       "1184      192.168.0.2   PUT       171.381770  44.512922\n",
       "1185    192.168.0.107   PUT       203.068637  29.684770\n",
       "1186     192.168.0.73   GET      1192.996805  30.303313\n",
       "1187     192.168.0.75   PUT      1298.995312  34.828463\n",
       "1188    192.168.0.100   GET       204.642915  24.806932\n",
       "1189       7.188.7.25   GET      1321.031323  29.373819\n",
       "1190       7.188.7.25   PUT      1136.760253  21.394892\n",
       "1191       7.188.7.25   GET      1124.973090  40.558408\n",
       "1192       7.188.7.25  POST      1590.321026  23.720438\n",
       "1193   108.101.99.178   PUT       171.799304  30.498988\n",
       "1194   108.101.99.178  POST       259.962011  24.477090\n",
       "1195    86.17.170.148  POST       216.784897  31.774103\n",
       "1196    192.168.0.217   PUT      1203.691543  29.063067\n",
       "1197   106.202.92.156   GET       165.903854  38.760526\n",
       "1198   108.101.99.178  POST       217.040922  30.594501\n",
       "1199    192.168.0.170   GET       181.721777  23.239065\n",
       "\n",
       "[1200 rows x 4 columns]"
      ]
     },
     "execution_count": 394,
     "metadata": {},
     "output_type": "execute_result"
    }
   ],
   "source": [
    "import pandas as pd\n",
    "import numpy as np\n",
    "import random\n",
    "\n",
    "requests = pd.DataFrame(columns=['IP', 'Verb', 'Processing Time', 'Memory'])\n",
    "\n",
    "# Settings\n",
    "SPAM_IPS = 5\n",
    "EXTERNAL_IPS = 100\n",
    "SAMPLE_DATA_LENGTH = 1200\n",
    "\n",
    "# THESE ARE THE \n",
    "# *** Comment about np.random.choice (what it gives as output, what the parameters are)\n",
    "requests['Verb'] = np.random.choice(['GET', 'POST', 'PUT'], SAMPLE_DATA_LENGTH)\n",
    "requests['Processing Time'] = np.random.normal(200, scale=20, size=SAMPLE_DATA_LENGTH)\n",
    "# *** What does this do to the Processing Time for all the rows that have Verb==POST?\n",
    "requests.loc[requests['Verb'] == 'POST', 'Processing Time'] *= 1.2\n",
    "requests['Memory'] = np.random.normal(30, scale=5, size=SAMPLE_DATA_LENGTH)\n",
    "\n",
    "# *** Comment about how IP addresses are built up (fill in the ???)\n",
    "# np.random.randint returns an array of shape ???\n",
    "# these are cast to strings by .astype(str)\n",
    "octet_array = np.random.randint(1, 256, size=(EXTERNAL_IPS, 4)).astype(str)\n",
    "# map then applies '.'.join to each row\n",
    "external_ips = list(map('.'.join, octet_array))\n",
    "\n",
    "# Here we create an exponential distribution - several \"spam\" IPs are made much more frequent than other IPs\n",
    "external_ip_distribution = np.random.exponential(scale=1, size=EXTERNAL_IPS)\n",
    "external_ip_distribution[:SPAM_IPS] *= 100\n",
    "external_ip_distribution /= sum(external_ip_distribution)\n",
    "\n",
    "# *** What does the p term do?\n",
    "requests['IP'] = np.random.choice(external_ips, SAMPLE_DATA_LENGTH, p=external_ip_distribution)\n",
    "\n",
    "# Create a function for working out an IP range\n",
    "# (i.e. turning '192.123.3.1' into '192', '192.123' or '192.123.3' if the first argument is 1, 2 or 3 respectively)\n",
    "ip_to_range = lambda octets, address: '.'.join(address.split('.')[:octets])\n",
    "\n",
    "# We pluck 3 IP addresses, and use them to choose 3 ranges - IPs in these ranges then have their processing times scaled up\n",
    "adjusted_ranges = {ip_to_range(i + 1, s): np.random.random() * 10 for i, s in enumerate(requests['IP'].sample(3))}\n",
    "for range_prefix, factor in adjusted_ranges.items():\n",
    "    requests.loc[requests['IP'].str.startswith(range_prefix), 'Processing Time'] *= factor\n",
    "\n",
    "# We pick a two-thirds (how?) of IPs to be local IPs and overwrite their addresses with IPs in the 192.168.0.xxx range\n",
    "local_ips = np.random.choice([True, True, False], SAMPLE_DATA_LENGTH)\n",
    "local_ip_count = requests.loc[local_ips, 'IP'].count()\n",
    "requests.loc[local_ips, 'IP'] = list(map(lambda s: '192.168.0.%d' % s, np.random.randint(1, 256, size=local_ip_count)))\n",
    "\n",
    "requests"
   ]
  },
  {
   "cell_type": "markdown",
   "metadata": {},
   "source": [
    "## Viewing for our use"
   ]
  },
  {
   "cell_type": "code",
   "execution_count": 395,
   "metadata": {},
   "outputs": [
    {
     "data": {
      "text/plain": [
       "<matplotlib.axes._subplots.AxesSubplot at 0x7f81459dbc50>"
      ]
     },
     "execution_count": 395,
     "metadata": {},
     "output_type": "execute_result"
    },
    {
     "data": {
      "image/png": "[encoded data removed]",
      "text/plain": [
       "<Figure size 432x288 with 1 Axes>"
      ]
     },
     "metadata": {
      "needs_background": "light"
     },
     "output_type": "display_data"
    }
   ],
   "source": [
    "requests.groupby('IP')['Verb'].count().sort_values(ascending=False).plot()"
   ]
  },
  {
   "cell_type": "markdown",
   "metadata": {},
   "source": [
    "We can see from this that there are a few IPs hitting our service over 12 times, and at least 1 over 100 (may be slightly different for your randomized data)"
   ]
  },
  {
   "cell_type": "markdown",
   "metadata": {},
   "source": [
    "This sounds a lot like some form of spamming going on, or possibly exploit scanning of some sort. The more general red flag is that the profile of the other traffic, presumably mostly normal users, is very different (under 10 requests per address)."
   ]
  },
  {
   "cell_type": "code",
   "execution_count": 396,
   "metadata": {},
   "outputs": [
    {
     "data": {
      "text/plain": [
       "Verb\n",
       "GET     AxesSubplot(0.125,0.125;0.775x0.755)\n",
       "POST    AxesSubplot(0.125,0.125;0.775x0.755)\n",
       "PUT     AxesSubplot(0.125,0.125;0.775x0.755)\n",
       "dtype: object"
      ]
     },
     "execution_count": 396,
     "metadata": {},
     "output_type": "execute_result"
    },
    {
     "data": {
      "image/png": "[encoded data removed]",
      "text/plain": [
       "<Figure size 432x288 with 1 Axes>"
      ]
     },
     "metadata": {
      "needs_background": "light"
     },
     "output_type": "display_data"
    },
    {
     "data": {
      "image/png": "[encoded data removed]",
      "text/plain": [
       "<Figure size 432x288 with 1 Axes>"
      ]
     },
     "metadata": {
      "needs_background": "light"
     },
     "output_type": "display_data"
    },
    {
     "data": {
      "image/png": "[encoded data removed]",
      "text/plain": [
       "<Figure size 432x288 with 1 Axes>"
      ]
     },
     "metadata": {
      "needs_background": "light"
     },
     "output_type": "display_data"
    }
   ],
   "source": [
    "requests.groupby('Verb').plot()"
   ]
  },
  {
   "cell_type": "markdown",
   "metadata": {},
   "source": [
    "Again, these are a series of quick and dirty plots to give us some basic information. We can see that the processing time for the POST verb is somewhat higher. This may or may not be unexpected, depending on our service."
   ]
  },
  {
   "cell_type": "markdown",
   "metadata": {},
   "source": [
    "## First Flush"
   ]
  },
  {
   "cell_type": "markdown",
   "metadata": {},
   "source": [
    "In previous sessions, we learned how to tidy up a plot somewhat. This is an example for the first one:"
   ]
  },
  {
   "cell_type": "code",
   "execution_count": 397,
   "metadata": {},
   "outputs": [
    {
     "data": {
      "text/plain": [
       "<matplotlib.axes._subplots.AxesSubplot at 0x7f81457d55c0>"
      ]
     },
     "execution_count": 397,
     "metadata": {},
     "output_type": "execute_result"
    },
    {
     "data": {
      "image/png": "[encoded data removed]",
      "text/plain": [
       "<Figure size 432x288 with 1 Axes>"
      ]
     },
     "metadata": {
      "needs_background": "light"
     },
     "output_type": "display_data"
    }
   ],
   "source": [
    "requests_per_ip = requests.groupby('IP')['Verb'].count()\n",
    "\n",
    "ax = requests_per_ip.sort_values(ascending=False).plot()\n",
    "ax.set_title('Requests per IP Address')\n",
    "ax.set_ylabel('# of Requests')\n",
    "ax.set_xlabel('IP Address')\n",
    "ax"
   ]
  },
  {
   "cell_type": "markdown",
   "metadata": {},
   "source": [
    "Now, that's great, but it doesn't really tell any given story fully... What could we possibly want to know from the plotted data? For example:\n",
    "* how many IP addresses have vastly more requests than others\n",
    "* what fraction of our users are only touching the service once or twice\n",
    "* what the mean or modal number of hits is for a user"
   ]
  },
  {
   "cell_type": "markdown",
   "metadata": {},
   "source": [
    "If we saw that plot in an article, would we feel satisfied we understood the answers to any of those? Maybe not..."
   ]
  },
  {
   "cell_type": "markdown",
   "metadata": {},
   "source": [
    "## A recipe for clear communication"
   ]
  },
  {
   "cell_type": "markdown",
   "metadata": {},
   "source": [
    "Science communication is not just a skillset, it's an expert research area in its own right. However, it's important precisely because research is only as useful as its reporting allows, so _all_ scientists need to be aware of key scientific communication concepts. Not only is it critical to impact, but good scientific communication increases citation rates and professional profile.\n",
    "\n",
    "That means reader-friendly reporting has to be achievable without requiring lots of time or graphics talents. To help researchers get the basics down, there are a number of checklist-based approaches to making plots useful.\n",
    "\n",
    "One is from [Boris Gorelik](https://gorelik.net/), a data visualization expert at Automattic, the company behind Wordpress. It is the a series of steps called [ABCD](https://github.com/bgbg/datascience_dataviz_workshop/blob/8c01f70bb4ce42607718c6aa4a32458647649b24/demos/show-relationship/show_relationship.ipynb):\n",
    "* Audience\n",
    "  * Who is this specific plot targeted at? What do they want to know? What understanding do you know they have?\n",
    "* Build the graph\n",
    "  * Code up the first version for that audience\n",
    "* Conclusion\n",
    "  * Why are you making this graph? How can you ensure that is clear?\n",
    "* Delete\n",
    "  * What is redundant? How much [non-data-ink](https://infovis-wiki.net/wiki/Data-Ink_Ratio) can you remove? (see below)\n",
    "\n",
    "Think through each one carefully in turn to decide how you should approach it."
   ]
  },
  {
   "cell_type": "markdown",
   "metadata": {},
   "source": [
    "### Who?"
   ]
  },
  {
   "cell_type": "markdown",
   "metadata": {},
   "source": [
    "Suppose we are seeking to demonstrate usage patterns of real users - in fact, this works either for a Business Intelligence presentation in industry, or a usage patterns survey in an academic journal.\n",
    "\n",
    "Our target audience is:\n",
    "* subject-matter experts\n",
    "* who may not be technical (certainly in networks)\n",
    "* who have virtually no time to spend looking at this plot\n",
    "\n",
    "They want to know:\n",
    "* how many users heavily use the system\n",
    "* how many users lightly use the system\n",
    "\n",
    "What they don't care about:\n",
    "* anything more than headline detail on spammers"
   ]
  },
  {
   "cell_type": "markdown",
   "metadata": {},
   "source": [
    "### How?"
   ]
  },
  {
   "cell_type": "markdown",
   "metadata": {},
   "source": [
    "First off, for this audience, we want don't care _that_ much about spammers. How can we turn the data from being dominated by a few users to clearly showing general usage patterns?"
   ]
  },
  {
   "cell_type": "markdown",
   "metadata": {},
   "source": [
    "We could eliminate outliers - but then we have to think carefully about how that changes the message (for example, our highest usage real users suddenly look like they dominate our resource consumption). Many of these frequency metrics follow a normal distribution or otherwise exponential-based patterns - perhaps we should try a log graph?"
   ]
  },
  {
   "cell_type": "code",
   "execution_count": 398,
   "metadata": {},
   "outputs": [
    {
     "data": {
      "text/plain": [
       "<matplotlib.axes._subplots.AxesSubplot at 0x7f814582ce10>"
      ]
     },
     "execution_count": 398,
     "metadata": {},
     "output_type": "execute_result"
    },
    {
     "data": {
      "image/png": "[encoded data removed]",
      "text/plain": [
       "<Figure size 432x288 with 1 Axes>"
      ]
     },
     "metadata": {
      "needs_background": "light"
     },
     "output_type": "display_data"
    }
   ],
   "source": [
    "ax = requests_per_ip.sort_values(ascending=False).plot(logy=True)\n",
    "ax.set_title('Requests per IP Address')\n",
    "ax.set_ylabel('# of Requests')\n",
    "ax.set_xlabel('IP Address')\n",
    "ax"
   ]
  },
  {
   "cell_type": "markdown",
   "metadata": {},
   "source": [
    "That's better. We can now see clearly the variation between the bulk of users. About half use the service at most 3 times, virtually all less than 10. However, we're having to guess lengths of segments by eye."
   ]
  },
  {
   "cell_type": "markdown",
   "metadata": {},
   "source": [
    "If only there was a common way of showing frequencies of values..."
   ]
  },
  {
   "cell_type": "code",
   "execution_count": 399,
   "metadata": {},
   "outputs": [
    {
     "data": {
      "text/plain": [
       "1      66\n",
       "2      64\n",
       "3      66\n",
       "4      43\n",
       "5      23\n",
       "6      17\n",
       "7       3\n",
       "8       1\n",
       "15      1\n",
       "70      1\n",
       "72      1\n",
       "81      1\n",
       "152     1\n",
       "Name: Verb, dtype: int64"
      ]
     },
     "execution_count": 399,
     "metadata": {},
     "output_type": "execute_result"
    }
   ],
   "source": [
    "frequencies_of_request_count = requests_per_ip.value_counts().sort_index()\n",
    "# Number of requests | How many IP addresses made that number of requests\n",
    "# e.g. 1      62\n",
    "#     means 62 IPs made only 1 request\n",
    "frequencies_of_request_count"
   ]
  },
  {
   "cell_type": "code",
   "execution_count": 400,
   "metadata": {},
   "outputs": [
    {
     "data": {
      "text/plain": [
       "Text(0.5, 0, 'Total Requests from an IP')"
      ]
     },
     "execution_count": 400,
     "metadata": {},
     "output_type": "execute_result"
    },
    {
     "data": {
      "image/png": "[encoded data removed]",
      "text/plain": [
       "<Figure size 432x288 with 1 Axes>"
      ]
     },
     "metadata": {
      "needs_background": "light"
     },
     "output_type": "display_data"
    }
   ],
   "source": [
    "ax = frequencies_of_request_count.plot.bar()\n",
    "ax.set_title(\"How many IPs hit our service a given number of times?\")\n",
    "ax.set_ylabel(\"Number of IPs\")\n",
    "ax.set_xlabel(\"Total Requests from an IP\")"
   ]
  },
  {
   "cell_type": "markdown",
   "metadata": {},
   "source": [
    "That shows our low-frequency data fairly clearly, but the linear scale at the bottom suddenly jumping about seems counterintuitive and confusing. There are also a lot of Perhaps groupings would be more helpful."
   ]
  },
  {
   "cell_type": "code",
   "execution_count": 401,
   "metadata": {},
   "outputs": [
    {
     "data": {
      "text/html": [
       "<div>\n",
       "<style scoped>\n",
       "    .dataframe tbody tr th:only-of-type {\n",
       "        vertical-align: middle;\n",
       "    }\n",
       "\n",
       "    .dataframe tbody tr th {\n",
       "        vertical-align: top;\n",
       "    }\n",
       "\n",
       "    .dataframe thead th {\n",
       "        text-align: right;\n",
       "    }\n",
       "</style>\n",
       "<table border=\"1\" class=\"dataframe\">\n",
       "  <thead>\n",
       "    <tr style=\"text-align: right;\">\n",
       "      <th></th>\n",
       "      <th>Frequency</th>\n",
       "    </tr>\n",
       "  </thead>\n",
       "  <tbody>\n",
       "    <tr>\n",
       "      <th>1</th>\n",
       "      <td>130</td>\n",
       "    </tr>\n",
       "    <tr>\n",
       "      <th>2</th>\n",
       "      <td>130</td>\n",
       "    </tr>\n",
       "    <tr>\n",
       "      <th>3-5</th>\n",
       "      <td>149</td>\n",
       "    </tr>\n",
       "    <tr>\n",
       "      <th>6-8</th>\n",
       "      <td>21</td>\n",
       "    </tr>\n",
       "    <tr>\n",
       "      <th>9-11</th>\n",
       "      <td>0</td>\n",
       "    </tr>\n",
       "    <tr>\n",
       "      <th>12 or more</th>\n",
       "      <td>5</td>\n",
       "    </tr>\n",
       "  </tbody>\n",
       "</table>\n",
       "</div>"
      ],
      "text/plain": [
       "           Frequency\n",
       "1                130\n",
       "2                130\n",
       "3-5              149\n",
       "6-8               21\n",
       "9-11               0\n",
       "12 or more         5"
      ]
     },
     "execution_count": 401,
     "metadata": {},
     "output_type": "execute_result"
    }
   ],
   "source": [
    "# Set up our ranges\n",
    "request_counts = [(\"1\", (1, 2)), (\"2\", (2, 3)), (\"3-5\", (3, 6)), (\"6-8\", (6, 9)), (\"9-11\", (9, 12)), (\"12 or more\", (12, None))]\n",
    "\n",
    "# We could do this manually... this helps us understand the data\n",
    "request_count_df = pd.DataFrame(columns=(\"Frequency\",), index=[r[0] for r in request_counts])\n",
    "\n",
    "for label, (lower, upper) in request_counts:\n",
    "    request_count_df[\"Frequency\"][label] = frequencies_of_request_count.loc[lower:upper].sum()\n",
    "\n",
    "request_count_df"
   ]
  },
  {
   "cell_type": "code",
   "execution_count": 402,
   "metadata": {},
   "outputs": [
    {
     "data": {
      "text/plain": [
       "<matplotlib.axes._subplots.AxesSubplot at 0x7f81455e1048>"
      ]
     },
     "execution_count": 402,
     "metadata": {},
     "output_type": "execute_result"
    },
    {
     "data": {
      "image/png": "[encoded data removed]",
      "text/plain": [
       "<Figure size 432x288 with 1 Axes>"
      ]
     },
     "metadata": {
      "needs_background": "light"
     },
     "output_type": "display_data"
    }
   ],
   "source": [
    "# But we can also use the histogram plot\n",
    "\n",
    "# Cap the upper end so we don't extend x out to the 100s\n",
    "capped_requests_per_ip = requests_per_ip.copy()\n",
    "capped_requests_per_ip[capped_requests_per_ip > 10] = 10\n",
    "ax = capped_requests_per_ip.plot.hist(bins=range(1, 12), rwidth=0.95)\n",
    "ax"
   ]
  },
  {
   "cell_type": "markdown",
   "metadata": {},
   "source": [
    "This is more approachable for a nontechnical user, and shows more clearly the spread of how regular users use the system. But we can tidy this up now."
   ]
  },
  {
   "cell_type": "code",
   "execution_count": 403,
   "metadata": {
    "scrolled": true
   },
   "outputs": [
    {
     "data": {
      "text/plain": [
       "<matplotlib.axes._subplots.AxesSubplot at 0x7f8145549ef0>"
      ]
     },
     "execution_count": 403,
     "metadata": {},
     "output_type": "execute_result"
    },
    {
     "data": {
      "image/png": "[encoded data removed]",
      "text/plain": [
       "<Figure size 432x288 with 1 Axes>"
      ]
     },
     "metadata": {
      "needs_background": "light"
     },
     "output_type": "display_data"
    }
   ],
   "source": [
    "bins = range(1, 12)\n",
    "ax = capped_requests_per_ip.plot.hist(bins=bins, rwidth=0.95)\n",
    "bar_width = 1\n",
    "ax.set_xticks(np.array(bins) + bar_width / 2)\n",
    "ax.set_xticklabels((1, 2, 3, 4, 5, 6, 7, 8, 9, \"10+\"))\n",
    "\n",
    "ax.set_title(\"How many IPs hit our service a given number of times?\")\n",
    "ax.set_ylabel(\"Number of IPs\")\n",
    "ax.set_xlabel(\"Total Requests from an IP\")\n",
    "ax"
   ]
  },
  {
   "cell_type": "markdown",
   "metadata": {},
   "source": [
    "### Why?"
   ]
  },
  {
   "cell_type": "markdown",
   "metadata": {},
   "source": [
    "What are we trying to show here? Depending on your context, you may need to take care not to prejudice the reader toward your conclusion - if you have the freedom to do so, placing the conclusion in the title (e.g. \"Many users do not return\") can help a reader immediately understand the point you wish to make with the plot. In academic publishing though, it is better to go for a clear, unbiased title - a question can help indicate what you are seeking to demonstrate.\n",
    "\n",
    "If your audience is likely to be speed reading, this is especially helpful."
   ]
  },
  {
   "cell_type": "markdown",
   "metadata": {},
   "source": [
    "We also talk about IPs, while we seek to understand users. Again, audience is important: \"Total Visits from a User (by IP)\" might be preferred in industry - in academia, it may be better to caption the x-axis as \"Total Requests from an IP\" and explain it as a proxy for users in the text."
   ]
  },
  {
   "cell_type": "markdown",
   "metadata": {},
   "source": [
    "We can highlight the features of the graph that let readers draw their own conclusions. Again, be careful if writing for academia not to do so in a way that artificially prejudices them to your interpretation."
   ]
  },
  {
   "cell_type": "code",
   "execution_count": 404,
   "metadata": {
    "scrolled": true
   },
   "outputs": [
    {
     "data": {
      "text/plain": [
       "<matplotlib.axes._subplots.AxesSubplot at 0x7f81454d9dd8>"
      ]
     },
     "execution_count": 404,
     "metadata": {},
     "output_type": "execute_result"
    },
    {
     "data": {
      "image/png": "[encoded data removed]",
      "text/plain": [
       "<Figure size 432x288 with 1 Axes>"
      ]
     },
     "metadata": {
      "needs_background": "light"
     },
     "output_type": "display_data"
    }
   ],
   "source": [
    "import matplotlib.pyplot as plt\n",
    "\n",
    "bins = range(1, 12)\n",
    "\n",
    "# Switch to using matplotlib directly, to get more control\n",
    "ax = plt.axes()\n",
    "N, bins, patches = plt.hist(capped_requests_per_ip, bins=bins, rwidth=0.95)\n",
    "patches[0].set_facecolor('red')\n",
    "patches[0].set_hatch('//')\n",
    "# We can highlight the final bar to draw the reader's attention to the fact it is different\n",
    "patches[-1].set_facecolor('green')\n",
    "\n",
    "bar_width = 1\n",
    "ax.set_xticks(np.array(bins) + bar_width / 2)\n",
    "ax.set_xticklabels((1, 2, 3, 4, 5, 6, 7, 8, 9, \"10+\"))\n",
    "\n",
    "ax.set_title(\"How many IPs hit our service a given number of times?\")\n",
    "ax.set_ylabel(\"Number of IPs\")\n",
    "ax.set_xlabel(\"Total Requests from an IP (single visits in red-hatch)\")\n",
    "ax"
   ]
  },
  {
   "cell_type": "markdown",
   "metadata": {},
   "source": [
    "Now to help make our conclusions clear, we can highlight the key text and draw attention to our underlying question."
   ]
  },
  {
   "cell_type": "code",
   "execution_count": 405,
   "metadata": {},
   "outputs": [
    {
     "data": {
      "text/plain": [
       "<matplotlib.axes._subplots.AxesSubplot at 0x7f81454bab00>"
      ]
     },
     "execution_count": 405,
     "metadata": {},
     "output_type": "execute_result"
    },
    {
     "data": {
      "image/png": "[encoded data removed]",
      "text/plain": [
       "<Figure size 432x288 with 1 Axes>"
      ]
     },
     "metadata": {
      "needs_background": "light"
     },
     "output_type": "display_data"
    }
   ],
   "source": [
    "import matplotlib.pyplot as plt\n",
    "\n",
    "bins = range(1, 12)\n",
    "\n",
    "# Switch to using matplotlib directly, to get more control\n",
    "ax = plt.axes()\n",
    "N, bins, patches = plt.hist(capped_requests_per_ip, bins=bins, rwidth=0.95)\n",
    "patches[0].set_facecolor('red')\n",
    "patches[0].set_hatch('//')\n",
    "# We can highlight the final bar to draw the reader's attention to the fact it is different\n",
    "patches[-1].set_facecolor('green')\n",
    "\n",
    "bar_width = 1\n",
    "ax.set_xticks(np.array(bins) + bar_width / 2)\n",
    "ax.set_xticklabels((1, 2, 3, 4, 5, 6, 7, 8, 9, \"10+\"))\n",
    "\n",
    "ax.set_title(\"How many user IPs appear\\n a given number of times?\")\n",
    "ax.title.set_fontsize(20)\n",
    "ax.set_ylabel(\"Number of IPs\")\n",
    "ax.set_xlabel(\"Total Requests from an IP (single visits in red-hatch)\")\n",
    "ax"
   ]
  },
  {
   "cell_type": "markdown",
   "metadata": {},
   "source": [
    "If our primary conclusion was that users drop off gradually as we move up the request count, we may be more interested in a regression to show the gradual curve:"
   ]
  },
  {
   "cell_type": "code",
   "execution_count": 406,
   "metadata": {},
   "outputs": [
    {
     "data": {
      "text/plain": [
       "<matplotlib.axes._subplots.AxesSubplot at 0x7f814542c208>"
      ]
     },
     "execution_count": 406,
     "metadata": {},
     "output_type": "execute_result"
    },
    {
     "data": {
      "image/png": "[encoded data removed]",
      "text/plain": [
       "<Figure size 432x288 with 1 Axes>"
      ]
     },
     "metadata": {
      "needs_background": "light"
     },
     "output_type": "display_data"
    }
   ],
   "source": [
    "import matplotlib.pyplot as plt\n",
    "\n",
    "bins = range(1, 12)\n",
    "\n",
    "# Switch to using matplotlib directly, to get more control\n",
    "ax = plt.axes()\n",
    "N, bins, patches = plt.hist(capped_requests_per_ip, bins=bins, rwidth=0.95)\n",
    "# We can highlight the final bar to draw the reader's attention to the fact it is different\n",
    "patches[-1].set_facecolor('green')\n",
    "\n",
    "bar_width = 1\n",
    "ax.set_xticks(np.array(bins) + bar_width / 2)\n",
    "ax.set_xticklabels((1, 2, 3, 4, 5, 6, 7, 8, 9, \"10+\"))\n",
    "\n",
    "# Get the actual numbers used in the histogram\n",
    "frequencies_of_request_count = requests_per_ip.value_counts().sort_index()\n",
    "\n",
    "# We define a curve function with several parameters we wish to fit\n",
    "def fitted_exp(x, a, b, c):\n",
    "    return a + b * np.exp(c * x)\n",
    "\n",
    "# Scipy then fits it for us\n",
    "params, cov = scipy.optimize.curve_fit(\n",
    "    fitted_exp,\n",
    "    frequencies_of_request_count.index,\n",
    "    frequencies_of_request_count.values,\n",
    "    p0=(0, 100, -1)\n",
    ")\n",
    "\n",
    "# Plot our curve using these parameters\n",
    "exp_x = np.linspace(1, 10, 100)\n",
    "exp_curve = fitted_exp(exp_x, *params)\n",
    "\n",
    "ax.set_title(\"How often does each user IP\\nuse our service?\")\n",
    "ax.title.set_fontsize(20)\n",
    "ax.set_ylabel(\"Number of IPs\")\n",
    "ax.set_xlabel(\"Total Requests from an IP (orange curve: fitted $a e^{b x}+c$)\")\n",
    "plt.plot(exp_x, exp_curve, linewidth=3, color='orange')\n",
    "ax"
   ]
  },
  {
   "cell_type": "markdown",
   "metadata": {},
   "source": [
    "### What not?"
   ]
  },
  {
   "cell_type": "markdown",
   "metadata": {},
   "source": [
    "Perhaps the least intuitive step, but one of the most effective - removing anything extraneous from the plot. This means users are not distracted from the relevant results themselves."
   ]
  },
  {
   "cell_type": "markdown",
   "metadata": {},
   "source": [
    "Lets suppose we take the final plot above - where we wish to see the drop-off. Perhaps it would be less \"fussy\" to pair up histogram bins. The audience doesn't care whether an IP visits 7 times or 8 times. (Note that, if our audience was more interested in the single-visit users, as in the red-hatched plot, this wouldn't work). Audience matters."
   ]
  },
  {
   "cell_type": "code",
   "execution_count": 407,
   "metadata": {},
   "outputs": [
    {
     "data": {
      "text/plain": [
       "<matplotlib.axes._subplots.AxesSubplot at 0x7f8145389fd0>"
      ]
     },
     "execution_count": 407,
     "metadata": {},
     "output_type": "execute_result"
    },
    {
     "data": {
      "image/png": "[encoded data removed]",
      "text/plain": [
       "<Figure size 432x288 with 1 Axes>"
      ]
     },
     "metadata": {
      "needs_background": "light"
     },
     "output_type": "display_data"
    }
   ],
   "source": [
    "import matplotlib.pyplot as plt\n",
    "\n",
    "bar_width = 2\n",
    "\n",
    "bins = range(1, 12, bar_width)\n",
    "\n",
    "# Switch to using matplotlib directly, to get more control\n",
    "ax = plt.axes()\n",
    "rescale_height = np.full(capped_requests_per_ip.shape, 1 / bar_width)\n",
    "N, bins, patches = plt.hist(capped_requests_per_ip, bins=bins, rwidth=0.95, weights=rescale_height)\n",
    "# We can highlight the final bar to draw the reader's attention to the fact it is different\n",
    "patches[-1].set_facecolor('green')\n",
    "\n",
    "bar_width = 2\n",
    "ax.set_xticks(np.array(bins) + bar_width / 2)\n",
    "ax.set_xticklabels((\"1 - 2\", \"3 - 4\", \"5 - 6\", \"7 - 8\", \"9+\"))\n",
    "\n",
    "# Get the actual numbers used in the histogram\n",
    "frequencies_of_request_count = requests_per_ip.value_counts().sort_index()\n",
    "\n",
    "# We define a curve function with several parameters we wish to fit\n",
    "def fitted_exp(x, a, b, c):\n",
    "    return a + b * np.exp(c * x)\n",
    "\n",
    "# Scipy then fits it for us\n",
    "params, cov = scipy.optimize.curve_fit(\n",
    "    fitted_exp,\n",
    "    frequencies_of_request_count.index,\n",
    "    frequencies_of_request_count.values,\n",
    "    p0=(0, 100, -1)\n",
    ")\n",
    "\n",
    "# Plot our curve using these parameters\n",
    "exp_x = np.linspace(1, 10, 100)\n",
    "exp_curve = fitted_exp(exp_x, *params)\n",
    "\n",
    "ax.set_title(\"How often does each user IP\\nuse our service?\")\n",
    "ax.title.set_fontsize(20)\n",
    "ax.set_ylabel(\"Number of IPs\")\n",
    "ax.set_xlabel(\"Total Requests from an IP\\n(orange curve: fitted $a e^{b x}+c$)\")\n",
    "plt.plot(exp_x, exp_curve, linewidth=3, color='orange')\n",
    "ax"
   ]
  },
  {
   "cell_type": "markdown",
   "metadata": {},
   "source": [
    "The concept of a data-ink ratio - the ratio of ink used to convey relevant information to the total inked space - came from [Edward Tufte](https://en.wikipedia.org/wiki/Edward_Tufte), a data visualization pioneer. He argued it should be maximized by not wasting ink on anything not helping the viewer's understanding."
   ]
  },
  {
   "cell_type": "markdown",
   "metadata": {},
   "source": [
    "## Privacy & GDPR"
   ]
  },
  {
   "cell_type": "markdown",
   "metadata": {},
   "source": [
    "Over the last few years, the law has got much stricter on handling of data. As this is a coding course, I'm not going to touch on it much here, but when preparing data for sharing it's critical to think this through."
   ]
  },
  {
   "cell_type": "markdown",
   "metadata": {},
   "source": [
    "In this case, we use IP addresses - at least some could be used to identify an individual (obviously, we have used fake ones for this exercise, but normally they would be real). This means we have to be legally _extremely_ careful with how we handle them."
   ]
  },
  {
   "cell_type": "markdown",
   "metadata": {},
   "source": [
    "This goes hand-in-hand with the push for reproducible science. There is a strong push across academia to get your results in the public, so they can be examined by other scientists, randomers, companies without your oversight -- this is partially a result of scientists discovering that a large amount of literature was unreproducible and, therefore, effectively useless (and, moreover, dangerous, especially in engineering and life sciences)."
   ]
  },
  {
   "cell_type": "markdown",
   "metadata": {},
   "source": [
    "How can you release data that involves personal information (or IPs, MAC addresses, etc.)? One idea is to group it."
   ]
  },
  {
   "cell_type": "code",
   "execution_count": 408,
   "metadata": {},
   "outputs": [
    {
     "data": {
      "text/plain": [
       "IP\n",
       "10.186.201.198     2\n",
       "106.202.92.156     1\n",
       "108.101.99.178    10\n",
       "108.72.102.20      1\n",
       "130.16.186.140     1\n",
       "Name: Verb, dtype: int64"
      ]
     },
     "execution_count": 408,
     "metadata": {},
     "output_type": "execute_result"
    }
   ],
   "source": [
    "capped_requests_per_ip.head()"
   ]
  },
  {
   "cell_type": "markdown",
   "metadata": {},
   "source": [
    "Lets group this in IP blocks of the last octet, i.e. `11.222.33.4` and `11.222.33.91` become part of the same `11.222.33.xxx` entry."
   ]
  },
  {
   "cell_type": "code",
   "execution_count": 409,
   "metadata": {},
   "outputs": [
    {
     "data": {
      "text/html": [
       "<div>\n",
       "<style scoped>\n",
       "    .dataframe tbody tr th:only-of-type {\n",
       "        vertical-align: middle;\n",
       "    }\n",
       "\n",
       "    .dataframe tbody tr th {\n",
       "        vertical-align: top;\n",
       "    }\n",
       "\n",
       "    .dataframe thead th {\n",
       "        text-align: right;\n",
       "    }\n",
       "</style>\n",
       "<table border=\"1\" class=\"dataframe\">\n",
       "  <thead>\n",
       "    <tr style=\"text-align: right;\">\n",
       "      <th></th>\n",
       "      <th>IP</th>\n",
       "      <th>Group</th>\n",
       "    </tr>\n",
       "  </thead>\n",
       "  <tbody>\n",
       "    <tr>\n",
       "      <th>0</th>\n",
       "      <td>2</td>\n",
       "      <td>10.186.201</td>\n",
       "    </tr>\n",
       "    <tr>\n",
       "      <th>1</th>\n",
       "      <td>1</td>\n",
       "      <td>106.202.92</td>\n",
       "    </tr>\n",
       "    <tr>\n",
       "      <th>2</th>\n",
       "      <td>70</td>\n",
       "      <td>108.101.99</td>\n",
       "    </tr>\n",
       "    <tr>\n",
       "      <th>3</th>\n",
       "      <td>1</td>\n",
       "      <td>108.72.102</td>\n",
       "    </tr>\n",
       "    <tr>\n",
       "      <th>4</th>\n",
       "      <td>1</td>\n",
       "      <td>130.16.186</td>\n",
       "    </tr>\n",
       "  </tbody>\n",
       "</table>\n",
       "</div>"
      ],
      "text/plain": [
       "   IP       Group\n",
       "0   2  10.186.201\n",
       "1   1  106.202.92\n",
       "2  70  108.101.99\n",
       "3   1  108.72.102\n",
       "4   1  130.16.186"
      ]
     },
     "execution_count": 409,
     "metadata": {},
     "output_type": "execute_result"
    }
   ],
   "source": [
    "# IP to head\n",
    "octets = 3\n",
    "\n",
    "def aggregate_ip(ip):\n",
    "    if ip.startswith('192.168'):\n",
    "        # This is local, we keep it if we are confident this isn't personally-identifiable information\n",
    "        return ip\n",
    "    else:\n",
    "        # This function from the very start truncates an IP address\n",
    "        return ip_to_range(octets, ip)\n",
    "\n",
    "agg_requests_per_ip = pd.DataFrame({'IP': requests_per_ip.values})\n",
    "agg_requests_per_ip['Group'] = list(map(lambda ip: aggregate_ip(ip), requests_per_ip.index))\n",
    "agg_requests_per_ip.head()"
   ]
  },
  {
   "cell_type": "code",
   "execution_count": 410,
   "metadata": {},
   "outputs": [
    {
     "data": {
      "text/html": [
       "<div>\n",
       "<style scoped>\n",
       "    .dataframe tbody tr th:only-of-type {\n",
       "        vertical-align: middle;\n",
       "    }\n",
       "\n",
       "    .dataframe tbody tr th {\n",
       "        vertical-align: top;\n",
       "    }\n",
       "\n",
       "    .dataframe thead th {\n",
       "        text-align: right;\n",
       "    }\n",
       "</style>\n",
       "<table border=\"1\" class=\"dataframe\">\n",
       "  <thead>\n",
       "    <tr style=\"text-align: right;\">\n",
       "      <th></th>\n",
       "      <th>IP</th>\n",
       "      <th>Count</th>\n",
       "    </tr>\n",
       "    <tr>\n",
       "      <th>Group</th>\n",
       "      <th></th>\n",
       "      <th></th>\n",
       "    </tr>\n",
       "  </thead>\n",
       "  <tbody>\n",
       "    <tr>\n",
       "      <th>10.186.201</th>\n",
       "      <td>2</td>\n",
       "      <td>1</td>\n",
       "    </tr>\n",
       "    <tr>\n",
       "      <th>106.202.92</th>\n",
       "      <td>1</td>\n",
       "      <td>1</td>\n",
       "    </tr>\n",
       "    <tr>\n",
       "      <th>108.101.99</th>\n",
       "      <td>70</td>\n",
       "      <td>1</td>\n",
       "    </tr>\n",
       "    <tr>\n",
       "      <th>108.72.102</th>\n",
       "      <td>1</td>\n",
       "      <td>1</td>\n",
       "    </tr>\n",
       "    <tr>\n",
       "      <th>130.16.186</th>\n",
       "      <td>1</td>\n",
       "      <td>1</td>\n",
       "    </tr>\n",
       "  </tbody>\n",
       "</table>\n",
       "</div>"
      ],
      "text/plain": [
       "            IP  Count\n",
       "Group                \n",
       "10.186.201   2      1\n",
       "106.202.92   1      1\n",
       "108.101.99  70      1\n",
       "108.72.102   1      1\n",
       "130.16.186   1      1"
      ]
     },
     "execution_count": 410,
     "metadata": {},
     "output_type": "execute_result"
    }
   ],
   "source": [
    "agg_requests_per_ip['Count'] = 1\n",
    "agg_requests_per_ip = agg_requests_per_ip.groupby('Group').agg('sum')\n",
    "agg_requests_per_ip.head()"
   ]
  },
  {
   "cell_type": "code",
   "execution_count": 411,
   "metadata": {},
   "outputs": [
    {
     "data": {
      "text/plain": [
       "<matplotlib.axes._subplots.AxesSubplot at 0x7f81452db550>"
      ]
     },
     "execution_count": 411,
     "metadata": {},
     "output_type": "execute_result"
    },
    {
     "data": {
      "image/png": "[encoded data removed]",
      "text/plain": [
       "<Figure size 432x288 with 1 Axes>"
      ]
     },
     "metadata": {
      "needs_background": "light"
     },
     "output_type": "display_data"
    }
   ],
   "source": [
    "import matplotlib.pyplot as plt\n",
    "\n",
    "bar_width = 2\n",
    "\n",
    "bins = range(1, 12, bar_width)\n",
    "capped_agg_requests_per_ip = agg_requests_per_ip.copy()\n",
    "capped_agg_requests_per_ip[capped_agg_requests_per_ip > 9] = 9\n",
    "\n",
    "# Switch to using matplotlib directly, to get more control\n",
    "ax = plt.axes()\n",
    "rescale_height = np.full(capped_agg_requests_per_ip['IP'].shape, 1 / bar_width)\n",
    "N, bins, patches = plt.hist(capped_agg_requests_per_ip['IP'], bins=bins, rwidth=0.95, weights=rescale_height)\n",
    "# We can highlight the final bar to draw the reader's attention to the fact it is different\n",
    "patches[-1].set_facecolor('green')\n",
    "\n",
    "bar_width = 2\n",
    "ax.set_xticks(np.array(bins) + bar_width / 2)\n",
    "ax.set_xticklabels((\"1 - 2\", \"3 - 4\", \"5 - 6\", \"7 - 8\", \"9+\"))\n",
    "\n",
    "ax.set_title(\"How often does each user IP\\nuse our service?\")\n",
    "ax.title.set_fontsize(20)\n",
    "ax.set_ylabel(\"Number of IPs\")\n",
    "ax.set_xlabel(\"Total Requests from an IP\\n(external IPs grouped by octet %d)\" % octets)\n",
    "ax"
   ]
  },
  {
   "cell_type": "markdown",
   "metadata": {},
   "source": [
    "### Exercise"
   ]
  },
  {
   "cell_type": "markdown",
   "metadata": {},
   "source": [
    "Experiment with changing the octet count - using the whole IP `1.2.3.4` (octets=4), grouping a bit `1.2.3.x` (octets=3), grouping more `1.2.x.x` (octets=2) and grouping right at the top `1.x.x.x` (octets=1). Does it materially change your output plot?"
   ]
  },
  {
   "cell_type": "markdown",
   "metadata": {},
   "source": [
    "Now see what impact removing the if clause that _keeps_ local IPs - so they get aggregated too. Does this make a difference for 2 octet aggregation or 3 octet aggregation?"
   ]
  },
  {
   "cell_type": "markdown",
   "metadata": {},
   "source": [
    "Could you do all your analysis using the 2 octets (which have a low risk of violating users' privacy) rather than the full IP addresses, and release that data to a public journal?"
   ]
  },
  {
   "cell_type": "markdown",
   "metadata": {},
   "source": [
    "For more information about the growing mathematical research field around privacy-preserving analysis, read about [k-anonymity](https://en.wikipedia.org/wiki/K-anonymity)."
   ]
  },
  {
   "cell_type": "markdown",
   "metadata": {},
   "source": [
    "## Exercise"
   ]
  },
  {
   "cell_type": "markdown",
   "metadata": {},
   "source": [
    "You are going to present a lightning talk to a technical team lead. They want to understand where in the application they should start looking for issues - you decide to explore the relationship between HTTP verbs used (GET, POST, PUT) and the performance of your service (see the plots above). Follow the steps above using the cells below:"
   ]
  },
  {
   "cell_type": "markdown",
   "metadata": {},
   "source": [
    "### Who?"
   ]
  },
  {
   "cell_type": "markdown",
   "metadata": {},
   "source": [
    "As my audience is ... , I should focus on ... and am less interested in ..."
   ]
  },
  {
   "cell_type": "markdown",
   "metadata": {},
   "source": [
    "### How?"
   ]
  },
  {
   "cell_type": "code",
   "execution_count": null,
   "metadata": {},
   "outputs": [],
   "source": []
  },
  {
   "cell_type": "markdown",
   "metadata": {},
   "source": [
    "### Why?"
   ]
  },
  {
   "cell_type": "markdown",
   "metadata": {},
   "source": [
    "I can conclude that ...\n",
    "The most important parts of the plot to evaluate this conclusion are ... (taking care not to prejudice the viewer)"
   ]
  },
  {
   "cell_type": "code",
   "execution_count": 412,
   "metadata": {},
   "outputs": [],
   "source": [
    "# Here is my plot illustrating the key aspects\n",
    "\n",
    "# ..."
   ]
  },
  {
   "cell_type": "markdown",
   "metadata": {},
   "source": [
    "### What not?"
   ]
  },
  {
   "cell_type": "markdown",
   "metadata": {},
   "source": [
    "I can see several lines and/or text that I could get rid of, without changing the meaning of the plot."
   ]
  },
  {
   "cell_type": "code",
   "execution_count": null,
   "metadata": {},
   "outputs": [],
   "source": [
    "# This is the plot without them\n",
    "\n",
    "# ..."
   ]
  },
  {
   "cell_type": "markdown",
   "metadata": {},
   "source": [
    "## Next steps"
   ]
  },
  {
   "cell_type": "markdown",
   "metadata": {},
   "source": [
    "Moving into the world of infographics, you can find excellent scientific communication tutorials such as:"
   ]
  },
  {
   "cell_type": "markdown",
   "metadata": {},
   "source": [
    "* https://blog.mindthegraph.com/category/tutorials/\n",
    "* https://blogs.unimelb.edu.au/sciencecommunication/2018/09/25/science-communication-storytelling-with-data/"
   ]
  }
 ],
 "metadata": {
  "kernelspec": {
   "display_name": "Python 3",
   "language": "python",
   "name": "python3"
  },
  "language_info": {
   "codemirror_mode": {
    "name": "ipython",
    "version": 3
   },
   "file_extension": ".py",
   "mimetype": "text/x-python",
   "name": "python",
   "nbconvert_exporter": "python",
   "pygments_lexer": "ipython3",
   "version": "3.7.1"
  }
 },
 "nbformat": 4,
 "nbformat_minor": 2
}
