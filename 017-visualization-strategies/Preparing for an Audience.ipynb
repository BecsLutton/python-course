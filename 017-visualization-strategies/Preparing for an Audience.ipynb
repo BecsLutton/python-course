{
 "cells": [
  {
   "cell_type": "markdown",
   "metadata": {},
   "source": [
    "# Preparing for an Audience"
   ]
  },
  {
   "cell_type": "markdown",
   "metadata": {},
   "source": [
    "## Generating some sample data"
   ]
  },
  {
   "cell_type": "markdown",
   "metadata": {},
   "source": [
    "### Definitions\n",
    "\n",
    "__octet__ is a non-negative integer below 256\n",
    "\n",
    "Four __octets__ form an IP address, e.g. 194.82.329.12\n",
    "\n",
    "IP addresses beginning 192.168.0 are normally internal to a network. Most others are external (i.e. are users or machines on the internet)"
   ]
  },
  {
   "cell_type": "markdown",
   "metadata": {},
   "source": [
    "### Sample Script for Creating Fake Data"
   ]
  },
  {
   "cell_type": "markdown",
   "metadata": {},
   "source": [
    "We will pass by this for the moment, but you may wish to use some time to see what functions exist in `numpy` and `random` modules for generating randomized data - some of the exercises in the comments may help."
   ]
  },
  {
   "cell_type": "code",
   "execution_count": 1,
   "metadata": {},
   "outputs": [
    {
     "data": {
      "text/html": [
       "<div>\n",
       "<style scoped>\n",
       "    .dataframe tbody tr th:only-of-type {\n",
       "        vertical-align: middle;\n",
       "    }\n",
       "\n",
       "    .dataframe tbody tr th {\n",
       "        vertical-align: top;\n",
       "    }\n",
       "\n",
       "    .dataframe thead th {\n",
       "        text-align: right;\n",
       "    }\n",
       "</style>\n",
       "<table border=\"1\" class=\"dataframe\">\n",
       "  <thead>\n",
       "    <tr style=\"text-align: right;\">\n",
       "      <th></th>\n",
       "      <th>IP</th>\n",
       "      <th>Verb</th>\n",
       "      <th>Processing Time</th>\n",
       "      <th>Memory</th>\n",
       "    </tr>\n",
       "  </thead>\n",
       "  <tbody>\n",
       "    <tr>\n",
       "      <th>0</th>\n",
       "      <td>22.157.246.138</td>\n",
       "      <td>POST</td>\n",
       "      <td>267.350361</td>\n",
       "      <td>24.810710</td>\n",
       "    </tr>\n",
       "    <tr>\n",
       "      <th>1</th>\n",
       "      <td>23.93.54.224</td>\n",
       "      <td>GET</td>\n",
       "      <td>1224.039605</td>\n",
       "      <td>30.189988</td>\n",
       "    </tr>\n",
       "    <tr>\n",
       "      <th>2</th>\n",
       "      <td>80.217.181.175</td>\n",
       "      <td>POST</td>\n",
       "      <td>923.793208</td>\n",
       "      <td>21.913377</td>\n",
       "    </tr>\n",
       "    <tr>\n",
       "      <th>3</th>\n",
       "      <td>102.132.208.215</td>\n",
       "      <td>GET</td>\n",
       "      <td>192.397594</td>\n",
       "      <td>28.280122</td>\n",
       "    </tr>\n",
       "    <tr>\n",
       "      <th>4</th>\n",
       "      <td>192.168.0.243</td>\n",
       "      <td>PUT</td>\n",
       "      <td>1144.946620</td>\n",
       "      <td>36.602936</td>\n",
       "    </tr>\n",
       "    <tr>\n",
       "      <th>5</th>\n",
       "      <td>192.168.0.204</td>\n",
       "      <td>PUT</td>\n",
       "      <td>1125.075126</td>\n",
       "      <td>23.781566</td>\n",
       "    </tr>\n",
       "    <tr>\n",
       "      <th>6</th>\n",
       "      <td>192.168.0.228</td>\n",
       "      <td>PUT</td>\n",
       "      <td>1039.575393</td>\n",
       "      <td>33.590053</td>\n",
       "    </tr>\n",
       "    <tr>\n",
       "      <th>7</th>\n",
       "      <td>192.168.0.202</td>\n",
       "      <td>GET</td>\n",
       "      <td>809.161312</td>\n",
       "      <td>29.428942</td>\n",
       "    </tr>\n",
       "    <tr>\n",
       "      <th>8</th>\n",
       "      <td>192.168.0.135</td>\n",
       "      <td>PUT</td>\n",
       "      <td>761.188958</td>\n",
       "      <td>32.882310</td>\n",
       "    </tr>\n",
       "    <tr>\n",
       "      <th>9</th>\n",
       "      <td>192.168.0.214</td>\n",
       "      <td>PUT</td>\n",
       "      <td>749.462867</td>\n",
       "      <td>18.887157</td>\n",
       "    </tr>\n",
       "    <tr>\n",
       "      <th>10</th>\n",
       "      <td>192.168.0.92</td>\n",
       "      <td>GET</td>\n",
       "      <td>201.643908</td>\n",
       "      <td>32.380017</td>\n",
       "    </tr>\n",
       "    <tr>\n",
       "      <th>11</th>\n",
       "      <td>192.168.0.191</td>\n",
       "      <td>PUT</td>\n",
       "      <td>955.343707</td>\n",
       "      <td>24.463487</td>\n",
       "    </tr>\n",
       "    <tr>\n",
       "      <th>12</th>\n",
       "      <td>192.168.0.154</td>\n",
       "      <td>PUT</td>\n",
       "      <td>1127.853497</td>\n",
       "      <td>26.568463</td>\n",
       "    </tr>\n",
       "    <tr>\n",
       "      <th>13</th>\n",
       "      <td>192.168.0.143</td>\n",
       "      <td>POST</td>\n",
       "      <td>769.216610</td>\n",
       "      <td>24.704773</td>\n",
       "    </tr>\n",
       "    <tr>\n",
       "      <th>14</th>\n",
       "      <td>192.168.0.109</td>\n",
       "      <td>POST</td>\n",
       "      <td>1787.414328</td>\n",
       "      <td>27.647682</td>\n",
       "    </tr>\n",
       "    <tr>\n",
       "      <th>15</th>\n",
       "      <td>192.168.0.71</td>\n",
       "      <td>GET</td>\n",
       "      <td>1347.863855</td>\n",
       "      <td>33.315192</td>\n",
       "    </tr>\n",
       "    <tr>\n",
       "      <th>16</th>\n",
       "      <td>192.168.0.174</td>\n",
       "      <td>GET</td>\n",
       "      <td>178.048977</td>\n",
       "      <td>34.587796</td>\n",
       "    </tr>\n",
       "    <tr>\n",
       "      <th>17</th>\n",
       "      <td>192.168.0.208</td>\n",
       "      <td>GET</td>\n",
       "      <td>174.404476</td>\n",
       "      <td>24.994123</td>\n",
       "    </tr>\n",
       "    <tr>\n",
       "      <th>18</th>\n",
       "      <td>80.217.181.175</td>\n",
       "      <td>GET</td>\n",
       "      <td>665.744434</td>\n",
       "      <td>41.115504</td>\n",
       "    </tr>\n",
       "    <tr>\n",
       "      <th>19</th>\n",
       "      <td>192.168.0.179</td>\n",
       "      <td>GET</td>\n",
       "      <td>1323.865739</td>\n",
       "      <td>32.946088</td>\n",
       "    </tr>\n",
       "    <tr>\n",
       "      <th>20</th>\n",
       "      <td>23.93.54.224</td>\n",
       "      <td>POST</td>\n",
       "      <td>1195.358242</td>\n",
       "      <td>24.463732</td>\n",
       "    </tr>\n",
       "    <tr>\n",
       "      <th>21</th>\n",
       "      <td>192.168.0.46</td>\n",
       "      <td>PUT</td>\n",
       "      <td>983.256140</td>\n",
       "      <td>29.478782</td>\n",
       "    </tr>\n",
       "    <tr>\n",
       "      <th>22</th>\n",
       "      <td>23.93.54.224</td>\n",
       "      <td>POST</td>\n",
       "      <td>1243.476958</td>\n",
       "      <td>30.403902</td>\n",
       "    </tr>\n",
       "    <tr>\n",
       "      <th>23</th>\n",
       "      <td>192.168.0.252</td>\n",
       "      <td>PUT</td>\n",
       "      <td>921.348631</td>\n",
       "      <td>33.173483</td>\n",
       "    </tr>\n",
       "    <tr>\n",
       "      <th>24</th>\n",
       "      <td>192.168.0.193</td>\n",
       "      <td>PUT</td>\n",
       "      <td>206.669334</td>\n",
       "      <td>38.416699</td>\n",
       "    </tr>\n",
       "    <tr>\n",
       "      <th>25</th>\n",
       "      <td>192.168.0.163</td>\n",
       "      <td>PUT</td>\n",
       "      <td>677.539424</td>\n",
       "      <td>23.493465</td>\n",
       "    </tr>\n",
       "    <tr>\n",
       "      <th>26</th>\n",
       "      <td>80.217.181.175</td>\n",
       "      <td>GET</td>\n",
       "      <td>657.532860</td>\n",
       "      <td>31.732799</td>\n",
       "    </tr>\n",
       "    <tr>\n",
       "      <th>27</th>\n",
       "      <td>192.168.0.45</td>\n",
       "      <td>POST</td>\n",
       "      <td>1160.986333</td>\n",
       "      <td>22.645895</td>\n",
       "    </tr>\n",
       "    <tr>\n",
       "      <th>28</th>\n",
       "      <td>215.60.49.187</td>\n",
       "      <td>PUT</td>\n",
       "      <td>1302.508314</td>\n",
       "      <td>23.771170</td>\n",
       "    </tr>\n",
       "    <tr>\n",
       "      <th>29</th>\n",
       "      <td>80.217.181.175</td>\n",
       "      <td>GET</td>\n",
       "      <td>777.046858</td>\n",
       "      <td>25.997951</td>\n",
       "    </tr>\n",
       "    <tr>\n",
       "      <th>...</th>\n",
       "      <td>...</td>\n",
       "      <td>...</td>\n",
       "      <td>...</td>\n",
       "      <td>...</td>\n",
       "    </tr>\n",
       "    <tr>\n",
       "      <th>1170</th>\n",
       "      <td>192.168.0.90</td>\n",
       "      <td>GET</td>\n",
       "      <td>1247.673799</td>\n",
       "      <td>30.596791</td>\n",
       "    </tr>\n",
       "    <tr>\n",
       "      <th>1171</th>\n",
       "      <td>80.217.181.175</td>\n",
       "      <td>GET</td>\n",
       "      <td>726.656238</td>\n",
       "      <td>34.073017</td>\n",
       "    </tr>\n",
       "    <tr>\n",
       "      <th>1172</th>\n",
       "      <td>192.168.0.124</td>\n",
       "      <td>POST</td>\n",
       "      <td>1446.164565</td>\n",
       "      <td>37.009138</td>\n",
       "    </tr>\n",
       "    <tr>\n",
       "      <th>1173</th>\n",
       "      <td>215.60.49.187</td>\n",
       "      <td>POST</td>\n",
       "      <td>1676.334966</td>\n",
       "      <td>31.893814</td>\n",
       "    </tr>\n",
       "    <tr>\n",
       "      <th>1174</th>\n",
       "      <td>192.168.0.3</td>\n",
       "      <td>PUT</td>\n",
       "      <td>1165.981201</td>\n",
       "      <td>26.222610</td>\n",
       "    </tr>\n",
       "    <tr>\n",
       "      <th>1175</th>\n",
       "      <td>192.168.0.35</td>\n",
       "      <td>GET</td>\n",
       "      <td>201.089892</td>\n",
       "      <td>28.498647</td>\n",
       "    </tr>\n",
       "    <tr>\n",
       "      <th>1176</th>\n",
       "      <td>192.168.0.245</td>\n",
       "      <td>PUT</td>\n",
       "      <td>211.937550</td>\n",
       "      <td>34.274118</td>\n",
       "    </tr>\n",
       "    <tr>\n",
       "      <th>1177</th>\n",
       "      <td>23.93.54.224</td>\n",
       "      <td>PUT</td>\n",
       "      <td>1100.146744</td>\n",
       "      <td>31.535092</td>\n",
       "    </tr>\n",
       "    <tr>\n",
       "      <th>1178</th>\n",
       "      <td>192.168.0.244</td>\n",
       "      <td>POST</td>\n",
       "      <td>1159.776412</td>\n",
       "      <td>38.054423</td>\n",
       "    </tr>\n",
       "    <tr>\n",
       "      <th>1179</th>\n",
       "      <td>102.132.208.215</td>\n",
       "      <td>PUT</td>\n",
       "      <td>220.999839</td>\n",
       "      <td>24.429796</td>\n",
       "    </tr>\n",
       "    <tr>\n",
       "      <th>1180</th>\n",
       "      <td>158.245.89.80</td>\n",
       "      <td>PUT</td>\n",
       "      <td>207.495064</td>\n",
       "      <td>20.348064</td>\n",
       "    </tr>\n",
       "    <tr>\n",
       "      <th>1181</th>\n",
       "      <td>192.168.0.149</td>\n",
       "      <td>GET</td>\n",
       "      <td>1271.697597</td>\n",
       "      <td>39.263784</td>\n",
       "    </tr>\n",
       "    <tr>\n",
       "      <th>1182</th>\n",
       "      <td>215.60.49.187</td>\n",
       "      <td>PUT</td>\n",
       "      <td>1009.347948</td>\n",
       "      <td>27.337379</td>\n",
       "    </tr>\n",
       "    <tr>\n",
       "      <th>1183</th>\n",
       "      <td>192.168.0.52</td>\n",
       "      <td>POST</td>\n",
       "      <td>1493.776615</td>\n",
       "      <td>34.425881</td>\n",
       "    </tr>\n",
       "    <tr>\n",
       "      <th>1184</th>\n",
       "      <td>192.168.0.199</td>\n",
       "      <td>GET</td>\n",
       "      <td>973.849171</td>\n",
       "      <td>31.516065</td>\n",
       "    </tr>\n",
       "    <tr>\n",
       "      <th>1185</th>\n",
       "      <td>192.168.0.32</td>\n",
       "      <td>GET</td>\n",
       "      <td>597.004598</td>\n",
       "      <td>25.668002</td>\n",
       "    </tr>\n",
       "    <tr>\n",
       "      <th>1186</th>\n",
       "      <td>215.60.49.187</td>\n",
       "      <td>POST</td>\n",
       "      <td>1434.205669</td>\n",
       "      <td>28.648065</td>\n",
       "    </tr>\n",
       "    <tr>\n",
       "      <th>1187</th>\n",
       "      <td>215.60.49.187</td>\n",
       "      <td>GET</td>\n",
       "      <td>1345.151705</td>\n",
       "      <td>22.053958</td>\n",
       "    </tr>\n",
       "    <tr>\n",
       "      <th>1188</th>\n",
       "      <td>162.16.138.88</td>\n",
       "      <td>PUT</td>\n",
       "      <td>156.909895</td>\n",
       "      <td>34.848323</td>\n",
       "    </tr>\n",
       "    <tr>\n",
       "      <th>1189</th>\n",
       "      <td>192.168.0.247</td>\n",
       "      <td>POST</td>\n",
       "      <td>865.037938</td>\n",
       "      <td>32.975227</td>\n",
       "    </tr>\n",
       "    <tr>\n",
       "      <th>1190</th>\n",
       "      <td>192.168.0.11</td>\n",
       "      <td>GET</td>\n",
       "      <td>1152.879292</td>\n",
       "      <td>30.924706</td>\n",
       "    </tr>\n",
       "    <tr>\n",
       "      <th>1191</th>\n",
       "      <td>192.168.0.7</td>\n",
       "      <td>GET</td>\n",
       "      <td>741.202128</td>\n",
       "      <td>34.229157</td>\n",
       "    </tr>\n",
       "    <tr>\n",
       "      <th>1192</th>\n",
       "      <td>192.168.0.143</td>\n",
       "      <td>POST</td>\n",
       "      <td>163.108505</td>\n",
       "      <td>27.415846</td>\n",
       "    </tr>\n",
       "    <tr>\n",
       "      <th>1193</th>\n",
       "      <td>192.168.0.247</td>\n",
       "      <td>POST</td>\n",
       "      <td>822.803380</td>\n",
       "      <td>26.120601</td>\n",
       "    </tr>\n",
       "    <tr>\n",
       "      <th>1194</th>\n",
       "      <td>192.168.0.88</td>\n",
       "      <td>POST</td>\n",
       "      <td>234.924438</td>\n",
       "      <td>29.698664</td>\n",
       "    </tr>\n",
       "    <tr>\n",
       "      <th>1195</th>\n",
       "      <td>192.168.0.52</td>\n",
       "      <td>GET</td>\n",
       "      <td>214.457586</td>\n",
       "      <td>29.654625</td>\n",
       "    </tr>\n",
       "    <tr>\n",
       "      <th>1196</th>\n",
       "      <td>192.168.0.35</td>\n",
       "      <td>POST</td>\n",
       "      <td>1571.693268</td>\n",
       "      <td>25.605027</td>\n",
       "    </tr>\n",
       "    <tr>\n",
       "      <th>1197</th>\n",
       "      <td>192.168.0.32</td>\n",
       "      <td>PUT</td>\n",
       "      <td>1525.050521</td>\n",
       "      <td>28.926086</td>\n",
       "    </tr>\n",
       "    <tr>\n",
       "      <th>1198</th>\n",
       "      <td>192.168.0.248</td>\n",
       "      <td>PUT</td>\n",
       "      <td>1466.775167</td>\n",
       "      <td>27.183005</td>\n",
       "    </tr>\n",
       "    <tr>\n",
       "      <th>1199</th>\n",
       "      <td>215.60.49.187</td>\n",
       "      <td>POST</td>\n",
       "      <td>1370.687386</td>\n",
       "      <td>21.180642</td>\n",
       "    </tr>\n",
       "  </tbody>\n",
       "</table>\n",
       "<p>1200 rows × 4 columns</p>\n",
       "</div>"
      ],
      "text/plain": [
       "                   IP  Verb  Processing Time     Memory\n",
       "0      22.157.246.138  POST       267.350361  24.810710\n",
       "1        23.93.54.224   GET      1224.039605  30.189988\n",
       "2      80.217.181.175  POST       923.793208  21.913377\n",
       "3     102.132.208.215   GET       192.397594  28.280122\n",
       "4       192.168.0.243   PUT      1144.946620  36.602936\n",
       "5       192.168.0.204   PUT      1125.075126  23.781566\n",
       "6       192.168.0.228   PUT      1039.575393  33.590053\n",
       "7       192.168.0.202   GET       809.161312  29.428942\n",
       "8       192.168.0.135   PUT       761.188958  32.882310\n",
       "9       192.168.0.214   PUT       749.462867  18.887157\n",
       "10       192.168.0.92   GET       201.643908  32.380017\n",
       "11      192.168.0.191   PUT       955.343707  24.463487\n",
       "12      192.168.0.154   PUT      1127.853497  26.568463\n",
       "13      192.168.0.143  POST       769.216610  24.704773\n",
       "14      192.168.0.109  POST      1787.414328  27.647682\n",
       "15       192.168.0.71   GET      1347.863855  33.315192\n",
       "16      192.168.0.174   GET       178.048977  34.587796\n",
       "17      192.168.0.208   GET       174.404476  24.994123\n",
       "18     80.217.181.175   GET       665.744434  41.115504\n",
       "19      192.168.0.179   GET      1323.865739  32.946088\n",
       "20       23.93.54.224  POST      1195.358242  24.463732\n",
       "21       192.168.0.46   PUT       983.256140  29.478782\n",
       "22       23.93.54.224  POST      1243.476958  30.403902\n",
       "23      192.168.0.252   PUT       921.348631  33.173483\n",
       "24      192.168.0.193   PUT       206.669334  38.416699\n",
       "25      192.168.0.163   PUT       677.539424  23.493465\n",
       "26     80.217.181.175   GET       657.532860  31.732799\n",
       "27       192.168.0.45  POST      1160.986333  22.645895\n",
       "28      215.60.49.187   PUT      1302.508314  23.771170\n",
       "29     80.217.181.175   GET       777.046858  25.997951\n",
       "...               ...   ...              ...        ...\n",
       "1170     192.168.0.90   GET      1247.673799  30.596791\n",
       "1171   80.217.181.175   GET       726.656238  34.073017\n",
       "1172    192.168.0.124  POST      1446.164565  37.009138\n",
       "1173    215.60.49.187  POST      1676.334966  31.893814\n",
       "1174      192.168.0.3   PUT      1165.981201  26.222610\n",
       "1175     192.168.0.35   GET       201.089892  28.498647\n",
       "1176    192.168.0.245   PUT       211.937550  34.274118\n",
       "1177     23.93.54.224   PUT      1100.146744  31.535092\n",
       "1178    192.168.0.244  POST      1159.776412  38.054423\n",
       "1179  102.132.208.215   PUT       220.999839  24.429796\n",
       "1180    158.245.89.80   PUT       207.495064  20.348064\n",
       "1181    192.168.0.149   GET      1271.697597  39.263784\n",
       "1182    215.60.49.187   PUT      1009.347948  27.337379\n",
       "1183     192.168.0.52  POST      1493.776615  34.425881\n",
       "1184    192.168.0.199   GET       973.849171  31.516065\n",
       "1185     192.168.0.32   GET       597.004598  25.668002\n",
       "1186    215.60.49.187  POST      1434.205669  28.648065\n",
       "1187    215.60.49.187   GET      1345.151705  22.053958\n",
       "1188    162.16.138.88   PUT       156.909895  34.848323\n",
       "1189    192.168.0.247  POST       865.037938  32.975227\n",
       "1190     192.168.0.11   GET      1152.879292  30.924706\n",
       "1191      192.168.0.7   GET       741.202128  34.229157\n",
       "1192    192.168.0.143  POST       163.108505  27.415846\n",
       "1193    192.168.0.247  POST       822.803380  26.120601\n",
       "1194     192.168.0.88  POST       234.924438  29.698664\n",
       "1195     192.168.0.52   GET       214.457586  29.654625\n",
       "1196     192.168.0.35  POST      1571.693268  25.605027\n",
       "1197     192.168.0.32   PUT      1525.050521  28.926086\n",
       "1198    192.168.0.248   PUT      1466.775167  27.183005\n",
       "1199    215.60.49.187  POST      1370.687386  21.180642\n",
       "\n",
       "[1200 rows x 4 columns]"
      ]
     },
     "execution_count": 1,
     "metadata": {},
     "output_type": "execute_result"
    }
   ],
   "source": [
    "import pandas as pd\n",
    "import numpy as np\n",
    "import random\n",
    "\n",
    "requests = pd.DataFrame(columns=['IP', 'Verb', 'Processing Time', 'Memory'])\n",
    "\n",
    "# Settings\n",
    "SPAM_IPS = 5\n",
    "EXTERNAL_IPS = 100\n",
    "SAMPLE_DATA_LENGTH = 1200\n",
    "\n",
    "# *** Comment about np.random.choice (what it gives as output, what the parameters are)\n",
    "requests['Verb'] = np.random.choice(['GET', 'POST', 'PUT'], SAMPLE_DATA_LENGTH)\n",
    "requests['Processing Time'] = np.random.normal(200, scale=20, size=SAMPLE_DATA_LENGTH)\n",
    "\n",
    "# *** What does this do to the Processing Time for all the rows that have Verb==POST?\n",
    "requests.loc[requests['Verb'] == 'POST', 'Processing Time'] *= 1.2\n",
    "requests['Memory'] = np.random.normal(30, scale=5, size=SAMPLE_DATA_LENGTH)\n",
    "\n",
    "# *** Comment about how IP addresses are built up (fill in the ???)\n",
    "# np.random.randint returns an array of shape ???\n",
    "# these are cast to strings by .astype(str)\n",
    "octet_array = np.random.randint(1, 256, size=(EXTERNAL_IPS, 4)).astype(str)\n",
    "\n",
    "# map then applies '.'.join to each row\n",
    "external_ips = list(map('.'.join, octet_array))\n",
    "\n",
    "# Here we create an exponential distribution - several \"spam\" IPs are made much more frequent than other IPs\n",
    "external_ip_distribution = np.random.exponential(scale=1, size=EXTERNAL_IPS)\n",
    "external_ip_distribution[:SPAM_IPS] *= 100\n",
    "external_ip_distribution /= sum(external_ip_distribution)\n",
    "\n",
    "# *** What does the p term do?\n",
    "requests['IP'] = np.random.choice(external_ips, SAMPLE_DATA_LENGTH, p=external_ip_distribution)\n",
    "\n",
    "# Create a function for working out an IP range\n",
    "# (i.e. turning '192.123.3.1' into '192', '192.123' or '192.123.3' if the first argument is 1, 2 or 3 respectively)\n",
    "ip_to_range = lambda octets, address: '.'.join(address.split('.')[:octets])\n",
    "\n",
    "# We pluck 3 IP addresses, and use them to choose 3 ranges - IPs in these ranges then have their processing times scaled up\n",
    "adjusted_ranges = {ip_to_range(i + 1, s): np.random.random() * 10 for i, s in enumerate(requests['IP'].sample(3))}\n",
    "for range_prefix, factor in adjusted_ranges.items():\n",
    "    requests.loc[requests['IP'].str.startswith(range_prefix), 'Processing Time'] *= factor\n",
    "\n",
    "# We pick a two-thirds (how?) of IPs to be local IPs and overwrite their addresses with IPs in the 192.168.0.xxx range\n",
    "local_ips = np.random.choice([True, True, False], SAMPLE_DATA_LENGTH)\n",
    "local_ip_count = requests.loc[local_ips, 'IP'].count()\n",
    "requests.loc[local_ips, 'IP'] = list(map(lambda s: '192.168.0.%d' % s, np.random.randint(1, 256, size=local_ip_count)))\n",
    "\n",
    "requests"
   ]
  },
  {
   "cell_type": "markdown",
   "metadata": {},
   "source": [
    "## Viewing for our use"
   ]
  },
  {
   "cell_type": "code",
   "execution_count": 2,
   "metadata": {},
   "outputs": [
    {
     "data": {
      "text/plain": [
       "<matplotlib.axes._subplots.AxesSubplot at 0x7f2d24a5bf28>"
      ]
     },
     "execution_count": 2,
     "metadata": {},
     "output_type": "execute_result"
    },
    {
     "data": {
      "image/png": "[encoded data removed]",
      "text/plain": [
       "<matplotlib.figure.Figure at 0x7f2d24e9ab00>"
      ]
     },
     "metadata": {
      "needs_background": "light"
     },
     "output_type": "display_data"
    }
   ],
   "source": [
    "%matplotlib inline\n",
    "requests.groupby('IP')['Verb'].count().sort_values(ascending=False).plot()"
   ]
  },
  {
   "cell_type": "markdown",
   "metadata": {},
   "source": [
    "We can see from this that there are a few IPs hitting our service over 12 times, and at least 1 over 100 (may be slightly different for your randomized data)"
   ]
  },
  {
   "cell_type": "markdown",
   "metadata": {},
   "source": [
    "This sounds a lot like some form of spamming going on, or possibly exploit scanning of some sort. The more general red flag is that the profile of the other traffic, presumably mostly normal users, is very different (under 10 requests per address)."
   ]
  },
  {
   "cell_type": "code",
   "execution_count": 3,
   "metadata": {},
   "outputs": [
    {
     "data": {
      "text/plain": [
       "Verb\n",
       "GET     AxesSubplot(0.125,0.125;0.775x0.755)\n",
       "POST    AxesSubplot(0.125,0.125;0.775x0.755)\n",
       "PUT     AxesSubplot(0.125,0.125;0.775x0.755)\n",
       "dtype: object"
      ]
     },
     "execution_count": 3,
     "metadata": {},
     "output_type": "execute_result"
    },
    {
     "data": {
      "image/png": "[encoded data removed]",
      "text/plain": [
       "<matplotlib.figure.Figure at 0x7f2d24a5be80>"
      ]
     },
     "metadata": {
      "needs_background": "light"
     },
     "output_type": "display_data"
    },
    {
     "data": {
      "image/png": "[encoded data removed]",
      "text/plain": [
       "<matplotlib.figure.Figure at 0x7f2d1f115ef0>"
      ]
     },
     "metadata": {
      "needs_background": "light"
     },
     "output_type": "display_data"
    },
    {
     "data": {
      "image/png": "[encoded data removed]",
      "text/plain": [
       "<matplotlib.figure.Figure at 0x7f2d1f099860>"
      ]
     },
     "metadata": {
      "needs_background": "light"
     },
     "output_type": "display_data"
    }
   ],
   "source": [
    "requests.groupby('Verb').plot()"
   ]
  },
  {
   "cell_type": "markdown",
   "metadata": {},
   "source": [
    "Again, these are a series of quick and dirty plots to give us some basic information. We can see that the processing time for the POST verb is somewhat higher. This may or may not be unexpected, depending on our service."
   ]
  },
  {
   "cell_type": "markdown",
   "metadata": {},
   "source": [
    "## First Flush"
   ]
  },
  {
   "cell_type": "markdown",
   "metadata": {},
   "source": [
    "In previous sessions, we learned how to tidy up a plot somewhat. This is an example for the first one:"
   ]
  },
  {
   "cell_type": "code",
   "execution_count": 4,
   "metadata": {},
   "outputs": [
    {
     "data": {
      "text/plain": [
       "<matplotlib.axes._subplots.AxesSubplot at 0x7f2d1f0452b0>"
      ]
     },
     "execution_count": 4,
     "metadata": {},
     "output_type": "execute_result"
    },
    {
     "data": {
      "image/png": "[encoded data removed]",
      "text/plain": [
       "<matplotlib.figure.Figure at 0x7f2d1f070748>"
      ]
     },
     "metadata": {
      "needs_background": "light"
     },
     "output_type": "display_data"
    }
   ],
   "source": [
    "requests_per_ip = requests.groupby('IP')['Verb'].count()\n",
    "\n",
    "ax = requests_per_ip.sort_values(ascending=False).plot()\n",
    "ax.set_title('Requests per IP Address')\n",
    "ax.set_ylabel('# of Requests')\n",
    "ax.set_xlabel('IP Address')\n",
    "ax"
   ]
  },
  {
   "cell_type": "markdown",
   "metadata": {},
   "source": [
    "Now, that's great, but it doesn't really tell any given story fully... What could we possibly want to know from the plotted data? For example:\n",
    "* how many IP addresses have vastly more requests than others\n",
    "* what fraction of our users are only touching the service once or twice\n",
    "* what the mean or modal number of hits is for a user"
   ]
  },
  {
   "cell_type": "markdown",
   "metadata": {},
   "source": [
    "If we saw that plot in an article, would we feel satisfied we understood the answers to any of those? Maybe not..."
   ]
  },
  {
   "cell_type": "markdown",
   "metadata": {},
   "source": [
    "## A recipe for clear communication"
   ]
  },
  {
   "cell_type": "markdown",
   "metadata": {},
   "source": [
    "Science communication is not just a skillset, it's an expert research area in its own right. However, it's important precisely because research is only as useful as its reporting allows, so _all_ scientists need to be aware of key scientific communication concepts. Not only is it critical to impact, but good scientific communication increases citation rates and professional profile.\n",
    "\n",
    "That means reader-friendly reporting has to be achievable without requiring lots of time or graphics talents. To help researchers get the basics down, there are a number of checklist-based approaches to making plots useful.\n",
    "\n",
    "One is from [Boris Gorelik](https://gorelik.net/), a data visualization expert at Automattic, the company behind Wordpress. It is the a series of steps called [ABCD](https://github.com/bgbg/datascience_dataviz_workshop/blob/8c01f70bb4ce42607718c6aa4a32458647649b24/demos/show-relationship/show_relationship.ipynb):\n",
    "* Audience\n",
    "  * Who is this specific plot targeted at? What do they want to know? What understanding do you know they have?\n",
    "* Build the graph\n",
    "  * Code up the first version for that audience\n",
    "* Conclusion\n",
    "  * Why are you making this graph? How can you ensure that is clear?\n",
    "* Delete\n",
    "  * What is redundant? How much [non-data-ink](https://infovis-wiki.net/wiki/Data-Ink_Ratio) can you remove? (see below)\n",
    "\n",
    "Think through each one carefully in turn to decide how you should approach it."
   ]
  },
  {
   "cell_type": "markdown",
   "metadata": {},
   "source": [
    "### Who?"
   ]
  },
  {
   "cell_type": "markdown",
   "metadata": {},
   "source": [
    "Suppose we are seeking to demonstrate usage patterns of real users - in fact, this works either for a Business Intelligence presentation in industry, or a usage patterns survey in an academic journal.\n",
    "\n",
    "Our target audience is:\n",
    "* subject-matter experts\n",
    "* who may not be technical (certainly in networks)\n",
    "* who have virtually no time to spend looking at this plot\n",
    "\n",
    "They want to know:\n",
    "* how many users heavily use the system\n",
    "* how many users lightly use the system\n",
    "\n",
    "What they don't care about:\n",
    "* anything more than headline detail on spammers"
   ]
  },
  {
   "cell_type": "markdown",
   "metadata": {},
   "source": [
    "### How?"
   ]
  },
  {
   "cell_type": "markdown",
   "metadata": {},
   "source": [
    "First off, for this audience, we want don't care _that_ much about spammers. How can we turn the data from being dominated by a few users to clearly showing general usage patterns?"
   ]
  },
  {
   "cell_type": "markdown",
   "metadata": {},
   "source": [
    "We could eliminate outliers - but then we have to think carefully about how that changes the message (for example, our highest usage real users suddenly look like they dominate our resource consumption). Many of these frequency metrics follow a normal distribution or otherwise exponential-based patterns - perhaps we should try a log graph?"
   ]
  },
  {
   "cell_type": "code",
   "execution_count": 5,
   "metadata": {},
   "outputs": [
    {
     "data": {
      "text/plain": [
       "<matplotlib.axes._subplots.AxesSubplot at 0x7f2d1f0585c0>"
      ]
     },
     "execution_count": 5,
     "metadata": {},
     "output_type": "execute_result"
    },
    {
     "data": {
      "image/png": "[encoded data removed]",
      "text/plain": [
       "<matplotlib.figure.Figure at 0x7f2d1f070a90>"
      ]
     },
     "metadata": {
      "needs_background": "light"
     },
     "output_type": "display_data"
    }
   ],
   "source": [
    "ax = requests_per_ip.sort_values(ascending=False).plot(logy=True)\n",
    "ax.set_title('Requests per IP Address')\n",
    "ax.set_ylabel('# of Requests')\n",
    "ax.set_xlabel('IP Address')\n",
    "ax"
   ]
  },
  {
   "cell_type": "markdown",
   "metadata": {},
   "source": [
    "That's better. We can now see clearly the variation between the bulk of users. About half use the service at most 3 times, virtually all less than 10. However, we're having to guess lengths of segments by eye."
   ]
  },
  {
   "cell_type": "markdown",
   "metadata": {},
   "source": [
    "If only there was a common way of showing frequencies of values..."
   ]
  },
  {
   "cell_type": "code",
   "execution_count": 6,
   "metadata": {},
   "outputs": [
    {
     "data": {
      "text/plain": [
       "1      67\n",
       "2      48\n",
       "3      72\n",
       "4      55\n",
       "5      15\n",
       "6      20\n",
       "7       9\n",
       "8       1\n",
       "9       1\n",
       "11      1\n",
       "12      1\n",
       "21      1\n",
       "74      1\n",
       "102     1\n",
       "106     1\n",
       "Name: Verb, dtype: int64"
      ]
     },
     "execution_count": 6,
     "metadata": {},
     "output_type": "execute_result"
    }
   ],
   "source": [
    "frequencies_of_request_count = requests_per_ip.value_counts().sort_index()\n",
    "# Number of requests | How many IP addresses made that number of requests\n",
    "# e.g. 1      62\n",
    "#     means 62 IPs made only 1 request\n",
    "frequencies_of_request_count"
   ]
  },
  {
   "cell_type": "code",
   "execution_count": 7,
   "metadata": {},
   "outputs": [
    {
     "data": {
      "text/plain": [
       "Text(0.5,0,'Total Requests from an IP')"
      ]
     },
     "execution_count": 7,
     "metadata": {},
     "output_type": "execute_result"
    },
    {
     "data": {
      "image/png": "[encoded data removed]",
      "text/plain": [
       "<matplotlib.figure.Figure at 0x7f2d1ef2cd30>"
      ]
     },
     "metadata": {
      "needs_background": "light"
     },
     "output_type": "display_data"
    }
   ],
   "source": [
    "ax = frequencies_of_request_count.plot.bar()\n",
    "ax.set_title(\"How many IPs hit our service a given number of times?\")\n",
    "ax.set_ylabel(\"Number of IPs\")\n",
    "ax.set_xlabel(\"Total Requests from an IP\")"
   ]
  },
  {
   "cell_type": "markdown",
   "metadata": {},
   "source": [
    "That shows our low-frequency data fairly clearly, but the linear scale at the bottom suddenly jumping about seems counterintuitive and confusing. There are also a lot of Perhaps groupings would be more helpful."
   ]
  },
  {
   "cell_type": "code",
   "execution_count": 8,
   "metadata": {},
   "outputs": [
    {
     "data": {
      "text/html": [
       "<div>\n",
       "<style scoped>\n",
       "    .dataframe tbody tr th:only-of-type {\n",
       "        vertical-align: middle;\n",
       "    }\n",
       "\n",
       "    .dataframe tbody tr th {\n",
       "        vertical-align: top;\n",
       "    }\n",
       "\n",
       "    .dataframe thead th {\n",
       "        text-align: right;\n",
       "    }\n",
       "</style>\n",
       "<table border=\"1\" class=\"dataframe\">\n",
       "  <thead>\n",
       "    <tr style=\"text-align: right;\">\n",
       "      <th></th>\n",
       "      <th>Frequency</th>\n",
       "    </tr>\n",
       "  </thead>\n",
       "  <tbody>\n",
       "    <tr>\n",
       "      <th>1</th>\n",
       "      <td>115</td>\n",
       "    </tr>\n",
       "    <tr>\n",
       "      <th>2</th>\n",
       "      <td>120</td>\n",
       "    </tr>\n",
       "    <tr>\n",
       "      <th>3-5</th>\n",
       "      <td>162</td>\n",
       "    </tr>\n",
       "    <tr>\n",
       "      <th>6-8</th>\n",
       "      <td>31</td>\n",
       "    </tr>\n",
       "    <tr>\n",
       "      <th>9-11</th>\n",
       "      <td>3</td>\n",
       "    </tr>\n",
       "    <tr>\n",
       "      <th>12 or more</th>\n",
       "      <td>5</td>\n",
       "    </tr>\n",
       "  </tbody>\n",
       "</table>\n",
       "</div>"
      ],
      "text/plain": [
       "           Frequency\n",
       "1                115\n",
       "2                120\n",
       "3-5              162\n",
       "6-8               31\n",
       "9-11               3\n",
       "12 or more         5"
      ]
     },
     "execution_count": 8,
     "metadata": {},
     "output_type": "execute_result"
    }
   ],
   "source": [
    "# Set up our ranges\n",
    "request_counts = [(\"1\", (1, 2)), (\"2\", (2, 3)), (\"3-5\", (3, 6)), (\"6-8\", (6, 9)), (\"9-11\", (9, 12)), (\"12 or more\", (12, None))]\n",
    "\n",
    "# We could do this manually... this helps us understand the data\n",
    "request_count_df = pd.DataFrame(columns=(\"Frequency\",), index=[r[0] for r in request_counts])\n",
    "\n",
    "for label, (lower, upper) in request_counts:\n",
    "    request_count_df[\"Frequency\"][label] = frequencies_of_request_count.loc[lower:upper].sum()\n",
    "\n",
    "request_count_df"
   ]
  },
  {
   "cell_type": "code",
   "execution_count": 9,
   "metadata": {},
   "outputs": [
    {
     "data": {
      "text/plain": [
       "<matplotlib.axes._subplots.AxesSubplot at 0x7f2d1ef2c8d0>"
      ]
     },
     "execution_count": 9,
     "metadata": {},
     "output_type": "execute_result"
    },
    {
     "data": {
      "image/png": "[encoded data removed]",
      "text/plain": [
       "<matplotlib.figure.Figure at 0x7f2d1eea8710>"
      ]
     },
     "metadata": {
      "needs_background": "light"
     },
     "output_type": "display_data"
    }
   ],
   "source": [
    "# But we can also use the histogram plot\n",
    "\n",
    "# Cap the upper end so we don't extend x out to the 100s\n",
    "capped_requests_per_ip = requests_per_ip.copy()\n",
    "capped_requests_per_ip[capped_requests_per_ip > 10] = 10\n",
    "ax = capped_requests_per_ip.plot.hist(bins=range(1, 12), rwidth=0.95)\n",
    "ax"
   ]
  },
  {
   "cell_type": "markdown",
   "metadata": {},
   "source": [
    "This is more approachable for a nontechnical user, and shows more clearly the spread of how regular users use the system. But we can tidy this up now."
   ]
  },
  {
   "cell_type": "code",
   "execution_count": 10,
   "metadata": {
    "scrolled": true
   },
   "outputs": [
    {
     "data": {
      "text/plain": [
       "<matplotlib.axes._subplots.AxesSubplot at 0x7f2d1ed26978>"
      ]
     },
     "execution_count": 10,
     "metadata": {},
     "output_type": "execute_result"
    },
    {
     "data": {
      "image/png": "[encoded data removed]",
      "text/plain": [
       "<matplotlib.figure.Figure at 0x7f2d1f031978>"
      ]
     },
     "metadata": {
      "needs_background": "light"
     },
     "output_type": "display_data"
    }
   ],
   "source": [
    "bins = range(1, 12)\n",
    "ax = capped_requests_per_ip.plot.hist(bins=bins, rwidth=0.95)\n",
    "bar_width = 1\n",
    "ax.set_xticks(np.array(bins) + bar_width / 2)\n",
    "ax.set_xticklabels((1, 2, 3, 4, 5, 6, 7, 8, 9, \"10+\"))\n",
    "\n",
    "ax.set_title(\"How many IPs hit our service a given number of times?\")\n",
    "ax.set_ylabel(\"Number of IPs\")\n",
    "ax.set_xlabel(\"Total Requests from an IP\")\n",
    "ax"
   ]
  },
  {
   "cell_type": "markdown",
   "metadata": {},
   "source": [
    "### Why?"
   ]
  },
  {
   "cell_type": "markdown",
   "metadata": {},
   "source": [
    "What are we trying to show here? Depending on your context, you may need to take care not to prejudice the reader toward your conclusion - if you have the freedom to do so, placing the conclusion in the title (e.g. \"Many users do not return\") can help a reader immediately understand the point you wish to make with the plot. In academic publishing though, it is better to go for a clear, unbiased title - a question can help indicate what you are seeking to demonstrate.\n",
    "\n",
    "If your audience is likely to be speed reading, this is especially helpful."
   ]
  },
  {
   "cell_type": "markdown",
   "metadata": {},
   "source": [
    "We also talk about IPs, while we seek to understand users. Again, audience is important: \"Total Visits from a User (by IP)\" might be preferred in industry - in academia, it may be better to caption the x-axis as \"Total Requests from an IP\" and explain it as a proxy for users in the text."
   ]
  },
  {
   "cell_type": "markdown",
   "metadata": {},
   "source": [
    "We can highlight the features of the graph that let readers draw their own conclusions. Again, be careful if writing for academia not to do so in a way that artificially prejudices them to your interpretation."
   ]
  },
  {
   "cell_type": "code",
   "execution_count": 11,
   "metadata": {
    "scrolled": true
   },
   "outputs": [
    {
     "data": {
      "text/plain": [
       "<matplotlib.axes._subplots.AxesSubplot at 0x7f2d1ed20ac8>"
      ]
     },
     "execution_count": 11,
     "metadata": {},
     "output_type": "execute_result"
    },
    {
     "data": {
      "image/png": "[encoded data removed]",
      "text/plain": [
       "<matplotlib.figure.Figure at 0x7f2d1ed33e48>"
      ]
     },
     "metadata": {
      "needs_background": "light"
     },
     "output_type": "display_data"
    }
   ],
   "source": [
    "import matplotlib.pyplot as plt\n",
    "\n",
    "bins = range(1, 12)\n",
    "\n",
    "# Switch to using matplotlib directly, to get more control\n",
    "ax = plt.axes()\n",
    "N, bins, patches = plt.hist(capped_requests_per_ip, bins=bins, rwidth=0.95)\n",
    "patches[0].set_facecolor('red')\n",
    "patches[0].set_hatch('//')\n",
    "# We can highlight the final bar to draw the reader's attention to the fact it is different\n",
    "patches[-1].set_facecolor('green')\n",
    "\n",
    "bar_width = 1\n",
    "ax.set_xticks(np.array(bins) + bar_width / 2)\n",
    "ax.set_xticklabels((1, 2, 3, 4, 5, 6, 7, 8, 9, \"10+\"))\n",
    "\n",
    "ax.set_title(\"How many IPs hit our service a given number of times?\")\n",
    "ax.set_ylabel(\"Number of IPs\")\n",
    "ax.set_xlabel(\"Total Requests from an IP (single visits in red-hatch)\")\n",
    "ax"
   ]
  },
  {
   "cell_type": "markdown",
   "metadata": {},
   "source": [
    "Now to help make our conclusions clear, we can highlight the key text and draw attention to our underlying question."
   ]
  },
  {
   "cell_type": "code",
   "execution_count": 12,
   "metadata": {},
   "outputs": [
    {
     "data": {
      "text/plain": [
       "<matplotlib.axes._subplots.AxesSubplot at 0x7f2d1ec410b8>"
      ]
     },
     "execution_count": 12,
     "metadata": {},
     "output_type": "execute_result"
    },
    {
     "data": {
      "image/png": "[encoded data removed]",
      "text/plain": [
       "<matplotlib.figure.Figure at 0x7f2d1ec2b128>"
      ]
     },
     "metadata": {
      "needs_background": "light"
     },
     "output_type": "display_data"
    }
   ],
   "source": [
    "import matplotlib.pyplot as plt\n",
    "\n",
    "bins = range(1, 12)\n",
    "\n",
    "# Switch to using matplotlib directly, to get more control\n",
    "ax = plt.axes()\n",
    "N, bins, patches = plt.hist(capped_requests_per_ip, bins=bins, rwidth=0.95)\n",
    "patches[0].set_facecolor('red')\n",
    "patches[0].set_hatch('//')\n",
    "# We can highlight the final bar to draw the reader's attention to the fact it is different\n",
    "patches[-1].set_facecolor('green')\n",
    "\n",
    "bar_width = 1\n",
    "ax.set_xticks(np.array(bins) + bar_width / 2)\n",
    "ax.set_xticklabels((1, 2, 3, 4, 5, 6, 7, 8, 9, \"10+\"))\n",
    "\n",
    "ax.set_title(\"How many user IPs appear\\n a given number of times?\")\n",
    "ax.title.set_fontsize(20)\n",
    "ax.set_ylabel(\"Number of IPs\")\n",
    "ax.set_xlabel(\"Total Requests from an IP (single visits in red-hatch)\")\n",
    "ax"
   ]
  },
  {
   "cell_type": "markdown",
   "metadata": {},
   "source": [
    "If our primary conclusion was that users drop off gradually as we move up the request count, we may be more interested in a regression to show the gradual curve:"
   ]
  },
  {
   "cell_type": "code",
   "execution_count": 13,
   "metadata": {},
   "outputs": [
    {
     "name": "stdout",
     "output_type": "stream",
     "text": [
      "[ -2.65175802  99.39868124  -0.24289733]\n"
     ]
    },
    {
     "data": {
      "text/plain": [
       "<matplotlib.axes._subplots.AxesSubplot at 0x7f2d19b70da0>"
      ]
     },
     "execution_count": 13,
     "metadata": {},
     "output_type": "execute_result"
    },
    {
     "data": {
      "image/png": "[encoded data removed]",
      "text/plain": [
       "<matplotlib.figure.Figure at 0x7f2d1ebbe828>"
      ]
     },
     "metadata": {
      "needs_background": "light"
     },
     "output_type": "display_data"
    }
   ],
   "source": [
    "import scipy.optimize\n",
    "import matplotlib.pyplot as plt\n",
    "\n",
    "bins = range(1, 12)\n",
    "\n",
    "# Switch to using matplotlib directly, to get more control\n",
    "ax = plt.axes()\n",
    "N, bins, patches = plt.hist(capped_requests_per_ip, bins=bins, rwidth=0.95)\n",
    "# We can highlight the final bar to draw the reader's attention to the fact it is different\n",
    "patches[-1].set_facecolor('green')\n",
    "\n",
    "bar_width = 1\n",
    "ax.set_xticks(np.array(bins) + bar_width / 2)\n",
    "ax.set_xticklabels((1, 2, 3, 4, 5, 6, 7, 8, 9, \"10+\"))\n",
    "\n",
    "# Get the actual numbers used in the histogram\n",
    "frequencies_of_request_count = requests_per_ip.value_counts().sort_index()\n",
    "\n",
    "# We define a curve function with several parameters we wish to fit\n",
    "def fitted_exp(x, a, b, c):\n",
    "    return a + b * np.exp(c * x)\n",
    "\n",
    "# Scipy then fits it for us\n",
    "params, cov = scipy.optimize.curve_fit(\n",
    "    fitted_exp,\n",
    "    frequencies_of_request_count.index,\n",
    "    frequencies_of_request_count.values,\n",
    "    p0=(-5, 100, -1)\n",
    ")\n",
    "\n",
    "print(params)\n",
    "\n",
    "# Plot our curve using these parameters\n",
    "exp_x = np.linspace(1, 10, 100)\n",
    "exp_curve = fitted_exp(exp_x, *params)\n",
    "\n",
    "ax.set_title(\"How often does each user IP\\nuse our service?\")\n",
    "ax.title.set_fontsize(20)\n",
    "ax.set_ylabel(\"Number of IPs\")\n",
    "ax.set_xlabel(\"Total Requests from an IP (orange curve: fitted $a e^{b x}+c$)\")\n",
    "plt.plot(exp_x, exp_curve, linewidth=3, color='orange')\n",
    "ax"
   ]
  },
  {
   "cell_type": "markdown",
   "metadata": {},
   "source": [
    "### What not?"
   ]
  },
  {
   "cell_type": "markdown",
   "metadata": {},
   "source": [
    "Perhaps the least intuitive step, but one of the most effective - removing anything extraneous from the plot. This means users are not distracted from the relevant results themselves."
   ]
  },
  {
   "cell_type": "markdown",
   "metadata": {},
   "source": [
    "Lets suppose we take the final plot above - where we wish to see the drop-off. Perhaps it would be less \"fussy\" to pair up histogram bins. The audience doesn't care whether an IP visits 7 times or 8 times. (Note that, if our audience was more interested in the single-visit users, as in the red-hatched plot, this wouldn't work). Audience matters."
   ]
  },
  {
   "cell_type": "code",
   "execution_count": 14,
   "metadata": {},
   "outputs": [
    {
     "data": {
      "text/plain": [
       "<matplotlib.axes._subplots.AxesSubplot at 0x7f2d19038710>"
      ]
     },
     "execution_count": 14,
     "metadata": {},
     "output_type": "execute_result"
    },
    {
     "data": {
      "image/png": "[encoded data removed]",
      "text/plain": [
       "<matplotlib.figure.Figure at 0x7f2d19076ef0>"
      ]
     },
     "metadata": {
      "needs_background": "light"
     },
     "output_type": "display_data"
    }
   ],
   "source": [
    "import matplotlib.pyplot as plt\n",
    "\n",
    "bar_width = 2\n",
    "\n",
    "bins = range(1, 12, bar_width)\n",
    "\n",
    "# Switch to using matplotlib directly, to get more control\n",
    "ax = plt.axes()\n",
    "rescale_height = np.full(capped_requests_per_ip.shape, 1 / bar_width)\n",
    "N, bins, patches = plt.hist(capped_requests_per_ip, bins=bins, rwidth=0.95, weights=rescale_height)\n",
    "# We can highlight the final bar to draw the reader's attention to the fact it is different\n",
    "patches[-1].set_facecolor('green')\n",
    "\n",
    "bar_width = 2\n",
    "ax.set_xticks(np.array(bins) + bar_width / 2)\n",
    "ax.set_xticklabels((\"1 - 2\", \"3 - 4\", \"5 - 6\", \"7 - 8\", \"9+\"))\n",
    "\n",
    "# Get the actual numbers used in the histogram\n",
    "frequencies_of_request_count = requests_per_ip.value_counts().sort_index()\n",
    "\n",
    "# We define a curve function with several parameters we wish to fit\n",
    "def fitted_exp(x, a, b, c):\n",
    "    return a + b * np.exp(c * x)\n",
    "\n",
    "# Scipy then fits it for us\n",
    "params, cov = scipy.optimize.curve_fit(\n",
    "    fitted_exp,\n",
    "    frequencies_of_request_count.index,\n",
    "    frequencies_of_request_count.values,\n",
    "    p0=(0, 100, -1)\n",
    ")\n",
    "\n",
    "# Plot our curve using these parameters\n",
    "exp_x = np.linspace(1, 10, 100)\n",
    "exp_curve = fitted_exp(exp_x, *params)\n",
    "\n",
    "ax.set_title(\"How often does each user IP\\nuse our service?\")\n",
    "ax.title.set_fontsize(20)\n",
    "ax.set_ylabel(\"Number of IPs\")\n",
    "ax.set_xlabel(\"Total Requests from an IP\\n(orange curve: fitted $a e^{b x}+c$)\")\n",
    "plt.plot(exp_x, exp_curve, linewidth=3, color='orange')\n",
    "ax"
   ]
  },
  {
   "cell_type": "markdown",
   "metadata": {},
   "source": [
    "The concept of a data-ink ratio - the ratio of ink used to convey relevant information to the total inked space - came from [Edward Tufte](https://en.wikipedia.org/wiki/Edward_Tufte), a data visualization pioneer. He argued it should be maximized by not wasting ink on anything not helping the viewer's understanding."
   ]
  },
  {
   "cell_type": "markdown",
   "metadata": {},
   "source": [
    "## Privacy & GDPR"
   ]
  },
  {
   "cell_type": "markdown",
   "metadata": {},
   "source": [
    "Over the last few years, the law has got much stricter on handling of data. As this is a coding course, I'm not going to touch on it much here, but when preparing data for sharing it's critical to think this through."
   ]
  },
  {
   "cell_type": "markdown",
   "metadata": {},
   "source": [
    "In this case, we use IP addresses - at least some could be used to identify an individual (obviously, we have used fake ones for this exercise, but normally they would be real). This means we have to be legally _extremely_ careful with how we handle them."
   ]
  },
  {
   "cell_type": "markdown",
   "metadata": {},
   "source": [
    "This goes hand-in-hand with the push for reproducible science. There is a strong push across academia to get your results in the public, so they can be examined by other scientists, randomers, companies without your oversight -- this is partially a result of scientists discovering that a large amount of literature was unreproducible and, therefore, effectively useless (and, moreover, dangerous, especially in engineering and life sciences)."
   ]
  },
  {
   "cell_type": "markdown",
   "metadata": {},
   "source": [
    "How can you release data that involves personal information (or IPs, MAC addresses, etc.)? One idea is to group it."
   ]
  },
  {
   "cell_type": "code",
   "execution_count": 15,
   "metadata": {},
   "outputs": [
    {
     "data": {
      "text/plain": [
       "IP\n",
       "102.132.208.215    10\n",
       "105.162.252.213     2\n",
       "113.184.237.166     1\n",
       "119.45.26.251       2\n",
       "121.57.194.111      1\n",
       "Name: Verb, dtype: int64"
      ]
     },
     "execution_count": 15,
     "metadata": {},
     "output_type": "execute_result"
    }
   ],
   "source": [
    "capped_requests_per_ip.head()"
   ]
  },
  {
   "cell_type": "markdown",
   "metadata": {},
   "source": [
    "Lets group this in IP blocks of the last octet, i.e. `11.222.33.4` and `11.222.33.91` become part of the same `11.222.33.xxx` entry."
   ]
  },
  {
   "cell_type": "code",
   "execution_count": 16,
   "metadata": {},
   "outputs": [
    {
     "data": {
      "text/html": [
       "<div>\n",
       "<style scoped>\n",
       "    .dataframe tbody tr th:only-of-type {\n",
       "        vertical-align: middle;\n",
       "    }\n",
       "\n",
       "    .dataframe tbody tr th {\n",
       "        vertical-align: top;\n",
       "    }\n",
       "\n",
       "    .dataframe thead th {\n",
       "        text-align: right;\n",
       "    }\n",
       "</style>\n",
       "<table border=\"1\" class=\"dataframe\">\n",
       "  <thead>\n",
       "    <tr style=\"text-align: right;\">\n",
       "      <th></th>\n",
       "      <th>IP</th>\n",
       "      <th>Group</th>\n",
       "    </tr>\n",
       "  </thead>\n",
       "  <tbody>\n",
       "    <tr>\n",
       "      <th>0</th>\n",
       "      <td>21</td>\n",
       "      <td>102.132.208</td>\n",
       "    </tr>\n",
       "    <tr>\n",
       "      <th>1</th>\n",
       "      <td>2</td>\n",
       "      <td>105.162.252</td>\n",
       "    </tr>\n",
       "    <tr>\n",
       "      <th>2</th>\n",
       "      <td>1</td>\n",
       "      <td>113.184.237</td>\n",
       "    </tr>\n",
       "    <tr>\n",
       "      <th>3</th>\n",
       "      <td>2</td>\n",
       "      <td>119.45.26</td>\n",
       "    </tr>\n",
       "    <tr>\n",
       "      <th>4</th>\n",
       "      <td>1</td>\n",
       "      <td>121.57.194</td>\n",
       "    </tr>\n",
       "  </tbody>\n",
       "</table>\n",
       "</div>"
      ],
      "text/plain": [
       "   IP        Group\n",
       "0  21  102.132.208\n",
       "1   2  105.162.252\n",
       "2   1  113.184.237\n",
       "3   2    119.45.26\n",
       "4   1   121.57.194"
      ]
     },
     "execution_count": 16,
     "metadata": {},
     "output_type": "execute_result"
    }
   ],
   "source": [
    "# IP to head\n",
    "octets = 3\n",
    "\n",
    "def aggregate_ip(ip):\n",
    "    if ip.startswith('192.168'):\n",
    "        # This is local, we keep it if we are confident this isn't personally-identifiable information\n",
    "        return ip\n",
    "    else:\n",
    "        # This function from the very start truncates an IP address\n",
    "        return ip_to_range(octets, ip)\n",
    "\n",
    "agg_requests_per_ip = pd.DataFrame({'IP': requests_per_ip.values})\n",
    "agg_requests_per_ip['Group'] = list(map(lambda ip: aggregate_ip(ip), requests_per_ip.index))\n",
    "agg_requests_per_ip.head()"
   ]
  },
  {
   "cell_type": "code",
   "execution_count": 17,
   "metadata": {},
   "outputs": [
    {
     "data": {
      "text/html": [
       "<div>\n",
       "<style scoped>\n",
       "    .dataframe tbody tr th:only-of-type {\n",
       "        vertical-align: middle;\n",
       "    }\n",
       "\n",
       "    .dataframe tbody tr th {\n",
       "        vertical-align: top;\n",
       "    }\n",
       "\n",
       "    .dataframe thead th {\n",
       "        text-align: right;\n",
       "    }\n",
       "</style>\n",
       "<table border=\"1\" class=\"dataframe\">\n",
       "  <thead>\n",
       "    <tr style=\"text-align: right;\">\n",
       "      <th></th>\n",
       "      <th>IP</th>\n",
       "      <th>Count</th>\n",
       "    </tr>\n",
       "    <tr>\n",
       "      <th>Group</th>\n",
       "      <th></th>\n",
       "      <th></th>\n",
       "    </tr>\n",
       "  </thead>\n",
       "  <tbody>\n",
       "    <tr>\n",
       "      <th>102.132.208</th>\n",
       "      <td>21</td>\n",
       "      <td>1</td>\n",
       "    </tr>\n",
       "    <tr>\n",
       "      <th>105.162.252</th>\n",
       "      <td>2</td>\n",
       "      <td>1</td>\n",
       "    </tr>\n",
       "    <tr>\n",
       "      <th>113.184.237</th>\n",
       "      <td>1</td>\n",
       "      <td>1</td>\n",
       "    </tr>\n",
       "    <tr>\n",
       "      <th>119.45.26</th>\n",
       "      <td>2</td>\n",
       "      <td>1</td>\n",
       "    </tr>\n",
       "    <tr>\n",
       "      <th>121.57.194</th>\n",
       "      <td>1</td>\n",
       "      <td>1</td>\n",
       "    </tr>\n",
       "  </tbody>\n",
       "</table>\n",
       "</div>"
      ],
      "text/plain": [
       "             IP  Count\n",
       "Group                 \n",
       "102.132.208  21      1\n",
       "105.162.252   2      1\n",
       "113.184.237   1      1\n",
       "119.45.26     2      1\n",
       "121.57.194    1      1"
      ]
     },
     "execution_count": 17,
     "metadata": {},
     "output_type": "execute_result"
    }
   ],
   "source": [
    "agg_requests_per_ip['Count'] = 1\n",
    "agg_requests_per_ip = agg_requests_per_ip.groupby('Group').agg('sum')\n",
    "agg_requests_per_ip.head()"
   ]
  },
  {
   "cell_type": "code",
   "execution_count": 18,
   "metadata": {},
   "outputs": [
    {
     "data": {
      "text/plain": [
       "<matplotlib.axes._subplots.AxesSubplot at 0x7f2d18f58470>"
      ]
     },
     "execution_count": 18,
     "metadata": {},
     "output_type": "execute_result"
    },
    {
     "data": {
      "image/png": "[encoded data removed]",
      "text/plain": [
       "<matplotlib.figure.Figure at 0x7f2d18f58438>"
      ]
     },
     "metadata": {
      "needs_background": "light"
     },
     "output_type": "display_data"
    }
   ],
   "source": [
    "import matplotlib.pyplot as plt\n",
    "\n",
    "bar_width = 2\n",
    "\n",
    "bins = range(1, 12, bar_width)\n",
    "capped_agg_requests_per_ip = agg_requests_per_ip.copy()\n",
    "capped_agg_requests_per_ip[capped_agg_requests_per_ip > 9] = 9\n",
    "\n",
    "# Switch to using matplotlib directly, to get more control\n",
    "ax = plt.axes()\n",
    "rescale_height = np.full(capped_agg_requests_per_ip['IP'].shape, 1 / bar_width)\n",
    "N, bins, patches = plt.hist(capped_agg_requests_per_ip['IP'], bins=bins, rwidth=0.95, weights=rescale_height)\n",
    "# We can highlight the final bar to draw the reader's attention to the fact it is different\n",
    "patches[-1].set_facecolor('green')\n",
    "\n",
    "bar_width = 2\n",
    "ax.set_xticks(np.array(bins) + bar_width / 2)\n",
    "ax.set_xticklabels((\"1 - 2\", \"3 - 4\", \"5 - 6\", \"7 - 8\", \"9+\"))\n",
    "\n",
    "ax.set_title(\"How often does each user IP\\nuse our service?\")\n",
    "ax.title.set_fontsize(20)\n",
    "ax.set_ylabel(\"Number of IPs\")\n",
    "ax.set_xlabel(\"Total Requests from an IP\\n(external IPs grouped by octet %d)\" % octets)\n",
    "ax"
   ]
  },
  {
   "cell_type": "markdown",
   "metadata": {},
   "source": [
    "### Exercise"
   ]
  },
  {
   "cell_type": "markdown",
   "metadata": {},
   "source": [
    "Experiment with changing the octet count - using the whole IP `1.2.3.4` (octets=4), grouping a bit `1.2.3.x` (octets=3), grouping more `1.2.x.x` (octets=2) and grouping right at the top `1.x.x.x` (octets=1). Does it materially change your output plot?"
   ]
  },
  {
   "cell_type": "markdown",
   "metadata": {},
   "source": [
    "Now see what impact removing the if clause that _keeps_ local IPs - so they get aggregated too. Does this make a difference for 2 octet aggregation or 3 octet aggregation?"
   ]
  },
  {
   "cell_type": "markdown",
   "metadata": {},
   "source": [
    "Could you do all your analysis using the 2 octets (which have a low risk of violating users' privacy) rather than the full IP addresses, and release that data to a public journal?"
   ]
  },
  {
   "cell_type": "markdown",
   "metadata": {},
   "source": [
    "For more information about the growing mathematical research field around privacy-preserving analysis, read about [k-anonymity](https://en.wikipedia.org/wiki/K-anonymity)."
   ]
  },
  {
   "cell_type": "markdown",
   "metadata": {},
   "source": [
    "## Exercise"
   ]
  },
  {
   "cell_type": "markdown",
   "metadata": {},
   "source": [
    "You are going to present a lightning talk to a technical team lead. They want to understand where in the application they should start looking for issues - you decide to explore the relationship between HTTP verbs used (GET, POST, PUT) and the performance of your service (see the plots above). Follow the steps above using the cells below:"
   ]
  },
  {
   "cell_type": "markdown",
   "metadata": {},
   "source": [
    "### Who?"
   ]
  },
  {
   "cell_type": "markdown",
   "metadata": {},
   "source": [
    "As my audience is ... , I should focus on ... and am less interested in ..."
   ]
  },
  {
   "cell_type": "markdown",
   "metadata": {},
   "source": [
    "### How?"
   ]
  },
  {
   "cell_type": "code",
   "execution_count": null,
   "metadata": {},
   "outputs": [],
   "source": []
  },
  {
   "cell_type": "markdown",
   "metadata": {},
   "source": [
    "### Why?"
   ]
  },
  {
   "cell_type": "markdown",
   "metadata": {},
   "source": [
    "I can conclude that ...\n",
    "The most important parts of the plot to evaluate this conclusion are ... (taking care not to prejudice the viewer)"
   ]
  },
  {
   "cell_type": "code",
   "execution_count": 19,
   "metadata": {},
   "outputs": [],
   "source": [
    "# Here is my plot illustrating the key aspects\n",
    "\n",
    "# ..."
   ]
  },
  {
   "cell_type": "markdown",
   "metadata": {},
   "source": [
    "### What not?"
   ]
  },
  {
   "cell_type": "markdown",
   "metadata": {},
   "source": [
    "I can see several lines and/or text that I could get rid of, without changing the meaning of the plot."
   ]
  },
  {
   "cell_type": "code",
   "execution_count": 20,
   "metadata": {},
   "outputs": [],
   "source": [
    "# This is the plot without them\n",
    "\n",
    "# ..."
   ]
  },
  {
   "cell_type": "markdown",
   "metadata": {},
   "source": [
    "## Next steps"
   ]
  },
  {
   "cell_type": "markdown",
   "metadata": {},
   "source": [
    "Moving into the world of infographics, you can find excellent scientific communication tutorials such as:"
   ]
  },
  {
   "cell_type": "markdown",
   "metadata": {},
   "source": [
    "* https://blog.mindthegraph.com/category/tutorials/\n",
    "* https://blogs.unimelb.edu.au/sciencecommunication/2018/09/25/science-communication-storytelling-with-data/"
   ]
  }
 ],
 "metadata": {
  "kernelspec": {
   "display_name": "Python 3",
   "language": "python",
   "name": "python3"
  },
  "language_info": {
   "codemirror_mode": {
    "name": "ipython",
    "version": 3
   },
   "file_extension": ".py",
   "mimetype": "text/x-python",
   "name": "python",
   "nbconvert_exporter": "python",
   "pygments_lexer": "ipython3",
   "version": "3.6.7"
  }
 },
 "nbformat": 4,
 "nbformat_minor": 2
}
